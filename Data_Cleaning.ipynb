{
 "cells": [
  {
   "cell_type": "code",
   "execution_count": 2,
   "id": "8104c4e4",
   "metadata": {},
   "outputs": [],
   "source": [
    "import numpy as np\n",
    "import pandas as pd\n",
    "import datetime as dt"
   ]
  },
  {
   "cell_type": "code",
   "execution_count": 18,
   "id": "3acb85b0",
   "metadata": {
    "scrolled": false
   },
   "outputs": [
    {
     "data": {
      "text/html": [
       "<div>\n",
       "<style scoped>\n",
       "    .dataframe tbody tr th:only-of-type {\n",
       "        vertical-align: middle;\n",
       "    }\n",
       "\n",
       "    .dataframe tbody tr th {\n",
       "        vertical-align: top;\n",
       "    }\n",
       "\n",
       "    .dataframe thead th {\n",
       "        text-align: right;\n",
       "    }\n",
       "</style>\n",
       "<table border=\"1\" class=\"dataframe\">\n",
       "  <thead>\n",
       "    <tr style=\"text-align: right;\">\n",
       "      <th></th>\n",
       "      <th>Sample number</th>\n",
       "      <th>Waterbody name</th>\n",
       "      <th>Beach name</th>\n",
       "      <th>Beach access number</th>\n",
       "      <th>Latitude</th>\n",
       "      <th>Longitude</th>\n",
       "      <th>Collection date</th>\n",
       "      <th>Collection time</th>\n",
       "      <th>Microcystin LR-equivalent concentration (µg/L)</th>\n",
       "      <th>Total cyanobacterial cell count (cells/mL)</th>\n",
       "      <th>...</th>\n",
       "      <th>Sample Type</th>\n",
       "      <th>Description of water</th>\n",
       "      <th>Description of Water - Additional Notes</th>\n",
       "      <th>Turbidity</th>\n",
       "      <th>Colour</th>\n",
       "      <th>Evidence of bloom</th>\n",
       "      <th>Water temperature (°C)</th>\n",
       "      <th>Wind direction</th>\n",
       "      <th>24 hr rainfall</th>\n",
       "      <th>24 hr rainfall amount (mm)</th>\n",
       "    </tr>\n",
       "  </thead>\n",
       "  <tbody>\n",
       "    <tr>\n",
       "      <th>0</th>\n",
       "      <td>M141973</td>\n",
       "      <td>Baptiste Lake</td>\n",
       "      <td>Baptiste Lake Public Beach</td>\n",
       "      <td>8830387</td>\n",
       "      <td>54.726988</td>\n",
       "      <td>-113.568914</td>\n",
       "      <td>2014-06-24</td>\n",
       "      <td>15:30:00</td>\n",
       "      <td>No data</td>\n",
       "      <td>532110</td>\n",
       "      <td>...</td>\n",
       "      <td>Grab</td>\n",
       "      <td>Distinct green or blue-green colouration or st...</td>\n",
       "      <td>Moderate breeze, mostly sunny, waves, light-gr...</td>\n",
       "      <td>No data</td>\n",
       "      <td>Green</td>\n",
       "      <td>No data</td>\n",
       "      <td>20.2</td>\n",
       "      <td>NE</td>\n",
       "      <td>True</td>\n",
       "      <td>No data</td>\n",
       "    </tr>\n",
       "    <tr>\n",
       "      <th>1</th>\n",
       "      <td>M141680</td>\n",
       "      <td>Beaver Lake</td>\n",
       "      <td>Young's Beach</td>\n",
       "      <td>9621938</td>\n",
       "      <td>54.753226</td>\n",
       "      <td>-111.925127</td>\n",
       "      <td>2014-07-29</td>\n",
       "      <td>11:30:00</td>\n",
       "      <td>0.52</td>\n",
       "      <td>1793582</td>\n",
       "      <td>...</td>\n",
       "      <td>Composite</td>\n",
       "      <td>Distinct green or blue-green colouration or st...</td>\n",
       "      <td>No data</td>\n",
       "      <td>No data</td>\n",
       "      <td>No data</td>\n",
       "      <td>No data</td>\n",
       "      <td>No data</td>\n",
       "      <td>No data</td>\n",
       "      <td>No data</td>\n",
       "      <td>No data</td>\n",
       "    </tr>\n",
       "    <tr>\n",
       "      <th>2</th>\n",
       "      <td>M141971</td>\n",
       "      <td>Bonnie Lake</td>\n",
       "      <td>Bonnie Lake Campground Beach</td>\n",
       "      <td>9013424</td>\n",
       "      <td>54.146363</td>\n",
       "      <td>-111.881312</td>\n",
       "      <td>2014-07-25</td>\n",
       "      <td>14:00:00</td>\n",
       "      <td>0.07</td>\n",
       "      <td>0</td>\n",
       "      <td>...</td>\n",
       "      <td>Composite</td>\n",
       "      <td>Distinct green or blue-green colouration or st...</td>\n",
       "      <td>No data</td>\n",
       "      <td>No data</td>\n",
       "      <td>No data</td>\n",
       "      <td>No data</td>\n",
       "      <td>No data</td>\n",
       "      <td>No data</td>\n",
       "      <td>No data</td>\n",
       "      <td>No data</td>\n",
       "    </tr>\n",
       "    <tr>\n",
       "      <th>3</th>\n",
       "      <td>M141382</td>\n",
       "      <td>Chestermere Lake</td>\n",
       "      <td>Camp Chestermere Beach</td>\n",
       "      <td>8805982</td>\n",
       "      <td>51.020865</td>\n",
       "      <td>-113.818185</td>\n",
       "      <td>2014-06-04</td>\n",
       "      <td>15:00:00</td>\n",
       "      <td>&lt;0.05</td>\n",
       "      <td>0</td>\n",
       "      <td>...</td>\n",
       "      <td>Composite</td>\n",
       "      <td>Bottom of lake is clearly visible at 30 cm depth</td>\n",
       "      <td>No data</td>\n",
       "      <td>No data</td>\n",
       "      <td>No data</td>\n",
       "      <td>No data</td>\n",
       "      <td>No data</td>\n",
       "      <td>No data</td>\n",
       "      <td>No data</td>\n",
       "      <td>No data</td>\n",
       "    </tr>\n",
       "    <tr>\n",
       "      <th>4</th>\n",
       "      <td>M141386</td>\n",
       "      <td>Chestermere Lake</td>\n",
       "      <td>Camp Chestermere Beach</td>\n",
       "      <td>8805982</td>\n",
       "      <td>51.020865</td>\n",
       "      <td>-113.818185</td>\n",
       "      <td>2014-06-11</td>\n",
       "      <td>13:30:00</td>\n",
       "      <td>&lt;0.05</td>\n",
       "      <td>0</td>\n",
       "      <td>...</td>\n",
       "      <td>Composite</td>\n",
       "      <td>Bottom of lake is clearly visible at 30 cm depth</td>\n",
       "      <td>No data</td>\n",
       "      <td>No data</td>\n",
       "      <td>No data</td>\n",
       "      <td>No data</td>\n",
       "      <td>No data</td>\n",
       "      <td>No data</td>\n",
       "      <td>No data</td>\n",
       "      <td>No data</td>\n",
       "    </tr>\n",
       "  </tbody>\n",
       "</table>\n",
       "<p>5 rows × 23 columns</p>\n",
       "</div>"
      ],
      "text/plain": [
       "  Sample number    Waterbody name                    Beach name  \\\n",
       "0       M141973     Baptiste Lake    Baptiste Lake Public Beach   \n",
       "1       M141680       Beaver Lake                 Young's Beach   \n",
       "2       M141971       Bonnie Lake  Bonnie Lake Campground Beach   \n",
       "3       M141382  Chestermere Lake        Camp Chestermere Beach   \n",
       "4       M141386  Chestermere Lake        Camp Chestermere Beach   \n",
       "\n",
       "  Beach access number   Latitude   Longitude Collection date Collection time  \\\n",
       "0             8830387  54.726988 -113.568914      2014-06-24        15:30:00   \n",
       "1             9621938  54.753226 -111.925127      2014-07-29        11:30:00   \n",
       "2             9013424  54.146363 -111.881312      2014-07-25        14:00:00   \n",
       "3             8805982  51.020865 -113.818185      2014-06-04        15:00:00   \n",
       "4             8805982  51.020865 -113.818185      2014-06-11        13:30:00   \n",
       "\n",
       "  Microcystin LR-equivalent concentration (µg/L)  \\\n",
       "0                                        No data   \n",
       "1                                           0.52   \n",
       "2                                           0.07   \n",
       "3                                          <0.05   \n",
       "4                                          <0.05   \n",
       "\n",
       "  Total cyanobacterial cell count (cells/mL)  ... Sample Type  \\\n",
       "0                                     532110  ...        Grab   \n",
       "1                                    1793582  ...   Composite   \n",
       "2                                          0  ...   Composite   \n",
       "3                                          0  ...   Composite   \n",
       "4                                          0  ...   Composite   \n",
       "\n",
       "                                Description of water  \\\n",
       "0  Distinct green or blue-green colouration or st...   \n",
       "1  Distinct green or blue-green colouration or st...   \n",
       "2  Distinct green or blue-green colouration or st...   \n",
       "3   Bottom of lake is clearly visible at 30 cm depth   \n",
       "4   Bottom of lake is clearly visible at 30 cm depth   \n",
       "\n",
       "             Description of Water - Additional Notes Turbidity   Colour  \\\n",
       "0  Moderate breeze, mostly sunny, waves, light-gr...   No data    Green   \n",
       "1                                            No data   No data  No data   \n",
       "2                                            No data   No data  No data   \n",
       "3                                            No data   No data  No data   \n",
       "4                                            No data   No data  No data   \n",
       "\n",
       "  Evidence of bloom Water temperature (°C) Wind direction 24 hr rainfall  \\\n",
       "0           No data                   20.2             NE           True   \n",
       "1           No data                No data        No data        No data   \n",
       "2           No data                No data        No data        No data   \n",
       "3           No data                No data        No data        No data   \n",
       "4           No data                No data        No data        No data   \n",
       "\n",
       "  24 hr rainfall amount (mm)  \n",
       "0                    No data  \n",
       "1                    No data  \n",
       "2                    No data  \n",
       "3                    No data  \n",
       "4                    No data  \n",
       "\n",
       "[5 rows x 23 columns]"
      ]
     },
     "metadata": {},
     "output_type": "display_data"
    },
    {
     "name": "stdout",
     "output_type": "stream",
     "text": [
      "<class 'pandas.core.frame.DataFrame'>\n",
      "RangeIndex: 2685 entries, 0 to 2684\n",
      "Data columns (total 23 columns):\n",
      " #   Column                                          Non-Null Count  Dtype         \n",
      "---  ------                                          --------------  -----         \n",
      " 0   Sample number                                   2685 non-null   object        \n",
      " 1   Waterbody name                                  2685 non-null   object        \n",
      " 2   Beach name                                      2685 non-null   object        \n",
      " 3   Beach access number                             2685 non-null   object        \n",
      " 4   Latitude                                        2685 non-null   object        \n",
      " 5   Longitude                                       2685 non-null   object        \n",
      " 6   Collection date                                 2685 non-null   datetime64[ns]\n",
      " 7   Collection time                                 2685 non-null   object        \n",
      " 8   Microcystin LR-equivalent concentration (µg/L)  2685 non-null   object        \n",
      " 9   Total cyanobacterial cell count (cells/mL)      2685 non-null   object        \n",
      " 10  Microcystis mcyE (copies/mL)                    2685 non-null   object        \n",
      " 11  Anabaena mcyE (copies/mL)                       2685 non-null   object        \n",
      " 12  Planktothrix mcyE (copies/mL)                   2685 non-null   object        \n",
      " 13  Sample Type                                     2685 non-null   object        \n",
      " 14  Description of water                            2685 non-null   object        \n",
      " 15  Description of Water - Additional Notes         2685 non-null   object        \n",
      " 16  Turbidity                                       2685 non-null   object        \n",
      " 17  Colour                                          2685 non-null   object        \n",
      " 18  Evidence of bloom                               2685 non-null   object        \n",
      " 19  Water temperature (°C)                          2685 non-null   object        \n",
      " 20  Wind direction                                  2685 non-null   object        \n",
      " 21  24 hr rainfall                                  2685 non-null   object        \n",
      " 22  24 hr rainfall amount (mm)                      2685 non-null   object        \n",
      "dtypes: datetime64[ns](1), object(22)\n",
      "memory usage: 482.6+ KB\n"
     ]
    }
   ],
   "source": [
    "df=pd.read_excel(\"all-bloom-indicators.xlsx\")\n",
    "\n",
    "display(df.head())\n",
    "df.info()"
   ]
  },
  {
   "cell_type": "markdown",
   "id": "0b7c4b6f",
   "metadata": {},
   "source": [
    "### Tasks:\n",
    "\n",
    "1. Impute values:\n",
    "    - All instances of null data in the source is entered as \"No data\". They will be changed to the corresponding datatype.\n",
    "    - The methods used to detect cyanobacteria cell counts has a limit of 50 copies per mL (Alberta Health Environmental Public Health Science Team, 2021). As such values showing \"<50\" will be imputed as 0.\n",
    "2. Convert Water temperature to float type.\n",
    "3. Drop observations with null values for Total cyanobacteria cell count. (This is our main response variable)\n",
    "4. Combine Description of Water and Evidence of bloom.\n",
    "    - In 2015, the data collection form fragmented the Description of Water field to Evidence of Bloom, Turbidity, and Colour (Alberta Health Environmental Public Health Science Team, 2021)."
   ]
  },
  {
   "cell_type": "markdown",
   "id": "33b3fb20",
   "metadata": {},
   "source": [
    "#### Impute Values"
   ]
  },
  {
   "cell_type": "code",
   "execution_count": 19,
   "id": "88000003",
   "metadata": {},
   "outputs": [
    {
     "name": "stdout",
     "output_type": "stream",
     "text": [
      "<class 'pandas.core.frame.DataFrame'>\n",
      "RangeIndex: 2685 entries, 0 to 2684\n",
      "Data columns (total 23 columns):\n",
      " #   Column                                          Non-Null Count  Dtype         \n",
      "---  ------                                          --------------  -----         \n",
      " 0   Sample number                                   2685 non-null   object        \n",
      " 1   Waterbody name                                  2685 non-null   object        \n",
      " 2   Beach name                                      2683 non-null   object        \n",
      " 3   Beach access number                             2508 non-null   float64       \n",
      " 4   Latitude                                        2684 non-null   float64       \n",
      " 5   Longitude                                       2684 non-null   float64       \n",
      " 6   Collection date                                 2685 non-null   datetime64[ns]\n",
      " 7   Collection time                                 2546 non-null   object        \n",
      " 8   Microcystin LR-equivalent concentration (µg/L)  2575 non-null   object        \n",
      " 9   Total cyanobacterial cell count (cells/mL)      2553 non-null   float64       \n",
      " 10  Microcystis mcyE (copies/mL)                    1470 non-null   float64       \n",
      " 11  Anabaena mcyE (copies/mL)                       1470 non-null   float64       \n",
      " 12  Planktothrix mcyE (copies/mL)                   1470 non-null   float64       \n",
      " 13  Sample Type                                     2586 non-null   object        \n",
      " 14  Description of water                            414 non-null    object        \n",
      " 15  Description of Water - Additional Notes         779 non-null    object        \n",
      " 16  Turbidity                                       2069 non-null   object        \n",
      " 17  Colour                                          2072 non-null   object        \n",
      " 18  Evidence of bloom                               2065 non-null   object        \n",
      " 19  Water temperature (°C)                          1960 non-null   object        \n",
      " 20  Wind direction                                  2042 non-null   object        \n",
      " 21  24 hr rainfall                                  1991 non-null   object        \n",
      " 22  24 hr rainfall amount (mm)                      1901 non-null   object        \n",
      "dtypes: datetime64[ns](1), float64(7), object(15)\n",
      "memory usage: 482.6+ KB\n"
     ]
    }
   ],
   "source": [
    "# impute obvious values\n",
    "df1=df.replace({\"No data\":np.nan,\n",
    "                   \"<50\":0})\n",
    "df1.head()\n",
    "df1.info()"
   ]
  },
  {
   "cell_type": "markdown",
   "id": "712036ad",
   "metadata": {},
   "source": [
    "#### Change Water temperature data type"
   ]
  },
  {
   "cell_type": "code",
   "execution_count": 20,
   "id": "6c3005b4",
   "metadata": {
    "scrolled": false
   },
   "outputs": [
    {
     "data": {
      "text/plain": [
       "array([20.2, nan, 19.8, 22.1, 16.3, 18.5, 15, 19.6, 22.3, 20.5, 21.9,\n",
       "       21.5, 23.2, 22.2, 21.1, 21.2, 22, 14, 16, 14.4, 16.5, 11.5, 10,\n",
       "       14.5, 8, 9.2, 20.4, 17.8, 18, 21, 19, 20, 21.8, 17, 23, 15.8, 22.8,\n",
       "       22.4, 23.1, 21.6, 20.3, 20.1, 20.6, 25.5, 22.7, 24.4, 21.4, 18.3,\n",
       "       15.6, 18.6, 17.9, 22.6, 18.8, 19.1, 17.7, 16.7, 16.2, 18.1, 18.9,\n",
       "       17.4, 18.7, 24.2, 22.9, 23.7, 23.6, 19.4, 24.9, 20.8, 15.1, 14.3,\n",
       "       12.3, 24.1, 26.1, 25, 15.7, 14.1, 11.7, 23.3, 15.5, 11.2, 13, 9,\n",
       "       10.6, 26, 19.2, 21.7, 20.9, 23.5, 19.3, 19.7, 15.4, 10.4, 17.3,\n",
       "       24.3, 22.5, 18.4, 17.5, 12, 11, 5, 7, 16.6, 17.2, 24, 17.1, 16.9,\n",
       "       21.3, 15.3, 20.7, 18.2, 17.6, 16.8, 23.9, 9.5, 10.5, 16.1, 16.4,\n",
       "       14.8, 8.5, 13.5, 19.5, 27, 19.9, 27.1, 25.1, 24.8, 13.2, 4, 26.2,\n",
       "       3, 15.9, 6.5, 12.5, 24.6, 14.6, 24.5, '~15', '29 - 30', '~19', 8.6,\n",
       "       13.8, 8.9, 3.6, 13.9, 13.1, 11.3, '~7', 25.3, 26.7, 26.8, 28, 25.4,\n",
       "       25.6, 14.9, 24.7, 26.6, '~19.4', 17.78, '~18.9', 14.2, '~16',\n",
       "       '~18', '~20', '~21.5', 13.7, 26.3, 31, 10.2, 29, 15.2],\n",
       "      dtype=object)"
      ]
     },
     "metadata": {},
     "output_type": "display_data"
    },
    {
     "name": "stdout",
     "output_type": "stream",
     "text": [
      "<class 'pandas.core.frame.DataFrame'>\n",
      "RangeIndex: 2685 entries, 0 to 2684\n",
      "Data columns (total 23 columns):\n",
      " #   Column                                          Non-Null Count  Dtype         \n",
      "---  ------                                          --------------  -----         \n",
      " 0   Sample number                                   2685 non-null   object        \n",
      " 1   Waterbody name                                  2685 non-null   object        \n",
      " 2   Beach name                                      2683 non-null   object        \n",
      " 3   Beach access number                             2508 non-null   float64       \n",
      " 4   Latitude                                        2684 non-null   float64       \n",
      " 5   Longitude                                       2684 non-null   float64       \n",
      " 6   Collection date                                 2685 non-null   datetime64[ns]\n",
      " 7   Collection time                                 2546 non-null   object        \n",
      " 8   Microcystin LR-equivalent concentration (µg/L)  2575 non-null   object        \n",
      " 9   Total cyanobacterial cell count (cells/mL)      2553 non-null   float64       \n",
      " 10  Microcystis mcyE (copies/mL)                    1470 non-null   float64       \n",
      " 11  Anabaena mcyE (copies/mL)                       1470 non-null   float64       \n",
      " 12  Planktothrix mcyE (copies/mL)                   1470 non-null   float64       \n",
      " 13  Sample Type                                     2586 non-null   object        \n",
      " 14  Description of water                            414 non-null    object        \n",
      " 15  Description of Water - Additional Notes         779 non-null    object        \n",
      " 16  Turbidity                                       2069 non-null   object        \n",
      " 17  Colour                                          2072 non-null   object        \n",
      " 18  Evidence of bloom                               2065 non-null   object        \n",
      " 19  Water temperature (°C)                          1960 non-null   float64       \n",
      " 20  Wind direction                                  2042 non-null   object        \n",
      " 21  24 hr rainfall                                  1991 non-null   object        \n",
      " 22  24 hr rainfall amount (mm)                      1901 non-null   object        \n",
      "dtypes: datetime64[ns](1), float64(8), object(14)\n",
      "memory usage: 482.6+ KB\n"
     ]
    },
    {
     "name": "stderr",
     "output_type": "stream",
     "text": [
      "C:\\Users\\radhi\\AppData\\Local\\Temp/ipykernel_5248/3875511455.py:10: SettingWithCopyWarning: \n",
      "A value is trying to be set on a copy of a slice from a DataFrame\n",
      "\n",
      "See the caveats in the documentation: https://pandas.pydata.org/pandas-docs/stable/user_guide/indexing.html#returning-a-view-versus-a-copy\n",
      "  df1['Water temperature (°C)'][df1[df1['Water temperature (°C)']=='29 - 30'].index]='29.5'\n"
     ]
    }
   ],
   "source": [
    "# identifying why they are strings\n",
    "display(df1['Water temperature (°C)'].unique())\n",
    "\n",
    "# fixing the problem:\n",
    "# Stripping '~'\n",
    "df1['Water temperature (°C)']=df1['Water temperature (°C)'].astype(str).str.replace('~','')\n",
    "\n",
    "\n",
    "# taking the average of '29 - 30'\n",
    "df1['Water temperature (°C)'][df1[df1['Water temperature (°C)']=='29 - 30'].index]='29.5'\n",
    "\n",
    "# correcting column data type\n",
    "df1['Water temperature (°C)']=df1['Water temperature (°C)'].astype('float64')\n",
    "df1.info()"
   ]
  },
  {
   "cell_type": "markdown",
   "id": "c42a2066",
   "metadata": {},
   "source": [
    "#### Drop observations with null values in our main response variable (Total cyanobacteria cell count)"
   ]
  },
  {
   "cell_type": "code",
   "execution_count": 21,
   "id": "fac889ac",
   "metadata": {
    "scrolled": true
   },
   "outputs": [
    {
     "name": "stdout",
     "output_type": "stream",
     "text": [
      "<class 'pandas.core.frame.DataFrame'>\n",
      "Int64Index: 2553 entries, 0 to 2683\n",
      "Data columns (total 23 columns):\n",
      " #   Column                                          Non-Null Count  Dtype         \n",
      "---  ------                                          --------------  -----         \n",
      " 0   Sample number                                   2553 non-null   object        \n",
      " 1   Waterbody name                                  2553 non-null   object        \n",
      " 2   Beach name                                      2551 non-null   object        \n",
      " 3   Beach access number                             2385 non-null   float64       \n",
      " 4   Latitude                                        2552 non-null   float64       \n",
      " 5   Longitude                                       2552 non-null   float64       \n",
      " 6   Collection date                                 2553 non-null   datetime64[ns]\n",
      " 7   Collection time                                 2439 non-null   object        \n",
      " 8   Microcystin LR-equivalent concentration (µg/L)  2459 non-null   object        \n",
      " 9   Total cyanobacterial cell count (cells/mL)      2553 non-null   float64       \n",
      " 10  Microcystis mcyE (copies/mL)                    1391 non-null   float64       \n",
      " 11  Anabaena mcyE (copies/mL)                       1391 non-null   float64       \n",
      " 12  Planktothrix mcyE (copies/mL)                   1391 non-null   float64       \n",
      " 13  Sample Type                                     2472 non-null   object        \n",
      " 14  Description of water                            372 non-null    object        \n",
      " 15  Description of Water - Additional Notes         736 non-null    object        \n",
      " 16  Turbidity                                       2008 non-null   object        \n",
      " 17  Colour                                          2011 non-null   object        \n",
      " 18  Evidence of bloom                               2003 non-null   object        \n",
      " 19  Water temperature (°C)                          1906 non-null   float64       \n",
      " 20  Wind direction                                  1983 non-null   object        \n",
      " 21  24 hr rainfall                                  1931 non-null   object        \n",
      " 22  24 hr rainfall amount (mm)                      1844 non-null   object        \n",
      "dtypes: datetime64[ns](1), float64(8), object(14)\n",
      "memory usage: 478.7+ KB\n"
     ]
    }
   ],
   "source": [
    "# drop if main response does not exist.\n",
    "df1.dropna(subset=['Total cyanobacterial cell count (cells/mL)'], inplace=True)\n",
    "df1.info()"
   ]
  },
  {
   "cell_type": "markdown",
   "id": "d2381917",
   "metadata": {},
   "source": [
    "#### Combining Evidence of bloom and Description of water"
   ]
  },
  {
   "cell_type": "code",
   "execution_count": 22,
   "id": "1ee43a4a",
   "metadata": {
    "scrolled": true
   },
   "outputs": [
    {
     "data": {
      "text/plain": [
       "array([nan, 'Streaks on surface', 'Particles in water', 'Not apparent',\n",
       "       'Scums on surface', 'No evidence'], dtype=object)"
      ]
     },
     "metadata": {},
     "output_type": "display_data"
    },
    {
     "data": {
      "text/plain": [
       "array(['Distinct green or blue-green colouration or streaks on the surface',\n",
       "       'Bottom of lake is clearly visible at 30 cm depth', nan,\n",
       "       'Visible green or blue-green scums affect large parts of the surface',\n",
       "       'Bottom of lake is clearly visible at 30 cm depth '], dtype=object)"
      ]
     },
     "metadata": {},
     "output_type": "display_data"
    },
    {
     "data": {
      "text/plain": [
       "array(['Distinct green or blue-green colouration or streaks on the surface',\n",
       "       'Bottom of lake is clearly visible at 30 cm depth', nan,\n",
       "       'Visible green or blue-green scums affect large parts of the surface'],\n",
       "      dtype=object)"
      ]
     },
     "metadata": {},
     "output_type": "display_data"
    },
    {
     "data": {
      "text/plain": [
       "array([['M141978', 'Steele (Cross) Lake', 'Cross Lake Provincial Park',\n",
       "        9050014.0, 54.652335, -113.794963,\n",
       "        Timestamp('2014-07-16 00:00:00'), nan, nan, 829103.0, nan, nan,\n",
       "        nan, 'Grab',\n",
       "        'Visible green or blue-green scums affect large parts of the surface',\n",
       "        'Green substance on the water', 'Moderate', 'Green',\n",
       "        'Streaks on surface', 19.8, 'NW', False, 0]], dtype=object)"
      ]
     },
     "metadata": {},
     "output_type": "display_data"
    }
   ],
   "source": [
    "display(df1[\"Evidence of bloom\"].unique())\n",
    "\n",
    "display(df1[\"Description of water\"].unique())\n",
    "\n",
    "df1[\"Description of water\"]=df1[\"Description of water\"].str.strip()\n",
    "display(df1[\"Description of water\"].unique())\n",
    "\n",
    "display(df1[(~df1[\"Description of water\"].isna()) &\n",
    "  (~df1[\"Evidence of bloom\"].isna())].values)"
   ]
  },
  {
   "cell_type": "markdown",
   "id": "2d252692",
   "metadata": {},
   "source": [
    "Information retrieved from:\n",
    "- Key Cyanobacterial Bloom Indicators and Supporting Data 2014-2021 Column Descriptions\n",
    "- https://open.alberta.ca/opendata/cyanobacterial-blooms-in-alberta-recreational-waters\n",
    "\n",
    "Between 2015 and 2021, the description of water was captured in three separate data fields: Turbidity, Colour and Evidence of Bloom. Details for these three fields are provided in their respective rows below (Alberta Health Environmental Public Health Science Team, 2021).\n",
    "\n",
    "Description of water order of severity:\n",
    "1. \"the bottom of the lake is clearly visible at approximately 30 cm depth along the shore\"\n",
    "2. \"distinct green or blue-green discolouration or streaks on the surface\"\n",
    "3. \"visible green or blue-green scums affect large parts of the water surface\"\n",
    "\n",
    "Evidence of bloom order of severity:\n",
    "1. \"no evidence\" / \"not apparent\"\n",
    "2. \"particles in the water\"\n",
    "3. \"streaks on the surface\"\n",
    "4. \"scums on surface\"\n",
    "\n",
    "Evidence of bloom consistency issues:\n",
    "- In 2015, the option \"not apparent\" was used on the sample requisition form instead of \"no evidence\" - these two options should be considered equivalent\n",
    "\n",
    "Evidence of bloom \"particles in the water\" has no equivalent in Description of water.\n",
    "There is a case of 1 discrepancy in M141978 where DoW claims \"scums\" but EoB claims \"streaks\". The default will follow the more up to date indicator."
   ]
  },
  {
   "cell_type": "code",
   "execution_count": 23,
   "id": "e958486c",
   "metadata": {},
   "outputs": [],
   "source": [
    "dof_update={\"no evidence\":\"not apparent\", # \"not apparent\" will be preferred since it is less absolute.\n",
    "                                            # This data was assessed visually and is hence more accurate.\n",
    "            \"Bottom of lake is clearly visible at 30 cm depth\":\"not apparent\",\n",
    "            'Distinct green or blue-green colouration or streaks on the surface':\"streaks on the surface\",\n",
    "            'Visible green or blue-green scums affect large parts of the surface':\"scums on surface\"\n",
    "           }\n",
    "\n",
    "df1.replace(dof_update, inplace=True)"
   ]
  },
  {
   "cell_type": "code",
   "execution_count": 24,
   "id": "3fcc9bee",
   "metadata": {},
   "outputs": [
    {
     "name": "stdout",
     "output_type": "stream",
     "text": [
      "<class 'pandas.core.frame.DataFrame'>\n",
      "Int64Index: 2553 entries, 0 to 2683\n",
      "Data columns (total 24 columns):\n",
      " #   Column                                          Non-Null Count  Dtype         \n",
      "---  ------                                          --------------  -----         \n",
      " 0   Sample number                                   2553 non-null   object        \n",
      " 1   Waterbody name                                  2553 non-null   object        \n",
      " 2   Beach name                                      2551 non-null   object        \n",
      " 3   Beach access number                             2385 non-null   float64       \n",
      " 4   Latitude                                        2552 non-null   float64       \n",
      " 5   Longitude                                       2552 non-null   float64       \n",
      " 6   Collection date                                 2553 non-null   datetime64[ns]\n",
      " 7   Collection time                                 2439 non-null   object        \n",
      " 8   Microcystin LR-equivalent concentration (µg/L)  2459 non-null   object        \n",
      " 9   Total cyanobacterial cell count (cells/mL)      2553 non-null   float64       \n",
      " 10  Microcystis mcyE (copies/mL)                    1391 non-null   float64       \n",
      " 11  Anabaena mcyE (copies/mL)                       1391 non-null   float64       \n",
      " 12  Planktothrix mcyE (copies/mL)                   1391 non-null   float64       \n",
      " 13  Sample Type                                     2472 non-null   object        \n",
      " 14  Description of water                            372 non-null    object        \n",
      " 15  Description of Water - Additional Notes         736 non-null    object        \n",
      " 16  Turbidity                                       2008 non-null   object        \n",
      " 17  Colour                                          2011 non-null   object        \n",
      " 18  Evidence of bloom                               2003 non-null   object        \n",
      " 19  Water temperature (°C)                          1906 non-null   float64       \n",
      " 20  Wind direction                                  1983 non-null   object        \n",
      " 21  24 hr rainfall                                  1931 non-null   object        \n",
      " 22  24 hr rainfall amount (mm)                      1844 non-null   object        \n",
      " 23  Eob                                             2374 non-null   object        \n",
      "dtypes: datetime64[ns](1), float64(8), object(15)\n",
      "memory usage: 498.6+ KB\n"
     ]
    }
   ],
   "source": [
    "df1['Eob']=df1[\"Evidence of bloom\"].fillna(df1[\"Description of water\"])\n",
    "df1.info()"
   ]
  },
  {
   "cell_type": "code",
   "execution_count": 25,
   "id": "d4fcb71e",
   "metadata": {},
   "outputs": [
    {
     "name": "stdout",
     "output_type": "stream",
     "text": [
      "<class 'pandas.core.frame.DataFrame'>\n",
      "Int64Index: 2553 entries, 0 to 2683\n",
      "Data columns (total 22 columns):\n",
      " #   Column                                          Non-Null Count  Dtype         \n",
      "---  ------                                          --------------  -----         \n",
      " 0   Sample number                                   2553 non-null   object        \n",
      " 1   Waterbody name                                  2553 non-null   object        \n",
      " 2   Beach name                                      2551 non-null   object        \n",
      " 3   Beach access number                             2385 non-null   float64       \n",
      " 4   Latitude                                        2552 non-null   float64       \n",
      " 5   Longitude                                       2552 non-null   float64       \n",
      " 6   Collection date                                 2553 non-null   datetime64[ns]\n",
      " 7   Collection time                                 2439 non-null   object        \n",
      " 8   Microcystin LR-equivalent concentration (µg/L)  2459 non-null   object        \n",
      " 9   Total cyanobacterial cell count (cells/mL)      2553 non-null   float64       \n",
      " 10  Microcystis mcyE (copies/mL)                    1391 non-null   float64       \n",
      " 11  Anabaena mcyE (copies/mL)                       1391 non-null   float64       \n",
      " 12  Planktothrix mcyE (copies/mL)                   1391 non-null   float64       \n",
      " 13  Sample Type                                     2472 non-null   object        \n",
      " 14  Description of Water - Additional Notes         736 non-null    object        \n",
      " 15  Turbidity                                       2008 non-null   object        \n",
      " 16  Colour                                          2011 non-null   object        \n",
      " 17  Water temperature (°C)                          1906 non-null   float64       \n",
      " 18  Wind direction                                  1983 non-null   object        \n",
      " 19  24 hr rainfall                                  1931 non-null   object        \n",
      " 20  24 hr rainfall amount (mm)                      1844 non-null   object        \n",
      " 21  Eob                                             2374 non-null   object        \n",
      "dtypes: datetime64[ns](1), float64(8), object(13)\n",
      "memory usage: 458.7+ KB\n"
     ]
    }
   ],
   "source": [
    "df2=df1.copy()\n",
    "df2.drop(columns=['Description of water','Evidence of bloom'],inplace=True)\n",
    "df2.info()\n"
   ]
  },
  {
   "cell_type": "markdown",
   "id": "66967507",
   "metadata": {},
   "source": [
    "### Cleaning up column names and writing to csv"
   ]
  },
  {
   "cell_type": "code",
   "execution_count": 26,
   "id": "2c52bf3e",
   "metadata": {},
   "outputs": [],
   "source": [
    "df2.columns = ['Sample_number', 'Waterbody_name', 'Beach_name', 'Beach_access_num', 'Latitude', 'Longitude',\n",
    "                    'Collection_date', 'Collection_time', 'MC-LR_conc', 'Total_cyano_cell_count', 'Microcystis_mcyE', 'Anabaena_mcyE',\n",
    "                    'Planktothrix_mcyE', 'Sample_type', 'Water_description_additional', 'Turbidity', 'Color',\n",
    "                    'Water_temp', 'Wind_direction', 'Rainfall_24h_bool', 'Rainfall_24h_mm', 'EOB']\n",
    "\n",
    "df2['Collection_date'] = pd.to_datetime(df2['Collection_date'])\n",
    "df2['Year'] = df2['Collection_date'].dt.year\n",
    "df2['Month'] = df2['Collection_date'].dt.month\n",
    "df2['Day'] = df2['Collection_date'].dt.day\n"
   ]
  },
  {
   "cell_type": "markdown",
   "id": "8b8e12b5",
   "metadata": {},
   "source": [
    "#### Selection of rows\n",
    "We remove the entries for the year 2021 because of the priliminary nature of the data (https://open.alberta.ca/opendata/cyanobacterial-blooms-in-alberta-recreational-waters). \n",
    "\n",
    "Upon closer examination of the dataset, it appears that there's only 1 entry for Mayatan Lake and it lacks geographic information. Hence, we remove the row corresponding to Mayatan Lake. "
   ]
  },
  {
   "cell_type": "code",
   "execution_count": 27,
   "id": "caedb9b3",
   "metadata": {
    "scrolled": true
   },
   "outputs": [
    {
     "data": {
      "text/plain": [
       "Sample_number                                                             M161954\n",
       "Waterbody_name                                                       Mayatan Lake\n",
       "Beach_name                                                         NE-13-52-3-W5M\n",
       "Beach_access_num                                                              NaN\n",
       "Latitude                                                                      NaN\n",
       "Longitude                                                                     NaN\n",
       "Collection_date                                               2016-08-18 00:00:00\n",
       "Collection_time                                                          10:30:00\n",
       "MC-LR_conc                                                                  <0.10\n",
       "Total_cyano_cell_count                                                    17168.0\n",
       "Microcystis_mcyE                                                            395.0\n",
       "Anabaena_mcyE                                                                 0.0\n",
       "Planktothrix_mcyE                                                             0.0\n",
       "Sample_type                                                             Composite\n",
       "Water_description_additional    Reports of algae (green) bloom on August 11, 2...\n",
       "Turbidity                                                                   Clear\n",
       "Color                                                                  Colourless\n",
       "Water_temp                                                                   21.0\n",
       "Wind_direction                                                            No wind\n",
       "Rainfall_24h_bool                                                           False\n",
       "Rainfall_24h_mm                                                                 0\n",
       "EOB                                                                   No evidence\n",
       "Year                                                                         2016\n",
       "Month                                                                           8\n",
       "Day                                                                            18\n",
       "Name: 1299, dtype: object"
      ]
     },
     "metadata": {},
     "output_type": "display_data"
    },
    {
     "name": "stdout",
     "output_type": "stream",
     "text": [
      "<class 'pandas.core.frame.DataFrame'>\n",
      "Int64Index: 2131 entries, 0 to 2254\n",
      "Data columns (total 25 columns):\n",
      " #   Column                        Non-Null Count  Dtype         \n",
      "---  ------                        --------------  -----         \n",
      " 0   Sample_number                 2131 non-null   object        \n",
      " 1   Waterbody_name                2131 non-null   object        \n",
      " 2   Beach_name                    2129 non-null   object        \n",
      " 3   Beach_access_num              1994 non-null   float64       \n",
      " 4   Latitude                      2131 non-null   float64       \n",
      " 5   Longitude                     2131 non-null   float64       \n",
      " 6   Collection_date               2131 non-null   datetime64[ns]\n",
      " 7   Collection_time               2022 non-null   object        \n",
      " 8   MC-LR_conc                    2042 non-null   object        \n",
      " 9   Total_cyano_cell_count        2131 non-null   float64       \n",
      " 10  Microcystis_mcyE              1390 non-null   float64       \n",
      " 11  Anabaena_mcyE                 1390 non-null   float64       \n",
      " 12  Planktothrix_mcyE             1390 non-null   float64       \n",
      " 13  Sample_type                   2054 non-null   object        \n",
      " 14  Water_description_additional  615 non-null    object        \n",
      " 15  Turbidity                     1591 non-null   object        \n",
      " 16  Color                         1594 non-null   object        \n",
      " 17  Water_temp                    1517 non-null   float64       \n",
      " 18  Wind_direction                1566 non-null   object        \n",
      " 19  Rainfall_24h_bool             1516 non-null   object        \n",
      " 20  Rainfall_24h_mm               1434 non-null   object        \n",
      " 21  EOB                           1956 non-null   object        \n",
      " 22  Year                          2131 non-null   int64         \n",
      " 23  Month                         2131 non-null   int64         \n",
      " 24  Day                           2131 non-null   int64         \n",
      "dtypes: datetime64[ns](1), float64(8), int64(3), object(13)\n",
      "memory usage: 432.9+ KB\n"
     ]
    },
    {
     "data": {
      "text/plain": [
       "None"
      ]
     },
     "metadata": {},
     "output_type": "display_data"
    }
   ],
   "source": [
    "## Mayatan lake entry is missing latitude and longitude information. \n",
    "## Check how many entries exist for Mayatan lake\n",
    "display(df2[df2.Waterbody_name == 'Mayatan Lake'].loc[1299])\n",
    "## Only 1 entry for Mayatan lake exists. Remove from dataframe. Also remove data for 2021. \n",
    "\n",
    "df2 = df2[(df2.Waterbody_name != 'Mayatan Lake') & (df2.Year != 2021)]\n",
    "display(df2.info())"
   ]
  },
  {
   "cell_type": "code",
   "execution_count": null,
   "id": "24652f67",
   "metadata": {},
   "outputs": [],
   "source": [
    "# Save dataframe\n",
    "df2.to_csv('dataBloom.csv', index=False)"
   ]
  }
 ],
 "metadata": {
  "kernelspec": {
   "display_name": "Python 3 (ipykernel)",
   "language": "python",
   "name": "python3"
  },
  "language_info": {
   "codemirror_mode": {
    "name": "ipython",
    "version": 3
   },
   "file_extension": ".py",
   "mimetype": "text/x-python",
   "name": "python",
   "nbconvert_exporter": "python",
   "pygments_lexer": "ipython3",
   "version": "3.8.11"
  }
 },
 "nbformat": 4,
 "nbformat_minor": 5
}
