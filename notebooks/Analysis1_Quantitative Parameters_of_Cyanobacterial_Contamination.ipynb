{
 "cells": [
  {
   "cell_type": "code",
   "execution_count": 10,
   "id": "5178aa2b",
   "metadata": {},
   "outputs": [],
   "source": [
    "import pandas as pd\n",
    "import numpy as np\n",
    "import datetime as dt\n",
    "import calendar\n",
    "import plotly.express as px\n",
    "import plotly.graph_objects as go\n",
    "import scipy.stats as stats\n",
    "import statsmodels.api as sm\n",
    "from statsmodels.formula.api import ols"
   ]
  },
  {
   "cell_type": "markdown",
   "id": "b9623553",
   "metadata": {},
   "source": [
    "### Objective: Which quantitative paramater efficiently represents the extent of cyanobacterial contamination in Alberta's lakes and can be used as a surrogate for the level of contamination? (Feature Extraction)\n",
    "\n",
    "The dataset contains five quantitative features that can indicate the presence of cyanobacterial blooms-\n",
    "\n",
    "Microcystin LR-equivalent concentration (µg/L)\n",
    "Total cyanobacterial cell count (cells/mL)\n",
    "Microcystis mcyE (copies/mL)\n",
    "Anabaena mcyE (copies/mL)\n",
    "Microcystis mcyE (copies/mL)\n",
    "The dataset contains information about three common genera of cyanobacteria that produce the potent toxin, microcystin (MC-LR), implicated in cyanobacterial bloom-linked toxicity (https://doi.org/10.1128/AEM.01058-06). The three genera- Mycocystis, Anabaena (now called Dolichospermum), and Planktothrix are detected in the given data by the expression of their genus-specific Microcystin Synthetase Gene E (mcyE).\n",
    "\n",
    "In order to extract the most accurate feature to represent contamination in lakes, we compare and contrast all the five bloom indicators in the following section. We do so by examining:\n",
    "\n",
    "how the mcyE gene expression compares with the other quantitative measures of cyanobacterial blooms- the total cyanobacterial cell counts and the concentration of the microcystin LR (MC-LR) toxin.\n",
    "\n",
    "the prevalence of the MC producing genera in the lakes from the mcyE gene expression data."
   ]
  },
  {
   "cell_type": "code",
   "execution_count": 2,
   "id": "1585852a",
   "metadata": {},
   "outputs": [
    {
     "data": {
      "text/html": [
       "<div>\n",
       "<style scoped>\n",
       "    .dataframe tbody tr th:only-of-type {\n",
       "        vertical-align: middle;\n",
       "    }\n",
       "\n",
       "    .dataframe tbody tr th {\n",
       "        vertical-align: top;\n",
       "    }\n",
       "\n",
       "    .dataframe thead th {\n",
       "        text-align: right;\n",
       "    }\n",
       "</style>\n",
       "<table border=\"1\" class=\"dataframe\">\n",
       "  <thead>\n",
       "    <tr style=\"text-align: right;\">\n",
       "      <th></th>\n",
       "      <th>Sample_number</th>\n",
       "      <th>Waterbody_name</th>\n",
       "      <th>Beach_name</th>\n",
       "      <th>Beach_access_num</th>\n",
       "      <th>Latitude</th>\n",
       "      <th>Longitude</th>\n",
       "      <th>Collection_date</th>\n",
       "      <th>Collection_time</th>\n",
       "      <th>MC-LR_conc</th>\n",
       "      <th>Total_cyano_cell_count</th>\n",
       "      <th>...</th>\n",
       "      <th>Turbidity</th>\n",
       "      <th>Color</th>\n",
       "      <th>Water_temp</th>\n",
       "      <th>Wind_direction</th>\n",
       "      <th>Rainfall_24h_bool</th>\n",
       "      <th>Rainfall_24h_mm</th>\n",
       "      <th>EOB</th>\n",
       "      <th>Year</th>\n",
       "      <th>Month</th>\n",
       "      <th>Day</th>\n",
       "    </tr>\n",
       "  </thead>\n",
       "  <tbody>\n",
       "    <tr>\n",
       "      <th>0</th>\n",
       "      <td>M141973</td>\n",
       "      <td>Baptiste Lake</td>\n",
       "      <td>Baptiste Lake Public Beach</td>\n",
       "      <td>8830387.0</td>\n",
       "      <td>54.726988</td>\n",
       "      <td>-113.568914</td>\n",
       "      <td>2014-06-24</td>\n",
       "      <td>15:30:00</td>\n",
       "      <td>NaN</td>\n",
       "      <td>532110.0</td>\n",
       "      <td>...</td>\n",
       "      <td>NaN</td>\n",
       "      <td>Green</td>\n",
       "      <td>20.2</td>\n",
       "      <td>NE</td>\n",
       "      <td>True</td>\n",
       "      <td>NaN</td>\n",
       "      <td>streaks on the surface</td>\n",
       "      <td>2014</td>\n",
       "      <td>6</td>\n",
       "      <td>24</td>\n",
       "    </tr>\n",
       "    <tr>\n",
       "      <th>1</th>\n",
       "      <td>M141680</td>\n",
       "      <td>Beaver Lake</td>\n",
       "      <td>Young's Beach</td>\n",
       "      <td>9621938.0</td>\n",
       "      <td>54.753226</td>\n",
       "      <td>-111.925127</td>\n",
       "      <td>2014-07-29</td>\n",
       "      <td>11:30:00</td>\n",
       "      <td>0.52</td>\n",
       "      <td>1793582.0</td>\n",
       "      <td>...</td>\n",
       "      <td>NaN</td>\n",
       "      <td>NaN</td>\n",
       "      <td>NaN</td>\n",
       "      <td>NaN</td>\n",
       "      <td>NaN</td>\n",
       "      <td>NaN</td>\n",
       "      <td>streaks on the surface</td>\n",
       "      <td>2014</td>\n",
       "      <td>7</td>\n",
       "      <td>29</td>\n",
       "    </tr>\n",
       "    <tr>\n",
       "      <th>2</th>\n",
       "      <td>M141971</td>\n",
       "      <td>Bonnie Lake</td>\n",
       "      <td>Bonnie Lake Campground Beach</td>\n",
       "      <td>9013424.0</td>\n",
       "      <td>54.146363</td>\n",
       "      <td>-111.881312</td>\n",
       "      <td>2014-07-25</td>\n",
       "      <td>14:00:00</td>\n",
       "      <td>0.07</td>\n",
       "      <td>0.0</td>\n",
       "      <td>...</td>\n",
       "      <td>NaN</td>\n",
       "      <td>NaN</td>\n",
       "      <td>NaN</td>\n",
       "      <td>NaN</td>\n",
       "      <td>NaN</td>\n",
       "      <td>NaN</td>\n",
       "      <td>streaks on the surface</td>\n",
       "      <td>2014</td>\n",
       "      <td>7</td>\n",
       "      <td>25</td>\n",
       "    </tr>\n",
       "    <tr>\n",
       "      <th>3</th>\n",
       "      <td>M141382</td>\n",
       "      <td>Chestermere Lake</td>\n",
       "      <td>Camp Chestermere Beach</td>\n",
       "      <td>8805982.0</td>\n",
       "      <td>51.020865</td>\n",
       "      <td>-113.818185</td>\n",
       "      <td>2014-06-04</td>\n",
       "      <td>15:00:00</td>\n",
       "      <td>&lt;0.05</td>\n",
       "      <td>0.0</td>\n",
       "      <td>...</td>\n",
       "      <td>NaN</td>\n",
       "      <td>NaN</td>\n",
       "      <td>NaN</td>\n",
       "      <td>NaN</td>\n",
       "      <td>NaN</td>\n",
       "      <td>NaN</td>\n",
       "      <td>not apparent</td>\n",
       "      <td>2014</td>\n",
       "      <td>6</td>\n",
       "      <td>4</td>\n",
       "    </tr>\n",
       "    <tr>\n",
       "      <th>4</th>\n",
       "      <td>M141386</td>\n",
       "      <td>Chestermere Lake</td>\n",
       "      <td>Camp Chestermere Beach</td>\n",
       "      <td>8805982.0</td>\n",
       "      <td>51.020865</td>\n",
       "      <td>-113.818185</td>\n",
       "      <td>2014-06-11</td>\n",
       "      <td>13:30:00</td>\n",
       "      <td>&lt;0.05</td>\n",
       "      <td>0.0</td>\n",
       "      <td>...</td>\n",
       "      <td>NaN</td>\n",
       "      <td>NaN</td>\n",
       "      <td>NaN</td>\n",
       "      <td>NaN</td>\n",
       "      <td>NaN</td>\n",
       "      <td>NaN</td>\n",
       "      <td>not apparent</td>\n",
       "      <td>2014</td>\n",
       "      <td>6</td>\n",
       "      <td>11</td>\n",
       "    </tr>\n",
       "  </tbody>\n",
       "</table>\n",
       "<p>5 rows × 25 columns</p>\n",
       "</div>"
      ],
      "text/plain": [
       "  Sample_number    Waterbody_name                    Beach_name  \\\n",
       "0       M141973     Baptiste Lake    Baptiste Lake Public Beach   \n",
       "1       M141680       Beaver Lake                 Young's Beach   \n",
       "2       M141971       Bonnie Lake  Bonnie Lake Campground Beach   \n",
       "3       M141382  Chestermere Lake        Camp Chestermere Beach   \n",
       "4       M141386  Chestermere Lake        Camp Chestermere Beach   \n",
       "\n",
       "   Beach_access_num   Latitude   Longitude Collection_date Collection_time  \\\n",
       "0         8830387.0  54.726988 -113.568914      2014-06-24        15:30:00   \n",
       "1         9621938.0  54.753226 -111.925127      2014-07-29        11:30:00   \n",
       "2         9013424.0  54.146363 -111.881312      2014-07-25        14:00:00   \n",
       "3         8805982.0  51.020865 -113.818185      2014-06-04        15:00:00   \n",
       "4         8805982.0  51.020865 -113.818185      2014-06-11        13:30:00   \n",
       "\n",
       "  MC-LR_conc  Total_cyano_cell_count  ...  Turbidity  Color  Water_temp  \\\n",
       "0        NaN                532110.0  ...        NaN  Green        20.2   \n",
       "1       0.52               1793582.0  ...        NaN    NaN         NaN   \n",
       "2       0.07                     0.0  ...        NaN    NaN         NaN   \n",
       "3      <0.05                     0.0  ...        NaN    NaN         NaN   \n",
       "4      <0.05                     0.0  ...        NaN    NaN         NaN   \n",
       "\n",
       "  Wind_direction Rainfall_24h_bool Rainfall_24h_mm                     EOB  \\\n",
       "0             NE              True             NaN  streaks on the surface   \n",
       "1            NaN               NaN             NaN  streaks on the surface   \n",
       "2            NaN               NaN             NaN  streaks on the surface   \n",
       "3            NaN               NaN             NaN            not apparent   \n",
       "4            NaN               NaN             NaN            not apparent   \n",
       "\n",
       "   Year Month Day  \n",
       "0  2014     6  24  \n",
       "1  2014     7  29  \n",
       "2  2014     7  25  \n",
       "3  2014     6   4  \n",
       "4  2014     6  11  \n",
       "\n",
       "[5 rows x 25 columns]"
      ]
     },
     "metadata": {},
     "output_type": "display_data"
    },
    {
     "data": {
      "text/html": [
       "<div>\n",
       "<style scoped>\n",
       "    .dataframe tbody tr th:only-of-type {\n",
       "        vertical-align: middle;\n",
       "    }\n",
       "\n",
       "    .dataframe tbody tr th {\n",
       "        vertical-align: top;\n",
       "    }\n",
       "\n",
       "    .dataframe thead th {\n",
       "        text-align: right;\n",
       "    }\n",
       "</style>\n",
       "<table border=\"1\" class=\"dataframe\">\n",
       "  <thead>\n",
       "    <tr style=\"text-align: right;\">\n",
       "      <th></th>\n",
       "      <th>Sample_number</th>\n",
       "      <th>Waterbody_name</th>\n",
       "      <th>Beach_name</th>\n",
       "      <th>Beach_access_num</th>\n",
       "      <th>Latitude</th>\n",
       "      <th>Longitude</th>\n",
       "      <th>Collection_date</th>\n",
       "      <th>Collection_time</th>\n",
       "      <th>MC-LR_conc</th>\n",
       "      <th>Total_cyano_cell_count</th>\n",
       "      <th>...</th>\n",
       "      <th>Turbidity</th>\n",
       "      <th>Color</th>\n",
       "      <th>Water_temp</th>\n",
       "      <th>Wind_direction</th>\n",
       "      <th>Rainfall_24h_bool</th>\n",
       "      <th>Rainfall_24h_mm</th>\n",
       "      <th>EOB</th>\n",
       "      <th>Year</th>\n",
       "      <th>Month</th>\n",
       "      <th>Day</th>\n",
       "    </tr>\n",
       "  </thead>\n",
       "  <tbody>\n",
       "    <tr>\n",
       "      <th>192</th>\n",
       "      <td>M141624</td>\n",
       "      <td>Moonshine Lake</td>\n",
       "      <td>Moonshine Lake Provincial Park</td>\n",
       "      <td>9320045.0</td>\n",
       "      <td>55.889726</td>\n",
       "      <td>-119.229366</td>\n",
       "      <td>2014-07-29</td>\n",
       "      <td>10:30:00</td>\n",
       "      <td>2.88</td>\n",
       "      <td>42017.0</td>\n",
       "      <td>...</td>\n",
       "      <td>NaN</td>\n",
       "      <td>NaN</td>\n",
       "      <td>NaN</td>\n",
       "      <td>NaN</td>\n",
       "      <td>NaN</td>\n",
       "      <td>NaN</td>\n",
       "      <td>streaks on the surface</td>\n",
       "      <td>2014</td>\n",
       "      <td>7</td>\n",
       "      <td>29</td>\n",
       "    </tr>\n",
       "    <tr>\n",
       "      <th>669</th>\n",
       "      <td>M151603</td>\n",
       "      <td>Lac Cardinal (Bear Lake)</td>\n",
       "      <td>Queen Elizabeth Park Beach</td>\n",
       "      <td>9280133.0</td>\n",
       "      <td>56.219364</td>\n",
       "      <td>-117.699936</td>\n",
       "      <td>2015-07-13</td>\n",
       "      <td>11:15:00</td>\n",
       "      <td>0.24</td>\n",
       "      <td>0.0</td>\n",
       "      <td>...</td>\n",
       "      <td>Moderate</td>\n",
       "      <td>Green</td>\n",
       "      <td>23.3</td>\n",
       "      <td>SE</td>\n",
       "      <td>True</td>\n",
       "      <td>0.1</td>\n",
       "      <td>Particles in water</td>\n",
       "      <td>2015</td>\n",
       "      <td>7</td>\n",
       "      <td>13</td>\n",
       "    </tr>\n",
       "    <tr>\n",
       "      <th>1482</th>\n",
       "      <td>M171553</td>\n",
       "      <td>Hutch Lake</td>\n",
       "      <td>Hutch Lake Campground and Day Use</td>\n",
       "      <td>9010033.0</td>\n",
       "      <td>58.765640</td>\n",
       "      <td>-117.369400</td>\n",
       "      <td>2017-08-04</td>\n",
       "      <td>NaN</td>\n",
       "      <td>NaN</td>\n",
       "      <td>2875.0</td>\n",
       "      <td>...</td>\n",
       "      <td>NaN</td>\n",
       "      <td>NaN</td>\n",
       "      <td>NaN</td>\n",
       "      <td>NaN</td>\n",
       "      <td>NaN</td>\n",
       "      <td>NaN</td>\n",
       "      <td>NaN</td>\n",
       "      <td>2017</td>\n",
       "      <td>8</td>\n",
       "      <td>4</td>\n",
       "    </tr>\n",
       "    <tr>\n",
       "      <th>1483</th>\n",
       "      <td>M171554</td>\n",
       "      <td>Hutch Lake</td>\n",
       "      <td>Hutch Lake Campground and Day Use</td>\n",
       "      <td>9010033.0</td>\n",
       "      <td>58.765640</td>\n",
       "      <td>-117.369400</td>\n",
       "      <td>2017-08-04</td>\n",
       "      <td>NaN</td>\n",
       "      <td>NaN</td>\n",
       "      <td>1268.0</td>\n",
       "      <td>...</td>\n",
       "      <td>NaN</td>\n",
       "      <td>NaN</td>\n",
       "      <td>NaN</td>\n",
       "      <td>NaN</td>\n",
       "      <td>NaN</td>\n",
       "      <td>NaN</td>\n",
       "      <td>NaN</td>\n",
       "      <td>2017</td>\n",
       "      <td>8</td>\n",
       "      <td>4</td>\n",
       "    </tr>\n",
       "    <tr>\n",
       "      <th>1484</th>\n",
       "      <td>M171555</td>\n",
       "      <td>Hutch Lake</td>\n",
       "      <td>Hutch Lake Campground and Day Use</td>\n",
       "      <td>9010033.0</td>\n",
       "      <td>58.765640</td>\n",
       "      <td>-117.369400</td>\n",
       "      <td>2017-08-04</td>\n",
       "      <td>NaN</td>\n",
       "      <td>NaN</td>\n",
       "      <td>11133.0</td>\n",
       "      <td>...</td>\n",
       "      <td>NaN</td>\n",
       "      <td>NaN</td>\n",
       "      <td>NaN</td>\n",
       "      <td>NaN</td>\n",
       "      <td>NaN</td>\n",
       "      <td>NaN</td>\n",
       "      <td>NaN</td>\n",
       "      <td>2017</td>\n",
       "      <td>8</td>\n",
       "      <td>4</td>\n",
       "    </tr>\n",
       "  </tbody>\n",
       "</table>\n",
       "<p>5 rows × 25 columns</p>\n",
       "</div>"
      ],
      "text/plain": [
       "     Sample_number            Waterbody_name  \\\n",
       "192        M141624            Moonshine Lake   \n",
       "669        M151603  Lac Cardinal (Bear Lake)   \n",
       "1482       M171553                Hutch Lake   \n",
       "1483       M171554                Hutch Lake   \n",
       "1484       M171555                Hutch Lake   \n",
       "\n",
       "                             Beach_name  Beach_access_num   Latitude  \\\n",
       "192      Moonshine Lake Provincial Park         9320045.0  55.889726   \n",
       "669          Queen Elizabeth Park Beach         9280133.0  56.219364   \n",
       "1482  Hutch Lake Campground and Day Use         9010033.0  58.765640   \n",
       "1483  Hutch Lake Campground and Day Use         9010033.0  58.765640   \n",
       "1484  Hutch Lake Campground and Day Use         9010033.0  58.765640   \n",
       "\n",
       "       Longitude Collection_date Collection_time MC-LR_conc  \\\n",
       "192  -119.229366      2014-07-29        10:30:00       2.88   \n",
       "669  -117.699936      2015-07-13        11:15:00       0.24   \n",
       "1482 -117.369400      2017-08-04             NaN        NaN   \n",
       "1483 -117.369400      2017-08-04             NaN        NaN   \n",
       "1484 -117.369400      2017-08-04             NaN        NaN   \n",
       "\n",
       "      Total_cyano_cell_count  ...  Turbidity  Color  Water_temp  \\\n",
       "192                  42017.0  ...        NaN    NaN         NaN   \n",
       "669                      0.0  ...   Moderate  Green        23.3   \n",
       "1482                  2875.0  ...        NaN    NaN         NaN   \n",
       "1483                  1268.0  ...        NaN    NaN         NaN   \n",
       "1484                 11133.0  ...        NaN    NaN         NaN   \n",
       "\n",
       "     Wind_direction Rainfall_24h_bool Rainfall_24h_mm                     EOB  \\\n",
       "192             NaN               NaN             NaN  streaks on the surface   \n",
       "669              SE              True             0.1      Particles in water   \n",
       "1482            NaN               NaN             NaN                     NaN   \n",
       "1483            NaN               NaN             NaN                     NaN   \n",
       "1484            NaN               NaN             NaN                     NaN   \n",
       "\n",
       "      Year Month Day  \n",
       "192   2014     7  29  \n",
       "669   2015     7  13  \n",
       "1482  2017     8   4  \n",
       "1483  2017     8   4  \n",
       "1484  2017     8   4  \n",
       "\n",
       "[5 rows x 25 columns]"
      ]
     },
     "metadata": {},
     "output_type": "display_data"
    }
   ],
   "source": [
    "# Import dataset\n",
    "\n",
    "df = pd.read_csv('dataBloom.csv')\n",
    "#display(df.info())\n",
    "display(df.head())\n",
    "df = df.sort_values('Latitude')\n",
    "display(df.tail())\n"
   ]
  },
  {
   "cell_type": "markdown",
   "id": "15e54aa5",
   "metadata": {},
   "source": [
    "Extract Quantitative Indicators of harmful blooms"
   ]
  },
  {
   "cell_type": "code",
   "execution_count": 3,
   "id": "2c820bd4",
   "metadata": {},
   "outputs": [
    {
     "name": "stdout",
     "output_type": "stream",
     "text": [
      "Waterbody_name            2131\n",
      "MC-LR_conc                2042\n",
      "Total_cyano_cell_count    2131\n",
      "Microcystis_mcyE          1390\n",
      "Anabaena_mcyE             1390\n",
      "Planktothrix_mcyE         1390\n",
      "Year                      2131\n",
      "Month                     2131\n",
      "Day                       2131\n",
      "dtype: int64\n"
     ]
    },
    {
     "name": "stderr",
     "output_type": "stream",
     "text": [
      "C:\\Users\\radhi\\AppData\\Local\\Temp/ipykernel_22900/3752498384.py:3: FutureWarning: The default value of regex will change from True to False in a future version.\n",
      "  bloomIndicators['MC-LR_conc'] = bloomIndicators['MC-LR_conc'].str.replace(r'(^.*<.*$)', '0').apply(pd.to_numeric)\n",
      "C:\\Users\\radhi\\AppData\\Local\\Temp/ipykernel_22900/3752498384.py:3: SettingWithCopyWarning: \n",
      "A value is trying to be set on a copy of a slice from a DataFrame.\n",
      "Try using .loc[row_indexer,col_indexer] = value instead\n",
      "\n",
      "See the caveats in the documentation: https://pandas.pydata.org/pandas-docs/stable/user_guide/indexing.html#returning-a-view-versus-a-copy\n",
      "  bloomIndicators['MC-LR_conc'] = bloomIndicators['MC-LR_conc'].str.replace(r'(^.*<.*$)', '0').apply(pd.to_numeric)\n"
     ]
    },
    {
     "data": {
      "text/plain": [
       "Waterbody_name            1349\n",
       "MC-LR_conc                1349\n",
       "Total_cyano_cell_count    1349\n",
       "Microcystis_mcyE          1349\n",
       "Anabaena_mcyE             1349\n",
       "Planktothrix_mcyE         1349\n",
       "Year                      1349\n",
       "Month                     1349\n",
       "Day                       1349\n",
       "dtype: int64"
      ]
     },
     "metadata": {},
     "output_type": "display_data"
    },
    {
     "name": "stdout",
     "output_type": "stream",
     "text": [
      "<class 'pandas.core.frame.DataFrame'>\n",
      "Int64Index: 1349 entries, 556 to 192\n",
      "Data columns (total 9 columns):\n",
      " #   Column                  Non-Null Count  Dtype  \n",
      "---  ------                  --------------  -----  \n",
      " 0   Waterbody_name          1349 non-null   object \n",
      " 1   MC-LR_conc              1349 non-null   float64\n",
      " 2   Total_cyano_cell_count  1349 non-null   float64\n",
      " 3   Microcystis_mcyE        1349 non-null   float64\n",
      " 4   Anabaena_mcyE           1349 non-null   float64\n",
      " 5   Planktothrix_mcyE       1349 non-null   float64\n",
      " 6   Year                    1349 non-null   int64  \n",
      " 7   Month                   1349 non-null   int64  \n",
      " 8   Day                     1349 non-null   int64  \n",
      "dtypes: float64(5), int64(3), object(1)\n",
      "memory usage: 105.4+ KB\n"
     ]
    },
    {
     "data": {
      "text/plain": [
       "None"
      ]
     },
     "metadata": {},
     "output_type": "display_data"
    },
    {
     "data": {
      "text/html": [
       "<div>\n",
       "<style scoped>\n",
       "    .dataframe tbody tr th:only-of-type {\n",
       "        vertical-align: middle;\n",
       "    }\n",
       "\n",
       "    .dataframe tbody tr th {\n",
       "        vertical-align: top;\n",
       "    }\n",
       "\n",
       "    .dataframe thead th {\n",
       "        text-align: right;\n",
       "    }\n",
       "</style>\n",
       "<table border=\"1\" class=\"dataframe\">\n",
       "  <thead>\n",
       "    <tr style=\"text-align: right;\">\n",
       "      <th></th>\n",
       "      <th>Waterbody_name</th>\n",
       "      <th>MC-LR_conc</th>\n",
       "      <th>Total_cyano_cell_count</th>\n",
       "      <th>Microcystis_mcyE</th>\n",
       "      <th>Anabaena_mcyE</th>\n",
       "      <th>Planktothrix_mcyE</th>\n",
       "      <th>Year</th>\n",
       "      <th>Month</th>\n",
       "      <th>Day</th>\n",
       "    </tr>\n",
       "  </thead>\n",
       "  <tbody>\n",
       "    <tr>\n",
       "      <th>556</th>\n",
       "      <td>Forty Mile Reservoir</td>\n",
       "      <td>0.000</td>\n",
       "      <td>22915.0</td>\n",
       "      <td>0.0</td>\n",
       "      <td>0.0</td>\n",
       "      <td>0.0</td>\n",
       "      <td>2015</td>\n",
       "      <td>8</td>\n",
       "      <td>10</td>\n",
       "    </tr>\n",
       "    <tr>\n",
       "      <th>59</th>\n",
       "      <td>Forty Mile Reservoir</td>\n",
       "      <td>0.050</td>\n",
       "      <td>8352.0</td>\n",
       "      <td>0.0</td>\n",
       "      <td>0.0</td>\n",
       "      <td>0.0</td>\n",
       "      <td>2014</td>\n",
       "      <td>6</td>\n",
       "      <td>16</td>\n",
       "    </tr>\n",
       "    <tr>\n",
       "      <th>60</th>\n",
       "      <td>Forty Mile Reservoir</td>\n",
       "      <td>0.060</td>\n",
       "      <td>0.0</td>\n",
       "      <td>0.0</td>\n",
       "      <td>0.0</td>\n",
       "      <td>0.0</td>\n",
       "      <td>2014</td>\n",
       "      <td>6</td>\n",
       "      <td>23</td>\n",
       "    </tr>\n",
       "    <tr>\n",
       "      <th>61</th>\n",
       "      <td>Forty Mile Reservoir</td>\n",
       "      <td>0.070</td>\n",
       "      <td>0.0</td>\n",
       "      <td>0.0</td>\n",
       "      <td>0.0</td>\n",
       "      <td>0.0</td>\n",
       "      <td>2014</td>\n",
       "      <td>7</td>\n",
       "      <td>3</td>\n",
       "    </tr>\n",
       "    <tr>\n",
       "      <th>62</th>\n",
       "      <td>Forty Mile Reservoir</td>\n",
       "      <td>0.060</td>\n",
       "      <td>0.0</td>\n",
       "      <td>0.0</td>\n",
       "      <td>0.0</td>\n",
       "      <td>0.0</td>\n",
       "      <td>2014</td>\n",
       "      <td>7</td>\n",
       "      <td>7</td>\n",
       "    </tr>\n",
       "    <tr>\n",
       "      <th>...</th>\n",
       "      <td>...</td>\n",
       "      <td>...</td>\n",
       "      <td>...</td>\n",
       "      <td>...</td>\n",
       "      <td>...</td>\n",
       "      <td>...</td>\n",
       "      <td>...</td>\n",
       "      <td>...</td>\n",
       "      <td>...</td>\n",
       "    </tr>\n",
       "    <tr>\n",
       "      <th>189</th>\n",
       "      <td>Moonshine Lake</td>\n",
       "      <td>0.080</td>\n",
       "      <td>79094.0</td>\n",
       "      <td>0.0</td>\n",
       "      <td>0.0</td>\n",
       "      <td>0.0</td>\n",
       "      <td>2014</td>\n",
       "      <td>6</td>\n",
       "      <td>17</td>\n",
       "    </tr>\n",
       "    <tr>\n",
       "      <th>190</th>\n",
       "      <td>Moonshine Lake</td>\n",
       "      <td>0.160</td>\n",
       "      <td>47110.0</td>\n",
       "      <td>0.0</td>\n",
       "      <td>0.0</td>\n",
       "      <td>0.0</td>\n",
       "      <td>2014</td>\n",
       "      <td>7</td>\n",
       "      <td>2</td>\n",
       "    </tr>\n",
       "    <tr>\n",
       "      <th>191</th>\n",
       "      <td>Moonshine Lake</td>\n",
       "      <td>1.620</td>\n",
       "      <td>408709.0</td>\n",
       "      <td>0.0</td>\n",
       "      <td>0.0</td>\n",
       "      <td>0.0</td>\n",
       "      <td>2014</td>\n",
       "      <td>7</td>\n",
       "      <td>15</td>\n",
       "    </tr>\n",
       "    <tr>\n",
       "      <th>188</th>\n",
       "      <td>Moonshine Lake</td>\n",
       "      <td>0.063</td>\n",
       "      <td>11765.0</td>\n",
       "      <td>0.0</td>\n",
       "      <td>0.0</td>\n",
       "      <td>0.0</td>\n",
       "      <td>2014</td>\n",
       "      <td>6</td>\n",
       "      <td>2</td>\n",
       "    </tr>\n",
       "    <tr>\n",
       "      <th>192</th>\n",
       "      <td>Moonshine Lake</td>\n",
       "      <td>2.880</td>\n",
       "      <td>42017.0</td>\n",
       "      <td>505.0</td>\n",
       "      <td>0.0</td>\n",
       "      <td>0.0</td>\n",
       "      <td>2014</td>\n",
       "      <td>7</td>\n",
       "      <td>29</td>\n",
       "    </tr>\n",
       "  </tbody>\n",
       "</table>\n",
       "<p>1349 rows × 9 columns</p>\n",
       "</div>"
      ],
      "text/plain": [
       "           Waterbody_name  MC-LR_conc  Total_cyano_cell_count  \\\n",
       "556  Forty Mile Reservoir       0.000                 22915.0   \n",
       "59   Forty Mile Reservoir       0.050                  8352.0   \n",
       "60   Forty Mile Reservoir       0.060                     0.0   \n",
       "61   Forty Mile Reservoir       0.070                     0.0   \n",
       "62   Forty Mile Reservoir       0.060                     0.0   \n",
       "..                    ...         ...                     ...   \n",
       "189        Moonshine Lake       0.080                 79094.0   \n",
       "190        Moonshine Lake       0.160                 47110.0   \n",
       "191        Moonshine Lake       1.620                408709.0   \n",
       "188        Moonshine Lake       0.063                 11765.0   \n",
       "192        Moonshine Lake       2.880                 42017.0   \n",
       "\n",
       "     Microcystis_mcyE  Anabaena_mcyE  Planktothrix_mcyE  Year  Month  Day  \n",
       "556               0.0            0.0                0.0  2015      8   10  \n",
       "59                0.0            0.0                0.0  2014      6   16  \n",
       "60                0.0            0.0                0.0  2014      6   23  \n",
       "61                0.0            0.0                0.0  2014      7    3  \n",
       "62                0.0            0.0                0.0  2014      7    7  \n",
       "..                ...            ...                ...   ...    ...  ...  \n",
       "189               0.0            0.0                0.0  2014      6   17  \n",
       "190               0.0            0.0                0.0  2014      7    2  \n",
       "191               0.0            0.0                0.0  2014      7   15  \n",
       "188               0.0            0.0                0.0  2014      6    2  \n",
       "192             505.0            0.0                0.0  2014      7   29  \n",
       "\n",
       "[1349 rows x 9 columns]"
      ]
     },
     "metadata": {},
     "output_type": "display_data"
    }
   ],
   "source": [
    "bloomIndicators = df[['Waterbody_name', 'MC-LR_conc', 'Total_cyano_cell_count', 'Microcystis_mcyE', 'Anabaena_mcyE', 'Planktothrix_mcyE', 'Year', 'Month', 'Day']]\n",
    "print(bloomIndicators.count())\n",
    "bloomIndicators['MC-LR_conc'] = bloomIndicators['MC-LR_conc'].str.replace(r'(^.*<.*$)', '0').apply(pd.to_numeric)\n",
    "\n",
    "# Remove entries withh missing data in any of the quantitative features\n",
    "bloomIndicators = bloomIndicators.dropna(axis=0, how='any')\n",
    "display(bloomIndicators.count())\n",
    "\n",
    "# We have 1399 entries for investigating the correlation between the quantitative features\n",
    "# Convert MC-LR_conc. column dtype to float replacing any values with <0.1 with 0\n",
    "\n",
    "\n",
    "display(bloomIndicators.info())\n",
    "display(bloomIndicators)\n",
    "\n"
   ]
  },
  {
   "cell_type": "code",
   "execution_count": 5,
   "id": "68dd7f50",
   "metadata": {
    "scrolled": true
   },
   "outputs": [
    {
     "data": {
      "application/vnd.plotly.v1+json": {
       "config": {
        "plotlyServerURL": "https://plot.ly"
       },
       "data": [
        {
         "dimensions": [
          {
           "axis": {
            "matches": true
           },
           "label": "MC-LR_conc",
           "values": [
            0,
            0.05,
            0.06,
            0.07,
            0.06,
            0,
            0.05,
            0.05,
            0.05,
            0,
            0.06,
            0.05,
            0,
            0,
            0,
            0,
            0,
            0,
            0,
            0,
            0,
            0,
            0,
            0,
            0,
            0,
            0.18,
            0.11,
            0,
            0,
            0,
            0,
            0,
            0,
            0,
            0,
            0,
            0.11,
            0.11,
            0
           ]
          },
          {
           "axis": {
            "matches": true
           },
           "label": "Total_cyano_cell_count",
           "values": [
            22915,
            8352,
            0,
            0,
            0,
            0,
            0,
            0,
            0,
            22918,
            7639,
            0,
            2772,
            23422,
            4161,
            0,
            0,
            0,
            0,
            0,
            0,
            0,
            0,
            0,
            28787,
            0,
            0,
            3588,
            4004,
            31415,
            0,
            3326,
            0,
            77428,
            46752,
            175552,
            0,
            0,
            110875,
            1366
           ]
          },
          {
           "axis": {
            "matches": true
           },
           "label": "Microcystis_mcyE",
           "values": [
            0,
            0,
            0,
            0,
            0,
            0,
            0,
            0,
            0,
            0,
            0,
            0,
            0,
            0,
            0,
            0,
            0,
            0,
            0,
            0,
            0,
            0,
            0,
            0,
            0,
            0,
            0,
            0,
            0,
            0,
            0,
            0,
            0,
            0,
            0,
            0,
            0,
            0,
            0,
            0
           ]
          },
          {
           "axis": {
            "matches": true
           },
           "label": "Anabaena_mcyE",
           "values": [
            0,
            0,
            0,
            0,
            0,
            0,
            0,
            0,
            0,
            0,
            0,
            0,
            0,
            0,
            0,
            0,
            0,
            0,
            0,
            0,
            0,
            0,
            0,
            0,
            0,
            0,
            0,
            0,
            0,
            0,
            0,
            0,
            0,
            0,
            0,
            0,
            0,
            0,
            0,
            0
           ]
          },
          {
           "axis": {
            "matches": true
           },
           "label": "Planktothrix_mcyE",
           "values": [
            0,
            0,
            0,
            0,
            0,
            0,
            0,
            0,
            0,
            0,
            0,
            0,
            0,
            0,
            0,
            0,
            0,
            0,
            0,
            0,
            0,
            0,
            0,
            0,
            0,
            0,
            0,
            0,
            0,
            0,
            0,
            0,
            0,
            0,
            0,
            0,
            0,
            0,
            0,
            0
           ]
          }
         ],
         "hovertemplate": "Waterbody_name=Forty Mile Reservoir<br>%{xaxis.title.text}=%{x}<br>%{yaxis.title.text}=%{y}<extra></extra>",
         "legendgroup": "Forty Mile Reservoir",
         "marker": {
          "color": "#636efa",
          "symbol": "circle"
         },
         "name": "Forty Mile Reservoir",
         "showlegend": true,
         "type": "splom"
        },
        {
         "dimensions": [
          {
           "axis": {
            "matches": true
           },
           "label": "MC-LR_conc",
           "values": [
            4.99
           ]
          },
          {
           "axis": {
            "matches": true
           },
           "label": "Total_cyano_cell_count",
           "values": [
            43355
           ]
          },
          {
           "axis": {
            "matches": true
           },
           "label": "Microcystis_mcyE",
           "values": [
            462.5
           ]
          },
          {
           "axis": {
            "matches": true
           },
           "label": "Anabaena_mcyE",
           "values": [
            0
           ]
          },
          {
           "axis": {
            "matches": true
           },
           "label": "Planktothrix_mcyE",
           "values": [
            0
           ]
          }
         ],
         "hovertemplate": "Waterbody_name=Henderson Lake<br>%{xaxis.title.text}=%{x}<br>%{yaxis.title.text}=%{y}<extra></extra>",
         "legendgroup": "Henderson Lake",
         "marker": {
          "color": "#EF553B",
          "symbol": "circle"
         },
         "name": "Henderson Lake",
         "showlegend": true,
         "type": "splom"
        },
        {
         "dimensions": [
          {
           "axis": {
            "matches": true
           },
           "label": "MC-LR_conc",
           "values": [
            0,
            0,
            0,
            0.11,
            0.08,
            0,
            0,
            0.35,
            0,
            0,
            0.12,
            0,
            0,
            0,
            0,
            0,
            0.12,
            0.12,
            0.21,
            0.11,
            0.34,
            0.31,
            0.21,
            0.09,
            0,
            0,
            0.104,
            0,
            0,
            0,
            0,
            0,
            0,
            0,
            0,
            0,
            0
           ]
          },
          {
           "axis": {
            "matches": true
           },
           "label": "Total_cyano_cell_count",
           "values": [
            23992,
            95988,
            0,
            0,
            764,
            31857,
            2266,
            5704,
            0,
            0,
            0,
            0,
            0,
            0,
            156,
            0,
            14770,
            0,
            61574,
            0,
            3820,
            7283,
            2037,
            2903,
            359,
            0,
            0,
            0,
            0,
            0,
            12319,
            0,
            0,
            0,
            1540,
            0,
            1429055
           ]
          },
          {
           "axis": {
            "matches": true
           },
           "label": "Microcystis_mcyE",
           "values": [
            122,
            150,
            0,
            337.5,
            0,
            0,
            0,
            13600,
            0,
            0,
            0,
            0,
            0,
            0,
            0,
            0,
            0,
            442.5,
            21950,
            2825,
            5075,
            9100,
            0,
            0,
            0,
            0,
            0,
            0,
            0,
            0,
            0,
            0,
            0,
            0,
            0,
            0,
            0
           ]
          },
          {
           "axis": {
            "matches": true
           },
           "label": "Anabaena_mcyE",
           "values": [
            0,
            0,
            0,
            0,
            0,
            0,
            0,
            0,
            0,
            0,
            0,
            0,
            0,
            0,
            0,
            0,
            0,
            0,
            0,
            0,
            0,
            0,
            0,
            0,
            0,
            0,
            0,
            0,
            0,
            0,
            0,
            0,
            0,
            0,
            0,
            0,
            0
           ]
          },
          {
           "axis": {
            "matches": true
           },
           "label": "Planktothrix_mcyE",
           "values": [
            0,
            0,
            0,
            0,
            0,
            0,
            0,
            0,
            0,
            0,
            0,
            0,
            0,
            0,
            0,
            0,
            0,
            0,
            0,
            0,
            0,
            0,
            0,
            0,
            0,
            0,
            0,
            0,
            0,
            0,
            0,
            0,
            0,
            0,
            0,
            0,
            0
           ]
          }
         ],
         "hovertemplate": "Waterbody_name=Park Lake<br>%{xaxis.title.text}=%{x}<br>%{yaxis.title.text}=%{y}<extra></extra>",
         "legendgroup": "Park Lake",
         "marker": {
          "color": "#00cc96",
          "symbol": "circle"
         },
         "name": "Park Lake",
         "showlegend": true,
         "type": "splom"
        },
        {
         "dimensions": [
          {
           "axis": {
            "matches": true
           },
           "label": "MC-LR_conc",
           "values": [
            0,
            0,
            0,
            0.06,
            0,
            0.07,
            0,
            0,
            0,
            0.1,
            0.21,
            0.1,
            0,
            0,
            0,
            0.72,
            0.088,
            0.1,
            0.1,
            0.28,
            0.1,
            0.13,
            0.09,
            0.32,
            0,
            0.06,
            0.44,
            0.2,
            0.11,
            0,
            0.48,
            0,
            0,
            0.16,
            0.24,
            0.16,
            0.17,
            0.33,
            0.11,
            0.07
           ]
          },
          {
           "axis": {
            "matches": true
           },
           "label": "Total_cyano_cell_count",
           "values": [
            790,
            4748,
            3973,
            184618,
            0,
            58824,
            0,
            5092,
            9884,
            47873,
            736,
            0,
            19914,
            8276,
            201426,
            120424,
            93251,
            126559,
            11457,
            141180,
            17374,
            222305,
            40108,
            69774,
            178303,
            158493,
            132366,
            28520,
            81997,
            0,
            224255,
            1047,
            29258,
            32216,
            43672,
            75888,
            29813,
            14667,
            19587,
            193353
           ]
          },
          {
           "axis": {
            "matches": true
           },
           "label": "Microcystis_mcyE",
           "values": [
            0,
            0,
            0,
            0,
            0,
            199.25,
            0,
            0,
            0,
            0,
            0,
            0,
            0,
            0,
            0,
            0,
            0,
            0,
            0,
            0,
            0,
            0,
            0,
            580,
            295,
            168,
            445,
            146.75,
            0,
            0,
            0,
            0,
            0,
            0,
            0,
            0,
            0,
            0,
            0,
            0
           ]
          },
          {
           "axis": {
            "matches": true
           },
           "label": "Anabaena_mcyE",
           "values": [
            0,
            0,
            0,
            0,
            0,
            0,
            0,
            0,
            372.5,
            0,
            7150,
            675,
            1290,
            2272.5,
            445,
            0,
            114.5,
            0,
            1712.5,
            1275,
            68.25,
            180.5,
            350,
            0,
            0,
            0,
            0,
            0,
            95.75,
            0,
            1682.5,
            0,
            0,
            0,
            95,
            0,
            0,
            2277.5,
            61.5,
            0
           ]
          },
          {
           "axis": {
            "matches": true
           },
           "label": "Planktothrix_mcyE",
           "values": [
            0,
            0,
            0,
            0,
            0,
            0,
            0,
            0,
            0,
            0,
            0,
            0,
            0,
            0,
            0,
            0,
            0,
            0,
            0,
            0,
            0,
            0,
            0,
            0,
            0,
            0,
            0,
            0,
            0,
            0,
            0,
            0,
            0,
            0,
            0,
            0,
            0,
            0,
            0,
            0
           ]
          }
         ],
         "hovertemplate": "Waterbody_name=Rattlesnake Lake/Sauder Reservoir<br>%{xaxis.title.text}=%{x}<br>%{yaxis.title.text}=%{y}<extra></extra>",
         "legendgroup": "Rattlesnake Lake/Sauder Reservoir",
         "marker": {
          "color": "#ab63fa",
          "symbol": "circle"
         },
         "name": "Rattlesnake Lake/Sauder Reservoir",
         "showlegend": true,
         "type": "splom"
        },
        {
         "dimensions": [
          {
           "axis": {
            "matches": true
           },
           "label": "MC-LR_conc",
           "values": [
            0.4,
            0.94,
            0.15,
            0.42,
            0.1,
            0.36,
            0.9,
            0.12,
            0.11,
            0.1,
            0.1,
            0.18,
            0.1,
            0.19,
            0.49,
            0.74,
            0.12,
            0.67,
            1.51,
            1,
            0.23,
            0.08,
            0.08,
            0.057,
            0,
            0,
            0.2,
            0.12,
            0.19,
            0.15,
            0.12,
            0.13,
            0.11,
            0.12
           ]
          },
          {
           "axis": {
            "matches": true
           },
           "label": "Total_cyano_cell_count",
           "values": [
            0,
            183856,
            15075,
            0,
            0,
            48383,
            7106,
            347286,
            1101,
            0,
            0,
            86240,
            0,
            50181,
            116990,
            77802,
            19,
            47772,
            8624,
            19303,
            17802,
            801,
            6169,
            1254,
            0,
            0,
            64677,
            0,
            0,
            6086,
            138594,
            43118,
            0,
            58517
           ]
          },
          {
           "axis": {
            "matches": true
           },
           "label": "Microcystis_mcyE",
           "values": [
            877.5,
            0,
            0,
            710,
            0,
            577.5,
            1965,
            0,
            595,
            0,
            54.25,
            287.5,
            0,
            385,
            1925,
            2120,
            392.5,
            8775,
            35750,
            13125,
            835,
            0,
            0,
            0,
            55.75,
            0,
            0,
            0,
            1437.5,
            0,
            186.25,
            169,
            0,
            0
           ]
          },
          {
           "axis": {
            "matches": true
           },
           "label": "Anabaena_mcyE",
           "values": [
            0,
            0,
            0,
            0,
            0,
            0,
            0,
            0,
            0,
            0,
            0,
            397.5,
            0,
            0,
            0,
            0,
            0,
            0,
            0,
            0,
            0,
            0,
            0,
            0,
            0,
            0,
            0,
            0,
            0,
            0,
            0,
            0,
            0,
            0
           ]
          },
          {
           "axis": {
            "matches": true
           },
           "label": "Planktothrix_mcyE",
           "values": [
            0,
            0,
            0,
            0,
            0,
            0,
            0,
            0,
            0,
            0,
            0,
            0,
            0,
            0,
            0,
            0,
            0,
            0,
            0,
            0,
            0,
            0,
            0,
            0,
            0,
            0,
            0,
            0,
            0,
            0,
            0,
            0,
            0,
            0
           ]
          }
         ],
         "hovertemplate": "Waterbody_name=Pine Coulee Reservoir<br>%{xaxis.title.text}=%{x}<br>%{yaxis.title.text}=%{y}<extra></extra>",
         "legendgroup": "Pine Coulee Reservoir",
         "marker": {
          "color": "#FFA15A",
          "symbol": "circle"
         },
         "name": "Pine Coulee Reservoir",
         "showlegend": true,
         "type": "splom"
        },
        {
         "dimensions": [
          {
           "axis": {
            "matches": true
           },
           "label": "MC-LR_conc",
           "values": [
            0.94,
            0.11,
            0.47,
            0.29,
            0.21,
            0.23,
            0.4,
            0.63,
            0.48,
            0.41,
            0.23,
            0.49,
            0.1,
            0.196,
            0,
            0.1,
            0.18,
            0.17,
            0.39,
            3.31,
            0.11,
            8.29,
            0.18,
            6.47,
            8.36,
            0.398,
            1.51,
            5.25,
            15.84,
            1.35,
            0.24,
            9.8,
            0.1,
            0.16,
            0,
            0.1,
            0.11,
            0,
            0.13,
            0.2,
            0.22,
            0.12,
            0.14,
            0.24,
            0.19,
            0,
            0.13
           ]
          },
          {
           "axis": {
            "matches": true
           },
           "label": "Total_cyano_cell_count",
           "values": [
            97133,
            15533,
            7079,
            6439,
            2201,
            2956,
            134809,
            11700,
            77515,
            10441,
            16495,
            0,
            0,
            0,
            34556,
            241152,
            181773,
            79522,
            66094,
            13304,
            35358,
            204991,
            0,
            15279,
            41915,
            0,
            122639,
            117844,
            381461,
            36506,
            2801,
            272830,
            0,
            41923,
            15375,
            2471,
            0,
            0,
            866,
            12355,
            6610,
            0,
            77109,
            181061,
            1166985,
            8149,
            45831
           ]
          },
          {
           "axis": {
            "matches": true
           },
           "label": "Microcystis_mcyE",
           "values": [
            3575,
            5400,
            7850,
            355,
            192.25,
            397.5,
            7725,
            12625,
            510,
            6050,
            2650,
            815,
            0,
            0,
            0,
            0,
            1057.5,
            59.75,
            482.5,
            385,
            0,
            21675,
            243.5,
            29500,
            352500,
            141,
            2002.5,
            5750,
            3075000,
            1739.9999999999998,
            175.5,
            1195000,
            0,
            0,
            0,
            0,
            0,
            0,
            0,
            0,
            0,
            0,
            0,
            0,
            0,
            0,
            0
           ]
          },
          {
           "axis": {
            "matches": true
           },
           "label": "Anabaena_mcyE",
           "values": [
            0,
            208.25,
            0,
            0,
            0,
            0,
            0,
            0,
            0,
            0,
            0,
            0,
            0,
            0,
            0,
            0,
            0,
            0,
            0,
            0,
            0,
            0,
            0,
            0,
            0,
            0,
            0,
            0,
            0,
            0,
            0,
            0,
            0,
            0,
            0,
            0,
            0,
            0,
            0,
            0,
            0,
            0,
            0,
            0,
            0,
            0,
            0
           ]
          },
          {
           "axis": {
            "matches": true
           },
           "label": "Planktothrix_mcyE",
           "values": [
            0,
            0,
            0,
            0,
            0,
            0,
            0,
            0,
            0,
            0,
            0,
            0,
            0,
            0,
            0,
            0,
            0,
            0,
            0,
            0,
            0,
            0,
            0,
            0,
            0,
            0,
            0,
            0,
            0,
            0,
            0,
            0,
            0,
            365,
            0,
            132.75,
            0,
            150.75,
            275,
            1932.5,
            168.25,
            0,
            650,
            4325,
            1192.5,
            0,
            470
           ]
          }
         ],
         "hovertemplate": "Waterbody_name=Clear Lake<br>%{xaxis.title.text}=%{x}<br>%{yaxis.title.text}=%{y}<extra></extra>",
         "legendgroup": "Clear Lake",
         "marker": {
          "color": "#19d3f3",
          "symbol": "circle"
         },
         "name": "Clear Lake",
         "showlegend": true,
         "type": "splom"
        },
        {
         "dimensions": [
          {
           "axis": {
            "matches": true
           },
           "label": "MC-LR_conc",
           "values": [
            0,
            0,
            0.1,
            0,
            0,
            0,
            0.1,
            0,
            0.07,
            0,
            0,
            0.052,
            0.054,
            0.07,
            0.07,
            0.06,
            0.07,
            0,
            0.07,
            0.07,
            0.09,
            0.09,
            0.08,
            0,
            0,
            0,
            0.08,
            0.1,
            0,
            0,
            0,
            0,
            0,
            0,
            0.14,
            0,
            0,
            0,
            0
           ]
          },
          {
           "axis": {
            "matches": true
           },
           "label": "Total_cyano_cell_count",
           "values": [
            101986,
            0,
            0,
            0,
            0,
            0,
            1203,
            0,
            0,
            0,
            0,
            0,
            2852,
            10135,
            0,
            0,
            0,
            0,
            0,
            0,
            0,
            0,
            0,
            0,
            0,
            0,
            0,
            0,
            0,
            0,
            0,
            0,
            10780,
            3080,
            59749,
            0,
            0,
            308,
            0
           ]
          },
          {
           "axis": {
            "matches": true
           },
           "label": "Microcystis_mcyE",
           "values": [
            0,
            0,
            0,
            0,
            0,
            0,
            0,
            0,
            0,
            0,
            0,
            0,
            0,
            0,
            0,
            0,
            0,
            0,
            0,
            0,
            0,
            0,
            0,
            0,
            0,
            0,
            0,
            187.5,
            0,
            0,
            0,
            0,
            0,
            0,
            0,
            0,
            0,
            0,
            0
           ]
          },
          {
           "axis": {
            "matches": true
           },
           "label": "Anabaena_mcyE",
           "values": [
            0,
            0,
            0,
            0,
            0,
            0,
            0,
            0,
            0,
            0,
            0,
            0,
            0,
            0,
            0,
            0,
            0,
            0,
            0,
            0,
            0,
            0,
            0,
            0,
            0,
            0,
            0,
            0,
            0,
            0,
            0,
            0,
            0,
            0,
            0,
            0,
            0,
            0,
            0
           ]
          },
          {
           "axis": {
            "matches": true
           },
           "label": "Planktothrix_mcyE",
           "values": [
            0,
            0,
            0,
            0,
            0,
            0,
            0,
            0,
            0,
            0,
            0,
            0,
            0,
            0,
            0,
            0,
            0,
            0,
            0,
            0,
            0,
            0,
            0,
            0,
            0,
            0,
            0,
            0,
            0,
            0,
            0,
            0,
            0,
            0,
            0,
            0,
            0,
            0,
            0
           ]
          }
         ],
         "hovertemplate": "Waterbody_name=Enchant Municipal Lake<br>%{xaxis.title.text}=%{x}<br>%{yaxis.title.text}=%{y}<extra></extra>",
         "legendgroup": "Enchant Municipal Lake",
         "marker": {
          "color": "#FF6692",
          "symbol": "circle"
         },
         "name": "Enchant Municipal Lake",
         "showlegend": true,
         "type": "splom"
        },
        {
         "dimensions": [
          {
           "axis": {
            "matches": true
           },
           "label": "MC-LR_conc",
           "values": [
            0,
            0.1,
            0,
            0,
            0,
            0,
            0,
            0,
            0,
            0,
            0,
            0,
            0,
            0,
            0.28
           ]
          },
          {
           "axis": {
            "matches": true
           },
           "label": "Total_cyano_cell_count",
           "values": [
            40038,
            0,
            4743,
            0,
            0,
            0,
            678,
            0,
            1540,
            0,
            0,
            0,
            0,
            0,
            279654
           ]
          },
          {
           "axis": {
            "matches": true
           },
           "label": "Microcystis_mcyE",
           "values": [
            0,
            0,
            0,
            0,
            0,
            0,
            0,
            0,
            0,
            0,
            0,
            0,
            0,
            0,
            0
           ]
          },
          {
           "axis": {
            "matches": true
           },
           "label": "Anabaena_mcyE",
           "values": [
            0,
            0,
            0,
            0,
            0,
            0,
            0,
            0,
            0,
            0,
            0,
            0,
            0,
            0,
            133
           ]
          },
          {
           "axis": {
            "matches": true
           },
           "label": "Planktothrix_mcyE",
           "values": [
            0,
            0,
            0,
            0,
            0,
            0,
            0,
            0,
            0,
            0,
            0,
            0,
            0,
            0,
            0
           ]
          }
         ],
         "hovertemplate": "Waterbody_name=Chain Lakes Reservoir<br>%{xaxis.title.text}=%{x}<br>%{yaxis.title.text}=%{y}<extra></extra>",
         "legendgroup": "Chain Lakes Reservoir",
         "marker": {
          "color": "#B6E880",
          "symbol": "circle"
         },
         "name": "Chain Lakes Reservoir",
         "showlegend": true,
         "type": "splom"
        },
        {
         "dimensions": [
          {
           "axis": {
            "matches": true
           },
           "label": "MC-LR_conc",
           "values": [
            0.14,
            0.1,
            0,
            0.1,
            0.14,
            0,
            0,
            0.1,
            0,
            0,
            0,
            0,
            0,
            0,
            0,
            0.14,
            0.15,
            0.19,
            0.1,
            0,
            0,
            0,
            0,
            0,
            0,
            0,
            0,
            0.22,
            0,
            0,
            0.23,
            0,
            0,
            0,
            0.11,
            0.13,
            0.07,
            0.12,
            0.09,
            0,
            0,
            0,
            0,
            0,
            0,
            0,
            0,
            0,
            0,
            0,
            0,
            0,
            0,
            0.1,
            0,
            0,
            0.09,
            0.08,
            0.09,
            0.08,
            0.58,
            0,
            0,
            0.056,
            0.11,
            0,
            0,
            0,
            0.11,
            0,
            0,
            0,
            0.13,
            0.17,
            0.3,
            0,
            0.2,
            0.12
           ]
          },
          {
           "axis": {
            "matches": true
           },
           "label": "Total_cyano_cell_count",
           "values": [
            0,
            0,
            0,
            0,
            3005,
            0,
            0,
            0,
            260,
            22599,
            2180,
            0,
            6111,
            0,
            0,
            0,
            1884,
            480,
            0,
            0,
            0,
            0,
            49278,
            0,
            0,
            31,
            0,
            15941,
            0,
            0,
            3310,
            4330,
            0,
            6621,
            0,
            7036,
            46,
            5296,
            6926,
            0,
            0,
            0,
            764,
            0,
            1901,
            375,
            0,
            0,
            31,
            0,
            0,
            0,
            0,
            0,
            0,
            0,
            3769,
            59,
            0,
            2954,
            50471,
            29896,
            0,
            0,
            0,
            0,
            67757,
            0,
            0,
            0,
            75272,
            1047,
            0,
            0,
            0,
            0,
            0,
            587
           ]
          },
          {
           "axis": {
            "matches": true
           },
           "label": "Microcystis_mcyE",
           "values": [
            0,
            0,
            0,
            0,
            0,
            82,
            485,
            0,
            0,
            0,
            0,
            0,
            0,
            0,
            0,
            782.5,
            158,
            0,
            510,
            121.75,
            0,
            0,
            0,
            0,
            0,
            0,
            0,
            140.75,
            0,
            0,
            357.5,
            1952.5,
            85.5,
            70,
            0,
            198.75,
            0,
            52,
            0,
            0,
            0,
            0,
            0,
            0,
            0,
            180.75,
            0,
            0,
            0,
            0,
            0,
            0,
            0,
            0,
            0,
            0,
            0,
            57.75,
            0,
            72,
            0,
            0,
            367.5,
            0,
            0,
            70.25,
            0,
            0,
            0,
            0,
            0,
            0,
            552.5,
            567.5,
            100.75,
            0,
            1802.5,
            0
           ]
          },
          {
           "axis": {
            "matches": true
           },
           "label": "Anabaena_mcyE",
           "values": [
            0,
            0,
            0,
            0,
            0,
            0,
            0,
            0,
            985,
            667.5,
            295,
            0,
            832.4999999999999,
            0,
            65,
            1310,
            0,
            0,
            0,
            0,
            0,
            0,
            0,
            0,
            0,
            605,
            0,
            0,
            0,
            300,
            0,
            0,
            213,
            905,
            1567.5,
            1310,
            537.5,
            0,
            109.5,
            162.75,
            0,
            0,
            59.25,
            0,
            212.5,
            0,
            0,
            0,
            100.25,
            0,
            0,
            0,
            0,
            0,
            0,
            0,
            0,
            0,
            0,
            402.50000000000006,
            0,
            0,
            0,
            0,
            887.5,
            345,
            0,
            0,
            0,
            0,
            0,
            0,
            0,
            0,
            0,
            0,
            0,
            815
           ]
          },
          {
           "axis": {
            "matches": true
           },
           "label": "Planktothrix_mcyE",
           "values": [
            0,
            0,
            0,
            0,
            0,
            0,
            0,
            0,
            0,
            0,
            0,
            0,
            0,
            0,
            0,
            0,
            0,
            0,
            0,
            0,
            0,
            0,
            0,
            0,
            0,
            0,
            0,
            0,
            0,
            0,
            0,
            0,
            0,
            0,
            0,
            0,
            0,
            0,
            0,
            0,
            0,
            0,
            0,
            0,
            0,
            0,
            0,
            0,
            0,
            0,
            0,
            0,
            0,
            0,
            0,
            0,
            0,
            0,
            0,
            0,
            0,
            0,
            0,
            0,
            0,
            0,
            0,
            0,
            0,
            0,
            0,
            0,
            0,
            0,
            0,
            0,
            0,
            0
           ]
          }
         ],
         "hovertemplate": "Waterbody_name=Travers Reservoir<br>%{xaxis.title.text}=%{x}<br>%{yaxis.title.text}=%{y}<extra></extra>",
         "legendgroup": "Travers Reservoir",
         "marker": {
          "color": "#FF97FF",
          "symbol": "circle"
         },
         "name": "Travers Reservoir",
         "showlegend": true,
         "type": "splom"
        },
        {
         "dimensions": [
          {
           "axis": {
            "matches": true
           },
           "label": "MC-LR_conc",
           "values": [
            0.7,
            0.1,
            0.14,
            0.15,
            0.25,
            3.11,
            3.88,
            2.09,
            1.76,
            0.19,
            0.09,
            0.062,
            120.06,
            7.1,
            7.61,
            3.41,
            17.69,
            0.37,
            0.31,
            0.18,
            0.09,
            0.07,
            0.069,
            3.95,
            1.82,
            0.16,
            0,
            0,
            0,
            0,
            0,
            0
           ]
          },
          {
           "axis": {
            "matches": true
           },
           "label": "Total_cyano_cell_count",
           "values": [
            23224,
            1514,
            7868,
            15839,
            10417,
            166373,
            71063,
            238162,
            235916,
            65484,
            2801,
            0,
            1354214,
            527120,
            23810,
            32341,
            132162,
            0,
            0,
            48638,
            0,
            0,
            27807,
            136370,
            51360,
            1848,
            32709,
            1540,
            585789,
            0,
            46814,
            0
           ]
          },
          {
           "axis": {
            "matches": true
           },
           "label": "Microcystis_mcyE",
           "values": [
            67,
            177,
            6125,
            1850,
            220.75,
            180500,
            46750,
            66500,
            12725,
            1372.5,
            0,
            0,
            2015000,
            8550,
            79500,
            25750,
            505000,
            0,
            280,
            290,
            0,
            0,
            0,
            140000,
            77750,
            197.25,
            0,
            0,
            0,
            0,
            0,
            0
           ]
          },
          {
           "axis": {
            "matches": true
           },
           "label": "Anabaena_mcyE",
           "values": [
            0,
            0,
            0,
            0,
            0,
            0,
            0,
            0,
            0,
            96.5,
            0,
            0,
            0,
            0,
            0,
            0,
            0,
            0,
            0,
            0,
            0,
            0,
            0,
            0,
            0,
            172.5,
            86.5,
            0,
            0,
            0,
            0,
            0
           ]
          },
          {
           "axis": {
            "matches": true
           },
           "label": "Planktothrix_mcyE",
           "values": [
            0,
            0,
            0,
            0,
            0,
            0,
            0,
            0,
            0,
            0,
            0,
            0,
            0,
            0,
            0,
            0,
            0,
            0,
            0,
            0,
            0,
            0,
            0,
            0,
            0,
            0,
            0,
            0,
            0,
            0,
            0,
            0
           ]
          }
         ],
         "hovertemplate": "Waterbody_name=Twin Valley Reservoir<br>%{xaxis.title.text}=%{x}<br>%{yaxis.title.text}=%{y}<extra></extra>",
         "legendgroup": "Twin Valley Reservoir",
         "marker": {
          "color": "#FECB52",
          "symbol": "circle"
         },
         "name": "Twin Valley Reservoir",
         "showlegend": true,
         "type": "splom"
        },
        {
         "dimensions": [
          {
           "axis": {
            "matches": true
           },
           "label": "MC-LR_conc",
           "values": [
            0.05,
            0.1,
            0.08,
            0,
            0.1,
            0,
            0,
            0.13,
            0.19,
            0.19,
            0,
            0,
            0.11,
            0.07,
            0.1,
            0.08,
            0,
            0.08,
            0.11,
            0.11,
            0,
            0,
            0,
            0,
            0.1,
            0,
            0.12,
            0.16,
            0.15,
            0.18,
            0.12
           ]
          },
          {
           "axis": {
            "matches": true
           },
           "label": "Total_cyano_cell_count",
           "values": [
            0,
            379316,
            0,
            11204,
            25465,
            0,
            34953,
            1833460,
            193743,
            106,
            0,
            105706,
            52840,
            0,
            0,
            0,
            407436,
            0,
            223935,
            0,
            0,
            0,
            123810,
            0,
            190951,
            0,
            542055,
            493,
            354492,
            32339,
            0
           ]
          },
          {
           "axis": {
            "matches": true
           },
           "label": "Microcystis_mcyE",
           "values": [
            0,
            62,
            0,
            0,
            0,
            0,
            0,
            0,
            178.25,
            0,
            0,
            0,
            0,
            0,
            192.25,
            0,
            0,
            0,
            0,
            0,
            0,
            0,
            0,
            0,
            0,
            0,
            154,
            0,
            1280,
            517.5,
            58.5
           ]
          },
          {
           "axis": {
            "matches": true
           },
           "label": "Anabaena_mcyE",
           "values": [
            0,
            0,
            0,
            0,
            0,
            0,
            0,
            0,
            0,
            0,
            0,
            0,
            0,
            0,
            0,
            0,
            0,
            0,
            0,
            0,
            0,
            0,
            0,
            0,
            0,
            0,
            0,
            0,
            0,
            0,
            0
           ]
          },
          {
           "axis": {
            "matches": true
           },
           "label": "Planktothrix_mcyE",
           "values": [
            0,
            0,
            0,
            0,
            0,
            0,
            0,
            0,
            0,
            0,
            0,
            0,
            0,
            0,
            0,
            0,
            0,
            0,
            0,
            0,
            0,
            0,
            0,
            0,
            0,
            0,
            0,
            0,
            0,
            0,
            0
           ]
          }
         ],
         "hovertemplate": "Waterbody_name=Lake McGregor<br>%{xaxis.title.text}=%{x}<br>%{yaxis.title.text}=%{y}<extra></extra>",
         "legendgroup": "Lake McGregor",
         "marker": {
          "color": "#636efa",
          "symbol": "circle"
         },
         "name": "Lake McGregor",
         "showlegend": true,
         "type": "splom"
        },
        {
         "dimensions": [
          {
           "axis": {
            "matches": true
           },
           "label": "MC-LR_conc",
           "values": [
            0,
            0,
            0.12,
            0.11,
            0.11,
            0.1,
            0,
            0,
            0,
            0,
            0.1,
            0
           ]
          },
          {
           "axis": {
            "matches": true
           },
           "label": "Total_cyano_cell_count",
           "values": [
            0,
            0,
            0,
            0,
            0,
            30799,
            0,
            0,
            0,
            0,
            0,
            25871
           ]
          },
          {
           "axis": {
            "matches": true
           },
           "label": "Microcystis_mcyE",
           "values": [
            0,
            0,
            0,
            0,
            0,
            0,
            0,
            0,
            0,
            0,
            0,
            0
           ]
          },
          {
           "axis": {
            "matches": true
           },
           "label": "Anabaena_mcyE",
           "values": [
            0,
            0,
            0,
            0,
            0,
            0,
            0,
            0,
            0,
            0,
            0,
            0
           ]
          },
          {
           "axis": {
            "matches": true
           },
           "label": "Planktothrix_mcyE",
           "values": [
            0,
            0,
            0,
            0,
            0,
            0,
            0,
            0,
            0,
            0,
            0,
            0
           ]
          }
         ],
         "hovertemplate": "Waterbody_name=Auburn Bay<br>%{xaxis.title.text}=%{x}<br>%{yaxis.title.text}=%{y}<extra></extra>",
         "legendgroup": "Auburn Bay",
         "marker": {
          "color": "#EF553B",
          "symbol": "circle"
         },
         "name": "Auburn Bay",
         "showlegend": true,
         "type": "splom"
        },
        {
         "dimensions": [
          {
           "axis": {
            "matches": true
           },
           "label": "MC-LR_conc",
           "values": [
            0
           ]
          },
          {
           "axis": {
            "matches": true
           },
           "label": "Total_cyano_cell_count",
           "values": [
            0
           ]
          },
          {
           "axis": {
            "matches": true
           },
           "label": "Microcystis_mcyE",
           "values": [
            74.75
           ]
          },
          {
           "axis": {
            "matches": true
           },
           "label": "Anabaena_mcyE",
           "values": [
            0
           ]
          },
          {
           "axis": {
            "matches": true
           },
           "label": "Planktothrix_mcyE",
           "values": [
            0
           ]
          }
         ],
         "hovertemplate": "Waterbody_name=Sikome Lake<br>%{xaxis.title.text}=%{x}<br>%{yaxis.title.text}=%{y}<extra></extra>",
         "legendgroup": "Sikome Lake",
         "marker": {
          "color": "#00cc96",
          "symbol": "circle"
         },
         "name": "Sikome Lake",
         "showlegend": true,
         "type": "splom"
        },
        {
         "dimensions": [
          {
           "axis": {
            "matches": true
           },
           "label": "MC-LR_conc",
           "values": [
            0,
            0,
            0,
            0,
            0,
            0,
            0.17,
            0.11,
            0,
            0,
            0,
            0.14,
            0,
            0,
            0.06,
            0.06,
            0.11,
            0.13,
            0.51,
            0.07,
            0,
            3.6,
            1.47,
            0.18,
            0.06,
            0.2,
            0.05,
            0.1,
            0.05,
            0.07,
            0,
            0.06,
            0.06,
            0.08,
            0.41,
            0.37,
            0.08,
            0.11
           ]
          },
          {
           "axis": {
            "matches": true
           },
           "label": "Total_cyano_cell_count",
           "values": [
            8251,
            0,
            0,
            1401,
            0,
            0,
            4681,
            0,
            0,
            24731,
            2464,
            4065,
            0,
            0,
            0,
            0,
            7884,
            0,
            0,
            4431,
            1222,
            63445,
            0,
            10410,
            0,
            3080,
            1783,
            3950,
            6977,
            37790,
            27502,
            4787,
            1273,
            0,
            0,
            0,
            31576,
            0
           ]
          },
          {
           "axis": {
            "matches": true
           },
           "label": "Microcystis_mcyE",
           "values": [
            0,
            0,
            0,
            0,
            0,
            0,
            167,
            0,
            0,
            150.5,
            0,
            0,
            0,
            0,
            0,
            0,
            0,
            0,
            94.5,
            0,
            0,
            35500,
            44750,
            99.75,
            0,
            592.5,
            0,
            0,
            0,
            0,
            0,
            0,
            0,
            0,
            535,
            380,
            0,
            0
           ]
          },
          {
           "axis": {
            "matches": true
           },
           "label": "Anabaena_mcyE",
           "values": [
            0,
            0,
            0,
            0,
            0,
            0,
            0,
            0,
            0,
            0,
            0,
            0,
            0,
            0,
            0,
            0,
            0,
            0,
            0,
            0,
            0,
            0,
            0,
            0,
            0,
            0,
            0,
            0,
            0,
            0,
            0,
            0,
            0,
            0,
            0,
            0,
            0,
            0
           ]
          },
          {
           "axis": {
            "matches": true
           },
           "label": "Planktothrix_mcyE",
           "values": [
            0,
            0,
            0,
            0,
            0,
            0,
            0,
            0,
            0,
            0,
            0,
            0,
            0,
            0,
            0,
            0,
            0,
            0,
            0,
            0,
            0,
            0,
            0,
            0,
            0,
            0,
            0,
            0,
            0,
            0,
            0,
            0,
            0,
            0,
            0,
            0,
            0,
            0
           ]
          }
         ],
         "hovertemplate": "Waterbody_name=Oasis Lake<br>%{xaxis.title.text}=%{x}<br>%{yaxis.title.text}=%{y}<extra></extra>",
         "legendgroup": "Oasis Lake",
         "marker": {
          "color": "#ab63fa",
          "symbol": "circle"
         },
         "name": "Oasis Lake",
         "showlegend": true,
         "type": "splom"
        },
        {
         "dimensions": [
          {
           "axis": {
            "matches": true
           },
           "label": "MC-LR_conc",
           "values": [
            7.85,
            0.24,
            3.12,
            12.47,
            3.87,
            0.26,
            3.8,
            0.29,
            0.26,
            78.66,
            53.63,
            98.95,
            9.95,
            56.04,
            0.38,
            29.2,
            1.07,
            0.25,
            0.33,
            0.43,
            2.77,
            0.225,
            0.347,
            0.267
           ]
          },
          {
           "axis": {
            "matches": true
           },
           "label": "Total_cyano_cell_count",
           "values": [
            1950597,
            231792,
            269926,
            66514,
            35142,
            115204,
            141915,
            10166,
            51153,
            366185,
            627559,
            1240769,
            821083,
            3338681,
            37484,
            213624,
            36567,
            8352,
            72957,
            185128,
            443595,
            18029,
            8913,
            18589
           ]
          },
          {
           "axis": {
            "matches": true
           },
           "label": "Microcystis_mcyE",
           "values": [
            68500,
            482.5,
            987.5,
            140000,
            3100,
            470,
            5600,
            4375,
            1620,
            1040000,
            219500,
            395000,
            4100,
            165750,
            8825,
            435000,
            722.5,
            262.5,
            0,
            260,
            1225,
            510,
            130.5,
            1470
           ]
          },
          {
           "axis": {
            "matches": true
           },
           "label": "Anabaena_mcyE",
           "values": [
            0,
            0,
            0,
            0,
            0,
            0,
            0,
            244,
            0,
            0,
            0,
            0,
            0,
            0,
            0,
            0,
            0,
            0,
            0,
            0,
            0,
            0,
            0,
            0
           ]
          },
          {
           "axis": {
            "matches": true
           },
           "label": "Planktothrix_mcyE",
           "values": [
            0,
            0,
            0,
            0,
            0,
            0,
            0,
            0,
            0,
            0,
            0,
            0,
            0,
            0,
            0,
            0,
            0,
            0,
            0,
            0,
            0,
            0,
            0,
            0
           ]
          }
         ],
         "hovertemplate": "Waterbody_name=Eagle Lake<br>%{xaxis.title.text}=%{x}<br>%{yaxis.title.text}=%{y}<extra></extra>",
         "legendgroup": "Eagle Lake",
         "marker": {
          "color": "#FFA15A",
          "symbol": "circle"
         },
         "name": "Eagle Lake",
         "showlegend": true,
         "type": "splom"
        },
        {
         "dimensions": [
          {
           "axis": {
            "matches": true
           },
           "label": "MC-LR_conc",
           "values": [
            0.09,
            0.06,
            0.06,
            0.06,
            0.07,
            0,
            0.07,
            0,
            0.09,
            0.07,
            0.11,
            0.06,
            0.09,
            0.24,
            0,
            0,
            0.24,
            0.21,
            0.1,
            0.1,
            0,
            0,
            0,
            0.15,
            0.1,
            0,
            0,
            0,
            0.11,
            0,
            0,
            0
           ]
          },
          {
           "axis": {
            "matches": true
           },
           "label": "Total_cyano_cell_count",
           "values": [
            0,
            0,
            0,
            0,
            0,
            0,
            0,
            0,
            0,
            0,
            0,
            0,
            1910,
            317,
            0,
            0,
            0,
            0,
            0,
            0,
            0,
            0,
            0,
            0,
            0,
            0,
            0,
            0,
            3080,
            0,
            0,
            5975
           ]
          },
          {
           "axis": {
            "matches": true
           },
           "label": "Microcystis_mcyE",
           "values": [
            83.5,
            0,
            0,
            0,
            0,
            0,
            0,
            0,
            0,
            0,
            0,
            0,
            0,
            0,
            0,
            0,
            205,
            0,
            0,
            0,
            0,
            0,
            0,
            0,
            0,
            0,
            0,
            0,
            0,
            0,
            0,
            0
           ]
          },
          {
           "axis": {
            "matches": true
           },
           "label": "Anabaena_mcyE",
           "values": [
            0,
            0,
            0,
            0,
            0,
            0,
            0,
            0,
            0,
            0,
            0,
            0,
            0,
            0,
            0,
            0,
            0,
            0,
            0,
            0,
            0,
            0,
            0,
            0,
            0,
            0,
            0,
            0,
            0,
            0,
            0,
            0
           ]
          },
          {
           "axis": {
            "matches": true
           },
           "label": "Planktothrix_mcyE",
           "values": [
            0,
            0,
            0,
            0,
            0,
            0,
            0,
            0,
            0,
            0,
            0,
            0,
            0,
            0,
            0,
            0,
            425,
            0,
            0,
            0,
            0,
            0,
            0,
            0,
            0,
            0,
            0,
            0,
            0,
            0,
            0,
            0
           ]
          }
         ],
         "hovertemplate": "Waterbody_name=Chestermere Lake<br>%{xaxis.title.text}=%{x}<br>%{yaxis.title.text}=%{y}<extra></extra>",
         "legendgroup": "Chestermere Lake",
         "marker": {
          "color": "#19d3f3",
          "symbol": "circle"
         },
         "name": "Chestermere Lake",
         "showlegend": true,
         "type": "splom"
        },
        {
         "dimensions": [
          {
           "axis": {
            "matches": true
           },
           "label": "MC-LR_conc",
           "values": [
            3.29,
            3.66,
            0.31,
            4.01,
            5.03,
            0.42,
            0.23,
            0.4,
            4.56,
            4.87,
            3.9,
            1.91,
            0.085,
            0.13,
            0.25,
            3.83,
            0.37,
            0.39,
            0.32,
            0.65,
            1.24,
            0.45,
            0.16
           ]
          },
          {
           "axis": {
            "matches": true
           },
           "label": "Total_cyano_cell_count",
           "values": [
            326457,
            293800,
            13190,
            457245,
            65444,
            31140,
            3922,
            157881,
            976694,
            122995,
            223451,
            273746,
            44258,
            34632,
            312961,
            695697,
            163432,
            79068,
            278713,
            155895,
            198218,
            451643,
            23631
           ]
          },
          {
           "axis": {
            "matches": true
           },
           "label": "Microcystis_mcyE",
           "values": [
            18850,
            49750,
            815,
            127250,
            11100,
            2825,
            4000,
            1707.5,
            85750,
            179000,
            51500,
            9625,
            53,
            0,
            0,
            0,
            1585,
            154,
            367.5,
            632.5,
            395,
            525,
            0
           ]
          },
          {
           "axis": {
            "matches": true
           },
           "label": "Anabaena_mcyE",
           "values": [
            0,
            0,
            0,
            532.5,
            0,
            0,
            0,
            180500,
            0,
            0,
            0,
            0,
            0,
            0,
            1447.5,
            13750,
            0,
            0,
            0,
            0,
            0,
            66,
            74.75
           ]
          },
          {
           "axis": {
            "matches": true
           },
           "label": "Planktothrix_mcyE",
           "values": [
            0,
            0,
            0,
            0,
            0,
            0,
            0,
            0,
            0,
            0,
            0,
            0,
            0,
            0,
            0,
            0,
            0,
            0,
            0,
            0,
            0,
            0,
            0
           ]
          }
         ],
         "hovertemplate": "Waterbody_name=Severn Creek Reservoir<br>%{xaxis.title.text}=%{x}<br>%{yaxis.title.text}=%{y}<extra></extra>",
         "legendgroup": "Severn Creek Reservoir",
         "marker": {
          "color": "#FF6692",
          "symbol": "circle"
         },
         "name": "Severn Creek Reservoir",
         "showlegend": true,
         "type": "splom"
        },
        {
         "dimensions": [
          {
           "axis": {
            "matches": true
           },
           "label": "MC-LR_conc",
           "values": [
            0.17,
            0.11,
            0.14,
            2.83,
            3.18,
            6.58,
            6.26,
            2.47,
            0.45,
            0.23,
            3.99,
            0.22,
            0.79,
            4.72,
            1.54,
            3.89,
            1.38,
            3.13,
            4.75,
            0.34,
            0.6,
            9.5,
            3.66,
            0.13,
            0,
            5.57,
            1.06,
            0.68,
            0.077,
            0.29,
            0.39,
            0.14,
            0.23,
            0.22,
            0.17,
            0.18,
            0.054,
            0.6,
            0.33,
            0.1,
            0.12,
            0.058,
            0.079,
            0.104,
            0.09,
            0.11,
            0.18,
            0.18,
            0.74,
            0.34,
            1.35,
            0.24,
            0.25,
            0.21,
            2.63,
            0.34,
            0.16,
            1.34,
            1.64,
            1.05,
            2.75,
            1.84,
            2.23,
            3.45,
            0.39,
            1.67,
            0.93,
            5.13,
            2.5,
            3.89,
            2.34,
            6.76,
            1.23,
            0.29
           ]
          },
          {
           "axis": {
            "matches": true
           },
           "label": "Total_cyano_cell_count",
           "values": [
            1604977,
            28062,
            312606,
            26487,
            84194,
            1873636,
            349918,
            422309,
            16385,
            53700,
            787702,
            936894,
            32468,
            101794,
            79940,
            264464,
            181998,
            22889,
            197979,
            9422,
            51184,
            441160,
            233525,
            71760,
            8000,
            81996,
            167303,
            125923,
            38197,
            89891,
            132417,
            78189,
            55004,
            183805,
            291825,
            180545,
            47,
            161217,
            6492,
            164403,
            1540,
            433,
            0,
            5908,
            0,
            27808,
            313115,
            278532,
            466158,
            35067,
            179043,
            108719,
            88515,
            25923,
            370297,
            3820,
            968,
            101663,
            22740,
            83777,
            45874,
            96206,
            138936,
            105792,
            11254,
            108099,
            66895,
            632356,
            336683,
            422469,
            59811,
            207288,
            66946,
            55868
           ]
          },
          {
           "axis": {
            "matches": true
           },
           "label": "Microcystis_mcyE",
           "values": [
            322.5,
            0,
            0,
            59250,
            49750,
            22275,
            37250,
            8775,
            4925,
            295,
            26250,
            3200,
            30000,
            75500,
            97000,
            140000,
            53000,
            53250,
            92250,
            1305,
            2650,
            405000,
            132500,
            0,
            0,
            17550,
            842.5000000000001,
            455,
            0,
            507.5,
            827.5,
            715,
            163,
            218.75,
            147,
            0,
            0,
            505,
            2037.5,
            0,
            0,
            0,
            0,
            0,
            0,
            0,
            0,
            0,
            217.75000000000003,
            580,
            937.5,
            0,
            325,
            422.5,
            51000,
            174,
            0,
            41000,
            59000,
            65000,
            71750,
            69500,
            85250,
            113000,
            392.5,
            12875,
            14650,
            19600,
            24650,
            24950,
            29250,
            230250,
            24675,
            732.5
           ]
          },
          {
           "axis": {
            "matches": true
           },
           "label": "Anabaena_mcyE",
           "values": [
            0,
            0,
            0,
            0,
            0,
            0,
            0,
            0,
            0,
            0,
            0,
            0,
            0,
            0,
            0,
            0,
            0,
            0,
            0,
            0,
            0,
            0,
            0,
            0,
            0,
            0,
            0,
            0,
            0,
            0,
            0,
            0,
            0,
            0,
            0,
            0,
            0,
            0,
            0,
            0,
            0,
            0,
            0,
            0,
            0,
            0,
            0,
            0,
            0,
            0,
            0,
            0,
            0,
            0,
            0,
            0,
            0,
            0,
            0,
            0,
            0,
            0,
            0,
            0,
            0,
            0,
            0,
            0,
            0,
            0,
            0,
            0,
            0,
            0
           ]
          },
          {
           "axis": {
            "matches": true
           },
           "label": "Planktothrix_mcyE",
           "values": [
            0,
            0,
            0,
            0,
            0,
            0,
            0,
            0,
            0,
            0,
            0,
            0,
            0,
            0,
            0,
            0,
            0,
            0,
            0,
            0,
            0,
            0,
            0,
            0,
            0,
            0,
            0,
            0,
            0,
            0,
            0,
            0,
            0,
            0,
            0,
            0,
            0,
            0,
            0,
            0,
            0,
            0,
            0,
            0,
            0,
            0,
            0,
            0,
            0,
            0,
            0,
            0,
            0,
            0,
            0,
            0,
            0,
            0,
            0,
            0,
            0,
            0,
            0,
            0,
            0,
            0,
            0,
            0,
            0,
            0,
            0,
            0,
            0,
            0
           ]
          }
         ],
         "hovertemplate": "Waterbody_name=Pine Lake<br>%{xaxis.title.text}=%{x}<br>%{yaxis.title.text}=%{y}<extra></extra>",
         "legendgroup": "Pine Lake",
         "marker": {
          "color": "#B6E880",
          "symbol": "circle"
         },
         "name": "Pine Lake",
         "showlegend": true,
         "type": "splom"
        },
        {
         "dimensions": [
          {
           "axis": {
            "matches": true
           },
           "label": "MC-LR_conc",
           "values": [
            0,
            0.1,
            0,
            0.1,
            0,
            0,
            0,
            0.1,
            0.11,
            0.1,
            0,
            0,
            0,
            0.1,
            0.12,
            0.1,
            0.1,
            0,
            0.11,
            0.09,
            0.09,
            0.13,
            0.09,
            0.07,
            0.06,
            0.08,
            0.11,
            0.12,
            0.13,
            0.11,
            0,
            0,
            0,
            0.1,
            0.11,
            0.1,
            0.11,
            0,
            0,
            0.1,
            0,
            0.1,
            0.1,
            0.07,
            0.07,
            0.09,
            0.1,
            0,
            0.1,
            0.06,
            0.08,
            0.11,
            0.06,
            0.11
           ]
          },
          {
           "axis": {
            "matches": true
           },
           "label": "Total_cyano_cell_count",
           "values": [
            26484,
            70703,
            105958,
            368501,
            869726,
            104903,
            14616,
            12987,
            22450,
            399992,
            346238,
            2563078,
            494934,
            1246,
            579630,
            136499,
            362501,
            41578,
            203024,
            15126,
            51031,
            203888,
            0,
            74587,
            0,
            63662,
            72007,
            118082,
            29,
            9016,
            123503,
            107488,
            22738,
            471220,
            43118,
            148078,
            86580,
            455256,
            189817,
            4055,
            52167,
            2598,
            49631,
            0,
            2615,
            342793,
            136393,
            27909,
            18589,
            25677,
            21238,
            49506,
            104405,
            463330
           ]
          },
          {
           "axis": {
            "matches": true
           },
           "label": "Microcystis_mcyE",
           "values": [
            497.5,
            0,
            102.75,
            60.75000000000001,
            357.5,
            0,
            0,
            1955,
            310,
            415.00000000000006,
            0,
            282.5,
            0,
            125.5,
            315,
            0,
            0,
            0,
            71,
            0,
            0,
            203.75,
            0,
            0,
            59,
            0,
            0,
            62.5,
            0,
            69.25,
            0,
            0,
            0,
            0,
            0,
            0,
            642.5,
            0,
            0,
            55.75,
            1082.5,
            0,
            59.5,
            0,
            0,
            0,
            166.75,
            0,
            0,
            0,
            0,
            136.25,
            0,
            0
           ]
          },
          {
           "axis": {
            "matches": true
           },
           "label": "Anabaena_mcyE",
           "values": [
            0,
            0,
            0,
            0,
            0,
            0,
            0,
            0,
            0,
            0,
            0,
            0,
            0,
            0,
            0,
            0,
            0,
            0,
            0,
            0,
            0,
            0,
            0,
            0,
            0,
            0,
            0,
            0,
            0,
            0,
            0,
            0,
            0,
            0,
            0,
            0,
            0,
            0,
            0,
            0,
            0,
            0,
            0,
            0,
            0,
            0,
            0,
            0,
            0,
            0,
            0,
            0,
            0,
            0
           ]
          },
          {
           "axis": {
            "matches": true
           },
           "label": "Planktothrix_mcyE",
           "values": [
            0,
            0,
            0,
            0,
            0,
            0,
            0,
            0,
            0,
            0,
            0,
            0,
            0,
            0,
            0,
            0,
            0,
            0,
            0,
            0,
            0,
            0,
            0,
            0,
            0,
            0,
            0,
            0,
            0,
            0,
            0,
            0,
            0,
            0,
            0,
            0,
            0,
            0,
            0,
            0,
            0,
            0,
            0,
            0,
            0,
            0,
            0,
            0,
            0,
            0,
            0,
            0,
            0,
            0
           ]
          }
         ],
         "hovertemplate": "Waterbody_name=Sylvan Lake<br>%{xaxis.title.text}=%{x}<br>%{yaxis.title.text}=%{y}<extra></extra>",
         "legendgroup": "Sylvan Lake",
         "marker": {
          "color": "#FF97FF",
          "symbol": "circle"
         },
         "name": "Sylvan Lake",
         "showlegend": true,
         "type": "splom"
        },
        {
         "dimensions": [
          {
           "axis": {
            "matches": true
           },
           "label": "MC-LR_conc",
           "values": [
            0.2,
            0.21,
            0.22,
            0.19,
            0.16,
            0.13,
            0.112,
            0.169,
            0.14,
            0.19,
            0.24,
            0.17,
            0.16,
            0.21,
            0.17,
            0.18,
            0.22,
            0.2,
            0.11,
            0.14,
            0.13,
            0.24,
            0.23,
            0.21,
            0.21,
            0.2,
            0.2,
            0.21,
            0.17,
            0.18,
            0.17,
            0.15,
            0.13,
            0.24,
            0.19,
            0.24,
            0.17,
            0.21,
            0.17,
            0.16,
            0.14,
            0.23,
            0.2,
            0.2,
            0.35,
            0.22,
            0.22,
            0.2,
            0.15,
            0.21,
            0.21,
            0.103,
            0.14,
            0.141,
            0.19,
            0.19,
            0.16,
            0.16,
            0.15,
            0.14,
            0.15,
            0.12,
            0.14,
            0.14,
            0.2,
            0.17,
            0.14,
            0.13,
            0.15,
            0.18,
            0.17,
            0.17,
            0.18,
            0.22,
            0.15
           ]
          },
          {
           "axis": {
            "matches": true
           },
           "label": "Total_cyano_cell_count",
           "values": [
            144354,
            150395,
            37636,
            90548,
            30860,
            14353,
            254900,
            158135,
            154928,
            399897,
            68373,
            143521,
            562108,
            483831,
            365932,
            44843,
            50012,
            93936,
            15981,
            122180,
            28674,
            97581,
            617163,
            842553,
            1077182,
            7849333,
            241022,
            0,
            244422,
            160313,
            67395,
            4999,
            0,
            157689,
            120115,
            188364,
            13552,
            111430,
            241338,
            35418,
            75764,
            134221,
            238935,
            214370,
            30799,
            58250,
            317472,
            17463,
            83269,
            10780,
            131202,
            32850,
            11103,
            83524,
            161956,
            451797,
            200355,
            190019,
            149330,
            217341,
            175681,
            18080,
            104565,
            11349,
            375347,
            425835,
            696411,
            1063709,
            210630,
            183406,
            479721,
            2293,
            96328,
            94887,
            9066
           ]
          },
          {
           "axis": {
            "matches": true
           },
           "label": "Microcystis_mcyE",
           "values": [
            0,
            242,
            171.75,
            0,
            0,
            0,
            223.25,
            350,
            397.5,
            0,
            163.75,
            405,
            0,
            162.75,
            81.25,
            0,
            70.25,
            0,
            0,
            420,
            172.25,
            131,
            1127.5,
            168.5,
            677.5,
            1315,
            1097.5,
            5450,
            470,
            602.5,
            1745,
            53.25,
            222.00000000000003,
            0,
            0,
            0,
            133.25,
            0,
            397.5,
            0,
            437.5,
            0,
            0,
            0,
            0,
            97.75,
            0,
            0,
            0,
            0,
            0,
            0,
            875,
            342.5,
            0,
            0,
            0,
            0,
            0,
            0,
            0,
            0,
            877.5,
            0,
            62.25000000000001,
            0,
            80.25,
            137.5,
            136,
            213,
            243.5,
            0,
            1497.5,
            205.50000000000003,
            0
           ]
          },
          {
           "axis": {
            "matches": true
           },
           "label": "Anabaena_mcyE",
           "values": [
            0,
            0,
            0,
            0,
            0,
            0,
            0,
            0,
            0,
            0,
            0,
            0,
            0,
            0,
            0,
            0,
            0,
            0,
            0,
            0,
            0,
            0,
            0,
            0,
            0,
            0,
            0,
            0,
            0,
            0,
            0,
            0,
            0,
            0,
            0,
            0,
            0,
            0,
            0,
            0,
            0,
            0,
            0,
            0,
            0,
            0,
            0,
            0,
            0,
            0,
            0,
            0,
            0,
            0,
            0,
            0,
            0,
            0,
            0,
            0,
            0,
            0,
            0,
            0,
            0,
            0,
            0,
            0,
            0,
            0,
            0,
            0,
            0,
            0,
            0
           ]
          },
          {
           "axis": {
            "matches": true
           },
           "label": "Planktothrix_mcyE",
           "values": [
            0,
            0,
            0,
            0,
            0,
            0,
            0,
            0,
            0,
            0,
            0,
            0,
            0,
            0,
            0,
            0,
            0,
            0,
            0,
            0,
            0,
            0,
            0,
            0,
            0,
            0,
            0,
            0,
            0,
            0,
            0,
            0,
            0,
            0,
            0,
            0,
            0,
            0,
            0,
            0,
            0,
            0,
            0,
            0,
            0,
            0,
            0,
            0,
            0,
            0,
            0,
            0,
            0,
            0,
            0,
            0,
            0,
            0,
            0,
            0,
            0,
            0,
            0,
            0,
            0,
            0,
            0,
            0,
            0,
            0,
            0,
            0,
            0,
            0,
            0
           ]
          }
         ],
         "hovertemplate": "Waterbody_name=Gull Lake<br>%{xaxis.title.text}=%{x}<br>%{yaxis.title.text}=%{y}<extra></extra>",
         "legendgroup": "Gull Lake",
         "marker": {
          "color": "#FECB52",
          "symbol": "circle"
         },
         "name": "Gull Lake",
         "showlegend": true,
         "type": "splom"
        },
        {
         "dimensions": [
          {
           "axis": {
            "matches": true
           },
           "label": "MC-LR_conc",
           "values": [
            0.43,
            4.03,
            0.1,
            0,
            0,
            0,
            0.12,
            0.65,
            0.37,
            0.09,
            3.85,
            0,
            4.84,
            0.08,
            0.06,
            0.06,
            0.2,
            0.06,
            0.09,
            0.05,
            0.1,
            0.14,
            0.075,
            8.17,
            14.92,
            5.64,
            0.06,
            0.15,
            7.06,
            7.95,
            0.076,
            0.15,
            13.26,
            0.11,
            0.07,
            0,
            0,
            0,
            0,
            0.12,
            0,
            0.46,
            0.43,
            0.2,
            2.39,
            8.49,
            0.05,
            0.06,
            0,
            0,
            0.13,
            0.46,
            0,
            0,
            0,
            0,
            0.14,
            0.06,
            0,
            0,
            0,
            0.15,
            0,
            2.6,
            0.06,
            0.13,
            0.126,
            0.12,
            0.12,
            0,
            0.13,
            0.1,
            0.16,
            0.15,
            0.08,
            0.07,
            0.63,
            0.11,
            0,
            0,
            0,
            0.11,
            1.92,
            0.11,
            0.06,
            0.07,
            0.23,
            0.06,
            0.08,
            1.33,
            0.16,
            0,
            0,
            0.38,
            0.43,
            0.38,
            0.49,
            0.1,
            14.86,
            17.84,
            29.64,
            59.84,
            6.37,
            0.12,
            0.1,
            0.08,
            0.17,
            0,
            0.14,
            0.06,
            5.1,
            0.08,
            0.14,
            0.1,
            0.19,
            0.1,
            0.12,
            0,
            0.11,
            0.06,
            0,
            0.12,
            0,
            0.13,
            0,
            0.096,
            0,
            60.47,
            17.59,
            0,
            0.11,
            0.2,
            0,
            8.33,
            0.28,
            0.42,
            0.13,
            13.5,
            2.83,
            0,
            0.64,
            0.1,
            5.62,
            0,
            0.07,
            0.12,
            0.26,
            0.11,
            0,
            0.15,
            0,
            0,
            0,
            0,
            0.1,
            0,
            0.17,
            0.1,
            0,
            0.08,
            0.37,
            3.92,
            0.08,
            0.21,
            0.11,
            0.2,
            0.05,
            0.07,
            0,
            0.12,
            0,
            0.12,
            0.13,
            0.83,
            22.38,
            0.05,
            0.29,
            51.51,
            438.5,
            2.75,
            0.15,
            0.23,
            4.42,
            2.19,
            0.9,
            0.32,
            0.11,
            0.06,
            0.108,
            0.114,
            0.134,
            0.32,
            0.22,
            0.77,
            1.2,
            0.14,
            0.67,
            0.12,
            0.66,
            0,
            0,
            0,
            0,
            3.3,
            0.11,
            0.12,
            0.21,
            15.86,
            0,
            0.12,
            0.1,
            0.39,
            0.1,
            0.248,
            0.076,
            0.92,
            7.25,
            0.12,
            0.16,
            0.77,
            0,
            0.13,
            0.2,
            1.99,
            0,
            0.11,
            1.24,
            0.11,
            0.29,
            0.14,
            0.1,
            0.18,
            1.21,
            0.1,
            0,
            0,
            7.76,
            0.31,
            6.7,
            8.25,
            0.11,
            2.84
           ]
          },
          {
           "axis": {
            "matches": true
           },
           "label": "Total_cyano_cell_count",
           "values": [
            415346,
            1218437,
            105831,
            490252,
            70232,
            185188,
            776319,
            842493,
            666059,
            295796,
            113887,
            101859,
            1469696,
            51591,
            264248,
            35906,
            190985,
            234938,
            215177,
            33360,
            0,
            8352,
            866,
            327324,
            4403362,
            917088,
            377165,
            1056449,
            331007,
            131302,
            0,
            36924,
            1300834,
            25160,
            508762,
            449452,
            59842,
            1638210,
            443,
            143519,
            2601913,
            1455131,
            5610115,
            113647,
            199388,
            1687938,
            276995,
            76369,
            183682,
            114975,
            53589,
            130667,
            368620,
            1597372,
            171442,
            475561,
            131078,
            90272,
            351104,
            0,
            684,
            2441,
            36157,
            184314,
            432671,
            3162032,
            4329,
            9117,
            84757,
            84696,
            2856,
            0,
            9116,
            12275,
            34632,
            163483,
            142388,
            158725,
            519462,
            382703,
            139126,
            409495,
            147697,
            103901,
            41609,
            338477,
            995671,
            495290,
            288647,
            603993,
            1330685,
            865524,
            18832,
            201848,
            138429,
            67769,
            443962,
            152788,
            309704,
            444039,
            287519,
            622364,
            1708837,
            9677,
            5093,
            26738,
            82761,
            182453,
            754455,
            149632,
            111027,
            348117,
            127150,
            51547,
            246038,
            189084,
            109767,
            120580,
            291936,
            233816,
            0,
            0,
            200191,
            45582,
            19589,
            7028,
            3724,
            330929,
            330781,
            36643,
            234144,
            1058059,
            76394,
            159920,
            222017,
            96772,
            65513,
            309388,
            281507,
            209405,
            214706,
            103055,
            265164,
            0,
            601172,
            611358,
            59639,
            80832,
            0,
            52115,
            15356,
            80754,
            801,
            16492,
            6838,
            172472,
            51,
            90856,
            22157,
            36669,
            52189,
            208031,
            2394,
            117392,
            8913,
            68893,
            9720,
            44260,
            56328,
            738477,
            254647,
            0,
            127963,
            153775,
            102581,
            12427,
            79771,
            665087,
            829082,
            230082,
            102252,
            164280,
            685002,
            181902,
            84162,
            88006,
            194975,
            607431,
            0,
            0,
            3972,
            16000,
            177336,
            3215490,
            500755,
            720083,
            491040,
            127836,
            255299,
            63761,
            1527884,
            388337,
            636618,
            418302,
            0,
            113339,
            483969,
            196754,
            52850,
            1049864,
            226856,
            0,
            0,
            12732,
            2801,
            258784,
            433171,
            340358,
            0,
            2114604,
            513295,
            129167,
            219107,
            314288,
            215491,
            162400,
            209117,
            0,
            33262,
            26056,
            53297,
            739,
            111791,
            25465,
            497836,
            590323,
            76201,
            52040,
            312789,
            259613,
            2084635,
            320193
           ]
          },
          {
           "axis": {
            "matches": true
           },
           "label": "Microcystis_mcyE",
           "values": [
            5625,
            74000,
            0,
            0,
            3150,
            221.5,
            655,
            20025,
            3675,
            3050,
            4450,
            0,
            37500,
            3875,
            0,
            0,
            60.25,
            104.25,
            0,
            119,
            0,
            164.75,
            177,
            13775,
            84250,
            19000,
            0,
            0,
            16575,
            52750,
            0,
            65.25,
            99500,
            0,
            0,
            0,
            1385,
            502.50000000000006,
            0,
            214.25,
            0,
            20350,
            5125,
            522.5,
            26500,
            5900,
            255,
            345,
            57.75,
            287.5,
            402.50000000000006,
            0,
            0,
            0,
            0,
            890,
            350,
            0,
            0,
            0,
            116.25,
            0,
            0,
            1325,
            3875,
            84.25,
            0,
            0,
            0,
            0,
            0,
            69,
            0,
            0,
            0,
            229.25,
            0,
            0,
            345,
            477.50000000000006,
            0,
            0,
            1440,
            1335,
            70.75,
            185.5,
            0,
            477.50000000000006,
            23875,
            2052.5,
            248,
            347.5,
            655,
            727.5,
            1095,
            18950,
            2675,
            300,
            77500,
            100500,
            110250,
            320000,
            30000,
            0,
            0,
            365,
            0,
            0,
            112,
            0,
            172500,
            5250,
            755,
            0,
            315,
            252.5,
            652.5,
            0,
            3175,
            0,
            0,
            0,
            187.75,
            0,
            0,
            0,
            148.75,
            82500,
            437500,
            277.5,
            572.5,
            745,
            191.75,
            59000,
            134.5,
            27250,
            81.75,
            6800,
            47000,
            1157.5,
            12225,
            980,
            3625000,
            0,
            8525,
            1452.5,
            0,
            147,
            0,
            0,
            111.5,
            86.25,
            0,
            0,
            0,
            0,
            0,
            657.5,
            1820,
            189.25,
            1557.5,
            1477.5,
            0,
            0,
            0,
            5525,
            0,
            90.25,
            1322.5,
            822.5,
            760,
            200.75,
            0,
            18375,
            84500,
            0,
            1495,
            182250,
            2187500,
            93750,
            977.5,
            720,
            30750,
            3000,
            540,
            0,
            197.75,
            732.5,
            0,
            0,
            161,
            0,
            590,
            0,
            12250,
            745,
            2725,
            892.5000000000001,
            0,
            1015,
            189.75,
            0,
            2550,
            48000,
            0,
            56.49999999999999,
            0,
            143000,
            0,
            98.75,
            0,
            226.5,
            0,
            78.25,
            0,
            22275,
            23575,
            425,
            188.25,
            0,
            452.50000000000006,
            149.75,
            0,
            20150,
            0,
            0,
            1502.5,
            0,
            195.25,
            0,
            200.5,
            231.5,
            572.5,
            935,
            0,
            412.5,
            1512.5,
            442.5,
            502500,
            12525,
            190.5,
            8075
           ]
          },
          {
           "axis": {
            "matches": true
           },
           "label": "Anabaena_mcyE",
           "values": [
            0,
            0,
            0,
            0,
            0,
            0,
            0,
            0,
            0,
            0,
            0,
            0,
            0,
            0,
            0,
            0,
            0,
            0,
            0,
            0,
            0,
            0,
            0,
            0,
            0,
            0,
            0,
            0,
            0,
            0,
            0,
            0,
            0,
            0,
            0,
            0,
            0,
            0,
            0,
            0,
            0,
            0,
            0,
            0,
            0,
            0,
            0,
            0,
            0,
            0,
            0,
            0,
            0,
            0,
            0,
            0,
            0,
            0,
            0,
            0,
            0,
            0,
            0,
            0,
            0,
            0,
            0,
            0,
            0,
            0,
            0,
            0,
            0,
            0,
            0,
            0,
            0,
            0,
            0,
            0,
            0,
            0,
            0,
            0,
            0,
            0,
            0,
            0,
            0,
            0,
            0,
            0,
            0,
            0,
            0,
            0,
            0,
            0,
            0,
            0,
            0,
            0,
            0,
            0,
            0,
            0,
            0,
            0,
            0,
            0,
            0,
            0,
            0,
            0,
            0,
            0,
            0,
            0,
            0,
            0,
            0,
            0,
            0,
            0,
            0,
            0,
            0,
            0,
            0,
            0,
            0,
            0,
            0,
            0,
            0,
            0,
            0,
            0,
            0,
            0,
            0,
            0,
            0,
            0,
            0,
            0,
            0,
            0,
            0,
            0,
            0,
            0,
            0,
            0,
            0,
            0,
            0,
            0,
            0,
            0,
            0,
            0,
            0,
            0,
            0,
            0,
            0,
            0,
            0,
            0,
            0,
            0,
            0,
            0,
            0,
            0,
            0,
            0,
            0,
            0,
            0,
            0,
            0,
            0,
            0,
            0,
            0,
            0,
            0,
            0,
            0,
            0,
            0,
            0,
            0,
            0,
            0,
            0,
            0,
            0,
            0,
            0,
            0,
            0,
            0,
            0,
            0,
            0,
            0,
            0,
            0,
            0,
            0,
            0,
            555,
            0,
            0,
            0,
            0,
            0,
            0,
            0,
            0,
            0,
            0,
            0,
            0,
            0,
            0,
            0,
            0,
            0,
            0,
            0,
            0,
            0,
            0,
            0,
            0,
            0,
            0,
            0
           ]
          },
          {
           "axis": {
            "matches": true
           },
           "label": "Planktothrix_mcyE",
           "values": [
            0,
            0,
            0,
            0,
            0,
            0,
            0,
            0,
            0,
            0,
            0,
            0,
            0,
            0,
            0,
            0,
            0,
            0,
            0,
            0,
            0,
            0,
            0,
            0,
            0,
            0,
            0,
            0,
            0,
            0,
            0,
            0,
            0,
            0,
            0,
            0,
            0,
            0,
            0,
            0,
            0,
            0,
            0,
            0,
            0,
            0,
            0,
            0,
            0,
            0,
            0,
            0,
            0,
            0,
            0,
            0,
            0,
            0,
            0,
            0,
            0,
            0,
            0,
            0,
            0,
            0,
            0,
            0,
            0,
            0,
            0,
            0,
            0,
            0,
            0,
            0,
            0,
            0,
            0,
            0,
            0,
            0,
            0,
            0,
            0,
            0,
            0,
            0,
            0,
            0,
            0,
            0,
            0,
            0,
            0,
            0,
            0,
            0,
            0,
            0,
            0,
            0,
            0,
            0,
            0,
            0,
            0,
            0,
            0,
            0,
            0,
            0,
            0,
            0,
            0,
            0,
            0,
            0,
            0,
            0,
            0,
            0,
            0,
            0,
            0,
            0,
            0,
            0,
            0,
            0,
            0,
            0,
            0,
            0,
            0,
            0,
            0,
            0,
            0,
            0,
            0,
            0,
            0,
            0,
            0,
            0,
            0,
            0,
            0,
            0,
            0,
            0,
            0,
            0,
            0,
            0,
            0,
            0,
            0,
            0,
            0,
            0,
            0,
            0,
            0,
            0,
            0,
            0,
            0,
            0,
            0,
            0,
            0,
            0,
            0,
            0,
            0,
            0,
            0,
            0,
            0,
            0,
            0,
            0,
            0,
            0,
            0,
            0,
            0,
            0,
            0,
            0,
            0,
            0,
            0,
            0,
            0,
            0,
            0,
            0,
            0,
            0,
            0,
            0,
            0,
            0,
            0,
            0,
            0,
            0,
            0,
            0,
            0,
            0,
            0,
            0,
            0,
            0,
            0,
            0,
            0,
            0,
            0,
            0,
            0,
            0,
            0,
            0,
            0,
            0,
            0,
            0,
            0,
            0,
            0,
            0,
            0,
            0,
            0,
            0,
            0,
            0
           ]
          }
         ],
         "hovertemplate": "Waterbody_name=Pigeon Lake<br>%{xaxis.title.text}=%{x}<br>%{yaxis.title.text}=%{y}<extra></extra>",
         "legendgroup": "Pigeon Lake",
         "marker": {
          "color": "#636efa",
          "symbol": "circle"
         },
         "name": "Pigeon Lake",
         "showlegend": true,
         "type": "splom"
        },
        {
         "dimensions": [
          {
           "axis": {
            "matches": true
           },
           "label": "MC-LR_conc",
           "values": [
            0.19,
            0.28,
            0.29,
            0.94,
            0.3,
            0.85,
            0.57,
            0.85,
            0.46,
            0.7,
            1.35,
            0.58,
            0.72,
            1.3,
            2.67,
            3.27,
            3.6,
            0.2,
            1.43,
            0.29,
            0.12,
            0.09,
            0.47,
            0.06,
            0.05,
            0.052,
            0.062,
            0.56,
            0.06,
            0.22,
            0
           ]
          },
          {
           "axis": {
            "matches": true
           },
           "label": "Total_cyano_cell_count",
           "values": [
            0,
            323110,
            52113,
            256643,
            475221,
            137433,
            112212,
            296837,
            648804,
            147586,
            377776,
            782901,
            159728,
            321598,
            973986,
            310512,
            229510,
            2895,
            414673,
            261982,
            22256,
            32882,
            54902,
            173161,
            2002,
            0,
            0,
            322996,
            0,
            31985,
            0
           ]
          },
          {
           "axis": {
            "matches": true
           },
           "label": "Microcystis_mcyE",
           "values": [
            2427.5,
            4000,
            201,
            2057.5,
            1127.5,
            6425,
            6425,
            62.25000000000001,
            525,
            360,
            135.75,
            2325,
            2700,
            7925,
            3900,
            5325,
            397.5,
            0,
            18975,
            1717.5,
            81.25,
            0,
            462.5,
            0,
            0,
            0,
            0,
            2285,
            0,
            0,
            0
           ]
          },
          {
           "axis": {
            "matches": true
           },
           "label": "Anabaena_mcyE",
           "values": [
            0,
            375,
            0,
            112.25,
            617.5,
            2575,
            890,
            139,
            415.00000000000006,
            2457.5,
            869.9999999999999,
            1072.5,
            787.5,
            4200,
            21975,
            31000,
            900,
            0,
            16275,
            0,
            0,
            0,
            445,
            0,
            0,
            0,
            0,
            847.5,
            0,
            0,
            0
           ]
          },
          {
           "axis": {
            "matches": true
           },
           "label": "Planktothrix_mcyE",
           "values": [
            0,
            0,
            0,
            0,
            0,
            0,
            0,
            0,
            0,
            0,
            0,
            0,
            0,
            0,
            0,
            0,
            0,
            0,
            0,
            0,
            0,
            0,
            0,
            0,
            0,
            0,
            0,
            0,
            0,
            0,
            0
           ]
          }
         ],
         "hovertemplate": "Waterbody_name=Wizard Lake<br>%{xaxis.title.text}=%{x}<br>%{yaxis.title.text}=%{y}<extra></extra>",
         "legendgroup": "Wizard Lake",
         "marker": {
          "color": "#EF553B",
          "symbol": "circle"
         },
         "name": "Wizard Lake",
         "showlegend": true,
         "type": "splom"
        },
        {
         "dimensions": [
          {
           "axis": {
            "matches": true
           },
           "label": "MC-LR_conc",
           "values": [
            1.28,
            1.25,
            0.76,
            0.64,
            4.01
           ]
          },
          {
           "axis": {
            "matches": true
           },
           "label": "Total_cyano_cell_count",
           "values": [
            988822,
            516615,
            411593,
            1132711,
            328250
           ]
          },
          {
           "axis": {
            "matches": true
           },
           "label": "Microcystis_mcyE",
           "values": [
            3575,
            955,
            297.5,
            1147.5,
            11750
           ]
          },
          {
           "axis": {
            "matches": true
           },
           "label": "Anabaena_mcyE",
           "values": [
            0,
            0,
            0,
            0,
            0
           ]
          },
          {
           "axis": {
            "matches": true
           },
           "label": "Planktothrix_mcyE",
           "values": [
            0,
            0,
            0,
            0,
            437.5
           ]
          }
         ],
         "hovertemplate": "Waterbody_name=Hastings Lake<br>%{xaxis.title.text}=%{x}<br>%{yaxis.title.text}=%{y}<extra></extra>",
         "legendgroup": "Hastings Lake",
         "marker": {
          "color": "#00cc96",
          "symbol": "circle"
         },
         "name": "Hastings Lake",
         "showlegend": true,
         "type": "splom"
        },
        {
         "dimensions": [
          {
           "axis": {
            "matches": true
           },
           "label": "MC-LR_conc",
           "values": [
            0.68,
            0.7,
            0.18,
            0.86,
            1.04,
            1.24
           ]
          },
          {
           "axis": {
            "matches": true
           },
           "label": "Total_cyano_cell_count",
           "values": [
            937264,
            141920,
            10116,
            1028920,
            611320,
            320245
           ]
          },
          {
           "axis": {
            "matches": true
           },
           "label": "Microcystis_mcyE",
           "values": [
            0,
            0,
            0,
            0,
            1027.5,
            1240
           ]
          },
          {
           "axis": {
            "matches": true
           },
           "label": "Anabaena_mcyE",
           "values": [
            0,
            0,
            0,
            0,
            0,
            54.25
           ]
          },
          {
           "axis": {
            "matches": true
           },
           "label": "Planktothrix_mcyE",
           "values": [
            0,
            0,
            0,
            460,
            10850,
            20375
           ]
          }
         ],
         "hovertemplate": "Waterbody_name=Half Moon Lake<br>%{xaxis.title.text}=%{x}<br>%{yaxis.title.text}=%{y}<extra></extra>",
         "legendgroup": "Half Moon Lake",
         "marker": {
          "color": "#ab63fa",
          "symbol": "circle"
         },
         "name": "Half Moon Lake",
         "showlegend": true,
         "type": "splom"
        },
        {
         "dimensions": [
          {
           "axis": {
            "matches": true
           },
           "label": "MC-LR_conc",
           "values": [
            1.71,
            3.94,
            0.56,
            2.04,
            2.96,
            9.03,
            0.32,
            2.23,
            1.92,
            0.51,
            0.28,
            0.08,
            0.07,
            2.85
           ]
          },
          {
           "axis": {
            "matches": true
           },
           "label": "Total_cyano_cell_count",
           "values": [
            283145,
            151262,
            96012,
            641441,
            139831,
            488663,
            7084,
            126274,
            83512,
            120372,
            141660,
            18131,
            0,
            222196
           ]
          },
          {
           "axis": {
            "matches": true
           },
           "label": "Microcystis_mcyE",
           "values": [
            14225,
            91000,
            21500,
            1982.5,
            22425,
            557500,
            295,
            6175,
            8800,
            635,
            90.75,
            0,
            0,
            32000
           ]
          },
          {
           "axis": {
            "matches": true
           },
           "label": "Anabaena_mcyE",
           "values": [
            0,
            0,
            0,
            0,
            0,
            0,
            0,
            0,
            0,
            0,
            0,
            0,
            0,
            0
           ]
          },
          {
           "axis": {
            "matches": true
           },
           "label": "Planktothrix_mcyE",
           "values": [
            0,
            0,
            0,
            0,
            0,
            0,
            0,
            0,
            0,
            0,
            0,
            0,
            0,
            0
           ]
          }
         ],
         "hovertemplate": "Waterbody_name=Jackfish Lake (Parkland County)<br>%{xaxis.title.text}=%{x}<br>%{yaxis.title.text}=%{y}<extra></extra>",
         "legendgroup": "Jackfish Lake (Parkland County)",
         "marker": {
          "color": "#FFA15A",
          "symbol": "circle"
         },
         "name": "Jackfish Lake (Parkland County)",
         "showlegend": true,
         "type": "splom"
        },
        {
         "dimensions": [
          {
           "axis": {
            "matches": true
           },
           "label": "MC-LR_conc",
           "values": [
            0.29,
            0.05,
            0.052,
            0.38,
            0.69,
            0.21,
            0.18,
            2.88,
            0,
            1.55
           ]
          },
          {
           "axis": {
            "matches": true
           },
           "label": "Total_cyano_cell_count",
           "values": [
            356252,
            25210,
            9065,
            227188,
            53844,
            790785,
            84880,
            690626,
            308,
            338661
           ]
          },
          {
           "axis": {
            "matches": true
           },
           "label": "Microcystis_mcyE",
           "values": [
            452.50000000000006,
            0,
            0,
            15325,
            47750,
            0,
            183.25,
            1410,
            0,
            26000
           ]
          },
          {
           "axis": {
            "matches": true
           },
           "label": "Anabaena_mcyE",
           "values": [
            0,
            0,
            0,
            0,
            0,
            0,
            0,
            0,
            0,
            0
           ]
          },
          {
           "axis": {
            "matches": true
           },
           "label": "Planktothrix_mcyE",
           "values": [
            0,
            0,
            0,
            0,
            0,
            0,
            0,
            0,
            0,
            0
           ]
          }
         ],
         "hovertemplate": "Waterbody_name=Hasse Lake<br>%{xaxis.title.text}=%{x}<br>%{yaxis.title.text}=%{y}<extra></extra>",
         "legendgroup": "Hasse Lake",
         "marker": {
          "color": "#19d3f3",
          "symbol": "circle"
         },
         "name": "Hasse Lake",
         "showlegend": true,
         "type": "splom"
        },
        {
         "dimensions": [
          {
           "axis": {
            "matches": true
           },
           "label": "MC-LR_conc",
           "values": [
            0.096,
            1.23,
            0.12,
            0.14,
            0.22,
            0.99,
            1.34,
            0.23,
            0.12
           ]
          },
          {
           "axis": {
            "matches": true
           },
           "label": "Total_cyano_cell_count",
           "values": [
            0,
            13522,
            2617882,
            89871,
            96708,
            40744,
            6366,
            43263,
            1910
           ]
          },
          {
           "axis": {
            "matches": true
           },
           "label": "Microcystis_mcyE",
           "values": [
            0,
            330,
            0,
            0,
            652.5,
            216.75,
            842.5000000000001,
            695,
            201
           ]
          },
          {
           "axis": {
            "matches": true
           },
           "label": "Anabaena_mcyE",
           "values": [
            0,
            0,
            0,
            0,
            0,
            0,
            0,
            0,
            0
           ]
          },
          {
           "axis": {
            "matches": true
           },
           "label": "Planktothrix_mcyE",
           "values": [
            0,
            0,
            0,
            0,
            0,
            0,
            0,
            0,
            0
           ]
          }
         ],
         "hovertemplate": "Waterbody_name=Mink Lake<br>%{xaxis.title.text}=%{x}<br>%{yaxis.title.text}=%{y}<extra></extra>",
         "legendgroup": "Mink Lake",
         "marker": {
          "color": "#FF6692",
          "symbol": "circle"
         },
         "name": "Mink Lake",
         "showlegend": true,
         "type": "splom"
        },
        {
         "dimensions": [
          {
           "axis": {
            "matches": true
           },
           "label": "MC-LR_conc",
           "values": [
            0.1,
            0.139,
            0.14,
            0.17,
            0,
            0.105,
            0.1,
            0.1,
            0,
            0.12,
            0.11,
            0.13,
            0,
            0.09,
            0.09,
            0,
            0.09,
            0.11,
            0.12,
            0,
            0.161,
            0.12,
            0.15,
            0,
            0,
            0.11,
            0.18
           ]
          },
          {
           "axis": {
            "matches": true
           },
           "label": "Total_cyano_cell_count",
           "values": [
            306392,
            0,
            533944,
            2220319,
            0,
            9422,
            179298,
            9856,
            199313,
            5421788,
            73178,
            0,
            8810,
            406009,
            0,
            729927,
            459740,
            415711,
            816964,
            0,
            0,
            27808,
            892061,
            509295,
            0,
            677569,
            69543
           ]
          },
          {
           "axis": {
            "matches": true
           },
           "label": "Microcystis_mcyE",
           "values": [
            1560,
            0,
            0,
            620,
            86,
            0,
            0,
            450,
            290,
            154.5,
            179.75,
            1540,
            0,
            0,
            0,
            0,
            0,
            191.75,
            0,
            163,
            0,
            0,
            165.75,
            472.5,
            183,
            0,
            200
           ]
          },
          {
           "axis": {
            "matches": true
           },
           "label": "Anabaena_mcyE",
           "values": [
            0,
            0,
            0,
            126.5,
            0,
            0,
            62.5,
            0,
            0,
            0,
            0,
            0,
            0,
            0,
            0,
            0,
            0,
            170.75,
            0,
            0,
            0,
            0,
            0,
            0,
            0,
            0,
            1180
           ]
          },
          {
           "axis": {
            "matches": true
           },
           "label": "Planktothrix_mcyE",
           "values": [
            0,
            0,
            0,
            0,
            0,
            0,
            0,
            0,
            0,
            0,
            0,
            0,
            0,
            0,
            0,
            0,
            0,
            0,
            0,
            0,
            219,
            0,
            0,
            0,
            0,
            0,
            0
           ]
          }
         ],
         "hovertemplate": "Waterbody_name=Wabamun Lake<br>%{xaxis.title.text}=%{x}<br>%{yaxis.title.text}=%{y}<extra></extra>",
         "legendgroup": "Wabamun Lake",
         "marker": {
          "color": "#B6E880",
          "symbol": "circle"
         },
         "name": "Wabamun Lake",
         "showlegend": true,
         "type": "splom"
        },
        {
         "dimensions": [
          {
           "axis": {
            "matches": true
           },
           "label": "MC-LR_conc",
           "values": [
            0.06,
            0.06,
            0.05,
            0.058,
            0,
            0,
            0.1,
            0.11,
            0.1
           ]
          },
          {
           "axis": {
            "matches": true
           },
           "label": "Total_cyano_cell_count",
           "values": [
            0,
            0,
            6213,
            0,
            109824,
            2851,
            263574,
            0,
            0
           ]
          },
          {
           "axis": {
            "matches": true
           },
           "label": "Microcystis_mcyE",
           "values": [
            0,
            0,
            0,
            0,
            0,
            0,
            0,
            0,
            0
           ]
          },
          {
           "axis": {
            "matches": true
           },
           "label": "Anabaena_mcyE",
           "values": [
            0,
            0,
            0,
            0,
            0,
            0,
            0,
            0,
            0
           ]
          },
          {
           "axis": {
            "matches": true
           },
           "label": "Planktothrix_mcyE",
           "values": [
            0,
            0,
            0,
            0,
            0,
            0,
            0,
            0,
            0
           ]
          }
         ],
         "hovertemplate": "Waterbody_name=Hubbles Lake<br>%{xaxis.title.text}=%{x}<br>%{yaxis.title.text}=%{y}<extra></extra>",
         "legendgroup": "Hubbles Lake",
         "marker": {
          "color": "#FF97FF",
          "symbol": "circle"
         },
         "name": "Hubbles Lake",
         "showlegend": true,
         "type": "splom"
        },
        {
         "dimensions": [
          {
           "axis": {
            "matches": true
           },
           "label": "MC-LR_conc",
           "values": [
            4.13,
            0.452,
            0.73,
            5.35,
            4.94,
            22.85,
            4.47,
            3.83,
            1.5,
            9.67,
            9.56,
            2.21,
            4.59,
            5.15,
            5,
            2.93,
            6.02,
            11.57,
            6.09,
            4.62,
            23.73,
            5.19,
            11.85,
            7.69,
            13.27,
            0.088,
            7.2,
            4.11,
            0.81,
            0.87,
            9.59,
            0.7,
            3,
            0.92,
            0.127,
            0.46,
            25.81,
            0.19,
            5,
            15.13,
            0.143,
            6.91,
            11.01,
            12.1,
            42.1,
            0.094,
            0.183,
            28.58,
            13.14,
            9.37,
            9.45,
            6,
            14.76,
            10.9,
            14.97,
            1.22,
            0.46,
            0.6,
            0.4,
            14.79,
            5.47,
            0.51,
            4.57
           ]
          },
          {
           "axis": {
            "matches": true
           },
           "label": "Total_cyano_cell_count",
           "values": [
            160091,
            15890,
            243035,
            155844,
            95860,
            222399,
            94117,
            59892,
            87961,
            157217,
            307328,
            30799,
            165498,
            66848,
            22483,
            158122,
            317406,
            362992,
            65086,
            407436,
            720652,
            468798,
            336135,
            244461,
            174433,
            0,
            148714,
            169926,
            12987,
            135426,
            302225,
            291062,
            109499,
            115457,
            39725,
            177743,
            305577,
            7843,
            16297,
            157881,
            28699,
            430354,
            236822,
            287751,
            760326,
            20881,
            56022,
            361599,
            351031,
            88322,
            556451,
            187566,
            672340,
            142805,
            113804,
            70028,
            8193,
            78991,
            43902,
            402776,
            98124,
            13361,
            178508
           ]
          },
          {
           "axis": {
            "matches": true
           },
           "label": "Microcystis_mcyE",
           "values": [
            57500,
            327.5,
            68.5,
            5375,
            221250,
            1572500,
            3150,
            18625,
            2925,
            420000,
            295000,
            2925,
            242500,
            19800,
            5850,
            110750,
            267500,
            502500,
            9500,
            97750,
            231750,
            6425,
            2675000,
            213750,
            36250,
            0,
            103500,
            55000,
            15525,
            6200,
            218750,
            852.5,
            23700,
            110.75,
            450,
            8675,
            525000,
            90.25,
            51750,
            11875000,
            312.5,
            66000,
            590000,
            6600000,
            2500000,
            0,
            0,
            1772500,
            415000,
            237250,
            22625,
            15525,
            510000,
            202250,
            555000,
            31000,
            1737.5,
            550,
            6625,
            19425000,
            148500,
            15200,
            4600
           ]
          },
          {
           "axis": {
            "matches": true
           },
           "label": "Anabaena_mcyE",
           "values": [
            0,
            0,
            0,
            0,
            0,
            0,
            0,
            0,
            0,
            0,
            0,
            0,
            0,
            0,
            0,
            0,
            0,
            0,
            0,
            0,
            0,
            0,
            0,
            0,
            0,
            0,
            0,
            0,
            0,
            0,
            0,
            0,
            0,
            0,
            0,
            0,
            0,
            0,
            0,
            0,
            0,
            0,
            0,
            0,
            0,
            0,
            0,
            0,
            0,
            0,
            0,
            0,
            0,
            0,
            0,
            0,
            0,
            0,
            0,
            0,
            0,
            0,
            0
           ]
          },
          {
           "axis": {
            "matches": true
           },
           "label": "Planktothrix_mcyE",
           "values": [
            0,
            0,
            0,
            0,
            0,
            0,
            0,
            0,
            0,
            0,
            0,
            0,
            0,
            0,
            0,
            0,
            0,
            0,
            0,
            0,
            0,
            0,
            0,
            0,
            0,
            0,
            0,
            0,
            0,
            0,
            0,
            0,
            0,
            0,
            0,
            0,
            0,
            0,
            0,
            0,
            0,
            0,
            0,
            0,
            0,
            0,
            0,
            0,
            0,
            0,
            0,
            0,
            0,
            0,
            0,
            0,
            0,
            0,
            0,
            0,
            0,
            0,
            0
           ]
          }
         ],
         "hovertemplate": "Waterbody_name=Isle Lake<br>%{xaxis.title.text}=%{x}<br>%{yaxis.title.text}=%{y}<extra></extra>",
         "legendgroup": "Isle Lake",
         "marker": {
          "color": "#FECB52",
          "symbol": "circle"
         },
         "name": "Isle Lake",
         "showlegend": true,
         "type": "splom"
        },
        {
         "dimensions": [
          {
           "axis": {
            "matches": true
           },
           "label": "MC-LR_conc",
           "values": [
            12.47,
            0.37,
            4.2,
            0.37,
            0.13,
            0.19,
            22.87
           ]
          },
          {
           "axis": {
            "matches": true
           },
           "label": "Total_cyano_cell_count",
           "values": [
            1028271,
            15400,
            175490,
            2309896,
            6507,
            1086724,
            960020
           ]
          },
          {
           "axis": {
            "matches": true
           },
           "label": "Microcystis_mcyE",
           "values": [
            130500,
            2435,
            34000,
            457.5,
            163.25,
            420,
            1317500
           ]
          },
          {
           "axis": {
            "matches": true
           },
           "label": "Anabaena_mcyE",
           "values": [
            0,
            0,
            0,
            297.5,
            0,
            146.25,
            0
           ]
          },
          {
           "axis": {
            "matches": true
           },
           "label": "Planktothrix_mcyE",
           "values": [
            0,
            0,
            0,
            0,
            0,
            0,
            0
           ]
          }
         ],
         "hovertemplate": "Waterbody_name=Lac Ste. Anne<br>%{xaxis.title.text}=%{x}<br>%{yaxis.title.text}=%{y}<extra></extra>",
         "legendgroup": "Lac Ste. Anne",
         "marker": {
          "color": "#636efa",
          "symbol": "circle"
         },
         "name": "Lac Ste. Anne",
         "showlegend": true,
         "type": "splom"
        },
        {
         "dimensions": [
          {
           "axis": {
            "matches": true
           },
           "label": "MC-LR_conc",
           "values": [
            0.11,
            0.28,
            0.62,
            0.34,
            0.44
           ]
          },
          {
           "axis": {
            "matches": true
           },
           "label": "Total_cyano_cell_count",
           "values": [
            577567,
            399150,
            313099,
            25549,
            68065
           ]
          },
          {
           "axis": {
            "matches": true
           },
           "label": "Microcystis_mcyE",
           "values": [
            347.5,
            1320,
            3950,
            149,
            0
           ]
          },
          {
           "axis": {
            "matches": true
           },
           "label": "Anabaena_mcyE",
           "values": [
            0,
            0,
            0,
            0,
            0
           ]
          },
          {
           "axis": {
            "matches": true
           },
           "label": "Planktothrix_mcyE",
           "values": [
            0,
            0,
            0,
            0,
            0
           ]
          }
         ],
         "hovertemplate": "Waterbody_name=Lessard Lake<br>%{xaxis.title.text}=%{x}<br>%{yaxis.title.text}=%{y}<extra></extra>",
         "legendgroup": "Lessard Lake",
         "marker": {
          "color": "#EF553B",
          "symbol": "circle"
         },
         "name": "Lessard Lake",
         "showlegend": true,
         "type": "splom"
        },
        {
         "dimensions": [
          {
           "axis": {
            "matches": true
           },
           "label": "MC-LR_conc",
           "values": [
            0.137,
            0.25
           ]
          },
          {
           "axis": {
            "matches": true
           },
           "label": "Total_cyano_cell_count",
           "values": [
            0,
            99509
           ]
          },
          {
           "axis": {
            "matches": true
           },
           "label": "Microcystis_mcyE",
           "values": [
            28500,
            485
           ]
          },
          {
           "axis": {
            "matches": true
           },
           "label": "Anabaena_mcyE",
           "values": [
            0,
            0
           ]
          },
          {
           "axis": {
            "matches": true
           },
           "label": "Planktothrix_mcyE",
           "values": [
            0,
            0
           ]
          }
         ],
         "hovertemplate": "Waterbody_name=Shiningbank Lake<br>%{xaxis.title.text}=%{x}<br>%{yaxis.title.text}=%{y}<extra></extra>",
         "legendgroup": "Shiningbank Lake",
         "marker": {
          "color": "#00cc96",
          "symbol": "circle"
         },
         "name": "Shiningbank Lake",
         "showlegend": true,
         "type": "splom"
        },
        {
         "dimensions": [
          {
           "axis": {
            "matches": true
           },
           "label": "MC-LR_conc",
           "values": [
            98.24,
            0.23,
            0.19,
            1.92,
            5.1,
            12.59,
            0.1,
            0,
            11.21,
            2.18,
            3.76,
            0.25,
            18.21
           ]
          },
          {
           "axis": {
            "matches": true
           },
           "label": "Total_cyano_cell_count",
           "values": [
            1110405,
            23054,
            986,
            568095,
            236810,
            325234,
            0,
            198206,
            348995,
            51693,
            333982,
            713,
            10882
           ]
          },
          {
           "axis": {
            "matches": true
           },
           "label": "Microcystis_mcyE",
           "values": [
            2550000,
            149.5,
            0,
            33500,
            38000,
            76750,
            72.5,
            0,
            205500,
            852.5,
            49500,
            627.5,
            199250
           ]
          },
          {
           "axis": {
            "matches": true
           },
           "label": "Anabaena_mcyE",
           "values": [
            450,
            0,
            0,
            0,
            0,
            0,
            0,
            0,
            0,
            0,
            0,
            0,
            175.5
           ]
          },
          {
           "axis": {
            "matches": true
           },
           "label": "Planktothrix_mcyE",
           "values": [
            0,
            0,
            0,
            0,
            0,
            0,
            0,
            0,
            0,
            0,
            0,
            0,
            0
           ]
          }
         ],
         "hovertemplate": "Waterbody_name=Lac La Nonne<br>%{xaxis.title.text}=%{x}<br>%{yaxis.title.text}=%{y}<extra></extra>",
         "legendgroup": "Lac La Nonne",
         "marker": {
          "color": "#ab63fa",
          "symbol": "circle"
         },
         "name": "Lac La Nonne",
         "showlegend": true,
         "type": "splom"
        },
        {
         "dimensions": [
          {
           "axis": {
            "matches": true
           },
           "label": "MC-LR_conc",
           "values": [
            1.02,
            0.36,
            0.17,
            0,
            0.81,
            0.76
           ]
          },
          {
           "axis": {
            "matches": true
           },
           "label": "Total_cyano_cell_count",
           "values": [
            256150,
            153533,
            279620,
            449321,
            311067,
            148820
           ]
          },
          {
           "axis": {
            "matches": true
           },
           "label": "Microcystis_mcyE",
           "values": [
            31750,
            0,
            61.75000000000001,
            5625,
            5025,
            14550
           ]
          },
          {
           "axis": {
            "matches": true
           },
           "label": "Anabaena_mcyE",
           "values": [
            233,
            0,
            0,
            138.5,
            350,
            1222.5
           ]
          },
          {
           "axis": {
            "matches": true
           },
           "label": "Planktothrix_mcyE",
           "values": [
            0,
            0,
            0,
            0,
            0,
            0
           ]
          }
         ],
         "hovertemplate": "Waterbody_name=Kehiwin Lake<br>%{xaxis.title.text}=%{x}<br>%{yaxis.title.text}=%{y}<extra></extra>",
         "legendgroup": "Kehiwin Lake",
         "marker": {
          "color": "#FFA15A",
          "symbol": "circle"
         },
         "name": "Kehiwin Lake",
         "showlegend": true,
         "type": "splom"
        },
        {
         "dimensions": [
          {
           "axis": {
            "matches": true
           },
           "label": "MC-LR_conc",
           "values": [
            1.37,
            1.18,
            0.79,
            1.56,
            1.8,
            1.27,
            2.07,
            0.8,
            0.9,
            3.08,
            0.88,
            1.23,
            1.09,
            0.81
           ]
          },
          {
           "axis": {
            "matches": true
           },
           "label": "Total_cyano_cell_count",
           "values": [
            86422,
            270759,
            67181,
            863204,
            331295,
            351771,
            977948,
            123359,
            854086,
            881195,
            159843,
            194791,
            134454,
            76292
           ]
          },
          {
           "axis": {
            "matches": true
           },
           "label": "Microcystis_mcyE",
           "values": [
            12900,
            3750,
            5175,
            6175,
            12525,
            7775,
            16600,
            9525,
            2012.5,
            10900,
            5650,
            5575,
            5925,
            8475
           ]
          },
          {
           "axis": {
            "matches": true
           },
           "label": "Anabaena_mcyE",
           "values": [
            0,
            0,
            0,
            0,
            0,
            0,
            0,
            0,
            0,
            0,
            0,
            0,
            0,
            0
           ]
          },
          {
           "axis": {
            "matches": true
           },
           "label": "Planktothrix_mcyE",
           "values": [
            0,
            0,
            0,
            0,
            0,
            0,
            0,
            0,
            0,
            0,
            0,
            0,
            0,
            0
           ]
          }
         ],
         "hovertemplate": "Waterbody_name=Thunder Lake<br>%{xaxis.title.text}=%{x}<br>%{yaxis.title.text}=%{y}<extra></extra>",
         "legendgroup": "Thunder Lake",
         "marker": {
          "color": "#19d3f3",
          "symbol": "circle"
         },
         "name": "Thunder Lake",
         "showlegend": true,
         "type": "splom"
        },
        {
         "dimensions": [
          {
           "axis": {
            "matches": true
           },
           "label": "MC-LR_conc",
           "values": [
            0.56,
            5.26,
            26.54,
            0.07,
            8.34
           ]
          },
          {
           "axis": {
            "matches": true
           },
           "label": "Total_cyano_cell_count",
           "values": [
            231327,
            1103862,
            1492255,
            0,
            929502
           ]
          },
          {
           "axis": {
            "matches": true
           },
           "label": "Microcystis_mcyE",
           "values": [
            94250,
            2675,
            164250,
            38000,
            52750
           ]
          },
          {
           "axis": {
            "matches": true
           },
           "label": "Anabaena_mcyE",
           "values": [
            0,
            0,
            0,
            0,
            0
           ]
          },
          {
           "axis": {
            "matches": true
           },
           "label": "Planktothrix_mcyE",
           "values": [
            0,
            0,
            0,
            0,
            0
           ]
          }
         ],
         "hovertemplate": "Waterbody_name=Bonnie Lake<br>%{xaxis.title.text}=%{x}<br>%{yaxis.title.text}=%{y}<extra></extra>",
         "legendgroup": "Bonnie Lake",
         "marker": {
          "color": "#FF6692",
          "symbol": "circle"
         },
         "name": "Bonnie Lake",
         "showlegend": true,
         "type": "splom"
        },
        {
         "dimensions": [
          {
           "axis": {
            "matches": true
           },
           "label": "MC-LR_conc",
           "values": [
            0.07
           ]
          },
          {
           "axis": {
            "matches": true
           },
           "label": "Total_cyano_cell_count",
           "values": [
            3234
           ]
          },
          {
           "axis": {
            "matches": true
           },
           "label": "Microcystis_mcyE",
           "values": [
            0
           ]
          },
          {
           "axis": {
            "matches": true
           },
           "label": "Anabaena_mcyE",
           "values": [
            0
           ]
          },
          {
           "axis": {
            "matches": true
           },
           "label": "Planktothrix_mcyE",
           "values": [
            0
           ]
          }
         ],
         "hovertemplate": "Waterbody_name=Soar's Lake<br>%{xaxis.title.text}=%{x}<br>%{yaxis.title.text}=%{y}<extra></extra>",
         "legendgroup": "Soar's Lake",
         "marker": {
          "color": "#B6E880",
          "symbol": "circle"
         },
         "name": "Soar's Lake",
         "showlegend": true,
         "type": "splom"
        },
        {
         "dimensions": [
          {
           "axis": {
            "matches": true
           },
           "label": "MC-LR_conc",
           "values": [
            343.4,
            2.65,
            1.17,
            0.095,
            0.22,
            0.29,
            0.14,
            0.67,
            0.68,
            0.24,
            0.11,
            0.067
           ]
          },
          {
           "axis": {
            "matches": true
           },
           "label": "Total_cyano_cell_count",
           "values": [
            311994,
            185893,
            4026,
            0,
            102573,
            8760,
            43188,
            131653,
            155164,
            517417,
            7084,
            0
           ]
          },
          {
           "axis": {
            "matches": true
           },
           "label": "Microcystis_mcyE",
           "values": [
            79750000,
            392.5,
            1335,
            181.75,
            0,
            223,
            0,
            0,
            163.75,
            3225,
            1030,
            192.25
           ]
          },
          {
           "axis": {
            "matches": true
           },
           "label": "Anabaena_mcyE",
           "values": [
            11800,
            0,
            0,
            0,
            0,
            2700,
            0,
            0,
            7225,
            51.5,
            0,
            0
           ]
          },
          {
           "axis": {
            "matches": true
           },
           "label": "Planktothrix_mcyE",
           "values": [
            0,
            0,
            0,
            0,
            0,
            0,
            0,
            0,
            0,
            0,
            0,
            0
           ]
          }
         ],
         "hovertemplate": "Waterbody_name=Moose Lake<br>%{xaxis.title.text}=%{x}<br>%{yaxis.title.text}=%{y}<extra></extra>",
         "legendgroup": "Moose Lake",
         "marker": {
          "color": "#FF97FF",
          "symbol": "circle"
         },
         "name": "Moose Lake",
         "showlegend": true,
         "type": "splom"
        },
        {
         "dimensions": [
          {
           "axis": {
            "matches": true
           },
           "label": "MC-LR_conc",
           "values": [
            0,
            0.05,
            0.06,
            0.07,
            0.06,
            0.05,
            0.09,
            0.07,
            0.08,
            0.1,
            0.24,
            0.23,
            0.33
           ]
          },
          {
           "axis": {
            "matches": true
           },
           "label": "Total_cyano_cell_count",
           "values": [
            0,
            288006,
            157372,
            0,
            33257,
            0,
            38197,
            49656,
            63662,
            26789,
            21135,
            40488,
            206875
           ]
          },
          {
           "axis": {
            "matches": true
           },
           "label": "Microcystis_mcyE",
           "values": [
            122.25,
            0,
            0,
            0,
            0,
            3550,
            0,
            103.5,
            0,
            345,
            510,
            337.5,
            635
           ]
          },
          {
           "axis": {
            "matches": true
           },
           "label": "Anabaena_mcyE",
           "values": [
            310,
            0,
            0,
            0,
            0,
            0,
            0,
            0,
            0,
            0,
            0,
            160.75,
            69
           ]
          },
          {
           "axis": {
            "matches": true
           },
           "label": "Planktothrix_mcyE",
           "values": [
            0,
            0,
            0,
            0,
            0,
            0,
            0,
            0,
            0,
            0,
            0,
            0,
            0
           ]
          }
         ],
         "hovertemplate": "Waterbody_name=McLeod (Carson) Lake<br>%{xaxis.title.text}=%{x}<br>%{yaxis.title.text}=%{y}<extra></extra>",
         "legendgroup": "McLeod (Carson) Lake",
         "marker": {
          "color": "#FECB52",
          "symbol": "circle"
         },
         "name": "McLeod (Carson) Lake",
         "showlegend": true,
         "type": "splom"
        },
        {
         "dimensions": [
          {
           "axis": {
            "matches": true
           },
           "label": "MC-LR_conc",
           "values": [
            8.41,
            1.93,
            2.18,
            5.69,
            0.14,
            0.3,
            4.57
           ]
          },
          {
           "axis": {
            "matches": true
           },
           "label": "Total_cyano_cell_count",
           "values": [
            114787,
            63804,
            30194,
            63192,
            41818,
            151872,
            162975
           ]
          },
          {
           "axis": {
            "matches": true
           },
           "label": "Microcystis_mcyE",
           "values": [
            41750,
            20225,
            37750,
            56000,
            0,
            2875,
            497500
           ]
          },
          {
           "axis": {
            "matches": true
           },
           "label": "Anabaena_mcyE",
           "values": [
            0,
            0,
            0,
            0,
            0,
            0,
            0
           ]
          },
          {
           "axis": {
            "matches": true
           },
           "label": "Planktothrix_mcyE",
           "values": [
            0,
            0,
            0,
            0,
            0,
            0,
            0
           ]
          }
         ],
         "hovertemplate": "Waterbody_name=Goose Lake<br>%{xaxis.title.text}=%{x}<br>%{yaxis.title.text}=%{y}<extra></extra>",
         "legendgroup": "Goose Lake",
         "marker": {
          "color": "#636efa",
          "symbol": "circle"
         },
         "name": "Goose Lake",
         "showlegend": true,
         "type": "splom"
        },
        {
         "dimensions": [
          {
           "axis": {
            "matches": true
           },
           "label": "MC-LR_conc",
           "values": [
            2.82,
            2.78,
            3.98,
            0.31,
            1.42,
            0.4,
            0.27,
            0.1,
            0.116,
            0.068
           ]
          },
          {
           "axis": {
            "matches": true
           },
           "label": "Total_cyano_cell_count",
           "values": [
            133487,
            1308379,
            700280,
            184620,
            636618,
            280112,
            432900,
            3896,
            38197,
            1935
           ]
          },
          {
           "axis": {
            "matches": true
           },
           "label": "Microcystis_mcyE",
           "values": [
            38750,
            35250,
            82,
            937.5,
            272.5,
            235.25,
            1037.5,
            2750,
            168.25,
            1137.5
           ]
          },
          {
           "axis": {
            "matches": true
           },
           "label": "Anabaena_mcyE",
           "values": [
            0,
            0,
            0,
            0,
            0,
            0,
            0,
            0,
            0,
            0
           ]
          },
          {
           "axis": {
            "matches": true
           },
           "label": "Planktothrix_mcyE",
           "values": [
            0,
            0,
            0,
            0,
            0,
            0,
            0,
            0,
            0,
            0
           ]
          }
         ],
         "hovertemplate": "Waterbody_name=Smoke Lake<br>%{xaxis.title.text}=%{x}<br>%{yaxis.title.text}=%{y}<extra></extra>",
         "legendgroup": "Smoke Lake",
         "marker": {
          "color": "#EF553B",
          "symbol": "circle"
         },
         "name": "Smoke Lake",
         "showlegend": true,
         "type": "splom"
        },
        {
         "dimensions": [
          {
           "axis": {
            "matches": true
           },
           "label": "MC-LR_conc",
           "values": [
            0.06,
            0.21
           ]
          },
          {
           "axis": {
            "matches": true
           },
           "label": "Total_cyano_cell_count",
           "values": [
            7824,
            456932
           ]
          },
          {
           "axis": {
            "matches": true
           },
           "label": "Microcystis_mcyE",
           "values": [
            30500,
            87750
           ]
          },
          {
           "axis": {
            "matches": true
           },
           "label": "Anabaena_mcyE",
           "values": [
            0,
            0
           ]
          },
          {
           "axis": {
            "matches": true
           },
           "label": "Planktothrix_mcyE",
           "values": [
            0,
            0
           ]
          }
         ],
         "hovertemplate": "Waterbody_name=Long Lake<br>%{xaxis.title.text}=%{x}<br>%{yaxis.title.text}=%{y}<extra></extra>",
         "legendgroup": "Long Lake",
         "marker": {
          "color": "#00cc96",
          "symbol": "circle"
         },
         "name": "Long Lake",
         "showlegend": true,
         "type": "splom"
        },
        {
         "dimensions": [
          {
           "axis": {
            "matches": true
           },
           "label": "MC-LR_conc",
           "values": [
            0.06,
            0.083,
            0.07,
            0.06,
            0.11,
            0.17,
            0.16,
            0.22,
            1.4,
            0.24,
            1.61,
            0.36,
            0.14
           ]
          },
          {
           "axis": {
            "matches": true
           },
           "label": "Total_cyano_cell_count",
           "values": [
            0,
            0,
            0,
            0,
            17316,
            28978,
            38197,
            17316,
            88108,
            81487,
            570410,
            308124,
            112045
           ]
          },
          {
           "axis": {
            "matches": true
           },
           "label": "Microcystis_mcyE",
           "values": [
            167,
            0,
            410,
            0,
            610,
            9475,
            0,
            975,
            300,
            372.5,
            1782.5,
            0,
            0
           ]
          },
          {
           "axis": {
            "matches": true
           },
           "label": "Anabaena_mcyE",
           "values": [
            0,
            0,
            0,
            0,
            0,
            392.5,
            0,
            0,
            0,
            0,
            0,
            0,
            0
           ]
          },
          {
           "axis": {
            "matches": true
           },
           "label": "Planktothrix_mcyE",
           "values": [
            0,
            0,
            0,
            0,
            0,
            0,
            0,
            0,
            0,
            0,
            0,
            0,
            0
           ]
          }
         ],
         "hovertemplate": "Waterbody_name=Iosegun Lake<br>%{xaxis.title.text}=%{x}<br>%{yaxis.title.text}=%{y}<extra></extra>",
         "legendgroup": "Iosegun Lake",
         "marker": {
          "color": "#ab63fa",
          "symbol": "circle"
         },
         "name": "Iosegun Lake",
         "showlegend": true,
         "type": "splom"
        },
        {
         "dimensions": [
          {
           "axis": {
            "matches": true
           },
           "label": "MC-LR_conc",
           "values": [
            0.07
           ]
          },
          {
           "axis": {
            "matches": true
           },
           "label": "Total_cyano_cell_count",
           "values": [
            0
           ]
          },
          {
           "axis": {
            "matches": true
           },
           "label": "Microcystis_mcyE",
           "values": [
            0
           ]
          },
          {
           "axis": {
            "matches": true
           },
           "label": "Anabaena_mcyE",
           "values": [
            0
           ]
          },
          {
           "axis": {
            "matches": true
           },
           "label": "Planktothrix_mcyE",
           "values": [
            0
           ]
          }
         ],
         "hovertemplate": "Waterbody_name=Crane (Moore) Lake<br>%{xaxis.title.text}=%{x}<br>%{yaxis.title.text}=%{y}<extra></extra>",
         "legendgroup": "Crane (Moore) Lake",
         "marker": {
          "color": "#FFA15A",
          "symbol": "circle"
         },
         "name": "Crane (Moore) Lake",
         "showlegend": true,
         "type": "splom"
        },
        {
         "dimensions": [
          {
           "axis": {
            "matches": true
           },
           "label": "MC-LR_conc",
           "values": [
            3.93
           ]
          },
          {
           "axis": {
            "matches": true
           },
           "label": "Total_cyano_cell_count",
           "values": [
            490080
           ]
          },
          {
           "axis": {
            "matches": true
           },
           "label": "Microcystis_mcyE",
           "values": [
            1555
           ]
          },
          {
           "axis": {
            "matches": true
           },
           "label": "Anabaena_mcyE",
           "values": [
            6275
           ]
          },
          {
           "axis": {
            "matches": true
           },
           "label": "Planktothrix_mcyE",
           "values": [
            0
           ]
          }
         ],
         "hovertemplate": "Waterbody_name=Skeleton Lake<br>%{xaxis.title.text}=%{x}<br>%{yaxis.title.text}=%{y}<extra></extra>",
         "legendgroup": "Skeleton Lake",
         "marker": {
          "color": "#19d3f3",
          "symbol": "circle"
         },
         "name": "Skeleton Lake",
         "showlegend": true,
         "type": "splom"
        },
        {
         "dimensions": [
          {
           "axis": {
            "matches": true
           },
           "label": "MC-LR_conc",
           "values": [
            0.55
           ]
          },
          {
           "axis": {
            "matches": true
           },
           "label": "Total_cyano_cell_count",
           "values": [
            1550970
           ]
          },
          {
           "axis": {
            "matches": true
           },
           "label": "Microcystis_mcyE",
           "values": [
            985
           ]
          },
          {
           "axis": {
            "matches": true
           },
           "label": "Anabaena_mcyE",
           "values": [
            0
           ]
          },
          {
           "axis": {
            "matches": true
           },
           "label": "Planktothrix_mcyE",
           "values": [
            0
           ]
          }
         ],
         "hovertemplate": "Waterbody_name=Steele (Cross) Lake<br>%{xaxis.title.text}=%{x}<br>%{yaxis.title.text}=%{y}<extra></extra>",
         "legendgroup": "Steele (Cross) Lake",
         "marker": {
          "color": "#FF6692",
          "symbol": "circle"
         },
         "name": "Steele (Cross) Lake",
         "showlegend": true,
         "type": "splom"
        },
        {
         "dimensions": [
          {
           "axis": {
            "matches": true
           },
           "label": "MC-LR_conc",
           "values": [
            0,
            0,
            0,
            0,
            0,
            0,
            0,
            0,
            0.1,
            0,
            0,
            0,
            0,
            0,
            0,
            0.1
           ]
          },
          {
           "axis": {
            "matches": true
           },
           "label": "Total_cyano_cell_count",
           "values": [
            27,
            122231,
            0,
            6906,
            1185307,
            446905,
            146820,
            360227,
            95165,
            36389,
            1901,
            8946,
            261022,
            144872,
            584644,
            146890
           ]
          },
          {
           "axis": {
            "matches": true
           },
           "label": "Microcystis_mcyE",
           "values": [
            0,
            0,
            0,
            487.5,
            625,
            0,
            53.25,
            55.25,
            0,
            322.5,
            175.75,
            752.5,
            0,
            0,
            0,
            662.5
           ]
          },
          {
           "axis": {
            "matches": true
           },
           "label": "Anabaena_mcyE",
           "values": [
            0,
            0,
            0,
            0,
            0,
            0,
            0,
            0,
            0,
            0,
            0,
            0,
            0,
            0,
            0,
            0
           ]
          },
          {
           "axis": {
            "matches": true
           },
           "label": "Planktothrix_mcyE",
           "values": [
            0,
            0,
            0,
            0,
            0,
            0,
            0,
            0,
            0,
            0,
            0,
            0,
            0,
            0,
            0,
            0
           ]
          }
         ],
         "hovertemplate": "Waterbody_name=North Buck Lake<br>%{xaxis.title.text}=%{x}<br>%{yaxis.title.text}=%{y}<extra></extra>",
         "legendgroup": "North Buck Lake",
         "marker": {
          "color": "#B6E880",
          "symbol": "circle"
         },
         "name": "North Buck Lake",
         "showlegend": true,
         "type": "splom"
        },
        {
         "dimensions": [
          {
           "axis": {
            "matches": true
           },
           "label": "MC-LR_conc",
           "values": [
            0,
            0,
            0,
            0,
            0,
            0,
            0,
            0,
            0,
            0,
            0,
            0,
            0,
            0,
            0,
            0
           ]
          },
          {
           "axis": {
            "matches": true
           },
           "label": "Total_cyano_cell_count",
           "values": [
            171473,
            1630,
            159224,
            63662,
            5170,
            93,
            12567,
            8343,
            451249,
            86972,
            66675,
            7209,
            201485,
            187546,
            30707,
            48
           ]
          },
          {
           "axis": {
            "matches": true
           },
           "label": "Microcystis_mcyE",
           "values": [
            0,
            0,
            0,
            0,
            0,
            105,
            0,
            0,
            0,
            0,
            0,
            0,
            0,
            0,
            0,
            0
           ]
          },
          {
           "axis": {
            "matches": true
           },
           "label": "Anabaena_mcyE",
           "values": [
            0,
            0,
            0,
            0,
            0,
            0,
            0,
            0,
            0,
            0,
            0,
            0,
            0,
            0,
            0,
            0
           ]
          },
          {
           "axis": {
            "matches": true
           },
           "label": "Planktothrix_mcyE",
           "values": [
            0,
            0,
            0,
            0,
            0,
            0,
            0,
            0,
            0,
            0,
            0,
            0,
            192.25,
            0,
            0,
            0
           ]
          }
         ],
         "hovertemplate": "Waterbody_name=Hope Lake<br>%{xaxis.title.text}=%{x}<br>%{yaxis.title.text}=%{y}<extra></extra>",
         "legendgroup": "Hope Lake",
         "marker": {
          "color": "#FF97FF",
          "symbol": "circle"
         },
         "name": "Hope Lake",
         "showlegend": true,
         "type": "splom"
        },
        {
         "dimensions": [
          {
           "axis": {
            "matches": true
           },
           "label": "MC-LR_conc",
           "values": [
            0,
            0,
            0,
            0,
            0.18,
            0.4,
            0,
            0,
            0.23,
            0.48
           ]
          },
          {
           "axis": {
            "matches": true
           },
           "label": "Total_cyano_cell_count",
           "values": [
            13859,
            19095,
            117712,
            144753,
            100404,
            14784,
            0,
            10780,
            1107195,
            135574
           ]
          },
          {
           "axis": {
            "matches": true
           },
           "label": "Microcystis_mcyE",
           "values": [
            0,
            171.75,
            0,
            0,
            0,
            47000,
            0,
            0,
            392.5,
            183.5
           ]
          },
          {
           "axis": {
            "matches": true
           },
           "label": "Anabaena_mcyE",
           "values": [
            0,
            0,
            0,
            0,
            0,
            0,
            0,
            0,
            0,
            0
           ]
          },
          {
           "axis": {
            "matches": true
           },
           "label": "Planktothrix_mcyE",
           "values": [
            0,
            0,
            0,
            0,
            0,
            0,
            0,
            0,
            0,
            0
           ]
          }
         ],
         "hovertemplate": "Waterbody_name=Baptiste Lake<br>%{xaxis.title.text}=%{x}<br>%{yaxis.title.text}=%{y}<extra></extra>",
         "legendgroup": "Baptiste Lake",
         "marker": {
          "color": "#FECB52",
          "symbol": "circle"
         },
         "name": "Baptiste Lake",
         "showlegend": true,
         "type": "splom"
        },
        {
         "dimensions": [
          {
           "axis": {
            "matches": true
           },
           "label": "MC-LR_conc",
           "values": [
            0.52
           ]
          },
          {
           "axis": {
            "matches": true
           },
           "label": "Total_cyano_cell_count",
           "values": [
            1793582
           ]
          },
          {
           "axis": {
            "matches": true
           },
           "label": "Microcystis_mcyE",
           "values": [
            92.75
           ]
          },
          {
           "axis": {
            "matches": true
           },
           "label": "Anabaena_mcyE",
           "values": [
            525
           ]
          },
          {
           "axis": {
            "matches": true
           },
           "label": "Planktothrix_mcyE",
           "values": [
            0
           ]
          }
         ],
         "hovertemplate": "Waterbody_name=Beaver Lake<br>%{xaxis.title.text}=%{x}<br>%{yaxis.title.text}=%{y}<extra></extra>",
         "legendgroup": "Beaver Lake",
         "marker": {
          "color": "#636efa",
          "symbol": "circle"
         },
         "name": "Beaver Lake",
         "showlegend": true,
         "type": "splom"
        },
        {
         "dimensions": [
          {
           "axis": {
            "matches": true
           },
           "label": "MC-LR_conc",
           "values": [
            0.1,
            0.053,
            0.07,
            0.29,
            0.2,
            0.15,
            0.31,
            0.12,
            0,
            3.37
           ]
          },
          {
           "axis": {
            "matches": true
           },
           "label": "Total_cyano_cell_count",
           "values": [
            422205,
            0,
            0,
            19609,
            43672,
            398362,
            89460,
            51126,
            59996,
            381
           ]
          },
          {
           "axis": {
            "matches": true
           },
           "label": "Microcystis_mcyE",
           "values": [
            0,
            0,
            1432.5,
            4925,
            228,
            1850,
            0,
            0,
            0,
            13075
           ]
          },
          {
           "axis": {
            "matches": true
           },
           "label": "Anabaena_mcyE",
           "values": [
            0,
            0,
            0,
            0,
            0,
            0,
            0,
            0,
            0,
            56.25
           ]
          },
          {
           "axis": {
            "matches": true
           },
           "label": "Planktothrix_mcyE",
           "values": [
            0,
            0,
            0,
            0,
            0,
            0,
            0,
            0,
            0,
            0
           ]
          }
         ],
         "hovertemplate": "Waterbody_name=Lac La Biche<br>%{xaxis.title.text}=%{x}<br>%{yaxis.title.text}=%{y}<extra></extra>",
         "legendgroup": "Lac La Biche",
         "marker": {
          "color": "#EF553B",
          "symbol": "circle"
         },
         "name": "Lac La Biche",
         "showlegend": true,
         "type": "splom"
        },
        {
         "dimensions": [
          {
           "axis": {
            "matches": true
           },
           "label": "MC-LR_conc",
           "values": [
            0,
            0.59,
            0.49,
            0,
            0.52,
            0.99,
            0.41,
            0.36,
            0.2,
            0.19,
            0.28,
            0.4,
            0.39,
            0.32,
            0.19,
            0
           ]
          },
          {
           "axis": {
            "matches": true
           },
           "label": "Total_cyano_cell_count",
           "values": [
            184842,
            360581,
            153384,
            299376,
            73941,
            123658,
            45470,
            113498,
            99665,
            412834,
            206264,
            38961,
            555619,
            80235,
            145537,
            13026
           ]
          },
          {
           "axis": {
            "matches": true
           },
           "label": "Microcystis_mcyE",
           "values": [
            216.75,
            470,
            1775,
            3500,
            0,
            507.5,
            0,
            1072.5,
            2650,
            6225,
            58.25,
            1435,
            92.25,
            0,
            1477.5,
            0
           ]
          },
          {
           "axis": {
            "matches": true
           },
           "label": "Anabaena_mcyE",
           "values": [
            1090,
            620,
            407.5,
            1015,
            0,
            70,
            0,
            193.5,
            105.75,
            89,
            0,
            163,
            0,
            0,
            0,
            0
           ]
          },
          {
           "axis": {
            "matches": true
           },
           "label": "Planktothrix_mcyE",
           "values": [
            0,
            0,
            0,
            0,
            0,
            0,
            0,
            0,
            0,
            0,
            0,
            0,
            0,
            0,
            0,
            0
           ]
          }
         ],
         "hovertemplate": "Waterbody_name=Jackfish Lake (Athabasca)<br>%{xaxis.title.text}=%{x}<br>%{yaxis.title.text}=%{y}<extra></extra>",
         "legendgroup": "Jackfish Lake (Athabasca)",
         "marker": {
          "color": "#00cc96",
          "symbol": "circle"
         },
         "name": "Jackfish Lake (Athabasca)",
         "showlegend": true,
         "type": "splom"
        },
        {
         "dimensions": [
          {
           "axis": {
            "matches": true
           },
           "label": "MC-LR_conc",
           "values": [
            0.09,
            0.077,
            0.66,
            1.1,
            0.17,
            0.2,
            0.12,
            0.2
           ]
          },
          {
           "axis": {
            "matches": true
           },
           "label": "Total_cyano_cell_count",
           "values": [
            21288,
            0,
            45837,
            297938,
            8632,
            208297,
            99313,
            618793
           ]
          },
          {
           "axis": {
            "matches": true
           },
           "label": "Microcystis_mcyE",
           "values": [
            0,
            0,
            2237.5,
            6625,
            582.5,
            194.25,
            307.5,
            345
           ]
          },
          {
           "axis": {
            "matches": true
           },
           "label": "Anabaena_mcyE",
           "values": [
            0,
            0,
            0,
            0,
            0,
            0,
            0,
            0
           ]
          },
          {
           "axis": {
            "matches": true
           },
           "label": "Planktothrix_mcyE",
           "values": [
            0,
            0,
            0,
            0,
            0,
            0,
            0,
            0
           ]
          }
         ],
         "hovertemplate": "Waterbody_name=Sturgeon Lake<br>%{xaxis.title.text}=%{x}<br>%{yaxis.title.text}=%{y}<extra></extra>",
         "legendgroup": "Sturgeon Lake",
         "marker": {
          "color": "#ab63fa",
          "symbol": "circle"
         },
         "name": "Sturgeon Lake",
         "showlegend": true,
         "type": "splom"
        },
        {
         "dimensions": [
          {
           "axis": {
            "matches": true
           },
           "label": "MC-LR_conc",
           "values": [
            0,
            0,
            0,
            0,
            0,
            0.13,
            2.45,
            0,
            2.34
           ]
          },
          {
           "axis": {
            "matches": true
           },
           "label": "Total_cyano_cell_count",
           "values": [
            0,
            616,
            0,
            91349,
            62028,
            135334,
            186772,
            12381,
            274172
           ]
          },
          {
           "axis": {
            "matches": true
           },
           "label": "Microcystis_mcyE",
           "values": [
            0,
            0,
            0,
            0,
            0,
            0,
            0,
            0,
            61500
           ]
          },
          {
           "axis": {
            "matches": true
           },
           "label": "Anabaena_mcyE",
           "values": [
            0,
            0,
            0,
            0,
            0,
            0,
            151,
            0,
            70.75
           ]
          },
          {
           "axis": {
            "matches": true
           },
           "label": "Planktothrix_mcyE",
           "values": [
            0,
            0,
            0,
            0,
            0,
            0,
            0,
            0,
            0
           ]
          }
         ],
         "hovertemplate": "Waterbody_name=Calling Lake<br>%{xaxis.title.text}=%{x}<br>%{yaxis.title.text}=%{y}<extra></extra>",
         "legendgroup": "Calling Lake",
         "marker": {
          "color": "#FFA15A",
          "symbol": "circle"
         },
         "name": "Calling Lake",
         "showlegend": true,
         "type": "splom"
        },
        {
         "dimensions": [
          {
           "axis": {
            "matches": true
           },
           "label": "MC-LR_conc",
           "values": [
            3.2,
            14.49,
            0.08,
            0.16,
            1.62,
            0.063,
            2.88
           ]
          },
          {
           "axis": {
            "matches": true
           },
           "label": "Total_cyano_cell_count",
           "values": [
            58144,
            43291,
            79094,
            47110,
            408709,
            11765,
            42017
           ]
          },
          {
           "axis": {
            "matches": true
           },
           "label": "Microcystis_mcyE",
           "values": [
            385,
            17275,
            0,
            0,
            0,
            0,
            505
           ]
          },
          {
           "axis": {
            "matches": true
           },
           "label": "Anabaena_mcyE",
           "values": [
            0,
            0,
            0,
            0,
            0,
            0,
            0
           ]
          },
          {
           "axis": {
            "matches": true
           },
           "label": "Planktothrix_mcyE",
           "values": [
            0,
            0,
            0,
            0,
            0,
            0,
            0
           ]
          }
         ],
         "hovertemplate": "Waterbody_name=Moonshine Lake<br>%{xaxis.title.text}=%{x}<br>%{yaxis.title.text}=%{y}<extra></extra>",
         "legendgroup": "Moonshine Lake",
         "marker": {
          "color": "#19d3f3",
          "symbol": "circle"
         },
         "name": "Moonshine Lake",
         "showlegend": true,
         "type": "splom"
        }
       ],
       "layout": {
        "dragmode": "select",
        "height": 1000,
        "legend": {
         "title": {
          "text": "Waterbody_name"
         },
         "tracegroupgap": 0
        },
        "margin": {
         "t": 60
        },
        "template": {
         "data": {
          "bar": [
           {
            "error_x": {
             "color": "#2a3f5f"
            },
            "error_y": {
             "color": "#2a3f5f"
            },
            "marker": {
             "line": {
              "color": "#E5ECF6",
              "width": 0.5
             },
             "pattern": {
              "fillmode": "overlay",
              "size": 10,
              "solidity": 0.2
             }
            },
            "type": "bar"
           }
          ],
          "barpolar": [
           {
            "marker": {
             "line": {
              "color": "#E5ECF6",
              "width": 0.5
             },
             "pattern": {
              "fillmode": "overlay",
              "size": 10,
              "solidity": 0.2
             }
            },
            "type": "barpolar"
           }
          ],
          "carpet": [
           {
            "aaxis": {
             "endlinecolor": "#2a3f5f",
             "gridcolor": "white",
             "linecolor": "white",
             "minorgridcolor": "white",
             "startlinecolor": "#2a3f5f"
            },
            "baxis": {
             "endlinecolor": "#2a3f5f",
             "gridcolor": "white",
             "linecolor": "white",
             "minorgridcolor": "white",
             "startlinecolor": "#2a3f5f"
            },
            "type": "carpet"
           }
          ],
          "choropleth": [
           {
            "colorbar": {
             "outlinewidth": 0,
             "ticks": ""
            },
            "type": "choropleth"
           }
          ],
          "contour": [
           {
            "colorbar": {
             "outlinewidth": 0,
             "ticks": ""
            },
            "colorscale": [
             [
              0,
              "#0d0887"
             ],
             [
              0.1111111111111111,
              "#46039f"
             ],
             [
              0.2222222222222222,
              "#7201a8"
             ],
             [
              0.3333333333333333,
              "#9c179e"
             ],
             [
              0.4444444444444444,
              "#bd3786"
             ],
             [
              0.5555555555555556,
              "#d8576b"
             ],
             [
              0.6666666666666666,
              "#ed7953"
             ],
             [
              0.7777777777777778,
              "#fb9f3a"
             ],
             [
              0.8888888888888888,
              "#fdca26"
             ],
             [
              1,
              "#f0f921"
             ]
            ],
            "type": "contour"
           }
          ],
          "contourcarpet": [
           {
            "colorbar": {
             "outlinewidth": 0,
             "ticks": ""
            },
            "type": "contourcarpet"
           }
          ],
          "heatmap": [
           {
            "colorbar": {
             "outlinewidth": 0,
             "ticks": ""
            },
            "colorscale": [
             [
              0,
              "#0d0887"
             ],
             [
              0.1111111111111111,
              "#46039f"
             ],
             [
              0.2222222222222222,
              "#7201a8"
             ],
             [
              0.3333333333333333,
              "#9c179e"
             ],
             [
              0.4444444444444444,
              "#bd3786"
             ],
             [
              0.5555555555555556,
              "#d8576b"
             ],
             [
              0.6666666666666666,
              "#ed7953"
             ],
             [
              0.7777777777777778,
              "#fb9f3a"
             ],
             [
              0.8888888888888888,
              "#fdca26"
             ],
             [
              1,
              "#f0f921"
             ]
            ],
            "type": "heatmap"
           }
          ],
          "heatmapgl": [
           {
            "colorbar": {
             "outlinewidth": 0,
             "ticks": ""
            },
            "colorscale": [
             [
              0,
              "#0d0887"
             ],
             [
              0.1111111111111111,
              "#46039f"
             ],
             [
              0.2222222222222222,
              "#7201a8"
             ],
             [
              0.3333333333333333,
              "#9c179e"
             ],
             [
              0.4444444444444444,
              "#bd3786"
             ],
             [
              0.5555555555555556,
              "#d8576b"
             ],
             [
              0.6666666666666666,
              "#ed7953"
             ],
             [
              0.7777777777777778,
              "#fb9f3a"
             ],
             [
              0.8888888888888888,
              "#fdca26"
             ],
             [
              1,
              "#f0f921"
             ]
            ],
            "type": "heatmapgl"
           }
          ],
          "histogram": [
           {
            "marker": {
             "pattern": {
              "fillmode": "overlay",
              "size": 10,
              "solidity": 0.2
             }
            },
            "type": "histogram"
           }
          ],
          "histogram2d": [
           {
            "colorbar": {
             "outlinewidth": 0,
             "ticks": ""
            },
            "colorscale": [
             [
              0,
              "#0d0887"
             ],
             [
              0.1111111111111111,
              "#46039f"
             ],
             [
              0.2222222222222222,
              "#7201a8"
             ],
             [
              0.3333333333333333,
              "#9c179e"
             ],
             [
              0.4444444444444444,
              "#bd3786"
             ],
             [
              0.5555555555555556,
              "#d8576b"
             ],
             [
              0.6666666666666666,
              "#ed7953"
             ],
             [
              0.7777777777777778,
              "#fb9f3a"
             ],
             [
              0.8888888888888888,
              "#fdca26"
             ],
             [
              1,
              "#f0f921"
             ]
            ],
            "type": "histogram2d"
           }
          ],
          "histogram2dcontour": [
           {
            "colorbar": {
             "outlinewidth": 0,
             "ticks": ""
            },
            "colorscale": [
             [
              0,
              "#0d0887"
             ],
             [
              0.1111111111111111,
              "#46039f"
             ],
             [
              0.2222222222222222,
              "#7201a8"
             ],
             [
              0.3333333333333333,
              "#9c179e"
             ],
             [
              0.4444444444444444,
              "#bd3786"
             ],
             [
              0.5555555555555556,
              "#d8576b"
             ],
             [
              0.6666666666666666,
              "#ed7953"
             ],
             [
              0.7777777777777778,
              "#fb9f3a"
             ],
             [
              0.8888888888888888,
              "#fdca26"
             ],
             [
              1,
              "#f0f921"
             ]
            ],
            "type": "histogram2dcontour"
           }
          ],
          "mesh3d": [
           {
            "colorbar": {
             "outlinewidth": 0,
             "ticks": ""
            },
            "type": "mesh3d"
           }
          ],
          "parcoords": [
           {
            "line": {
             "colorbar": {
              "outlinewidth": 0,
              "ticks": ""
             }
            },
            "type": "parcoords"
           }
          ],
          "pie": [
           {
            "automargin": true,
            "type": "pie"
           }
          ],
          "scatter": [
           {
            "marker": {
             "colorbar": {
              "outlinewidth": 0,
              "ticks": ""
             }
            },
            "type": "scatter"
           }
          ],
          "scatter3d": [
           {
            "line": {
             "colorbar": {
              "outlinewidth": 0,
              "ticks": ""
             }
            },
            "marker": {
             "colorbar": {
              "outlinewidth": 0,
              "ticks": ""
             }
            },
            "type": "scatter3d"
           }
          ],
          "scattercarpet": [
           {
            "marker": {
             "colorbar": {
              "outlinewidth": 0,
              "ticks": ""
             }
            },
            "type": "scattercarpet"
           }
          ],
          "scattergeo": [
           {
            "marker": {
             "colorbar": {
              "outlinewidth": 0,
              "ticks": ""
             }
            },
            "type": "scattergeo"
           }
          ],
          "scattergl": [
           {
            "marker": {
             "colorbar": {
              "outlinewidth": 0,
              "ticks": ""
             }
            },
            "type": "scattergl"
           }
          ],
          "scattermapbox": [
           {
            "marker": {
             "colorbar": {
              "outlinewidth": 0,
              "ticks": ""
             }
            },
            "type": "scattermapbox"
           }
          ],
          "scatterpolar": [
           {
            "marker": {
             "colorbar": {
              "outlinewidth": 0,
              "ticks": ""
             }
            },
            "type": "scatterpolar"
           }
          ],
          "scatterpolargl": [
           {
            "marker": {
             "colorbar": {
              "outlinewidth": 0,
              "ticks": ""
             }
            },
            "type": "scatterpolargl"
           }
          ],
          "scatterternary": [
           {
            "marker": {
             "colorbar": {
              "outlinewidth": 0,
              "ticks": ""
             }
            },
            "type": "scatterternary"
           }
          ],
          "surface": [
           {
            "colorbar": {
             "outlinewidth": 0,
             "ticks": ""
            },
            "colorscale": [
             [
              0,
              "#0d0887"
             ],
             [
              0.1111111111111111,
              "#46039f"
             ],
             [
              0.2222222222222222,
              "#7201a8"
             ],
             [
              0.3333333333333333,
              "#9c179e"
             ],
             [
              0.4444444444444444,
              "#bd3786"
             ],
             [
              0.5555555555555556,
              "#d8576b"
             ],
             [
              0.6666666666666666,
              "#ed7953"
             ],
             [
              0.7777777777777778,
              "#fb9f3a"
             ],
             [
              0.8888888888888888,
              "#fdca26"
             ],
             [
              1,
              "#f0f921"
             ]
            ],
            "type": "surface"
           }
          ],
          "table": [
           {
            "cells": {
             "fill": {
              "color": "#EBF0F8"
             },
             "line": {
              "color": "white"
             }
            },
            "header": {
             "fill": {
              "color": "#C8D4E3"
             },
             "line": {
              "color": "white"
             }
            },
            "type": "table"
           }
          ]
         },
         "layout": {
          "annotationdefaults": {
           "arrowcolor": "#2a3f5f",
           "arrowhead": 0,
           "arrowwidth": 1
          },
          "autotypenumbers": "strict",
          "coloraxis": {
           "colorbar": {
            "outlinewidth": 0,
            "ticks": ""
           }
          },
          "colorscale": {
           "diverging": [
            [
             0,
             "#8e0152"
            ],
            [
             0.1,
             "#c51b7d"
            ],
            [
             0.2,
             "#de77ae"
            ],
            [
             0.3,
             "#f1b6da"
            ],
            [
             0.4,
             "#fde0ef"
            ],
            [
             0.5,
             "#f7f7f7"
            ],
            [
             0.6,
             "#e6f5d0"
            ],
            [
             0.7,
             "#b8e186"
            ],
            [
             0.8,
             "#7fbc41"
            ],
            [
             0.9,
             "#4d9221"
            ],
            [
             1,
             "#276419"
            ]
           ],
           "sequential": [
            [
             0,
             "#0d0887"
            ],
            [
             0.1111111111111111,
             "#46039f"
            ],
            [
             0.2222222222222222,
             "#7201a8"
            ],
            [
             0.3333333333333333,
             "#9c179e"
            ],
            [
             0.4444444444444444,
             "#bd3786"
            ],
            [
             0.5555555555555556,
             "#d8576b"
            ],
            [
             0.6666666666666666,
             "#ed7953"
            ],
            [
             0.7777777777777778,
             "#fb9f3a"
            ],
            [
             0.8888888888888888,
             "#fdca26"
            ],
            [
             1,
             "#f0f921"
            ]
           ],
           "sequentialminus": [
            [
             0,
             "#0d0887"
            ],
            [
             0.1111111111111111,
             "#46039f"
            ],
            [
             0.2222222222222222,
             "#7201a8"
            ],
            [
             0.3333333333333333,
             "#9c179e"
            ],
            [
             0.4444444444444444,
             "#bd3786"
            ],
            [
             0.5555555555555556,
             "#d8576b"
            ],
            [
             0.6666666666666666,
             "#ed7953"
            ],
            [
             0.7777777777777778,
             "#fb9f3a"
            ],
            [
             0.8888888888888888,
             "#fdca26"
            ],
            [
             1,
             "#f0f921"
            ]
           ]
          },
          "colorway": [
           "#636efa",
           "#EF553B",
           "#00cc96",
           "#ab63fa",
           "#FFA15A",
           "#19d3f3",
           "#FF6692",
           "#B6E880",
           "#FF97FF",
           "#FECB52"
          ],
          "font": {
           "color": "#2a3f5f"
          },
          "geo": {
           "bgcolor": "white",
           "lakecolor": "white",
           "landcolor": "#E5ECF6",
           "showlakes": true,
           "showland": true,
           "subunitcolor": "white"
          },
          "hoverlabel": {
           "align": "left"
          },
          "hovermode": "closest",
          "mapbox": {
           "style": "light"
          },
          "paper_bgcolor": "white",
          "plot_bgcolor": "#E5ECF6",
          "polar": {
           "angularaxis": {
            "gridcolor": "white",
            "linecolor": "white",
            "ticks": ""
           },
           "bgcolor": "#E5ECF6",
           "radialaxis": {
            "gridcolor": "white",
            "linecolor": "white",
            "ticks": ""
           }
          },
          "scene": {
           "xaxis": {
            "backgroundcolor": "#E5ECF6",
            "gridcolor": "white",
            "gridwidth": 2,
            "linecolor": "white",
            "showbackground": true,
            "ticks": "",
            "zerolinecolor": "white"
           },
           "yaxis": {
            "backgroundcolor": "#E5ECF6",
            "gridcolor": "white",
            "gridwidth": 2,
            "linecolor": "white",
            "showbackground": true,
            "ticks": "",
            "zerolinecolor": "white"
           },
           "zaxis": {
            "backgroundcolor": "#E5ECF6",
            "gridcolor": "white",
            "gridwidth": 2,
            "linecolor": "white",
            "showbackground": true,
            "ticks": "",
            "zerolinecolor": "white"
           }
          },
          "shapedefaults": {
           "line": {
            "color": "#2a3f5f"
           }
          },
          "ternary": {
           "aaxis": {
            "gridcolor": "white",
            "linecolor": "white",
            "ticks": ""
           },
           "baxis": {
            "gridcolor": "white",
            "linecolor": "white",
            "ticks": ""
           },
           "bgcolor": "#E5ECF6",
           "caxis": {
            "gridcolor": "white",
            "linecolor": "white",
            "ticks": ""
           }
          },
          "title": {
           "x": 0.05
          },
          "xaxis": {
           "automargin": true,
           "gridcolor": "white",
           "linecolor": "white",
           "ticks": "",
           "title": {
            "standoff": 15
           },
           "zerolinecolor": "white",
           "zerolinewidth": 2
          },
          "yaxis": {
           "automargin": true,
           "gridcolor": "white",
           "linecolor": "white",
           "ticks": "",
           "title": {
            "standoff": 15
           },
           "zerolinecolor": "white",
           "zerolinewidth": 2
          }
         }
        },
        "width": 1200,
        "xaxis": {
         "type": "log"
        },
        "yaxis": {
         "type": "log"
        }
       }
      },
      "text/html": [
       "<div>                            <div id=\"c72ff7ce-1a1d-406a-bcff-a31c34193d09\" class=\"plotly-graph-div\" style=\"height:1000px; width:1200px;\"></div>            <script type=\"text/javascript\">                require([\"plotly\"], function(Plotly) {                    window.PLOTLYENV=window.PLOTLYENV || {};                                    if (document.getElementById(\"c72ff7ce-1a1d-406a-bcff-a31c34193d09\")) {                    Plotly.newPlot(                        \"c72ff7ce-1a1d-406a-bcff-a31c34193d09\",                        [{\"dimensions\":[{\"axis\":{\"matches\":true},\"label\":\"MC-LR_conc\",\"values\":[0.0,0.05,0.06,0.07,0.06,0.0,0.05,0.05,0.05,0.0,0.06,0.05,0.0,0.0,0.0,0.0,0.0,0.0,0.0,0.0,0.0,0.0,0.0,0.0,0.0,0.0,0.18,0.11,0.0,0.0,0.0,0.0,0.0,0.0,0.0,0.0,0.0,0.11,0.11,0.0]},{\"axis\":{\"matches\":true},\"label\":\"Total_cyano_cell_count\",\"values\":[22915.0,8352.0,0.0,0.0,0.0,0.0,0.0,0.0,0.0,22918.0,7639.0,0.0,2772.0,23422.0,4161.0,0.0,0.0,0.0,0.0,0.0,0.0,0.0,0.0,0.0,28787.0,0.0,0.0,3588.0,4004.0,31415.0,0.0,3326.0,0.0,77428.0,46752.0,175552.0,0.0,0.0,110875.0,1366.0]},{\"axis\":{\"matches\":true},\"label\":\"Microcystis_mcyE\",\"values\":[0.0,0.0,0.0,0.0,0.0,0.0,0.0,0.0,0.0,0.0,0.0,0.0,0.0,0.0,0.0,0.0,0.0,0.0,0.0,0.0,0.0,0.0,0.0,0.0,0.0,0.0,0.0,0.0,0.0,0.0,0.0,0.0,0.0,0.0,0.0,0.0,0.0,0.0,0.0,0.0]},{\"axis\":{\"matches\":true},\"label\":\"Anabaena_mcyE\",\"values\":[0.0,0.0,0.0,0.0,0.0,0.0,0.0,0.0,0.0,0.0,0.0,0.0,0.0,0.0,0.0,0.0,0.0,0.0,0.0,0.0,0.0,0.0,0.0,0.0,0.0,0.0,0.0,0.0,0.0,0.0,0.0,0.0,0.0,0.0,0.0,0.0,0.0,0.0,0.0,0.0]},{\"axis\":{\"matches\":true},\"label\":\"Planktothrix_mcyE\",\"values\":[0.0,0.0,0.0,0.0,0.0,0.0,0.0,0.0,0.0,0.0,0.0,0.0,0.0,0.0,0.0,0.0,0.0,0.0,0.0,0.0,0.0,0.0,0.0,0.0,0.0,0.0,0.0,0.0,0.0,0.0,0.0,0.0,0.0,0.0,0.0,0.0,0.0,0.0,0.0,0.0]}],\"hovertemplate\":\"Waterbody_name=Forty Mile Reservoir<br>%{xaxis.title.text}=%{x}<br>%{yaxis.title.text}=%{y}<extra></extra>\",\"legendgroup\":\"Forty Mile Reservoir\",\"marker\":{\"color\":\"#636efa\",\"symbol\":\"circle\"},\"name\":\"Forty Mile Reservoir\",\"showlegend\":true,\"type\":\"splom\"},{\"dimensions\":[{\"axis\":{\"matches\":true},\"label\":\"MC-LR_conc\",\"values\":[4.99]},{\"axis\":{\"matches\":true},\"label\":\"Total_cyano_cell_count\",\"values\":[43355.0]},{\"axis\":{\"matches\":true},\"label\":\"Microcystis_mcyE\",\"values\":[462.5]},{\"axis\":{\"matches\":true},\"label\":\"Anabaena_mcyE\",\"values\":[0.0]},{\"axis\":{\"matches\":true},\"label\":\"Planktothrix_mcyE\",\"values\":[0.0]}],\"hovertemplate\":\"Waterbody_name=Henderson Lake<br>%{xaxis.title.text}=%{x}<br>%{yaxis.title.text}=%{y}<extra></extra>\",\"legendgroup\":\"Henderson Lake\",\"marker\":{\"color\":\"#EF553B\",\"symbol\":\"circle\"},\"name\":\"Henderson Lake\",\"showlegend\":true,\"type\":\"splom\"},{\"dimensions\":[{\"axis\":{\"matches\":true},\"label\":\"MC-LR_conc\",\"values\":[0.0,0.0,0.0,0.11,0.08,0.0,0.0,0.35,0.0,0.0,0.12,0.0,0.0,0.0,0.0,0.0,0.12,0.12,0.21,0.11,0.34,0.31,0.21,0.09,0.0,0.0,0.104,0.0,0.0,0.0,0.0,0.0,0.0,0.0,0.0,0.0,0.0]},{\"axis\":{\"matches\":true},\"label\":\"Total_cyano_cell_count\",\"values\":[23992.0,95988.0,0.0,0.0,764.0,31857.0,2266.0,5704.0,0.0,0.0,0.0,0.0,0.0,0.0,156.0,0.0,14770.0,0.0,61574.0,0.0,3820.0,7283.0,2037.0,2903.0,359.0,0.0,0.0,0.0,0.0,0.0,12319.0,0.0,0.0,0.0,1540.0,0.0,1429055.0]},{\"axis\":{\"matches\":true},\"label\":\"Microcystis_mcyE\",\"values\":[122.0,150.0,0.0,337.5,0.0,0.0,0.0,13600.0,0.0,0.0,0.0,0.0,0.0,0.0,0.0,0.0,0.0,442.5,21950.0,2825.0,5075.0,9100.0,0.0,0.0,0.0,0.0,0.0,0.0,0.0,0.0,0.0,0.0,0.0,0.0,0.0,0.0,0.0]},{\"axis\":{\"matches\":true},\"label\":\"Anabaena_mcyE\",\"values\":[0.0,0.0,0.0,0.0,0.0,0.0,0.0,0.0,0.0,0.0,0.0,0.0,0.0,0.0,0.0,0.0,0.0,0.0,0.0,0.0,0.0,0.0,0.0,0.0,0.0,0.0,0.0,0.0,0.0,0.0,0.0,0.0,0.0,0.0,0.0,0.0,0.0]},{\"axis\":{\"matches\":true},\"label\":\"Planktothrix_mcyE\",\"values\":[0.0,0.0,0.0,0.0,0.0,0.0,0.0,0.0,0.0,0.0,0.0,0.0,0.0,0.0,0.0,0.0,0.0,0.0,0.0,0.0,0.0,0.0,0.0,0.0,0.0,0.0,0.0,0.0,0.0,0.0,0.0,0.0,0.0,0.0,0.0,0.0,0.0]}],\"hovertemplate\":\"Waterbody_name=Park Lake<br>%{xaxis.title.text}=%{x}<br>%{yaxis.title.text}=%{y}<extra></extra>\",\"legendgroup\":\"Park Lake\",\"marker\":{\"color\":\"#00cc96\",\"symbol\":\"circle\"},\"name\":\"Park Lake\",\"showlegend\":true,\"type\":\"splom\"},{\"dimensions\":[{\"axis\":{\"matches\":true},\"label\":\"MC-LR_conc\",\"values\":[0.0,0.0,0.0,0.06,0.0,0.07,0.0,0.0,0.0,0.1,0.21,0.1,0.0,0.0,0.0,0.72,0.088,0.1,0.1,0.28,0.1,0.13,0.09,0.32,0.0,0.06,0.44,0.2,0.11,0.0,0.48,0.0,0.0,0.16,0.24,0.16,0.17,0.33,0.11,0.07]},{\"axis\":{\"matches\":true},\"label\":\"Total_cyano_cell_count\",\"values\":[790.0,4748.0,3973.0,184618.0,0.0,58824.0,0.0,5092.0,9884.0,47873.0,736.0,0.0,19914.0,8276.0,201426.0,120424.0,93251.0,126559.0,11457.0,141180.0,17374.0,222305.0,40108.0,69774.0,178303.0,158493.0,132366.0,28520.0,81997.0,0.0,224255.0,1047.0,29258.0,32216.0,43672.0,75888.0,29813.0,14667.0,19587.0,193353.0]},{\"axis\":{\"matches\":true},\"label\":\"Microcystis_mcyE\",\"values\":[0.0,0.0,0.0,0.0,0.0,199.25,0.0,0.0,0.0,0.0,0.0,0.0,0.0,0.0,0.0,0.0,0.0,0.0,0.0,0.0,0.0,0.0,0.0,580.0,295.0,168.0,445.0,146.75,0.0,0.0,0.0,0.0,0.0,0.0,0.0,0.0,0.0,0.0,0.0,0.0]},{\"axis\":{\"matches\":true},\"label\":\"Anabaena_mcyE\",\"values\":[0.0,0.0,0.0,0.0,0.0,0.0,0.0,0.0,372.5,0.0,7150.0,675.0,1290.0,2272.5,445.0,0.0,114.5,0.0,1712.5,1275.0,68.25,180.5,350.0,0.0,0.0,0.0,0.0,0.0,95.75,0.0,1682.5,0.0,0.0,0.0,95.0,0.0,0.0,2277.5,61.5,0.0]},{\"axis\":{\"matches\":true},\"label\":\"Planktothrix_mcyE\",\"values\":[0.0,0.0,0.0,0.0,0.0,0.0,0.0,0.0,0.0,0.0,0.0,0.0,0.0,0.0,0.0,0.0,0.0,0.0,0.0,0.0,0.0,0.0,0.0,0.0,0.0,0.0,0.0,0.0,0.0,0.0,0.0,0.0,0.0,0.0,0.0,0.0,0.0,0.0,0.0,0.0]}],\"hovertemplate\":\"Waterbody_name=Rattlesnake Lake/Sauder Reservoir<br>%{xaxis.title.text}=%{x}<br>%{yaxis.title.text}=%{y}<extra></extra>\",\"legendgroup\":\"Rattlesnake Lake/Sauder Reservoir\",\"marker\":{\"color\":\"#ab63fa\",\"symbol\":\"circle\"},\"name\":\"Rattlesnake Lake/Sauder Reservoir\",\"showlegend\":true,\"type\":\"splom\"},{\"dimensions\":[{\"axis\":{\"matches\":true},\"label\":\"MC-LR_conc\",\"values\":[0.4,0.94,0.15,0.42,0.1,0.36,0.9,0.12,0.11,0.1,0.1,0.18,0.1,0.19,0.49,0.74,0.12,0.67,1.51,1.0,0.23,0.08,0.08,0.057,0.0,0.0,0.2,0.12,0.19,0.15,0.12,0.13,0.11,0.12]},{\"axis\":{\"matches\":true},\"label\":\"Total_cyano_cell_count\",\"values\":[0.0,183856.0,15075.0,0.0,0.0,48383.0,7106.0,347286.0,1101.0,0.0,0.0,86240.0,0.0,50181.0,116990.0,77802.0,19.0,47772.0,8624.0,19303.0,17802.0,801.0,6169.0,1254.0,0.0,0.0,64677.0,0.0,0.0,6086.0,138594.0,43118.0,0.0,58517.0]},{\"axis\":{\"matches\":true},\"label\":\"Microcystis_mcyE\",\"values\":[877.5,0.0,0.0,710.0,0.0,577.5,1965.0,0.0,595.0,0.0,54.25,287.5,0.0,385.0,1925.0,2120.0,392.5,8775.0,35750.0,13125.0,835.0,0.0,0.0,0.0,55.75,0.0,0.0,0.0,1437.5,0.0,186.25,169.0,0.0,0.0]},{\"axis\":{\"matches\":true},\"label\":\"Anabaena_mcyE\",\"values\":[0.0,0.0,0.0,0.0,0.0,0.0,0.0,0.0,0.0,0.0,0.0,397.5,0.0,0.0,0.0,0.0,0.0,0.0,0.0,0.0,0.0,0.0,0.0,0.0,0.0,0.0,0.0,0.0,0.0,0.0,0.0,0.0,0.0,0.0]},{\"axis\":{\"matches\":true},\"label\":\"Planktothrix_mcyE\",\"values\":[0.0,0.0,0.0,0.0,0.0,0.0,0.0,0.0,0.0,0.0,0.0,0.0,0.0,0.0,0.0,0.0,0.0,0.0,0.0,0.0,0.0,0.0,0.0,0.0,0.0,0.0,0.0,0.0,0.0,0.0,0.0,0.0,0.0,0.0]}],\"hovertemplate\":\"Waterbody_name=Pine Coulee Reservoir<br>%{xaxis.title.text}=%{x}<br>%{yaxis.title.text}=%{y}<extra></extra>\",\"legendgroup\":\"Pine Coulee Reservoir\",\"marker\":{\"color\":\"#FFA15A\",\"symbol\":\"circle\"},\"name\":\"Pine Coulee Reservoir\",\"showlegend\":true,\"type\":\"splom\"},{\"dimensions\":[{\"axis\":{\"matches\":true},\"label\":\"MC-LR_conc\",\"values\":[0.94,0.11,0.47,0.29,0.21,0.23,0.4,0.63,0.48,0.41,0.23,0.49,0.1,0.196,0.0,0.1,0.18,0.17,0.39,3.31,0.11,8.29,0.18,6.47,8.36,0.398,1.51,5.25,15.84,1.35,0.24,9.8,0.1,0.16,0.0,0.1,0.11,0.0,0.13,0.2,0.22,0.12,0.14,0.24,0.19,0.0,0.13]},{\"axis\":{\"matches\":true},\"label\":\"Total_cyano_cell_count\",\"values\":[97133.0,15533.0,7079.0,6439.0,2201.0,2956.0,134809.0,11700.0,77515.0,10441.0,16495.0,0.0,0.0,0.0,34556.0,241152.0,181773.0,79522.0,66094.0,13304.0,35358.0,204991.0,0.0,15279.0,41915.0,0.0,122639.0,117844.0,381461.0,36506.0,2801.0,272830.0,0.0,41923.0,15375.0,2471.0,0.0,0.0,866.0,12355.0,6610.0,0.0,77109.0,181061.0,1166985.0,8149.0,45831.0]},{\"axis\":{\"matches\":true},\"label\":\"Microcystis_mcyE\",\"values\":[3575.0,5400.0,7850.0,355.0,192.25,397.5,7725.0,12625.0,510.0,6050.0,2650.0,815.0,0.0,0.0,0.0,0.0,1057.5,59.75,482.5,385.0,0.0,21675.0,243.5,29500.0,352500.0,141.0,2002.5,5750.0,3075000.0,1739.9999999999998,175.5,1195000.0,0.0,0.0,0.0,0.0,0.0,0.0,0.0,0.0,0.0,0.0,0.0,0.0,0.0,0.0,0.0]},{\"axis\":{\"matches\":true},\"label\":\"Anabaena_mcyE\",\"values\":[0.0,208.25,0.0,0.0,0.0,0.0,0.0,0.0,0.0,0.0,0.0,0.0,0.0,0.0,0.0,0.0,0.0,0.0,0.0,0.0,0.0,0.0,0.0,0.0,0.0,0.0,0.0,0.0,0.0,0.0,0.0,0.0,0.0,0.0,0.0,0.0,0.0,0.0,0.0,0.0,0.0,0.0,0.0,0.0,0.0,0.0,0.0]},{\"axis\":{\"matches\":true},\"label\":\"Planktothrix_mcyE\",\"values\":[0.0,0.0,0.0,0.0,0.0,0.0,0.0,0.0,0.0,0.0,0.0,0.0,0.0,0.0,0.0,0.0,0.0,0.0,0.0,0.0,0.0,0.0,0.0,0.0,0.0,0.0,0.0,0.0,0.0,0.0,0.0,0.0,0.0,365.0,0.0,132.75,0.0,150.75,275.0,1932.5,168.25,0.0,650.0,4325.0,1192.5,0.0,470.0]}],\"hovertemplate\":\"Waterbody_name=Clear Lake<br>%{xaxis.title.text}=%{x}<br>%{yaxis.title.text}=%{y}<extra></extra>\",\"legendgroup\":\"Clear Lake\",\"marker\":{\"color\":\"#19d3f3\",\"symbol\":\"circle\"},\"name\":\"Clear Lake\",\"showlegend\":true,\"type\":\"splom\"},{\"dimensions\":[{\"axis\":{\"matches\":true},\"label\":\"MC-LR_conc\",\"values\":[0.0,0.0,0.1,0.0,0.0,0.0,0.1,0.0,0.07,0.0,0.0,0.052,0.054,0.07,0.07,0.06,0.07,0.0,0.07,0.07,0.09,0.09,0.08,0.0,0.0,0.0,0.08,0.1,0.0,0.0,0.0,0.0,0.0,0.0,0.14,0.0,0.0,0.0,0.0]},{\"axis\":{\"matches\":true},\"label\":\"Total_cyano_cell_count\",\"values\":[101986.0,0.0,0.0,0.0,0.0,0.0,1203.0,0.0,0.0,0.0,0.0,0.0,2852.0,10135.0,0.0,0.0,0.0,0.0,0.0,0.0,0.0,0.0,0.0,0.0,0.0,0.0,0.0,0.0,0.0,0.0,0.0,0.0,10780.0,3080.0,59749.0,0.0,0.0,308.0,0.0]},{\"axis\":{\"matches\":true},\"label\":\"Microcystis_mcyE\",\"values\":[0.0,0.0,0.0,0.0,0.0,0.0,0.0,0.0,0.0,0.0,0.0,0.0,0.0,0.0,0.0,0.0,0.0,0.0,0.0,0.0,0.0,0.0,0.0,0.0,0.0,0.0,0.0,187.5,0.0,0.0,0.0,0.0,0.0,0.0,0.0,0.0,0.0,0.0,0.0]},{\"axis\":{\"matches\":true},\"label\":\"Anabaena_mcyE\",\"values\":[0.0,0.0,0.0,0.0,0.0,0.0,0.0,0.0,0.0,0.0,0.0,0.0,0.0,0.0,0.0,0.0,0.0,0.0,0.0,0.0,0.0,0.0,0.0,0.0,0.0,0.0,0.0,0.0,0.0,0.0,0.0,0.0,0.0,0.0,0.0,0.0,0.0,0.0,0.0]},{\"axis\":{\"matches\":true},\"label\":\"Planktothrix_mcyE\",\"values\":[0.0,0.0,0.0,0.0,0.0,0.0,0.0,0.0,0.0,0.0,0.0,0.0,0.0,0.0,0.0,0.0,0.0,0.0,0.0,0.0,0.0,0.0,0.0,0.0,0.0,0.0,0.0,0.0,0.0,0.0,0.0,0.0,0.0,0.0,0.0,0.0,0.0,0.0,0.0]}],\"hovertemplate\":\"Waterbody_name=Enchant Municipal Lake<br>%{xaxis.title.text}=%{x}<br>%{yaxis.title.text}=%{y}<extra></extra>\",\"legendgroup\":\"Enchant Municipal Lake\",\"marker\":{\"color\":\"#FF6692\",\"symbol\":\"circle\"},\"name\":\"Enchant Municipal Lake\",\"showlegend\":true,\"type\":\"splom\"},{\"dimensions\":[{\"axis\":{\"matches\":true},\"label\":\"MC-LR_conc\",\"values\":[0.0,0.1,0.0,0.0,0.0,0.0,0.0,0.0,0.0,0.0,0.0,0.0,0.0,0.0,0.28]},{\"axis\":{\"matches\":true},\"label\":\"Total_cyano_cell_count\",\"values\":[40038.0,0.0,4743.0,0.0,0.0,0.0,678.0,0.0,1540.0,0.0,0.0,0.0,0.0,0.0,279654.0]},{\"axis\":{\"matches\":true},\"label\":\"Microcystis_mcyE\",\"values\":[0.0,0.0,0.0,0.0,0.0,0.0,0.0,0.0,0.0,0.0,0.0,0.0,0.0,0.0,0.0]},{\"axis\":{\"matches\":true},\"label\":\"Anabaena_mcyE\",\"values\":[0.0,0.0,0.0,0.0,0.0,0.0,0.0,0.0,0.0,0.0,0.0,0.0,0.0,0.0,133.0]},{\"axis\":{\"matches\":true},\"label\":\"Planktothrix_mcyE\",\"values\":[0.0,0.0,0.0,0.0,0.0,0.0,0.0,0.0,0.0,0.0,0.0,0.0,0.0,0.0,0.0]}],\"hovertemplate\":\"Waterbody_name=Chain Lakes Reservoir<br>%{xaxis.title.text}=%{x}<br>%{yaxis.title.text}=%{y}<extra></extra>\",\"legendgroup\":\"Chain Lakes Reservoir\",\"marker\":{\"color\":\"#B6E880\",\"symbol\":\"circle\"},\"name\":\"Chain Lakes Reservoir\",\"showlegend\":true,\"type\":\"splom\"},{\"dimensions\":[{\"axis\":{\"matches\":true},\"label\":\"MC-LR_conc\",\"values\":[0.14,0.1,0.0,0.1,0.14,0.0,0.0,0.1,0.0,0.0,0.0,0.0,0.0,0.0,0.0,0.14,0.15,0.19,0.1,0.0,0.0,0.0,0.0,0.0,0.0,0.0,0.0,0.22,0.0,0.0,0.23,0.0,0.0,0.0,0.11,0.13,0.07,0.12,0.09,0.0,0.0,0.0,0.0,0.0,0.0,0.0,0.0,0.0,0.0,0.0,0.0,0.0,0.0,0.1,0.0,0.0,0.09,0.08,0.09,0.08,0.58,0.0,0.0,0.056,0.11,0.0,0.0,0.0,0.11,0.0,0.0,0.0,0.13,0.17,0.3,0.0,0.2,0.12]},{\"axis\":{\"matches\":true},\"label\":\"Total_cyano_cell_count\",\"values\":[0.0,0.0,0.0,0.0,3005.0,0.0,0.0,0.0,260.0,22599.0,2180.0,0.0,6111.0,0.0,0.0,0.0,1884.0,480.0,0.0,0.0,0.0,0.0,49278.0,0.0,0.0,31.0,0.0,15941.0,0.0,0.0,3310.0,4330.0,0.0,6621.0,0.0,7036.0,46.0,5296.0,6926.0,0.0,0.0,0.0,764.0,0.0,1901.0,375.0,0.0,0.0,31.0,0.0,0.0,0.0,0.0,0.0,0.0,0.0,3769.0,59.0,0.0,2954.0,50471.0,29896.0,0.0,0.0,0.0,0.0,67757.0,0.0,0.0,0.0,75272.0,1047.0,0.0,0.0,0.0,0.0,0.0,587.0]},{\"axis\":{\"matches\":true},\"label\":\"Microcystis_mcyE\",\"values\":[0.0,0.0,0.0,0.0,0.0,82.0,485.0,0.0,0.0,0.0,0.0,0.0,0.0,0.0,0.0,782.5,158.0,0.0,510.0,121.75,0.0,0.0,0.0,0.0,0.0,0.0,0.0,140.75,0.0,0.0,357.5,1952.5,85.5,70.0,0.0,198.75,0.0,52.0,0.0,0.0,0.0,0.0,0.0,0.0,0.0,180.75,0.0,0.0,0.0,0.0,0.0,0.0,0.0,0.0,0.0,0.0,0.0,57.75,0.0,72.0,0.0,0.0,367.5,0.0,0.0,70.25,0.0,0.0,0.0,0.0,0.0,0.0,552.5,567.5,100.75,0.0,1802.5,0.0]},{\"axis\":{\"matches\":true},\"label\":\"Anabaena_mcyE\",\"values\":[0.0,0.0,0.0,0.0,0.0,0.0,0.0,0.0,985.0,667.5,295.0,0.0,832.4999999999999,0.0,65.0,1310.0,0.0,0.0,0.0,0.0,0.0,0.0,0.0,0.0,0.0,605.0,0.0,0.0,0.0,300.0,0.0,0.0,213.0,905.0,1567.5,1310.0,537.5,0.0,109.5,162.75,0.0,0.0,59.25,0.0,212.5,0.0,0.0,0.0,100.25,0.0,0.0,0.0,0.0,0.0,0.0,0.0,0.0,0.0,0.0,402.50000000000006,0.0,0.0,0.0,0.0,887.5,345.0,0.0,0.0,0.0,0.0,0.0,0.0,0.0,0.0,0.0,0.0,0.0,815.0]},{\"axis\":{\"matches\":true},\"label\":\"Planktothrix_mcyE\",\"values\":[0.0,0.0,0.0,0.0,0.0,0.0,0.0,0.0,0.0,0.0,0.0,0.0,0.0,0.0,0.0,0.0,0.0,0.0,0.0,0.0,0.0,0.0,0.0,0.0,0.0,0.0,0.0,0.0,0.0,0.0,0.0,0.0,0.0,0.0,0.0,0.0,0.0,0.0,0.0,0.0,0.0,0.0,0.0,0.0,0.0,0.0,0.0,0.0,0.0,0.0,0.0,0.0,0.0,0.0,0.0,0.0,0.0,0.0,0.0,0.0,0.0,0.0,0.0,0.0,0.0,0.0,0.0,0.0,0.0,0.0,0.0,0.0,0.0,0.0,0.0,0.0,0.0,0.0]}],\"hovertemplate\":\"Waterbody_name=Travers Reservoir<br>%{xaxis.title.text}=%{x}<br>%{yaxis.title.text}=%{y}<extra></extra>\",\"legendgroup\":\"Travers Reservoir\",\"marker\":{\"color\":\"#FF97FF\",\"symbol\":\"circle\"},\"name\":\"Travers Reservoir\",\"showlegend\":true,\"type\":\"splom\"},{\"dimensions\":[{\"axis\":{\"matches\":true},\"label\":\"MC-LR_conc\",\"values\":[0.7,0.1,0.14,0.15,0.25,3.11,3.88,2.09,1.76,0.19,0.09,0.062,120.06,7.1,7.61,3.41,17.69,0.37,0.31,0.18,0.09,0.07,0.069,3.95,1.82,0.16,0.0,0.0,0.0,0.0,0.0,0.0]},{\"axis\":{\"matches\":true},\"label\":\"Total_cyano_cell_count\",\"values\":[23224.0,1514.0,7868.0,15839.0,10417.0,166373.0,71063.0,238162.0,235916.0,65484.0,2801.0,0.0,1354214.0,527120.0,23810.0,32341.0,132162.0,0.0,0.0,48638.0,0.0,0.0,27807.0,136370.0,51360.0,1848.0,32709.0,1540.0,585789.0,0.0,46814.0,0.0]},{\"axis\":{\"matches\":true},\"label\":\"Microcystis_mcyE\",\"values\":[67.0,177.0,6125.0,1850.0,220.75,180500.0,46750.0,66500.0,12725.0,1372.5,0.0,0.0,2015000.0,8550.0,79500.0,25750.0,505000.0,0.0,280.0,290.0,0.0,0.0,0.0,140000.0,77750.0,197.25,0.0,0.0,0.0,0.0,0.0,0.0]},{\"axis\":{\"matches\":true},\"label\":\"Anabaena_mcyE\",\"values\":[0.0,0.0,0.0,0.0,0.0,0.0,0.0,0.0,0.0,96.5,0.0,0.0,0.0,0.0,0.0,0.0,0.0,0.0,0.0,0.0,0.0,0.0,0.0,0.0,0.0,172.5,86.5,0.0,0.0,0.0,0.0,0.0]},{\"axis\":{\"matches\":true},\"label\":\"Planktothrix_mcyE\",\"values\":[0.0,0.0,0.0,0.0,0.0,0.0,0.0,0.0,0.0,0.0,0.0,0.0,0.0,0.0,0.0,0.0,0.0,0.0,0.0,0.0,0.0,0.0,0.0,0.0,0.0,0.0,0.0,0.0,0.0,0.0,0.0,0.0]}],\"hovertemplate\":\"Waterbody_name=Twin Valley Reservoir<br>%{xaxis.title.text}=%{x}<br>%{yaxis.title.text}=%{y}<extra></extra>\",\"legendgroup\":\"Twin Valley Reservoir\",\"marker\":{\"color\":\"#FECB52\",\"symbol\":\"circle\"},\"name\":\"Twin Valley Reservoir\",\"showlegend\":true,\"type\":\"splom\"},{\"dimensions\":[{\"axis\":{\"matches\":true},\"label\":\"MC-LR_conc\",\"values\":[0.05,0.1,0.08,0.0,0.1,0.0,0.0,0.13,0.19,0.19,0.0,0.0,0.11,0.07,0.1,0.08,0.0,0.08,0.11,0.11,0.0,0.0,0.0,0.0,0.1,0.0,0.12,0.16,0.15,0.18,0.12]},{\"axis\":{\"matches\":true},\"label\":\"Total_cyano_cell_count\",\"values\":[0.0,379316.0,0.0,11204.0,25465.0,0.0,34953.0,1833460.0,193743.0,106.0,0.0,105706.0,52840.0,0.0,0.0,0.0,407436.0,0.0,223935.0,0.0,0.0,0.0,123810.0,0.0,190951.0,0.0,542055.0,493.0,354492.0,32339.0,0.0]},{\"axis\":{\"matches\":true},\"label\":\"Microcystis_mcyE\",\"values\":[0.0,62.0,0.0,0.0,0.0,0.0,0.0,0.0,178.25,0.0,0.0,0.0,0.0,0.0,192.25,0.0,0.0,0.0,0.0,0.0,0.0,0.0,0.0,0.0,0.0,0.0,154.0,0.0,1280.0,517.5,58.5]},{\"axis\":{\"matches\":true},\"label\":\"Anabaena_mcyE\",\"values\":[0.0,0.0,0.0,0.0,0.0,0.0,0.0,0.0,0.0,0.0,0.0,0.0,0.0,0.0,0.0,0.0,0.0,0.0,0.0,0.0,0.0,0.0,0.0,0.0,0.0,0.0,0.0,0.0,0.0,0.0,0.0]},{\"axis\":{\"matches\":true},\"label\":\"Planktothrix_mcyE\",\"values\":[0.0,0.0,0.0,0.0,0.0,0.0,0.0,0.0,0.0,0.0,0.0,0.0,0.0,0.0,0.0,0.0,0.0,0.0,0.0,0.0,0.0,0.0,0.0,0.0,0.0,0.0,0.0,0.0,0.0,0.0,0.0]}],\"hovertemplate\":\"Waterbody_name=Lake McGregor<br>%{xaxis.title.text}=%{x}<br>%{yaxis.title.text}=%{y}<extra></extra>\",\"legendgroup\":\"Lake McGregor\",\"marker\":{\"color\":\"#636efa\",\"symbol\":\"circle\"},\"name\":\"Lake McGregor\",\"showlegend\":true,\"type\":\"splom\"},{\"dimensions\":[{\"axis\":{\"matches\":true},\"label\":\"MC-LR_conc\",\"values\":[0.0,0.0,0.12,0.11,0.11,0.1,0.0,0.0,0.0,0.0,0.1,0.0]},{\"axis\":{\"matches\":true},\"label\":\"Total_cyano_cell_count\",\"values\":[0.0,0.0,0.0,0.0,0.0,30799.0,0.0,0.0,0.0,0.0,0.0,25871.0]},{\"axis\":{\"matches\":true},\"label\":\"Microcystis_mcyE\",\"values\":[0.0,0.0,0.0,0.0,0.0,0.0,0.0,0.0,0.0,0.0,0.0,0.0]},{\"axis\":{\"matches\":true},\"label\":\"Anabaena_mcyE\",\"values\":[0.0,0.0,0.0,0.0,0.0,0.0,0.0,0.0,0.0,0.0,0.0,0.0]},{\"axis\":{\"matches\":true},\"label\":\"Planktothrix_mcyE\",\"values\":[0.0,0.0,0.0,0.0,0.0,0.0,0.0,0.0,0.0,0.0,0.0,0.0]}],\"hovertemplate\":\"Waterbody_name=Auburn Bay<br>%{xaxis.title.text}=%{x}<br>%{yaxis.title.text}=%{y}<extra></extra>\",\"legendgroup\":\"Auburn Bay\",\"marker\":{\"color\":\"#EF553B\",\"symbol\":\"circle\"},\"name\":\"Auburn Bay\",\"showlegend\":true,\"type\":\"splom\"},{\"dimensions\":[{\"axis\":{\"matches\":true},\"label\":\"MC-LR_conc\",\"values\":[0.0]},{\"axis\":{\"matches\":true},\"label\":\"Total_cyano_cell_count\",\"values\":[0.0]},{\"axis\":{\"matches\":true},\"label\":\"Microcystis_mcyE\",\"values\":[74.75]},{\"axis\":{\"matches\":true},\"label\":\"Anabaena_mcyE\",\"values\":[0.0]},{\"axis\":{\"matches\":true},\"label\":\"Planktothrix_mcyE\",\"values\":[0.0]}],\"hovertemplate\":\"Waterbody_name=Sikome Lake<br>%{xaxis.title.text}=%{x}<br>%{yaxis.title.text}=%{y}<extra></extra>\",\"legendgroup\":\"Sikome Lake\",\"marker\":{\"color\":\"#00cc96\",\"symbol\":\"circle\"},\"name\":\"Sikome Lake\",\"showlegend\":true,\"type\":\"splom\"},{\"dimensions\":[{\"axis\":{\"matches\":true},\"label\":\"MC-LR_conc\",\"values\":[0.0,0.0,0.0,0.0,0.0,0.0,0.17,0.11,0.0,0.0,0.0,0.14,0.0,0.0,0.06,0.06,0.11,0.13,0.51,0.07,0.0,3.6,1.47,0.18,0.06,0.2,0.05,0.1,0.05,0.07,0.0,0.06,0.06,0.08,0.41,0.37,0.08,0.11]},{\"axis\":{\"matches\":true},\"label\":\"Total_cyano_cell_count\",\"values\":[8251.0,0.0,0.0,1401.0,0.0,0.0,4681.0,0.0,0.0,24731.0,2464.0,4065.0,0.0,0.0,0.0,0.0,7884.0,0.0,0.0,4431.0,1222.0,63445.0,0.0,10410.0,0.0,3080.0,1783.0,3950.0,6977.0,37790.0,27502.0,4787.0,1273.0,0.0,0.0,0.0,31576.0,0.0]},{\"axis\":{\"matches\":true},\"label\":\"Microcystis_mcyE\",\"values\":[0.0,0.0,0.0,0.0,0.0,0.0,167.0,0.0,0.0,150.5,0.0,0.0,0.0,0.0,0.0,0.0,0.0,0.0,94.5,0.0,0.0,35500.0,44750.0,99.75,0.0,592.5,0.0,0.0,0.0,0.0,0.0,0.0,0.0,0.0,535.0,380.0,0.0,0.0]},{\"axis\":{\"matches\":true},\"label\":\"Anabaena_mcyE\",\"values\":[0.0,0.0,0.0,0.0,0.0,0.0,0.0,0.0,0.0,0.0,0.0,0.0,0.0,0.0,0.0,0.0,0.0,0.0,0.0,0.0,0.0,0.0,0.0,0.0,0.0,0.0,0.0,0.0,0.0,0.0,0.0,0.0,0.0,0.0,0.0,0.0,0.0,0.0]},{\"axis\":{\"matches\":true},\"label\":\"Planktothrix_mcyE\",\"values\":[0.0,0.0,0.0,0.0,0.0,0.0,0.0,0.0,0.0,0.0,0.0,0.0,0.0,0.0,0.0,0.0,0.0,0.0,0.0,0.0,0.0,0.0,0.0,0.0,0.0,0.0,0.0,0.0,0.0,0.0,0.0,0.0,0.0,0.0,0.0,0.0,0.0,0.0]}],\"hovertemplate\":\"Waterbody_name=Oasis Lake<br>%{xaxis.title.text}=%{x}<br>%{yaxis.title.text}=%{y}<extra></extra>\",\"legendgroup\":\"Oasis Lake\",\"marker\":{\"color\":\"#ab63fa\",\"symbol\":\"circle\"},\"name\":\"Oasis Lake\",\"showlegend\":true,\"type\":\"splom\"},{\"dimensions\":[{\"axis\":{\"matches\":true},\"label\":\"MC-LR_conc\",\"values\":[7.85,0.24,3.12,12.47,3.87,0.26,3.8,0.29,0.26,78.66,53.63,98.95,9.95,56.04,0.38,29.2,1.07,0.25,0.33,0.43,2.77,0.225,0.347,0.267]},{\"axis\":{\"matches\":true},\"label\":\"Total_cyano_cell_count\",\"values\":[1950597.0,231792.0,269926.0,66514.0,35142.0,115204.0,141915.0,10166.0,51153.0,366185.0,627559.0,1240769.0,821083.0,3338681.0,37484.0,213624.0,36567.0,8352.0,72957.0,185128.0,443595.0,18029.0,8913.0,18589.0]},{\"axis\":{\"matches\":true},\"label\":\"Microcystis_mcyE\",\"values\":[68500.0,482.5,987.5,140000.0,3100.0,470.0,5600.0,4375.0,1620.0,1040000.0,219500.0,395000.0,4100.0,165750.0,8825.0,435000.0,722.5,262.5,0.0,260.0,1225.0,510.0,130.5,1470.0]},{\"axis\":{\"matches\":true},\"label\":\"Anabaena_mcyE\",\"values\":[0.0,0.0,0.0,0.0,0.0,0.0,0.0,244.0,0.0,0.0,0.0,0.0,0.0,0.0,0.0,0.0,0.0,0.0,0.0,0.0,0.0,0.0,0.0,0.0]},{\"axis\":{\"matches\":true},\"label\":\"Planktothrix_mcyE\",\"values\":[0.0,0.0,0.0,0.0,0.0,0.0,0.0,0.0,0.0,0.0,0.0,0.0,0.0,0.0,0.0,0.0,0.0,0.0,0.0,0.0,0.0,0.0,0.0,0.0]}],\"hovertemplate\":\"Waterbody_name=Eagle Lake<br>%{xaxis.title.text}=%{x}<br>%{yaxis.title.text}=%{y}<extra></extra>\",\"legendgroup\":\"Eagle Lake\",\"marker\":{\"color\":\"#FFA15A\",\"symbol\":\"circle\"},\"name\":\"Eagle Lake\",\"showlegend\":true,\"type\":\"splom\"},{\"dimensions\":[{\"axis\":{\"matches\":true},\"label\":\"MC-LR_conc\",\"values\":[0.09,0.06,0.06,0.06,0.07,0.0,0.07,0.0,0.09,0.07,0.11,0.06,0.09,0.24,0.0,0.0,0.24,0.21,0.1,0.1,0.0,0.0,0.0,0.15,0.1,0.0,0.0,0.0,0.11,0.0,0.0,0.0]},{\"axis\":{\"matches\":true},\"label\":\"Total_cyano_cell_count\",\"values\":[0.0,0.0,0.0,0.0,0.0,0.0,0.0,0.0,0.0,0.0,0.0,0.0,1910.0,317.0,0.0,0.0,0.0,0.0,0.0,0.0,0.0,0.0,0.0,0.0,0.0,0.0,0.0,0.0,3080.0,0.0,0.0,5975.0]},{\"axis\":{\"matches\":true},\"label\":\"Microcystis_mcyE\",\"values\":[83.5,0.0,0.0,0.0,0.0,0.0,0.0,0.0,0.0,0.0,0.0,0.0,0.0,0.0,0.0,0.0,205.0,0.0,0.0,0.0,0.0,0.0,0.0,0.0,0.0,0.0,0.0,0.0,0.0,0.0,0.0,0.0]},{\"axis\":{\"matches\":true},\"label\":\"Anabaena_mcyE\",\"values\":[0.0,0.0,0.0,0.0,0.0,0.0,0.0,0.0,0.0,0.0,0.0,0.0,0.0,0.0,0.0,0.0,0.0,0.0,0.0,0.0,0.0,0.0,0.0,0.0,0.0,0.0,0.0,0.0,0.0,0.0,0.0,0.0]},{\"axis\":{\"matches\":true},\"label\":\"Planktothrix_mcyE\",\"values\":[0.0,0.0,0.0,0.0,0.0,0.0,0.0,0.0,0.0,0.0,0.0,0.0,0.0,0.0,0.0,0.0,425.0,0.0,0.0,0.0,0.0,0.0,0.0,0.0,0.0,0.0,0.0,0.0,0.0,0.0,0.0,0.0]}],\"hovertemplate\":\"Waterbody_name=Chestermere Lake<br>%{xaxis.title.text}=%{x}<br>%{yaxis.title.text}=%{y}<extra></extra>\",\"legendgroup\":\"Chestermere Lake\",\"marker\":{\"color\":\"#19d3f3\",\"symbol\":\"circle\"},\"name\":\"Chestermere Lake\",\"showlegend\":true,\"type\":\"splom\"},{\"dimensions\":[{\"axis\":{\"matches\":true},\"label\":\"MC-LR_conc\",\"values\":[3.29,3.66,0.31,4.01,5.03,0.42,0.23,0.4,4.56,4.87,3.9,1.91,0.085,0.13,0.25,3.83,0.37,0.39,0.32,0.65,1.24,0.45,0.16]},{\"axis\":{\"matches\":true},\"label\":\"Total_cyano_cell_count\",\"values\":[326457.0,293800.0,13190.0,457245.0,65444.0,31140.0,3922.0,157881.0,976694.0,122995.0,223451.0,273746.0,44258.0,34632.0,312961.0,695697.0,163432.0,79068.0,278713.0,155895.0,198218.0,451643.0,23631.0]},{\"axis\":{\"matches\":true},\"label\":\"Microcystis_mcyE\",\"values\":[18850.0,49750.0,815.0,127250.0,11100.0,2825.0,4000.0,1707.5,85750.0,179000.0,51500.0,9625.0,53.0,0.0,0.0,0.0,1585.0,154.0,367.5,632.5,395.0,525.0,0.0]},{\"axis\":{\"matches\":true},\"label\":\"Anabaena_mcyE\",\"values\":[0.0,0.0,0.0,532.5,0.0,0.0,0.0,180500.0,0.0,0.0,0.0,0.0,0.0,0.0,1447.5,13750.0,0.0,0.0,0.0,0.0,0.0,66.0,74.75]},{\"axis\":{\"matches\":true},\"label\":\"Planktothrix_mcyE\",\"values\":[0.0,0.0,0.0,0.0,0.0,0.0,0.0,0.0,0.0,0.0,0.0,0.0,0.0,0.0,0.0,0.0,0.0,0.0,0.0,0.0,0.0,0.0,0.0]}],\"hovertemplate\":\"Waterbody_name=Severn Creek Reservoir<br>%{xaxis.title.text}=%{x}<br>%{yaxis.title.text}=%{y}<extra></extra>\",\"legendgroup\":\"Severn Creek Reservoir\",\"marker\":{\"color\":\"#FF6692\",\"symbol\":\"circle\"},\"name\":\"Severn Creek Reservoir\",\"showlegend\":true,\"type\":\"splom\"},{\"dimensions\":[{\"axis\":{\"matches\":true},\"label\":\"MC-LR_conc\",\"values\":[0.17,0.11,0.14,2.83,3.18,6.58,6.26,2.47,0.45,0.23,3.99,0.22,0.79,4.72,1.54,3.89,1.38,3.13,4.75,0.34,0.6,9.5,3.66,0.13,0.0,5.57,1.06,0.68,0.077,0.29,0.39,0.14,0.23,0.22,0.17,0.18,0.054,0.6,0.33,0.1,0.12,0.058,0.079,0.104,0.09,0.11,0.18,0.18,0.74,0.34,1.35,0.24,0.25,0.21,2.63,0.34,0.16,1.34,1.64,1.05,2.75,1.84,2.23,3.45,0.39,1.67,0.93,5.13,2.5,3.89,2.34,6.76,1.23,0.29]},{\"axis\":{\"matches\":true},\"label\":\"Total_cyano_cell_count\",\"values\":[1604977.0,28062.0,312606.0,26487.0,84194.0,1873636.0,349918.0,422309.0,16385.0,53700.0,787702.0,936894.0,32468.0,101794.0,79940.0,264464.0,181998.0,22889.0,197979.0,9422.0,51184.0,441160.0,233525.0,71760.0,8000.0,81996.0,167303.0,125923.0,38197.0,89891.0,132417.0,78189.0,55004.0,183805.0,291825.0,180545.0,47.0,161217.0,6492.0,164403.0,1540.0,433.0,0.0,5908.0,0.0,27808.0,313115.0,278532.0,466158.0,35067.0,179043.0,108719.0,88515.0,25923.0,370297.0,3820.0,968.0,101663.0,22740.0,83777.0,45874.0,96206.0,138936.0,105792.0,11254.0,108099.0,66895.0,632356.0,336683.0,422469.0,59811.0,207288.0,66946.0,55868.0]},{\"axis\":{\"matches\":true},\"label\":\"Microcystis_mcyE\",\"values\":[322.5,0.0,0.0,59250.0,49750.0,22275.0,37250.0,8775.0,4925.0,295.0,26250.0,3200.0,30000.0,75500.0,97000.0,140000.0,53000.0,53250.0,92250.0,1305.0,2650.0,405000.0,132500.0,0.0,0.0,17550.0,842.5000000000001,455.0,0.0,507.5,827.5,715.0,163.0,218.75,147.0,0.0,0.0,505.0,2037.5,0.0,0.0,0.0,0.0,0.0,0.0,0.0,0.0,0.0,217.75000000000003,580.0,937.5,0.0,325.0,422.5,51000.0,174.0,0.0,41000.0,59000.0,65000.0,71750.0,69500.0,85250.0,113000.0,392.5,12875.0,14650.0,19600.0,24650.0,24950.0,29250.0,230250.0,24675.0,732.5]},{\"axis\":{\"matches\":true},\"label\":\"Anabaena_mcyE\",\"values\":[0.0,0.0,0.0,0.0,0.0,0.0,0.0,0.0,0.0,0.0,0.0,0.0,0.0,0.0,0.0,0.0,0.0,0.0,0.0,0.0,0.0,0.0,0.0,0.0,0.0,0.0,0.0,0.0,0.0,0.0,0.0,0.0,0.0,0.0,0.0,0.0,0.0,0.0,0.0,0.0,0.0,0.0,0.0,0.0,0.0,0.0,0.0,0.0,0.0,0.0,0.0,0.0,0.0,0.0,0.0,0.0,0.0,0.0,0.0,0.0,0.0,0.0,0.0,0.0,0.0,0.0,0.0,0.0,0.0,0.0,0.0,0.0,0.0,0.0]},{\"axis\":{\"matches\":true},\"label\":\"Planktothrix_mcyE\",\"values\":[0.0,0.0,0.0,0.0,0.0,0.0,0.0,0.0,0.0,0.0,0.0,0.0,0.0,0.0,0.0,0.0,0.0,0.0,0.0,0.0,0.0,0.0,0.0,0.0,0.0,0.0,0.0,0.0,0.0,0.0,0.0,0.0,0.0,0.0,0.0,0.0,0.0,0.0,0.0,0.0,0.0,0.0,0.0,0.0,0.0,0.0,0.0,0.0,0.0,0.0,0.0,0.0,0.0,0.0,0.0,0.0,0.0,0.0,0.0,0.0,0.0,0.0,0.0,0.0,0.0,0.0,0.0,0.0,0.0,0.0,0.0,0.0,0.0,0.0]}],\"hovertemplate\":\"Waterbody_name=Pine Lake<br>%{xaxis.title.text}=%{x}<br>%{yaxis.title.text}=%{y}<extra></extra>\",\"legendgroup\":\"Pine Lake\",\"marker\":{\"color\":\"#B6E880\",\"symbol\":\"circle\"},\"name\":\"Pine Lake\",\"showlegend\":true,\"type\":\"splom\"},{\"dimensions\":[{\"axis\":{\"matches\":true},\"label\":\"MC-LR_conc\",\"values\":[0.0,0.1,0.0,0.1,0.0,0.0,0.0,0.1,0.11,0.1,0.0,0.0,0.0,0.1,0.12,0.1,0.1,0.0,0.11,0.09,0.09,0.13,0.09,0.07,0.06,0.08,0.11,0.12,0.13,0.11,0.0,0.0,0.0,0.1,0.11,0.1,0.11,0.0,0.0,0.1,0.0,0.1,0.1,0.07,0.07,0.09,0.1,0.0,0.1,0.06,0.08,0.11,0.06,0.11]},{\"axis\":{\"matches\":true},\"label\":\"Total_cyano_cell_count\",\"values\":[26484.0,70703.0,105958.0,368501.0,869726.0,104903.0,14616.0,12987.0,22450.0,399992.0,346238.0,2563078.0,494934.0,1246.0,579630.0,136499.0,362501.0,41578.0,203024.0,15126.0,51031.0,203888.0,0.0,74587.0,0.0,63662.0,72007.0,118082.0,29.0,9016.0,123503.0,107488.0,22738.0,471220.0,43118.0,148078.0,86580.0,455256.0,189817.0,4055.0,52167.0,2598.0,49631.0,0.0,2615.0,342793.0,136393.0,27909.0,18589.0,25677.0,21238.0,49506.0,104405.0,463330.0]},{\"axis\":{\"matches\":true},\"label\":\"Microcystis_mcyE\",\"values\":[497.5,0.0,102.75,60.75000000000001,357.5,0.0,0.0,1955.0,310.0,415.00000000000006,0.0,282.5,0.0,125.5,315.0,0.0,0.0,0.0,71.0,0.0,0.0,203.75,0.0,0.0,59.0,0.0,0.0,62.5,0.0,69.25,0.0,0.0,0.0,0.0,0.0,0.0,642.5,0.0,0.0,55.75,1082.5,0.0,59.5,0.0,0.0,0.0,166.75,0.0,0.0,0.0,0.0,136.25,0.0,0.0]},{\"axis\":{\"matches\":true},\"label\":\"Anabaena_mcyE\",\"values\":[0.0,0.0,0.0,0.0,0.0,0.0,0.0,0.0,0.0,0.0,0.0,0.0,0.0,0.0,0.0,0.0,0.0,0.0,0.0,0.0,0.0,0.0,0.0,0.0,0.0,0.0,0.0,0.0,0.0,0.0,0.0,0.0,0.0,0.0,0.0,0.0,0.0,0.0,0.0,0.0,0.0,0.0,0.0,0.0,0.0,0.0,0.0,0.0,0.0,0.0,0.0,0.0,0.0,0.0]},{\"axis\":{\"matches\":true},\"label\":\"Planktothrix_mcyE\",\"values\":[0.0,0.0,0.0,0.0,0.0,0.0,0.0,0.0,0.0,0.0,0.0,0.0,0.0,0.0,0.0,0.0,0.0,0.0,0.0,0.0,0.0,0.0,0.0,0.0,0.0,0.0,0.0,0.0,0.0,0.0,0.0,0.0,0.0,0.0,0.0,0.0,0.0,0.0,0.0,0.0,0.0,0.0,0.0,0.0,0.0,0.0,0.0,0.0,0.0,0.0,0.0,0.0,0.0,0.0]}],\"hovertemplate\":\"Waterbody_name=Sylvan Lake<br>%{xaxis.title.text}=%{x}<br>%{yaxis.title.text}=%{y}<extra></extra>\",\"legendgroup\":\"Sylvan Lake\",\"marker\":{\"color\":\"#FF97FF\",\"symbol\":\"circle\"},\"name\":\"Sylvan Lake\",\"showlegend\":true,\"type\":\"splom\"},{\"dimensions\":[{\"axis\":{\"matches\":true},\"label\":\"MC-LR_conc\",\"values\":[0.2,0.21,0.22,0.19,0.16,0.13,0.112,0.169,0.14,0.19,0.24,0.17,0.16,0.21,0.17,0.18,0.22,0.2,0.11,0.14,0.13,0.24,0.23,0.21,0.21,0.2,0.2,0.21,0.17,0.18,0.17,0.15,0.13,0.24,0.19,0.24,0.17,0.21,0.17,0.16,0.14,0.23,0.2,0.2,0.35,0.22,0.22,0.2,0.15,0.21,0.21,0.103,0.14,0.141,0.19,0.19,0.16,0.16,0.15,0.14,0.15,0.12,0.14,0.14,0.2,0.17,0.14,0.13,0.15,0.18,0.17,0.17,0.18,0.22,0.15]},{\"axis\":{\"matches\":true},\"label\":\"Total_cyano_cell_count\",\"values\":[144354.0,150395.0,37636.0,90548.0,30860.0,14353.0,254900.0,158135.0,154928.0,399897.0,68373.0,143521.0,562108.0,483831.0,365932.0,44843.0,50012.0,93936.0,15981.0,122180.0,28674.0,97581.0,617163.0,842553.0,1077182.0,7849333.0,241022.0,0.0,244422.0,160313.0,67395.0,4999.0,0.0,157689.0,120115.0,188364.0,13552.0,111430.0,241338.0,35418.0,75764.0,134221.0,238935.0,214370.0,30799.0,58250.0,317472.0,17463.0,83269.0,10780.0,131202.0,32850.0,11103.0,83524.0,161956.0,451797.0,200355.0,190019.0,149330.0,217341.0,175681.0,18080.0,104565.0,11349.0,375347.0,425835.0,696411.0,1063709.0,210630.0,183406.0,479721.0,2293.0,96328.0,94887.0,9066.0]},{\"axis\":{\"matches\":true},\"label\":\"Microcystis_mcyE\",\"values\":[0.0,242.0,171.75,0.0,0.0,0.0,223.25,350.0,397.5,0.0,163.75,405.0,0.0,162.75,81.25,0.0,70.25,0.0,0.0,420.0,172.25,131.0,1127.5,168.5,677.5,1315.0,1097.5,5450.0,470.0,602.5,1745.0,53.25,222.00000000000003,0.0,0.0,0.0,133.25,0.0,397.5,0.0,437.5,0.0,0.0,0.0,0.0,97.75,0.0,0.0,0.0,0.0,0.0,0.0,875.0,342.5,0.0,0.0,0.0,0.0,0.0,0.0,0.0,0.0,877.5,0.0,62.25000000000001,0.0,80.25,137.5,136.0,213.0,243.5,0.0,1497.5,205.50000000000003,0.0]},{\"axis\":{\"matches\":true},\"label\":\"Anabaena_mcyE\",\"values\":[0.0,0.0,0.0,0.0,0.0,0.0,0.0,0.0,0.0,0.0,0.0,0.0,0.0,0.0,0.0,0.0,0.0,0.0,0.0,0.0,0.0,0.0,0.0,0.0,0.0,0.0,0.0,0.0,0.0,0.0,0.0,0.0,0.0,0.0,0.0,0.0,0.0,0.0,0.0,0.0,0.0,0.0,0.0,0.0,0.0,0.0,0.0,0.0,0.0,0.0,0.0,0.0,0.0,0.0,0.0,0.0,0.0,0.0,0.0,0.0,0.0,0.0,0.0,0.0,0.0,0.0,0.0,0.0,0.0,0.0,0.0,0.0,0.0,0.0,0.0]},{\"axis\":{\"matches\":true},\"label\":\"Planktothrix_mcyE\",\"values\":[0.0,0.0,0.0,0.0,0.0,0.0,0.0,0.0,0.0,0.0,0.0,0.0,0.0,0.0,0.0,0.0,0.0,0.0,0.0,0.0,0.0,0.0,0.0,0.0,0.0,0.0,0.0,0.0,0.0,0.0,0.0,0.0,0.0,0.0,0.0,0.0,0.0,0.0,0.0,0.0,0.0,0.0,0.0,0.0,0.0,0.0,0.0,0.0,0.0,0.0,0.0,0.0,0.0,0.0,0.0,0.0,0.0,0.0,0.0,0.0,0.0,0.0,0.0,0.0,0.0,0.0,0.0,0.0,0.0,0.0,0.0,0.0,0.0,0.0,0.0]}],\"hovertemplate\":\"Waterbody_name=Gull Lake<br>%{xaxis.title.text}=%{x}<br>%{yaxis.title.text}=%{y}<extra></extra>\",\"legendgroup\":\"Gull Lake\",\"marker\":{\"color\":\"#FECB52\",\"symbol\":\"circle\"},\"name\":\"Gull Lake\",\"showlegend\":true,\"type\":\"splom\"},{\"dimensions\":[{\"axis\":{\"matches\":true},\"label\":\"MC-LR_conc\",\"values\":[0.43,4.03,0.1,0.0,0.0,0.0,0.12,0.65,0.37,0.09,3.85,0.0,4.84,0.08,0.06,0.06,0.2,0.06,0.09,0.05,0.1,0.14,0.075,8.17,14.92,5.64,0.06,0.15,7.06,7.95,0.076,0.15,13.26,0.11,0.07,0.0,0.0,0.0,0.0,0.12,0.0,0.46,0.43,0.2,2.39,8.49,0.05,0.06,0.0,0.0,0.13,0.46,0.0,0.0,0.0,0.0,0.14,0.06,0.0,0.0,0.0,0.15,0.0,2.6,0.06,0.13,0.126,0.12,0.12,0.0,0.13,0.1,0.16,0.15,0.08,0.07,0.63,0.11,0.0,0.0,0.0,0.11,1.92,0.11,0.06,0.07,0.23,0.06,0.08,1.33,0.16,0.0,0.0,0.38,0.43,0.38,0.49,0.1,14.86,17.84,29.64,59.84,6.37,0.12,0.1,0.08,0.17,0.0,0.14,0.06,5.1,0.08,0.14,0.1,0.19,0.1,0.12,0.0,0.11,0.06,0.0,0.12,0.0,0.13,0.0,0.096,0.0,60.47,17.59,0.0,0.11,0.2,0.0,8.33,0.28,0.42,0.13,13.5,2.83,0.0,0.64,0.1,5.62,0.0,0.07,0.12,0.26,0.11,0.0,0.15,0.0,0.0,0.0,0.0,0.1,0.0,0.17,0.1,0.0,0.08,0.37,3.92,0.08,0.21,0.11,0.2,0.05,0.07,0.0,0.12,0.0,0.12,0.13,0.83,22.38,0.05,0.29,51.51,438.5,2.75,0.15,0.23,4.42,2.19,0.9,0.32,0.11,0.06,0.108,0.114,0.134,0.32,0.22,0.77,1.2,0.14,0.67,0.12,0.66,0.0,0.0,0.0,0.0,3.3,0.11,0.12,0.21,15.86,0.0,0.12,0.1,0.39,0.1,0.248,0.076,0.92,7.25,0.12,0.16,0.77,0.0,0.13,0.2,1.99,0.0,0.11,1.24,0.11,0.29,0.14,0.1,0.18,1.21,0.1,0.0,0.0,7.76,0.31,6.7,8.25,0.11,2.84]},{\"axis\":{\"matches\":true},\"label\":\"Total_cyano_cell_count\",\"values\":[415346.0,1218437.0,105831.0,490252.0,70232.0,185188.0,776319.0,842493.0,666059.0,295796.0,113887.0,101859.0,1469696.0,51591.0,264248.0,35906.0,190985.0,234938.0,215177.0,33360.0,0.0,8352.0,866.0,327324.0,4403362.0,917088.0,377165.0,1056449.0,331007.0,131302.0,0.0,36924.0,1300834.0,25160.0,508762.0,449452.0,59842.0,1638210.0,443.0,143519.0,2601913.0,1455131.0,5610115.0,113647.0,199388.0,1687938.0,276995.0,76369.0,183682.0,114975.0,53589.0,130667.0,368620.0,1597372.0,171442.0,475561.0,131078.0,90272.0,351104.0,0.0,684.0,2441.0,36157.0,184314.0,432671.0,3162032.0,4329.0,9117.0,84757.0,84696.0,2856.0,0.0,9116.0,12275.0,34632.0,163483.0,142388.0,158725.0,519462.0,382703.0,139126.0,409495.0,147697.0,103901.0,41609.0,338477.0,995671.0,495290.0,288647.0,603993.0,1330685.0,865524.0,18832.0,201848.0,138429.0,67769.0,443962.0,152788.0,309704.0,444039.0,287519.0,622364.0,1708837.0,9677.0,5093.0,26738.0,82761.0,182453.0,754455.0,149632.0,111027.0,348117.0,127150.0,51547.0,246038.0,189084.0,109767.0,120580.0,291936.0,233816.0,0.0,0.0,200191.0,45582.0,19589.0,7028.0,3724.0,330929.0,330781.0,36643.0,234144.0,1058059.0,76394.0,159920.0,222017.0,96772.0,65513.0,309388.0,281507.0,209405.0,214706.0,103055.0,265164.0,0.0,601172.0,611358.0,59639.0,80832.0,0.0,52115.0,15356.0,80754.0,801.0,16492.0,6838.0,172472.0,51.0,90856.0,22157.0,36669.0,52189.0,208031.0,2394.0,117392.0,8913.0,68893.0,9720.0,44260.0,56328.0,738477.0,254647.0,0.0,127963.0,153775.0,102581.0,12427.0,79771.0,665087.0,829082.0,230082.0,102252.0,164280.0,685002.0,181902.0,84162.0,88006.0,194975.0,607431.0,0.0,0.0,3972.0,16000.0,177336.0,3215490.0,500755.0,720083.0,491040.0,127836.0,255299.0,63761.0,1527884.0,388337.0,636618.0,418302.0,0.0,113339.0,483969.0,196754.0,52850.0,1049864.0,226856.0,0.0,0.0,12732.0,2801.0,258784.0,433171.0,340358.0,0.0,2114604.0,513295.0,129167.0,219107.0,314288.0,215491.0,162400.0,209117.0,0.0,33262.0,26056.0,53297.0,739.0,111791.0,25465.0,497836.0,590323.0,76201.0,52040.0,312789.0,259613.0,2084635.0,320193.0]},{\"axis\":{\"matches\":true},\"label\":\"Microcystis_mcyE\",\"values\":[5625.0,74000.0,0.0,0.0,3150.0,221.5,655.0,20025.0,3675.0,3050.0,4450.0,0.0,37500.0,3875.0,0.0,0.0,60.25,104.25,0.0,119.0,0.0,164.75,177.0,13775.0,84250.0,19000.0,0.0,0.0,16575.0,52750.0,0.0,65.25,99500.0,0.0,0.0,0.0,1385.0,502.50000000000006,0.0,214.25,0.0,20350.0,5125.0,522.5,26500.0,5900.0,255.0,345.0,57.75,287.5,402.50000000000006,0.0,0.0,0.0,0.0,890.0,350.0,0.0,0.0,0.0,116.25,0.0,0.0,1325.0,3875.0,84.25,0.0,0.0,0.0,0.0,0.0,69.0,0.0,0.0,0.0,229.25,0.0,0.0,345.0,477.50000000000006,0.0,0.0,1440.0,1335.0,70.75,185.5,0.0,477.50000000000006,23875.0,2052.5,248.0,347.5,655.0,727.5,1095.0,18950.0,2675.0,300.0,77500.0,100500.0,110250.0,320000.0,30000.0,0.0,0.0,365.0,0.0,0.0,112.0,0.0,172500.0,5250.0,755.0,0.0,315.0,252.5,652.5,0.0,3175.0,0.0,0.0,0.0,187.75,0.0,0.0,0.0,148.75,82500.0,437500.0,277.5,572.5,745.0,191.75,59000.0,134.5,27250.0,81.75,6800.0,47000.0,1157.5,12225.0,980.0,3625000.0,0.0,8525.0,1452.5,0.0,147.0,0.0,0.0,111.5,86.25,0.0,0.0,0.0,0.0,0.0,657.5,1820.0,189.25,1557.5,1477.5,0.0,0.0,0.0,5525.0,0.0,90.25,1322.5,822.5,760.0,200.75,0.0,18375.0,84500.0,0.0,1495.0,182250.0,2187500.0,93750.0,977.5,720.0,30750.0,3000.0,540.0,0.0,197.75,732.5,0.0,0.0,161.0,0.0,590.0,0.0,12250.0,745.0,2725.0,892.5000000000001,0.0,1015.0,189.75,0.0,2550.0,48000.0,0.0,56.49999999999999,0.0,143000.0,0.0,98.75,0.0,226.5,0.0,78.25,0.0,22275.0,23575.0,425.0,188.25,0.0,452.50000000000006,149.75,0.0,20150.0,0.0,0.0,1502.5,0.0,195.25,0.0,200.5,231.5,572.5,935.0,0.0,412.5,1512.5,442.5,502500.0,12525.0,190.5,8075.0]},{\"axis\":{\"matches\":true},\"label\":\"Anabaena_mcyE\",\"values\":[0.0,0.0,0.0,0.0,0.0,0.0,0.0,0.0,0.0,0.0,0.0,0.0,0.0,0.0,0.0,0.0,0.0,0.0,0.0,0.0,0.0,0.0,0.0,0.0,0.0,0.0,0.0,0.0,0.0,0.0,0.0,0.0,0.0,0.0,0.0,0.0,0.0,0.0,0.0,0.0,0.0,0.0,0.0,0.0,0.0,0.0,0.0,0.0,0.0,0.0,0.0,0.0,0.0,0.0,0.0,0.0,0.0,0.0,0.0,0.0,0.0,0.0,0.0,0.0,0.0,0.0,0.0,0.0,0.0,0.0,0.0,0.0,0.0,0.0,0.0,0.0,0.0,0.0,0.0,0.0,0.0,0.0,0.0,0.0,0.0,0.0,0.0,0.0,0.0,0.0,0.0,0.0,0.0,0.0,0.0,0.0,0.0,0.0,0.0,0.0,0.0,0.0,0.0,0.0,0.0,0.0,0.0,0.0,0.0,0.0,0.0,0.0,0.0,0.0,0.0,0.0,0.0,0.0,0.0,0.0,0.0,0.0,0.0,0.0,0.0,0.0,0.0,0.0,0.0,0.0,0.0,0.0,0.0,0.0,0.0,0.0,0.0,0.0,0.0,0.0,0.0,0.0,0.0,0.0,0.0,0.0,0.0,0.0,0.0,0.0,0.0,0.0,0.0,0.0,0.0,0.0,0.0,0.0,0.0,0.0,0.0,0.0,0.0,0.0,0.0,0.0,0.0,0.0,0.0,0.0,0.0,0.0,0.0,0.0,0.0,0.0,0.0,0.0,0.0,0.0,0.0,0.0,0.0,0.0,0.0,0.0,0.0,0.0,0.0,0.0,0.0,0.0,0.0,0.0,0.0,0.0,0.0,0.0,0.0,0.0,0.0,0.0,0.0,0.0,0.0,0.0,0.0,0.0,0.0,0.0,0.0,0.0,0.0,0.0,555.0,0.0,0.0,0.0,0.0,0.0,0.0,0.0,0.0,0.0,0.0,0.0,0.0,0.0,0.0,0.0,0.0,0.0,0.0,0.0,0.0,0.0,0.0,0.0,0.0,0.0,0.0,0.0]},{\"axis\":{\"matches\":true},\"label\":\"Planktothrix_mcyE\",\"values\":[0.0,0.0,0.0,0.0,0.0,0.0,0.0,0.0,0.0,0.0,0.0,0.0,0.0,0.0,0.0,0.0,0.0,0.0,0.0,0.0,0.0,0.0,0.0,0.0,0.0,0.0,0.0,0.0,0.0,0.0,0.0,0.0,0.0,0.0,0.0,0.0,0.0,0.0,0.0,0.0,0.0,0.0,0.0,0.0,0.0,0.0,0.0,0.0,0.0,0.0,0.0,0.0,0.0,0.0,0.0,0.0,0.0,0.0,0.0,0.0,0.0,0.0,0.0,0.0,0.0,0.0,0.0,0.0,0.0,0.0,0.0,0.0,0.0,0.0,0.0,0.0,0.0,0.0,0.0,0.0,0.0,0.0,0.0,0.0,0.0,0.0,0.0,0.0,0.0,0.0,0.0,0.0,0.0,0.0,0.0,0.0,0.0,0.0,0.0,0.0,0.0,0.0,0.0,0.0,0.0,0.0,0.0,0.0,0.0,0.0,0.0,0.0,0.0,0.0,0.0,0.0,0.0,0.0,0.0,0.0,0.0,0.0,0.0,0.0,0.0,0.0,0.0,0.0,0.0,0.0,0.0,0.0,0.0,0.0,0.0,0.0,0.0,0.0,0.0,0.0,0.0,0.0,0.0,0.0,0.0,0.0,0.0,0.0,0.0,0.0,0.0,0.0,0.0,0.0,0.0,0.0,0.0,0.0,0.0,0.0,0.0,0.0,0.0,0.0,0.0,0.0,0.0,0.0,0.0,0.0,0.0,0.0,0.0,0.0,0.0,0.0,0.0,0.0,0.0,0.0,0.0,0.0,0.0,0.0,0.0,0.0,0.0,0.0,0.0,0.0,0.0,0.0,0.0,0.0,0.0,0.0,0.0,0.0,0.0,0.0,0.0,0.0,0.0,0.0,0.0,0.0,0.0,0.0,0.0,0.0,0.0,0.0,0.0,0.0,0.0,0.0,0.0,0.0,0.0,0.0,0.0,0.0,0.0,0.0,0.0,0.0,0.0,0.0,0.0,0.0,0.0,0.0,0.0,0.0,0.0,0.0,0.0,0.0,0.0,0.0,0.0,0.0]}],\"hovertemplate\":\"Waterbody_name=Pigeon Lake<br>%{xaxis.title.text}=%{x}<br>%{yaxis.title.text}=%{y}<extra></extra>\",\"legendgroup\":\"Pigeon Lake\",\"marker\":{\"color\":\"#636efa\",\"symbol\":\"circle\"},\"name\":\"Pigeon Lake\",\"showlegend\":true,\"type\":\"splom\"},{\"dimensions\":[{\"axis\":{\"matches\":true},\"label\":\"MC-LR_conc\",\"values\":[0.19,0.28,0.29,0.94,0.3,0.85,0.57,0.85,0.46,0.7,1.35,0.58,0.72,1.3,2.67,3.27,3.6,0.2,1.43,0.29,0.12,0.09,0.47,0.06,0.05,0.052,0.062,0.56,0.06,0.22,0.0]},{\"axis\":{\"matches\":true},\"label\":\"Total_cyano_cell_count\",\"values\":[0.0,323110.0,52113.0,256643.0,475221.0,137433.0,112212.0,296837.0,648804.0,147586.0,377776.0,782901.0,159728.0,321598.0,973986.0,310512.0,229510.0,2895.0,414673.0,261982.0,22256.0,32882.0,54902.0,173161.0,2002.0,0.0,0.0,322996.0,0.0,31985.0,0.0]},{\"axis\":{\"matches\":true},\"label\":\"Microcystis_mcyE\",\"values\":[2427.5,4000.0,201.0,2057.5,1127.5,6425.0,6425.0,62.25000000000001,525.0,360.0,135.75,2325.0,2700.0,7925.0,3900.0,5325.0,397.5,0.0,18975.0,1717.5,81.25,0.0,462.5,0.0,0.0,0.0,0.0,2285.0,0.0,0.0,0.0]},{\"axis\":{\"matches\":true},\"label\":\"Anabaena_mcyE\",\"values\":[0.0,375.0,0.0,112.25,617.5,2575.0,890.0,139.0,415.00000000000006,2457.5,869.9999999999999,1072.5,787.5,4200.0,21975.0,31000.0,900.0,0.0,16275.0,0.0,0.0,0.0,445.0,0.0,0.0,0.0,0.0,847.5,0.0,0.0,0.0]},{\"axis\":{\"matches\":true},\"label\":\"Planktothrix_mcyE\",\"values\":[0.0,0.0,0.0,0.0,0.0,0.0,0.0,0.0,0.0,0.0,0.0,0.0,0.0,0.0,0.0,0.0,0.0,0.0,0.0,0.0,0.0,0.0,0.0,0.0,0.0,0.0,0.0,0.0,0.0,0.0,0.0]}],\"hovertemplate\":\"Waterbody_name=Wizard Lake<br>%{xaxis.title.text}=%{x}<br>%{yaxis.title.text}=%{y}<extra></extra>\",\"legendgroup\":\"Wizard Lake\",\"marker\":{\"color\":\"#EF553B\",\"symbol\":\"circle\"},\"name\":\"Wizard Lake\",\"showlegend\":true,\"type\":\"splom\"},{\"dimensions\":[{\"axis\":{\"matches\":true},\"label\":\"MC-LR_conc\",\"values\":[1.28,1.25,0.76,0.64,4.01]},{\"axis\":{\"matches\":true},\"label\":\"Total_cyano_cell_count\",\"values\":[988822.0,516615.0,411593.0,1132711.0,328250.0]},{\"axis\":{\"matches\":true},\"label\":\"Microcystis_mcyE\",\"values\":[3575.0,955.0,297.5,1147.5,11750.0]},{\"axis\":{\"matches\":true},\"label\":\"Anabaena_mcyE\",\"values\":[0.0,0.0,0.0,0.0,0.0]},{\"axis\":{\"matches\":true},\"label\":\"Planktothrix_mcyE\",\"values\":[0.0,0.0,0.0,0.0,437.5]}],\"hovertemplate\":\"Waterbody_name=Hastings Lake<br>%{xaxis.title.text}=%{x}<br>%{yaxis.title.text}=%{y}<extra></extra>\",\"legendgroup\":\"Hastings Lake\",\"marker\":{\"color\":\"#00cc96\",\"symbol\":\"circle\"},\"name\":\"Hastings Lake\",\"showlegend\":true,\"type\":\"splom\"},{\"dimensions\":[{\"axis\":{\"matches\":true},\"label\":\"MC-LR_conc\",\"values\":[0.68,0.7,0.18,0.86,1.04,1.24]},{\"axis\":{\"matches\":true},\"label\":\"Total_cyano_cell_count\",\"values\":[937264.0,141920.0,10116.0,1028920.0,611320.0,320245.0]},{\"axis\":{\"matches\":true},\"label\":\"Microcystis_mcyE\",\"values\":[0.0,0.0,0.0,0.0,1027.5,1240.0]},{\"axis\":{\"matches\":true},\"label\":\"Anabaena_mcyE\",\"values\":[0.0,0.0,0.0,0.0,0.0,54.25]},{\"axis\":{\"matches\":true},\"label\":\"Planktothrix_mcyE\",\"values\":[0.0,0.0,0.0,460.0,10850.0,20375.0]}],\"hovertemplate\":\"Waterbody_name=Half Moon Lake<br>%{xaxis.title.text}=%{x}<br>%{yaxis.title.text}=%{y}<extra></extra>\",\"legendgroup\":\"Half Moon Lake\",\"marker\":{\"color\":\"#ab63fa\",\"symbol\":\"circle\"},\"name\":\"Half Moon Lake\",\"showlegend\":true,\"type\":\"splom\"},{\"dimensions\":[{\"axis\":{\"matches\":true},\"label\":\"MC-LR_conc\",\"values\":[1.71,3.94,0.56,2.04,2.96,9.03,0.32,2.23,1.92,0.51,0.28,0.08,0.07,2.85]},{\"axis\":{\"matches\":true},\"label\":\"Total_cyano_cell_count\",\"values\":[283145.0,151262.0,96012.0,641441.0,139831.0,488663.0,7084.0,126274.0,83512.0,120372.0,141660.0,18131.0,0.0,222196.0]},{\"axis\":{\"matches\":true},\"label\":\"Microcystis_mcyE\",\"values\":[14225.0,91000.0,21500.0,1982.5,22425.0,557500.0,295.0,6175.0,8800.0,635.0,90.75,0.0,0.0,32000.0]},{\"axis\":{\"matches\":true},\"label\":\"Anabaena_mcyE\",\"values\":[0.0,0.0,0.0,0.0,0.0,0.0,0.0,0.0,0.0,0.0,0.0,0.0,0.0,0.0]},{\"axis\":{\"matches\":true},\"label\":\"Planktothrix_mcyE\",\"values\":[0.0,0.0,0.0,0.0,0.0,0.0,0.0,0.0,0.0,0.0,0.0,0.0,0.0,0.0]}],\"hovertemplate\":\"Waterbody_name=Jackfish Lake (Parkland County)<br>%{xaxis.title.text}=%{x}<br>%{yaxis.title.text}=%{y}<extra></extra>\",\"legendgroup\":\"Jackfish Lake (Parkland County)\",\"marker\":{\"color\":\"#FFA15A\",\"symbol\":\"circle\"},\"name\":\"Jackfish Lake (Parkland County)\",\"showlegend\":true,\"type\":\"splom\"},{\"dimensions\":[{\"axis\":{\"matches\":true},\"label\":\"MC-LR_conc\",\"values\":[0.29,0.05,0.052,0.38,0.69,0.21,0.18,2.88,0.0,1.55]},{\"axis\":{\"matches\":true},\"label\":\"Total_cyano_cell_count\",\"values\":[356252.0,25210.0,9065.0,227188.0,53844.0,790785.0,84880.0,690626.0,308.0,338661.0]},{\"axis\":{\"matches\":true},\"label\":\"Microcystis_mcyE\",\"values\":[452.50000000000006,0.0,0.0,15325.0,47750.0,0.0,183.25,1410.0,0.0,26000.0]},{\"axis\":{\"matches\":true},\"label\":\"Anabaena_mcyE\",\"values\":[0.0,0.0,0.0,0.0,0.0,0.0,0.0,0.0,0.0,0.0]},{\"axis\":{\"matches\":true},\"label\":\"Planktothrix_mcyE\",\"values\":[0.0,0.0,0.0,0.0,0.0,0.0,0.0,0.0,0.0,0.0]}],\"hovertemplate\":\"Waterbody_name=Hasse Lake<br>%{xaxis.title.text}=%{x}<br>%{yaxis.title.text}=%{y}<extra></extra>\",\"legendgroup\":\"Hasse Lake\",\"marker\":{\"color\":\"#19d3f3\",\"symbol\":\"circle\"},\"name\":\"Hasse Lake\",\"showlegend\":true,\"type\":\"splom\"},{\"dimensions\":[{\"axis\":{\"matches\":true},\"label\":\"MC-LR_conc\",\"values\":[0.096,1.23,0.12,0.14,0.22,0.99,1.34,0.23,0.12]},{\"axis\":{\"matches\":true},\"label\":\"Total_cyano_cell_count\",\"values\":[0.0,13522.0,2617882.0,89871.0,96708.0,40744.0,6366.0,43263.0,1910.0]},{\"axis\":{\"matches\":true},\"label\":\"Microcystis_mcyE\",\"values\":[0.0,330.0,0.0,0.0,652.5,216.75,842.5000000000001,695.0,201.0]},{\"axis\":{\"matches\":true},\"label\":\"Anabaena_mcyE\",\"values\":[0.0,0.0,0.0,0.0,0.0,0.0,0.0,0.0,0.0]},{\"axis\":{\"matches\":true},\"label\":\"Planktothrix_mcyE\",\"values\":[0.0,0.0,0.0,0.0,0.0,0.0,0.0,0.0,0.0]}],\"hovertemplate\":\"Waterbody_name=Mink Lake<br>%{xaxis.title.text}=%{x}<br>%{yaxis.title.text}=%{y}<extra></extra>\",\"legendgroup\":\"Mink Lake\",\"marker\":{\"color\":\"#FF6692\",\"symbol\":\"circle\"},\"name\":\"Mink Lake\",\"showlegend\":true,\"type\":\"splom\"},{\"dimensions\":[{\"axis\":{\"matches\":true},\"label\":\"MC-LR_conc\",\"values\":[0.1,0.139,0.14,0.17,0.0,0.105,0.1,0.1,0.0,0.12,0.11,0.13,0.0,0.09,0.09,0.0,0.09,0.11,0.12,0.0,0.161,0.12,0.15,0.0,0.0,0.11,0.18]},{\"axis\":{\"matches\":true},\"label\":\"Total_cyano_cell_count\",\"values\":[306392.0,0.0,533944.0,2220319.0,0.0,9422.0,179298.0,9856.0,199313.0,5421788.0,73178.0,0.0,8810.0,406009.0,0.0,729927.0,459740.0,415711.0,816964.0,0.0,0.0,27808.0,892061.0,509295.0,0.0,677569.0,69543.0]},{\"axis\":{\"matches\":true},\"label\":\"Microcystis_mcyE\",\"values\":[1560.0,0.0,0.0,620.0,86.0,0.0,0.0,450.0,290.0,154.5,179.75,1540.0,0.0,0.0,0.0,0.0,0.0,191.75,0.0,163.0,0.0,0.0,165.75,472.5,183.0,0.0,200.0]},{\"axis\":{\"matches\":true},\"label\":\"Anabaena_mcyE\",\"values\":[0.0,0.0,0.0,126.5,0.0,0.0,62.5,0.0,0.0,0.0,0.0,0.0,0.0,0.0,0.0,0.0,0.0,170.75,0.0,0.0,0.0,0.0,0.0,0.0,0.0,0.0,1180.0]},{\"axis\":{\"matches\":true},\"label\":\"Planktothrix_mcyE\",\"values\":[0.0,0.0,0.0,0.0,0.0,0.0,0.0,0.0,0.0,0.0,0.0,0.0,0.0,0.0,0.0,0.0,0.0,0.0,0.0,0.0,219.0,0.0,0.0,0.0,0.0,0.0,0.0]}],\"hovertemplate\":\"Waterbody_name=Wabamun Lake<br>%{xaxis.title.text}=%{x}<br>%{yaxis.title.text}=%{y}<extra></extra>\",\"legendgroup\":\"Wabamun Lake\",\"marker\":{\"color\":\"#B6E880\",\"symbol\":\"circle\"},\"name\":\"Wabamun Lake\",\"showlegend\":true,\"type\":\"splom\"},{\"dimensions\":[{\"axis\":{\"matches\":true},\"label\":\"MC-LR_conc\",\"values\":[0.06,0.06,0.05,0.058,0.0,0.0,0.1,0.11,0.1]},{\"axis\":{\"matches\":true},\"label\":\"Total_cyano_cell_count\",\"values\":[0.0,0.0,6213.0,0.0,109824.0,2851.0,263574.0,0.0,0.0]},{\"axis\":{\"matches\":true},\"label\":\"Microcystis_mcyE\",\"values\":[0.0,0.0,0.0,0.0,0.0,0.0,0.0,0.0,0.0]},{\"axis\":{\"matches\":true},\"label\":\"Anabaena_mcyE\",\"values\":[0.0,0.0,0.0,0.0,0.0,0.0,0.0,0.0,0.0]},{\"axis\":{\"matches\":true},\"label\":\"Planktothrix_mcyE\",\"values\":[0.0,0.0,0.0,0.0,0.0,0.0,0.0,0.0,0.0]}],\"hovertemplate\":\"Waterbody_name=Hubbles Lake<br>%{xaxis.title.text}=%{x}<br>%{yaxis.title.text}=%{y}<extra></extra>\",\"legendgroup\":\"Hubbles Lake\",\"marker\":{\"color\":\"#FF97FF\",\"symbol\":\"circle\"},\"name\":\"Hubbles Lake\",\"showlegend\":true,\"type\":\"splom\"},{\"dimensions\":[{\"axis\":{\"matches\":true},\"label\":\"MC-LR_conc\",\"values\":[4.13,0.452,0.73,5.35,4.94,22.85,4.47,3.83,1.5,9.67,9.56,2.21,4.59,5.15,5.0,2.93,6.02,11.57,6.09,4.62,23.73,5.19,11.85,7.69,13.27,0.088,7.2,4.11,0.81,0.87,9.59,0.7,3.0,0.92,0.127,0.46,25.81,0.19,5.0,15.13,0.143,6.91,11.01,12.1,42.1,0.094,0.183,28.58,13.14,9.37,9.45,6.0,14.76,10.9,14.97,1.22,0.46,0.6,0.4,14.79,5.47,0.51,4.57]},{\"axis\":{\"matches\":true},\"label\":\"Total_cyano_cell_count\",\"values\":[160091.0,15890.0,243035.0,155844.0,95860.0,222399.0,94117.0,59892.0,87961.0,157217.0,307328.0,30799.0,165498.0,66848.0,22483.0,158122.0,317406.0,362992.0,65086.0,407436.0,720652.0,468798.0,336135.0,244461.0,174433.0,0.0,148714.0,169926.0,12987.0,135426.0,302225.0,291062.0,109499.0,115457.0,39725.0,177743.0,305577.0,7843.0,16297.0,157881.0,28699.0,430354.0,236822.0,287751.0,760326.0,20881.0,56022.0,361599.0,351031.0,88322.0,556451.0,187566.0,672340.0,142805.0,113804.0,70028.0,8193.0,78991.0,43902.0,402776.0,98124.0,13361.0,178508.0]},{\"axis\":{\"matches\":true},\"label\":\"Microcystis_mcyE\",\"values\":[57500.0,327.5,68.5,5375.0,221250.0,1572500.0,3150.0,18625.0,2925.0,420000.0,295000.0,2925.0,242500.0,19800.0,5850.0,110750.0,267500.0,502500.0,9500.0,97750.0,231750.0,6425.0,2675000.0,213750.0,36250.0,0.0,103500.0,55000.0,15525.0,6200.0,218750.0,852.5,23700.0,110.75,450.0,8675.0,525000.0,90.25,51750.0,11875000.0,312.5,66000.0,590000.0,6600000.0,2500000.0,0.0,0.0,1772500.0,415000.0,237250.0,22625.0,15525.0,510000.0,202250.0,555000.0,31000.0,1737.5,550.0,6625.0,19425000.0,148500.0,15200.0,4600.0]},{\"axis\":{\"matches\":true},\"label\":\"Anabaena_mcyE\",\"values\":[0.0,0.0,0.0,0.0,0.0,0.0,0.0,0.0,0.0,0.0,0.0,0.0,0.0,0.0,0.0,0.0,0.0,0.0,0.0,0.0,0.0,0.0,0.0,0.0,0.0,0.0,0.0,0.0,0.0,0.0,0.0,0.0,0.0,0.0,0.0,0.0,0.0,0.0,0.0,0.0,0.0,0.0,0.0,0.0,0.0,0.0,0.0,0.0,0.0,0.0,0.0,0.0,0.0,0.0,0.0,0.0,0.0,0.0,0.0,0.0,0.0,0.0,0.0]},{\"axis\":{\"matches\":true},\"label\":\"Planktothrix_mcyE\",\"values\":[0.0,0.0,0.0,0.0,0.0,0.0,0.0,0.0,0.0,0.0,0.0,0.0,0.0,0.0,0.0,0.0,0.0,0.0,0.0,0.0,0.0,0.0,0.0,0.0,0.0,0.0,0.0,0.0,0.0,0.0,0.0,0.0,0.0,0.0,0.0,0.0,0.0,0.0,0.0,0.0,0.0,0.0,0.0,0.0,0.0,0.0,0.0,0.0,0.0,0.0,0.0,0.0,0.0,0.0,0.0,0.0,0.0,0.0,0.0,0.0,0.0,0.0,0.0]}],\"hovertemplate\":\"Waterbody_name=Isle Lake<br>%{xaxis.title.text}=%{x}<br>%{yaxis.title.text}=%{y}<extra></extra>\",\"legendgroup\":\"Isle Lake\",\"marker\":{\"color\":\"#FECB52\",\"symbol\":\"circle\"},\"name\":\"Isle Lake\",\"showlegend\":true,\"type\":\"splom\"},{\"dimensions\":[{\"axis\":{\"matches\":true},\"label\":\"MC-LR_conc\",\"values\":[12.47,0.37,4.2,0.37,0.13,0.19,22.87]},{\"axis\":{\"matches\":true},\"label\":\"Total_cyano_cell_count\",\"values\":[1028271.0,15400.0,175490.0,2309896.0,6507.0,1086724.0,960020.0]},{\"axis\":{\"matches\":true},\"label\":\"Microcystis_mcyE\",\"values\":[130500.0,2435.0,34000.0,457.5,163.25,420.0,1317500.0]},{\"axis\":{\"matches\":true},\"label\":\"Anabaena_mcyE\",\"values\":[0.0,0.0,0.0,297.5,0.0,146.25,0.0]},{\"axis\":{\"matches\":true},\"label\":\"Planktothrix_mcyE\",\"values\":[0.0,0.0,0.0,0.0,0.0,0.0,0.0]}],\"hovertemplate\":\"Waterbody_name=Lac Ste. Anne<br>%{xaxis.title.text}=%{x}<br>%{yaxis.title.text}=%{y}<extra></extra>\",\"legendgroup\":\"Lac Ste. Anne\",\"marker\":{\"color\":\"#636efa\",\"symbol\":\"circle\"},\"name\":\"Lac Ste. Anne\",\"showlegend\":true,\"type\":\"splom\"},{\"dimensions\":[{\"axis\":{\"matches\":true},\"label\":\"MC-LR_conc\",\"values\":[0.11,0.28,0.62,0.34,0.44]},{\"axis\":{\"matches\":true},\"label\":\"Total_cyano_cell_count\",\"values\":[577567.0,399150.0,313099.0,25549.0,68065.0]},{\"axis\":{\"matches\":true},\"label\":\"Microcystis_mcyE\",\"values\":[347.5,1320.0,3950.0,149.0,0.0]},{\"axis\":{\"matches\":true},\"label\":\"Anabaena_mcyE\",\"values\":[0.0,0.0,0.0,0.0,0.0]},{\"axis\":{\"matches\":true},\"label\":\"Planktothrix_mcyE\",\"values\":[0.0,0.0,0.0,0.0,0.0]}],\"hovertemplate\":\"Waterbody_name=Lessard Lake<br>%{xaxis.title.text}=%{x}<br>%{yaxis.title.text}=%{y}<extra></extra>\",\"legendgroup\":\"Lessard Lake\",\"marker\":{\"color\":\"#EF553B\",\"symbol\":\"circle\"},\"name\":\"Lessard Lake\",\"showlegend\":true,\"type\":\"splom\"},{\"dimensions\":[{\"axis\":{\"matches\":true},\"label\":\"MC-LR_conc\",\"values\":[0.137,0.25]},{\"axis\":{\"matches\":true},\"label\":\"Total_cyano_cell_count\",\"values\":[0.0,99509.0]},{\"axis\":{\"matches\":true},\"label\":\"Microcystis_mcyE\",\"values\":[28500.0,485.0]},{\"axis\":{\"matches\":true},\"label\":\"Anabaena_mcyE\",\"values\":[0.0,0.0]},{\"axis\":{\"matches\":true},\"label\":\"Planktothrix_mcyE\",\"values\":[0.0,0.0]}],\"hovertemplate\":\"Waterbody_name=Shiningbank Lake<br>%{xaxis.title.text}=%{x}<br>%{yaxis.title.text}=%{y}<extra></extra>\",\"legendgroup\":\"Shiningbank Lake\",\"marker\":{\"color\":\"#00cc96\",\"symbol\":\"circle\"},\"name\":\"Shiningbank Lake\",\"showlegend\":true,\"type\":\"splom\"},{\"dimensions\":[{\"axis\":{\"matches\":true},\"label\":\"MC-LR_conc\",\"values\":[98.24,0.23,0.19,1.92,5.1,12.59,0.1,0.0,11.21,2.18,3.76,0.25,18.21]},{\"axis\":{\"matches\":true},\"label\":\"Total_cyano_cell_count\",\"values\":[1110405.0,23054.0,986.0,568095.0,236810.0,325234.0,0.0,198206.0,348995.0,51693.0,333982.0,713.0,10882.0]},{\"axis\":{\"matches\":true},\"label\":\"Microcystis_mcyE\",\"values\":[2550000.0,149.5,0.0,33500.0,38000.0,76750.0,72.5,0.0,205500.0,852.5,49500.0,627.5,199250.0]},{\"axis\":{\"matches\":true},\"label\":\"Anabaena_mcyE\",\"values\":[450.0,0.0,0.0,0.0,0.0,0.0,0.0,0.0,0.0,0.0,0.0,0.0,175.5]},{\"axis\":{\"matches\":true},\"label\":\"Planktothrix_mcyE\",\"values\":[0.0,0.0,0.0,0.0,0.0,0.0,0.0,0.0,0.0,0.0,0.0,0.0,0.0]}],\"hovertemplate\":\"Waterbody_name=Lac La Nonne<br>%{xaxis.title.text}=%{x}<br>%{yaxis.title.text}=%{y}<extra></extra>\",\"legendgroup\":\"Lac La Nonne\",\"marker\":{\"color\":\"#ab63fa\",\"symbol\":\"circle\"},\"name\":\"Lac La Nonne\",\"showlegend\":true,\"type\":\"splom\"},{\"dimensions\":[{\"axis\":{\"matches\":true},\"label\":\"MC-LR_conc\",\"values\":[1.02,0.36,0.17,0.0,0.81,0.76]},{\"axis\":{\"matches\":true},\"label\":\"Total_cyano_cell_count\",\"values\":[256150.0,153533.0,279620.0,449321.0,311067.0,148820.0]},{\"axis\":{\"matches\":true},\"label\":\"Microcystis_mcyE\",\"values\":[31750.0,0.0,61.75000000000001,5625.0,5025.0,14550.0]},{\"axis\":{\"matches\":true},\"label\":\"Anabaena_mcyE\",\"values\":[233.0,0.0,0.0,138.5,350.0,1222.5]},{\"axis\":{\"matches\":true},\"label\":\"Planktothrix_mcyE\",\"values\":[0.0,0.0,0.0,0.0,0.0,0.0]}],\"hovertemplate\":\"Waterbody_name=Kehiwin Lake<br>%{xaxis.title.text}=%{x}<br>%{yaxis.title.text}=%{y}<extra></extra>\",\"legendgroup\":\"Kehiwin Lake\",\"marker\":{\"color\":\"#FFA15A\",\"symbol\":\"circle\"},\"name\":\"Kehiwin Lake\",\"showlegend\":true,\"type\":\"splom\"},{\"dimensions\":[{\"axis\":{\"matches\":true},\"label\":\"MC-LR_conc\",\"values\":[1.37,1.18,0.79,1.56,1.8,1.27,2.07,0.8,0.9,3.08,0.88,1.23,1.09,0.81]},{\"axis\":{\"matches\":true},\"label\":\"Total_cyano_cell_count\",\"values\":[86422.0,270759.0,67181.0,863204.0,331295.0,351771.0,977948.0,123359.0,854086.0,881195.0,159843.0,194791.0,134454.0,76292.0]},{\"axis\":{\"matches\":true},\"label\":\"Microcystis_mcyE\",\"values\":[12900.0,3750.0,5175.0,6175.0,12525.0,7775.0,16600.0,9525.0,2012.5,10900.0,5650.0,5575.0,5925.0,8475.0]},{\"axis\":{\"matches\":true},\"label\":\"Anabaena_mcyE\",\"values\":[0.0,0.0,0.0,0.0,0.0,0.0,0.0,0.0,0.0,0.0,0.0,0.0,0.0,0.0]},{\"axis\":{\"matches\":true},\"label\":\"Planktothrix_mcyE\",\"values\":[0.0,0.0,0.0,0.0,0.0,0.0,0.0,0.0,0.0,0.0,0.0,0.0,0.0,0.0]}],\"hovertemplate\":\"Waterbody_name=Thunder Lake<br>%{xaxis.title.text}=%{x}<br>%{yaxis.title.text}=%{y}<extra></extra>\",\"legendgroup\":\"Thunder Lake\",\"marker\":{\"color\":\"#19d3f3\",\"symbol\":\"circle\"},\"name\":\"Thunder Lake\",\"showlegend\":true,\"type\":\"splom\"},{\"dimensions\":[{\"axis\":{\"matches\":true},\"label\":\"MC-LR_conc\",\"values\":[0.56,5.26,26.54,0.07,8.34]},{\"axis\":{\"matches\":true},\"label\":\"Total_cyano_cell_count\",\"values\":[231327.0,1103862.0,1492255.0,0.0,929502.0]},{\"axis\":{\"matches\":true},\"label\":\"Microcystis_mcyE\",\"values\":[94250.0,2675.0,164250.0,38000.0,52750.0]},{\"axis\":{\"matches\":true},\"label\":\"Anabaena_mcyE\",\"values\":[0.0,0.0,0.0,0.0,0.0]},{\"axis\":{\"matches\":true},\"label\":\"Planktothrix_mcyE\",\"values\":[0.0,0.0,0.0,0.0,0.0]}],\"hovertemplate\":\"Waterbody_name=Bonnie Lake<br>%{xaxis.title.text}=%{x}<br>%{yaxis.title.text}=%{y}<extra></extra>\",\"legendgroup\":\"Bonnie Lake\",\"marker\":{\"color\":\"#FF6692\",\"symbol\":\"circle\"},\"name\":\"Bonnie Lake\",\"showlegend\":true,\"type\":\"splom\"},{\"dimensions\":[{\"axis\":{\"matches\":true},\"label\":\"MC-LR_conc\",\"values\":[0.07]},{\"axis\":{\"matches\":true},\"label\":\"Total_cyano_cell_count\",\"values\":[3234.0]},{\"axis\":{\"matches\":true},\"label\":\"Microcystis_mcyE\",\"values\":[0.0]},{\"axis\":{\"matches\":true},\"label\":\"Anabaena_mcyE\",\"values\":[0.0]},{\"axis\":{\"matches\":true},\"label\":\"Planktothrix_mcyE\",\"values\":[0.0]}],\"hovertemplate\":\"Waterbody_name=Soar's Lake<br>%{xaxis.title.text}=%{x}<br>%{yaxis.title.text}=%{y}<extra></extra>\",\"legendgroup\":\"Soar's Lake\",\"marker\":{\"color\":\"#B6E880\",\"symbol\":\"circle\"},\"name\":\"Soar's Lake\",\"showlegend\":true,\"type\":\"splom\"},{\"dimensions\":[{\"axis\":{\"matches\":true},\"label\":\"MC-LR_conc\",\"values\":[343.4,2.65,1.17,0.095,0.22,0.29,0.14,0.67,0.68,0.24,0.11,0.067]},{\"axis\":{\"matches\":true},\"label\":\"Total_cyano_cell_count\",\"values\":[311994.0,185893.0,4026.0,0.0,102573.0,8760.0,43188.0,131653.0,155164.0,517417.0,7084.0,0.0]},{\"axis\":{\"matches\":true},\"label\":\"Microcystis_mcyE\",\"values\":[79750000.0,392.5,1335.0,181.75,0.0,223.0,0.0,0.0,163.75,3225.0,1030.0,192.25]},{\"axis\":{\"matches\":true},\"label\":\"Anabaena_mcyE\",\"values\":[11800.0,0.0,0.0,0.0,0.0,2700.0,0.0,0.0,7225.0,51.5,0.0,0.0]},{\"axis\":{\"matches\":true},\"label\":\"Planktothrix_mcyE\",\"values\":[0.0,0.0,0.0,0.0,0.0,0.0,0.0,0.0,0.0,0.0,0.0,0.0]}],\"hovertemplate\":\"Waterbody_name=Moose Lake<br>%{xaxis.title.text}=%{x}<br>%{yaxis.title.text}=%{y}<extra></extra>\",\"legendgroup\":\"Moose Lake\",\"marker\":{\"color\":\"#FF97FF\",\"symbol\":\"circle\"},\"name\":\"Moose Lake\",\"showlegend\":true,\"type\":\"splom\"},{\"dimensions\":[{\"axis\":{\"matches\":true},\"label\":\"MC-LR_conc\",\"values\":[0.0,0.05,0.06,0.07,0.06,0.05,0.09,0.07,0.08,0.1,0.24,0.23,0.33]},{\"axis\":{\"matches\":true},\"label\":\"Total_cyano_cell_count\",\"values\":[0.0,288006.0,157372.0,0.0,33257.0,0.0,38197.0,49656.0,63662.0,26789.0,21135.0,40488.0,206875.0]},{\"axis\":{\"matches\":true},\"label\":\"Microcystis_mcyE\",\"values\":[122.25,0.0,0.0,0.0,0.0,3550.0,0.0,103.5,0.0,345.0,510.0,337.5,635.0]},{\"axis\":{\"matches\":true},\"label\":\"Anabaena_mcyE\",\"values\":[310.0,0.0,0.0,0.0,0.0,0.0,0.0,0.0,0.0,0.0,0.0,160.75,69.0]},{\"axis\":{\"matches\":true},\"label\":\"Planktothrix_mcyE\",\"values\":[0.0,0.0,0.0,0.0,0.0,0.0,0.0,0.0,0.0,0.0,0.0,0.0,0.0]}],\"hovertemplate\":\"Waterbody_name=McLeod (Carson) Lake<br>%{xaxis.title.text}=%{x}<br>%{yaxis.title.text}=%{y}<extra></extra>\",\"legendgroup\":\"McLeod (Carson) Lake\",\"marker\":{\"color\":\"#FECB52\",\"symbol\":\"circle\"},\"name\":\"McLeod (Carson) Lake\",\"showlegend\":true,\"type\":\"splom\"},{\"dimensions\":[{\"axis\":{\"matches\":true},\"label\":\"MC-LR_conc\",\"values\":[8.41,1.93,2.18,5.69,0.14,0.3,4.57]},{\"axis\":{\"matches\":true},\"label\":\"Total_cyano_cell_count\",\"values\":[114787.0,63804.0,30194.0,63192.0,41818.0,151872.0,162975.0]},{\"axis\":{\"matches\":true},\"label\":\"Microcystis_mcyE\",\"values\":[41750.0,20225.0,37750.0,56000.0,0.0,2875.0,497500.0]},{\"axis\":{\"matches\":true},\"label\":\"Anabaena_mcyE\",\"values\":[0.0,0.0,0.0,0.0,0.0,0.0,0.0]},{\"axis\":{\"matches\":true},\"label\":\"Planktothrix_mcyE\",\"values\":[0.0,0.0,0.0,0.0,0.0,0.0,0.0]}],\"hovertemplate\":\"Waterbody_name=Goose Lake<br>%{xaxis.title.text}=%{x}<br>%{yaxis.title.text}=%{y}<extra></extra>\",\"legendgroup\":\"Goose Lake\",\"marker\":{\"color\":\"#636efa\",\"symbol\":\"circle\"},\"name\":\"Goose Lake\",\"showlegend\":true,\"type\":\"splom\"},{\"dimensions\":[{\"axis\":{\"matches\":true},\"label\":\"MC-LR_conc\",\"values\":[2.82,2.78,3.98,0.31,1.42,0.4,0.27,0.1,0.116,0.068]},{\"axis\":{\"matches\":true},\"label\":\"Total_cyano_cell_count\",\"values\":[133487.0,1308379.0,700280.0,184620.0,636618.0,280112.0,432900.0,3896.0,38197.0,1935.0]},{\"axis\":{\"matches\":true},\"label\":\"Microcystis_mcyE\",\"values\":[38750.0,35250.0,82.0,937.5,272.5,235.25,1037.5,2750.0,168.25,1137.5]},{\"axis\":{\"matches\":true},\"label\":\"Anabaena_mcyE\",\"values\":[0.0,0.0,0.0,0.0,0.0,0.0,0.0,0.0,0.0,0.0]},{\"axis\":{\"matches\":true},\"label\":\"Planktothrix_mcyE\",\"values\":[0.0,0.0,0.0,0.0,0.0,0.0,0.0,0.0,0.0,0.0]}],\"hovertemplate\":\"Waterbody_name=Smoke Lake<br>%{xaxis.title.text}=%{x}<br>%{yaxis.title.text}=%{y}<extra></extra>\",\"legendgroup\":\"Smoke Lake\",\"marker\":{\"color\":\"#EF553B\",\"symbol\":\"circle\"},\"name\":\"Smoke Lake\",\"showlegend\":true,\"type\":\"splom\"},{\"dimensions\":[{\"axis\":{\"matches\":true},\"label\":\"MC-LR_conc\",\"values\":[0.06,0.21]},{\"axis\":{\"matches\":true},\"label\":\"Total_cyano_cell_count\",\"values\":[7824.0,456932.0]},{\"axis\":{\"matches\":true},\"label\":\"Microcystis_mcyE\",\"values\":[30500.0,87750.0]},{\"axis\":{\"matches\":true},\"label\":\"Anabaena_mcyE\",\"values\":[0.0,0.0]},{\"axis\":{\"matches\":true},\"label\":\"Planktothrix_mcyE\",\"values\":[0.0,0.0]}],\"hovertemplate\":\"Waterbody_name=Long Lake<br>%{xaxis.title.text}=%{x}<br>%{yaxis.title.text}=%{y}<extra></extra>\",\"legendgroup\":\"Long Lake\",\"marker\":{\"color\":\"#00cc96\",\"symbol\":\"circle\"},\"name\":\"Long Lake\",\"showlegend\":true,\"type\":\"splom\"},{\"dimensions\":[{\"axis\":{\"matches\":true},\"label\":\"MC-LR_conc\",\"values\":[0.06,0.083,0.07,0.06,0.11,0.17,0.16,0.22,1.4,0.24,1.61,0.36,0.14]},{\"axis\":{\"matches\":true},\"label\":\"Total_cyano_cell_count\",\"values\":[0.0,0.0,0.0,0.0,17316.0,28978.0,38197.0,17316.0,88108.0,81487.0,570410.0,308124.0,112045.0]},{\"axis\":{\"matches\":true},\"label\":\"Microcystis_mcyE\",\"values\":[167.0,0.0,410.0,0.0,610.0,9475.0,0.0,975.0,300.0,372.5,1782.5,0.0,0.0]},{\"axis\":{\"matches\":true},\"label\":\"Anabaena_mcyE\",\"values\":[0.0,0.0,0.0,0.0,0.0,392.5,0.0,0.0,0.0,0.0,0.0,0.0,0.0]},{\"axis\":{\"matches\":true},\"label\":\"Planktothrix_mcyE\",\"values\":[0.0,0.0,0.0,0.0,0.0,0.0,0.0,0.0,0.0,0.0,0.0,0.0,0.0]}],\"hovertemplate\":\"Waterbody_name=Iosegun Lake<br>%{xaxis.title.text}=%{x}<br>%{yaxis.title.text}=%{y}<extra></extra>\",\"legendgroup\":\"Iosegun Lake\",\"marker\":{\"color\":\"#ab63fa\",\"symbol\":\"circle\"},\"name\":\"Iosegun Lake\",\"showlegend\":true,\"type\":\"splom\"},{\"dimensions\":[{\"axis\":{\"matches\":true},\"label\":\"MC-LR_conc\",\"values\":[0.07]},{\"axis\":{\"matches\":true},\"label\":\"Total_cyano_cell_count\",\"values\":[0.0]},{\"axis\":{\"matches\":true},\"label\":\"Microcystis_mcyE\",\"values\":[0.0]},{\"axis\":{\"matches\":true},\"label\":\"Anabaena_mcyE\",\"values\":[0.0]},{\"axis\":{\"matches\":true},\"label\":\"Planktothrix_mcyE\",\"values\":[0.0]}],\"hovertemplate\":\"Waterbody_name=Crane (Moore) Lake<br>%{xaxis.title.text}=%{x}<br>%{yaxis.title.text}=%{y}<extra></extra>\",\"legendgroup\":\"Crane (Moore) Lake\",\"marker\":{\"color\":\"#FFA15A\",\"symbol\":\"circle\"},\"name\":\"Crane (Moore) Lake\",\"showlegend\":true,\"type\":\"splom\"},{\"dimensions\":[{\"axis\":{\"matches\":true},\"label\":\"MC-LR_conc\",\"values\":[3.93]},{\"axis\":{\"matches\":true},\"label\":\"Total_cyano_cell_count\",\"values\":[490080.0]},{\"axis\":{\"matches\":true},\"label\":\"Microcystis_mcyE\",\"values\":[1555.0]},{\"axis\":{\"matches\":true},\"label\":\"Anabaena_mcyE\",\"values\":[6275.0]},{\"axis\":{\"matches\":true},\"label\":\"Planktothrix_mcyE\",\"values\":[0.0]}],\"hovertemplate\":\"Waterbody_name=Skeleton Lake<br>%{xaxis.title.text}=%{x}<br>%{yaxis.title.text}=%{y}<extra></extra>\",\"legendgroup\":\"Skeleton Lake\",\"marker\":{\"color\":\"#19d3f3\",\"symbol\":\"circle\"},\"name\":\"Skeleton Lake\",\"showlegend\":true,\"type\":\"splom\"},{\"dimensions\":[{\"axis\":{\"matches\":true},\"label\":\"MC-LR_conc\",\"values\":[0.55]},{\"axis\":{\"matches\":true},\"label\":\"Total_cyano_cell_count\",\"values\":[1550970.0]},{\"axis\":{\"matches\":true},\"label\":\"Microcystis_mcyE\",\"values\":[985.0]},{\"axis\":{\"matches\":true},\"label\":\"Anabaena_mcyE\",\"values\":[0.0]},{\"axis\":{\"matches\":true},\"label\":\"Planktothrix_mcyE\",\"values\":[0.0]}],\"hovertemplate\":\"Waterbody_name=Steele (Cross) Lake<br>%{xaxis.title.text}=%{x}<br>%{yaxis.title.text}=%{y}<extra></extra>\",\"legendgroup\":\"Steele (Cross) Lake\",\"marker\":{\"color\":\"#FF6692\",\"symbol\":\"circle\"},\"name\":\"Steele (Cross) Lake\",\"showlegend\":true,\"type\":\"splom\"},{\"dimensions\":[{\"axis\":{\"matches\":true},\"label\":\"MC-LR_conc\",\"values\":[0.0,0.0,0.0,0.0,0.0,0.0,0.0,0.0,0.1,0.0,0.0,0.0,0.0,0.0,0.0,0.1]},{\"axis\":{\"matches\":true},\"label\":\"Total_cyano_cell_count\",\"values\":[27.0,122231.0,0.0,6906.0,1185307.0,446905.0,146820.0,360227.0,95165.0,36389.0,1901.0,8946.0,261022.0,144872.0,584644.0,146890.0]},{\"axis\":{\"matches\":true},\"label\":\"Microcystis_mcyE\",\"values\":[0.0,0.0,0.0,487.5,625.0,0.0,53.25,55.25,0.0,322.5,175.75,752.5,0.0,0.0,0.0,662.5]},{\"axis\":{\"matches\":true},\"label\":\"Anabaena_mcyE\",\"values\":[0.0,0.0,0.0,0.0,0.0,0.0,0.0,0.0,0.0,0.0,0.0,0.0,0.0,0.0,0.0,0.0]},{\"axis\":{\"matches\":true},\"label\":\"Planktothrix_mcyE\",\"values\":[0.0,0.0,0.0,0.0,0.0,0.0,0.0,0.0,0.0,0.0,0.0,0.0,0.0,0.0,0.0,0.0]}],\"hovertemplate\":\"Waterbody_name=North Buck Lake<br>%{xaxis.title.text}=%{x}<br>%{yaxis.title.text}=%{y}<extra></extra>\",\"legendgroup\":\"North Buck Lake\",\"marker\":{\"color\":\"#B6E880\",\"symbol\":\"circle\"},\"name\":\"North Buck Lake\",\"showlegend\":true,\"type\":\"splom\"},{\"dimensions\":[{\"axis\":{\"matches\":true},\"label\":\"MC-LR_conc\",\"values\":[0.0,0.0,0.0,0.0,0.0,0.0,0.0,0.0,0.0,0.0,0.0,0.0,0.0,0.0,0.0,0.0]},{\"axis\":{\"matches\":true},\"label\":\"Total_cyano_cell_count\",\"values\":[171473.0,1630.0,159224.0,63662.0,5170.0,93.0,12567.0,8343.0,451249.0,86972.0,66675.0,7209.0,201485.0,187546.0,30707.0,48.0]},{\"axis\":{\"matches\":true},\"label\":\"Microcystis_mcyE\",\"values\":[0.0,0.0,0.0,0.0,0.0,105.0,0.0,0.0,0.0,0.0,0.0,0.0,0.0,0.0,0.0,0.0]},{\"axis\":{\"matches\":true},\"label\":\"Anabaena_mcyE\",\"values\":[0.0,0.0,0.0,0.0,0.0,0.0,0.0,0.0,0.0,0.0,0.0,0.0,0.0,0.0,0.0,0.0]},{\"axis\":{\"matches\":true},\"label\":\"Planktothrix_mcyE\",\"values\":[0.0,0.0,0.0,0.0,0.0,0.0,0.0,0.0,0.0,0.0,0.0,0.0,192.25,0.0,0.0,0.0]}],\"hovertemplate\":\"Waterbody_name=Hope Lake<br>%{xaxis.title.text}=%{x}<br>%{yaxis.title.text}=%{y}<extra></extra>\",\"legendgroup\":\"Hope Lake\",\"marker\":{\"color\":\"#FF97FF\",\"symbol\":\"circle\"},\"name\":\"Hope Lake\",\"showlegend\":true,\"type\":\"splom\"},{\"dimensions\":[{\"axis\":{\"matches\":true},\"label\":\"MC-LR_conc\",\"values\":[0.0,0.0,0.0,0.0,0.18,0.4,0.0,0.0,0.23,0.48]},{\"axis\":{\"matches\":true},\"label\":\"Total_cyano_cell_count\",\"values\":[13859.0,19095.0,117712.0,144753.0,100404.0,14784.0,0.0,10780.0,1107195.0,135574.0]},{\"axis\":{\"matches\":true},\"label\":\"Microcystis_mcyE\",\"values\":[0.0,171.75,0.0,0.0,0.0,47000.0,0.0,0.0,392.5,183.5]},{\"axis\":{\"matches\":true},\"label\":\"Anabaena_mcyE\",\"values\":[0.0,0.0,0.0,0.0,0.0,0.0,0.0,0.0,0.0,0.0]},{\"axis\":{\"matches\":true},\"label\":\"Planktothrix_mcyE\",\"values\":[0.0,0.0,0.0,0.0,0.0,0.0,0.0,0.0,0.0,0.0]}],\"hovertemplate\":\"Waterbody_name=Baptiste Lake<br>%{xaxis.title.text}=%{x}<br>%{yaxis.title.text}=%{y}<extra></extra>\",\"legendgroup\":\"Baptiste Lake\",\"marker\":{\"color\":\"#FECB52\",\"symbol\":\"circle\"},\"name\":\"Baptiste Lake\",\"showlegend\":true,\"type\":\"splom\"},{\"dimensions\":[{\"axis\":{\"matches\":true},\"label\":\"MC-LR_conc\",\"values\":[0.52]},{\"axis\":{\"matches\":true},\"label\":\"Total_cyano_cell_count\",\"values\":[1793582.0]},{\"axis\":{\"matches\":true},\"label\":\"Microcystis_mcyE\",\"values\":[92.75]},{\"axis\":{\"matches\":true},\"label\":\"Anabaena_mcyE\",\"values\":[525.0]},{\"axis\":{\"matches\":true},\"label\":\"Planktothrix_mcyE\",\"values\":[0.0]}],\"hovertemplate\":\"Waterbody_name=Beaver Lake<br>%{xaxis.title.text}=%{x}<br>%{yaxis.title.text}=%{y}<extra></extra>\",\"legendgroup\":\"Beaver Lake\",\"marker\":{\"color\":\"#636efa\",\"symbol\":\"circle\"},\"name\":\"Beaver Lake\",\"showlegend\":true,\"type\":\"splom\"},{\"dimensions\":[{\"axis\":{\"matches\":true},\"label\":\"MC-LR_conc\",\"values\":[0.1,0.053,0.07,0.29,0.2,0.15,0.31,0.12,0.0,3.37]},{\"axis\":{\"matches\":true},\"label\":\"Total_cyano_cell_count\",\"values\":[422205.0,0.0,0.0,19609.0,43672.0,398362.0,89460.0,51126.0,59996.0,381.0]},{\"axis\":{\"matches\":true},\"label\":\"Microcystis_mcyE\",\"values\":[0.0,0.0,1432.5,4925.0,228.0,1850.0,0.0,0.0,0.0,13075.0]},{\"axis\":{\"matches\":true},\"label\":\"Anabaena_mcyE\",\"values\":[0.0,0.0,0.0,0.0,0.0,0.0,0.0,0.0,0.0,56.25]},{\"axis\":{\"matches\":true},\"label\":\"Planktothrix_mcyE\",\"values\":[0.0,0.0,0.0,0.0,0.0,0.0,0.0,0.0,0.0,0.0]}],\"hovertemplate\":\"Waterbody_name=Lac La Biche<br>%{xaxis.title.text}=%{x}<br>%{yaxis.title.text}=%{y}<extra></extra>\",\"legendgroup\":\"Lac La Biche\",\"marker\":{\"color\":\"#EF553B\",\"symbol\":\"circle\"},\"name\":\"Lac La Biche\",\"showlegend\":true,\"type\":\"splom\"},{\"dimensions\":[{\"axis\":{\"matches\":true},\"label\":\"MC-LR_conc\",\"values\":[0.0,0.59,0.49,0.0,0.52,0.99,0.41,0.36,0.2,0.19,0.28,0.4,0.39,0.32,0.19,0.0]},{\"axis\":{\"matches\":true},\"label\":\"Total_cyano_cell_count\",\"values\":[184842.0,360581.0,153384.0,299376.0,73941.0,123658.0,45470.0,113498.0,99665.0,412834.0,206264.0,38961.0,555619.0,80235.0,145537.0,13026.0]},{\"axis\":{\"matches\":true},\"label\":\"Microcystis_mcyE\",\"values\":[216.75,470.0,1775.0,3500.0,0.0,507.5,0.0,1072.5,2650.0,6225.0,58.25,1435.0,92.25,0.0,1477.5,0.0]},{\"axis\":{\"matches\":true},\"label\":\"Anabaena_mcyE\",\"values\":[1090.0,620.0,407.5,1015.0,0.0,70.0,0.0,193.5,105.75,89.0,0.0,163.0,0.0,0.0,0.0,0.0]},{\"axis\":{\"matches\":true},\"label\":\"Planktothrix_mcyE\",\"values\":[0.0,0.0,0.0,0.0,0.0,0.0,0.0,0.0,0.0,0.0,0.0,0.0,0.0,0.0,0.0,0.0]}],\"hovertemplate\":\"Waterbody_name=Jackfish Lake (Athabasca)<br>%{xaxis.title.text}=%{x}<br>%{yaxis.title.text}=%{y}<extra></extra>\",\"legendgroup\":\"Jackfish Lake (Athabasca)\",\"marker\":{\"color\":\"#00cc96\",\"symbol\":\"circle\"},\"name\":\"Jackfish Lake (Athabasca)\",\"showlegend\":true,\"type\":\"splom\"},{\"dimensions\":[{\"axis\":{\"matches\":true},\"label\":\"MC-LR_conc\",\"values\":[0.09,0.077,0.66,1.1,0.17,0.2,0.12,0.2]},{\"axis\":{\"matches\":true},\"label\":\"Total_cyano_cell_count\",\"values\":[21288.0,0.0,45837.0,297938.0,8632.0,208297.0,99313.0,618793.0]},{\"axis\":{\"matches\":true},\"label\":\"Microcystis_mcyE\",\"values\":[0.0,0.0,2237.5,6625.0,582.5,194.25,307.5,345.0]},{\"axis\":{\"matches\":true},\"label\":\"Anabaena_mcyE\",\"values\":[0.0,0.0,0.0,0.0,0.0,0.0,0.0,0.0]},{\"axis\":{\"matches\":true},\"label\":\"Planktothrix_mcyE\",\"values\":[0.0,0.0,0.0,0.0,0.0,0.0,0.0,0.0]}],\"hovertemplate\":\"Waterbody_name=Sturgeon Lake<br>%{xaxis.title.text}=%{x}<br>%{yaxis.title.text}=%{y}<extra></extra>\",\"legendgroup\":\"Sturgeon Lake\",\"marker\":{\"color\":\"#ab63fa\",\"symbol\":\"circle\"},\"name\":\"Sturgeon Lake\",\"showlegend\":true,\"type\":\"splom\"},{\"dimensions\":[{\"axis\":{\"matches\":true},\"label\":\"MC-LR_conc\",\"values\":[0.0,0.0,0.0,0.0,0.0,0.13,2.45,0.0,2.34]},{\"axis\":{\"matches\":true},\"label\":\"Total_cyano_cell_count\",\"values\":[0.0,616.0,0.0,91349.0,62028.0,135334.0,186772.0,12381.0,274172.0]},{\"axis\":{\"matches\":true},\"label\":\"Microcystis_mcyE\",\"values\":[0.0,0.0,0.0,0.0,0.0,0.0,0.0,0.0,61500.0]},{\"axis\":{\"matches\":true},\"label\":\"Anabaena_mcyE\",\"values\":[0.0,0.0,0.0,0.0,0.0,0.0,151.0,0.0,70.75]},{\"axis\":{\"matches\":true},\"label\":\"Planktothrix_mcyE\",\"values\":[0.0,0.0,0.0,0.0,0.0,0.0,0.0,0.0,0.0]}],\"hovertemplate\":\"Waterbody_name=Calling Lake<br>%{xaxis.title.text}=%{x}<br>%{yaxis.title.text}=%{y}<extra></extra>\",\"legendgroup\":\"Calling Lake\",\"marker\":{\"color\":\"#FFA15A\",\"symbol\":\"circle\"},\"name\":\"Calling Lake\",\"showlegend\":true,\"type\":\"splom\"},{\"dimensions\":[{\"axis\":{\"matches\":true},\"label\":\"MC-LR_conc\",\"values\":[3.2,14.49,0.08,0.16,1.62,0.063,2.88]},{\"axis\":{\"matches\":true},\"label\":\"Total_cyano_cell_count\",\"values\":[58144.0,43291.0,79094.0,47110.0,408709.0,11765.0,42017.0]},{\"axis\":{\"matches\":true},\"label\":\"Microcystis_mcyE\",\"values\":[385.0,17275.0,0.0,0.0,0.0,0.0,505.0]},{\"axis\":{\"matches\":true},\"label\":\"Anabaena_mcyE\",\"values\":[0.0,0.0,0.0,0.0,0.0,0.0,0.0]},{\"axis\":{\"matches\":true},\"label\":\"Planktothrix_mcyE\",\"values\":[0.0,0.0,0.0,0.0,0.0,0.0,0.0]}],\"hovertemplate\":\"Waterbody_name=Moonshine Lake<br>%{xaxis.title.text}=%{x}<br>%{yaxis.title.text}=%{y}<extra></extra>\",\"legendgroup\":\"Moonshine Lake\",\"marker\":{\"color\":\"#19d3f3\",\"symbol\":\"circle\"},\"name\":\"Moonshine Lake\",\"showlegend\":true,\"type\":\"splom\"}],                        {\"dragmode\":\"select\",\"height\":1000,\"legend\":{\"title\":{\"text\":\"Waterbody_name\"},\"tracegroupgap\":0},\"margin\":{\"t\":60},\"template\":{\"data\":{\"bar\":[{\"error_x\":{\"color\":\"#2a3f5f\"},\"error_y\":{\"color\":\"#2a3f5f\"},\"marker\":{\"line\":{\"color\":\"#E5ECF6\",\"width\":0.5},\"pattern\":{\"fillmode\":\"overlay\",\"size\":10,\"solidity\":0.2}},\"type\":\"bar\"}],\"barpolar\":[{\"marker\":{\"line\":{\"color\":\"#E5ECF6\",\"width\":0.5},\"pattern\":{\"fillmode\":\"overlay\",\"size\":10,\"solidity\":0.2}},\"type\":\"barpolar\"}],\"carpet\":[{\"aaxis\":{\"endlinecolor\":\"#2a3f5f\",\"gridcolor\":\"white\",\"linecolor\":\"white\",\"minorgridcolor\":\"white\",\"startlinecolor\":\"#2a3f5f\"},\"baxis\":{\"endlinecolor\":\"#2a3f5f\",\"gridcolor\":\"white\",\"linecolor\":\"white\",\"minorgridcolor\":\"white\",\"startlinecolor\":\"#2a3f5f\"},\"type\":\"carpet\"}],\"choropleth\":[{\"colorbar\":{\"outlinewidth\":0,\"ticks\":\"\"},\"type\":\"choropleth\"}],\"contour\":[{\"colorbar\":{\"outlinewidth\":0,\"ticks\":\"\"},\"colorscale\":[[0.0,\"#0d0887\"],[0.1111111111111111,\"#46039f\"],[0.2222222222222222,\"#7201a8\"],[0.3333333333333333,\"#9c179e\"],[0.4444444444444444,\"#bd3786\"],[0.5555555555555556,\"#d8576b\"],[0.6666666666666666,\"#ed7953\"],[0.7777777777777778,\"#fb9f3a\"],[0.8888888888888888,\"#fdca26\"],[1.0,\"#f0f921\"]],\"type\":\"contour\"}],\"contourcarpet\":[{\"colorbar\":{\"outlinewidth\":0,\"ticks\":\"\"},\"type\":\"contourcarpet\"}],\"heatmap\":[{\"colorbar\":{\"outlinewidth\":0,\"ticks\":\"\"},\"colorscale\":[[0.0,\"#0d0887\"],[0.1111111111111111,\"#46039f\"],[0.2222222222222222,\"#7201a8\"],[0.3333333333333333,\"#9c179e\"],[0.4444444444444444,\"#bd3786\"],[0.5555555555555556,\"#d8576b\"],[0.6666666666666666,\"#ed7953\"],[0.7777777777777778,\"#fb9f3a\"],[0.8888888888888888,\"#fdca26\"],[1.0,\"#f0f921\"]],\"type\":\"heatmap\"}],\"heatmapgl\":[{\"colorbar\":{\"outlinewidth\":0,\"ticks\":\"\"},\"colorscale\":[[0.0,\"#0d0887\"],[0.1111111111111111,\"#46039f\"],[0.2222222222222222,\"#7201a8\"],[0.3333333333333333,\"#9c179e\"],[0.4444444444444444,\"#bd3786\"],[0.5555555555555556,\"#d8576b\"],[0.6666666666666666,\"#ed7953\"],[0.7777777777777778,\"#fb9f3a\"],[0.8888888888888888,\"#fdca26\"],[1.0,\"#f0f921\"]],\"type\":\"heatmapgl\"}],\"histogram\":[{\"marker\":{\"pattern\":{\"fillmode\":\"overlay\",\"size\":10,\"solidity\":0.2}},\"type\":\"histogram\"}],\"histogram2d\":[{\"colorbar\":{\"outlinewidth\":0,\"ticks\":\"\"},\"colorscale\":[[0.0,\"#0d0887\"],[0.1111111111111111,\"#46039f\"],[0.2222222222222222,\"#7201a8\"],[0.3333333333333333,\"#9c179e\"],[0.4444444444444444,\"#bd3786\"],[0.5555555555555556,\"#d8576b\"],[0.6666666666666666,\"#ed7953\"],[0.7777777777777778,\"#fb9f3a\"],[0.8888888888888888,\"#fdca26\"],[1.0,\"#f0f921\"]],\"type\":\"histogram2d\"}],\"histogram2dcontour\":[{\"colorbar\":{\"outlinewidth\":0,\"ticks\":\"\"},\"colorscale\":[[0.0,\"#0d0887\"],[0.1111111111111111,\"#46039f\"],[0.2222222222222222,\"#7201a8\"],[0.3333333333333333,\"#9c179e\"],[0.4444444444444444,\"#bd3786\"],[0.5555555555555556,\"#d8576b\"],[0.6666666666666666,\"#ed7953\"],[0.7777777777777778,\"#fb9f3a\"],[0.8888888888888888,\"#fdca26\"],[1.0,\"#f0f921\"]],\"type\":\"histogram2dcontour\"}],\"mesh3d\":[{\"colorbar\":{\"outlinewidth\":0,\"ticks\":\"\"},\"type\":\"mesh3d\"}],\"parcoords\":[{\"line\":{\"colorbar\":{\"outlinewidth\":0,\"ticks\":\"\"}},\"type\":\"parcoords\"}],\"pie\":[{\"automargin\":true,\"type\":\"pie\"}],\"scatter\":[{\"marker\":{\"colorbar\":{\"outlinewidth\":0,\"ticks\":\"\"}},\"type\":\"scatter\"}],\"scatter3d\":[{\"line\":{\"colorbar\":{\"outlinewidth\":0,\"ticks\":\"\"}},\"marker\":{\"colorbar\":{\"outlinewidth\":0,\"ticks\":\"\"}},\"type\":\"scatter3d\"}],\"scattercarpet\":[{\"marker\":{\"colorbar\":{\"outlinewidth\":0,\"ticks\":\"\"}},\"type\":\"scattercarpet\"}],\"scattergeo\":[{\"marker\":{\"colorbar\":{\"outlinewidth\":0,\"ticks\":\"\"}},\"type\":\"scattergeo\"}],\"scattergl\":[{\"marker\":{\"colorbar\":{\"outlinewidth\":0,\"ticks\":\"\"}},\"type\":\"scattergl\"}],\"scattermapbox\":[{\"marker\":{\"colorbar\":{\"outlinewidth\":0,\"ticks\":\"\"}},\"type\":\"scattermapbox\"}],\"scatterpolar\":[{\"marker\":{\"colorbar\":{\"outlinewidth\":0,\"ticks\":\"\"}},\"type\":\"scatterpolar\"}],\"scatterpolargl\":[{\"marker\":{\"colorbar\":{\"outlinewidth\":0,\"ticks\":\"\"}},\"type\":\"scatterpolargl\"}],\"scatterternary\":[{\"marker\":{\"colorbar\":{\"outlinewidth\":0,\"ticks\":\"\"}},\"type\":\"scatterternary\"}],\"surface\":[{\"colorbar\":{\"outlinewidth\":0,\"ticks\":\"\"},\"colorscale\":[[0.0,\"#0d0887\"],[0.1111111111111111,\"#46039f\"],[0.2222222222222222,\"#7201a8\"],[0.3333333333333333,\"#9c179e\"],[0.4444444444444444,\"#bd3786\"],[0.5555555555555556,\"#d8576b\"],[0.6666666666666666,\"#ed7953\"],[0.7777777777777778,\"#fb9f3a\"],[0.8888888888888888,\"#fdca26\"],[1.0,\"#f0f921\"]],\"type\":\"surface\"}],\"table\":[{\"cells\":{\"fill\":{\"color\":\"#EBF0F8\"},\"line\":{\"color\":\"white\"}},\"header\":{\"fill\":{\"color\":\"#C8D4E3\"},\"line\":{\"color\":\"white\"}},\"type\":\"table\"}]},\"layout\":{\"annotationdefaults\":{\"arrowcolor\":\"#2a3f5f\",\"arrowhead\":0,\"arrowwidth\":1},\"autotypenumbers\":\"strict\",\"coloraxis\":{\"colorbar\":{\"outlinewidth\":0,\"ticks\":\"\"}},\"colorscale\":{\"diverging\":[[0,\"#8e0152\"],[0.1,\"#c51b7d\"],[0.2,\"#de77ae\"],[0.3,\"#f1b6da\"],[0.4,\"#fde0ef\"],[0.5,\"#f7f7f7\"],[0.6,\"#e6f5d0\"],[0.7,\"#b8e186\"],[0.8,\"#7fbc41\"],[0.9,\"#4d9221\"],[1,\"#276419\"]],\"sequential\":[[0.0,\"#0d0887\"],[0.1111111111111111,\"#46039f\"],[0.2222222222222222,\"#7201a8\"],[0.3333333333333333,\"#9c179e\"],[0.4444444444444444,\"#bd3786\"],[0.5555555555555556,\"#d8576b\"],[0.6666666666666666,\"#ed7953\"],[0.7777777777777778,\"#fb9f3a\"],[0.8888888888888888,\"#fdca26\"],[1.0,\"#f0f921\"]],\"sequentialminus\":[[0.0,\"#0d0887\"],[0.1111111111111111,\"#46039f\"],[0.2222222222222222,\"#7201a8\"],[0.3333333333333333,\"#9c179e\"],[0.4444444444444444,\"#bd3786\"],[0.5555555555555556,\"#d8576b\"],[0.6666666666666666,\"#ed7953\"],[0.7777777777777778,\"#fb9f3a\"],[0.8888888888888888,\"#fdca26\"],[1.0,\"#f0f921\"]]},\"colorway\":[\"#636efa\",\"#EF553B\",\"#00cc96\",\"#ab63fa\",\"#FFA15A\",\"#19d3f3\",\"#FF6692\",\"#B6E880\",\"#FF97FF\",\"#FECB52\"],\"font\":{\"color\":\"#2a3f5f\"},\"geo\":{\"bgcolor\":\"white\",\"lakecolor\":\"white\",\"landcolor\":\"#E5ECF6\",\"showlakes\":true,\"showland\":true,\"subunitcolor\":\"white\"},\"hoverlabel\":{\"align\":\"left\"},\"hovermode\":\"closest\",\"mapbox\":{\"style\":\"light\"},\"paper_bgcolor\":\"white\",\"plot_bgcolor\":\"#E5ECF6\",\"polar\":{\"angularaxis\":{\"gridcolor\":\"white\",\"linecolor\":\"white\",\"ticks\":\"\"},\"bgcolor\":\"#E5ECF6\",\"radialaxis\":{\"gridcolor\":\"white\",\"linecolor\":\"white\",\"ticks\":\"\"}},\"scene\":{\"xaxis\":{\"backgroundcolor\":\"#E5ECF6\",\"gridcolor\":\"white\",\"gridwidth\":2,\"linecolor\":\"white\",\"showbackground\":true,\"ticks\":\"\",\"zerolinecolor\":\"white\"},\"yaxis\":{\"backgroundcolor\":\"#E5ECF6\",\"gridcolor\":\"white\",\"gridwidth\":2,\"linecolor\":\"white\",\"showbackground\":true,\"ticks\":\"\",\"zerolinecolor\":\"white\"},\"zaxis\":{\"backgroundcolor\":\"#E5ECF6\",\"gridcolor\":\"white\",\"gridwidth\":2,\"linecolor\":\"white\",\"showbackground\":true,\"ticks\":\"\",\"zerolinecolor\":\"white\"}},\"shapedefaults\":{\"line\":{\"color\":\"#2a3f5f\"}},\"ternary\":{\"aaxis\":{\"gridcolor\":\"white\",\"linecolor\":\"white\",\"ticks\":\"\"},\"baxis\":{\"gridcolor\":\"white\",\"linecolor\":\"white\",\"ticks\":\"\"},\"bgcolor\":\"#E5ECF6\",\"caxis\":{\"gridcolor\":\"white\",\"linecolor\":\"white\",\"ticks\":\"\"}},\"title\":{\"x\":0.05},\"xaxis\":{\"automargin\":true,\"gridcolor\":\"white\",\"linecolor\":\"white\",\"ticks\":\"\",\"title\":{\"standoff\":15},\"zerolinecolor\":\"white\",\"zerolinewidth\":2},\"yaxis\":{\"automargin\":true,\"gridcolor\":\"white\",\"linecolor\":\"white\",\"ticks\":\"\",\"title\":{\"standoff\":15},\"zerolinecolor\":\"white\",\"zerolinewidth\":2}}},\"width\":1200,\"xaxis\":{\"type\":\"log\"},\"yaxis\":{\"type\":\"log\"}},                        {\"responsive\": true}                    ).then(function(){\n",
       "                            \n",
       "var gd = document.getElementById('c72ff7ce-1a1d-406a-bcff-a31c34193d09');\n",
       "var x = new MutationObserver(function (mutations, observer) {{\n",
       "        var display = window.getComputedStyle(gd).display;\n",
       "        if (!display || display === 'none') {{\n",
       "            console.log([gd, 'removed!']);\n",
       "            Plotly.purge(gd);\n",
       "            observer.disconnect();\n",
       "        }}\n",
       "}});\n",
       "\n",
       "// Listen for the removal of the full notebook cells\n",
       "var notebookContainer = gd.closest('#notebook-container');\n",
       "if (notebookContainer) {{\n",
       "    x.observe(notebookContainer, {childList: true});\n",
       "}}\n",
       "\n",
       "// Listen for the clearing of the current output cell\n",
       "var outputEl = gd.closest('.output');\n",
       "if (outputEl) {{\n",
       "    x.observe(outputEl, {childList: true});\n",
       "}}\n",
       "\n",
       "                        })                };                });            </script>        </div>"
      ]
     },
     "metadata": {},
     "output_type": "display_data"
    }
   ],
   "source": [
    "# Plot a correlation matrix for the various indicators of cyanobacterial blooms\n",
    "fig = px.scatter_matrix(bloomIndicators,\n",
    "                        dimensions = ['MC-LR_conc', 'Total_cyano_cell_count', 'Microcystis_mcyE', 'Anabaena_mcyE', 'Planktothrix_mcyE'],\n",
    "                        color = 'Waterbody_name',\n",
    "                        height=1000, width= 1200\n",
    "    )\n",
    "fig.update_layout(xaxis_type=\"log\",yaxis_type=\"log\")\n",
    "fig.show()"
   ]
  },
  {
   "cell_type": "markdown",
   "id": "e5205de8",
   "metadata": {},
   "source": [
    "Since it's possible for waterbodies to have high levels of total cyanobacterial cell counts, but only one of the three species of bacteria present, we should compute these correlations individually for each pair of indicators. "
   ]
  },
  {
   "cell_type": "markdown",
   "id": "5094a920",
   "metadata": {},
   "source": [
    "Calculate the proportion of samples made by the three micocystin producing genera"
   ]
  },
  {
   "cell_type": "code",
   "execution_count": 6,
   "id": "8b5ddbb2",
   "metadata": {
    "scrolled": true
   },
   "outputs": [
    {
     "name": "stderr",
     "output_type": "stream",
     "text": [
      "C:\\Users\\radhi\\AppData\\Local\\Temp/ipykernel_22900/4127828257.py:2: FutureWarning:\n",
      "\n",
      "The default value of regex will change from True to False in a future version.\n",
      "\n",
      "C:\\Users\\radhi\\AppData\\Local\\Temp/ipykernel_22900/4127828257.py:2: SettingWithCopyWarning:\n",
      "\n",
      "\n",
      "A value is trying to be set on a copy of a slice from a DataFrame.\n",
      "Try using .loc[row_indexer,col_indexer] = value instead\n",
      "\n",
      "See the caveats in the documentation: https://pandas.pydata.org/pandas-docs/stable/user_guide/indexing.html#returning-a-view-versus-a-copy\n",
      "\n"
     ]
    },
    {
     "data": {
      "text/html": [
       "<div>\n",
       "<style scoped>\n",
       "    .dataframe tbody tr th:only-of-type {\n",
       "        vertical-align: middle;\n",
       "    }\n",
       "\n",
       "    .dataframe tbody tr th {\n",
       "        vertical-align: top;\n",
       "    }\n",
       "\n",
       "    .dataframe thead th {\n",
       "        text-align: right;\n",
       "    }\n",
       "</style>\n",
       "<table border=\"1\" class=\"dataframe\">\n",
       "  <thead>\n",
       "    <tr style=\"text-align: right;\">\n",
       "      <th></th>\n",
       "      <th>Combination</th>\n",
       "      <th>Proportion</th>\n",
       "    </tr>\n",
       "  </thead>\n",
       "  <tbody>\n",
       "    <tr>\n",
       "      <th>0</th>\n",
       "      <td>Microcystis spp.</td>\n",
       "      <td>34.021586</td>\n",
       "    </tr>\n",
       "    <tr>\n",
       "      <th>1</th>\n",
       "      <td>Anabaena spp.</td>\n",
       "      <td>5.068043</td>\n",
       "    </tr>\n",
       "    <tr>\n",
       "      <th>2</th>\n",
       "      <td>Planktothrix</td>\n",
       "      <td>0.797748</td>\n",
       "    </tr>\n",
       "    <tr>\n",
       "      <th>3</th>\n",
       "      <td>Microcystis and Anabaena spp.</td>\n",
       "      <td>3.097137</td>\n",
       "    </tr>\n",
       "    <tr>\n",
       "      <th>4</th>\n",
       "      <td>Microcystis and Planktothrix spp.</td>\n",
       "      <td>0.187705</td>\n",
       "    </tr>\n",
       "    <tr>\n",
       "      <th>5</th>\n",
       "      <td>Planktothrix and Anabaena spp.</td>\n",
       "      <td>0.046926</td>\n",
       "    </tr>\n",
       "    <tr>\n",
       "      <th>6</th>\n",
       "      <td>All Three Genera</td>\n",
       "      <td>0.046926</td>\n",
       "    </tr>\n",
       "  </tbody>\n",
       "</table>\n",
       "</div>"
      ],
      "text/plain": [
       "                         Combination  Proportion\n",
       "0                   Microcystis spp.   34.021586\n",
       "1                      Anabaena spp.    5.068043\n",
       "2                       Planktothrix    0.797748\n",
       "3      Microcystis and Anabaena spp.    3.097137\n",
       "4  Microcystis and Planktothrix spp.    0.187705\n",
       "5     Planktothrix and Anabaena spp.    0.046926\n",
       "6                   All Three Genera    0.046926"
      ]
     },
     "metadata": {},
     "output_type": "display_data"
    },
    {
     "data": {
      "application/vnd.plotly.v1+json": {
       "config": {
        "plotlyServerURL": "https://plot.ly"
       },
       "data": [
        {
         "alignmentgroup": "True",
         "hovertemplate": "Combination=%{x}<br>Proportion=%{y}<extra></extra>",
         "legendgroup": "",
         "marker": {
          "color": "#636efa",
          "pattern": {
           "shape": ""
          }
         },
         "name": "",
         "offsetgroup": "",
         "orientation": "v",
         "showlegend": false,
         "textposition": "auto",
         "type": "bar",
         "x": [
          "Microcystis spp.",
          "Anabaena spp.",
          "Planktothrix",
          "Microcystis and Anabaena spp.",
          "Microcystis and Planktothrix spp.",
          "Planktothrix and Anabaena spp.",
          "All Three Genera"
         ],
         "xaxis": "x",
         "y": [
          34.0215861098076,
          5.068043172219616,
          0.7977475363679024,
          3.0971374941342096,
          0.18770530267480057,
          0.04692632566870014,
          0.04692632566870014
         ],
         "yaxis": "y"
        }
       ],
       "layout": {
        "barmode": "relative",
        "legend": {
         "tracegroupgap": 0
        },
        "margin": {
         "t": 60
        },
        "template": {
         "data": {
          "bar": [
           {
            "error_x": {
             "color": "#2a3f5f"
            },
            "error_y": {
             "color": "#2a3f5f"
            },
            "marker": {
             "line": {
              "color": "#E5ECF6",
              "width": 0.5
             },
             "pattern": {
              "fillmode": "overlay",
              "size": 10,
              "solidity": 0.2
             }
            },
            "type": "bar"
           }
          ],
          "barpolar": [
           {
            "marker": {
             "line": {
              "color": "#E5ECF6",
              "width": 0.5
             },
             "pattern": {
              "fillmode": "overlay",
              "size": 10,
              "solidity": 0.2
             }
            },
            "type": "barpolar"
           }
          ],
          "carpet": [
           {
            "aaxis": {
             "endlinecolor": "#2a3f5f",
             "gridcolor": "white",
             "linecolor": "white",
             "minorgridcolor": "white",
             "startlinecolor": "#2a3f5f"
            },
            "baxis": {
             "endlinecolor": "#2a3f5f",
             "gridcolor": "white",
             "linecolor": "white",
             "minorgridcolor": "white",
             "startlinecolor": "#2a3f5f"
            },
            "type": "carpet"
           }
          ],
          "choropleth": [
           {
            "colorbar": {
             "outlinewidth": 0,
             "ticks": ""
            },
            "type": "choropleth"
           }
          ],
          "contour": [
           {
            "colorbar": {
             "outlinewidth": 0,
             "ticks": ""
            },
            "colorscale": [
             [
              0,
              "#0d0887"
             ],
             [
              0.1111111111111111,
              "#46039f"
             ],
             [
              0.2222222222222222,
              "#7201a8"
             ],
             [
              0.3333333333333333,
              "#9c179e"
             ],
             [
              0.4444444444444444,
              "#bd3786"
             ],
             [
              0.5555555555555556,
              "#d8576b"
             ],
             [
              0.6666666666666666,
              "#ed7953"
             ],
             [
              0.7777777777777778,
              "#fb9f3a"
             ],
             [
              0.8888888888888888,
              "#fdca26"
             ],
             [
              1,
              "#f0f921"
             ]
            ],
            "type": "contour"
           }
          ],
          "contourcarpet": [
           {
            "colorbar": {
             "outlinewidth": 0,
             "ticks": ""
            },
            "type": "contourcarpet"
           }
          ],
          "heatmap": [
           {
            "colorbar": {
             "outlinewidth": 0,
             "ticks": ""
            },
            "colorscale": [
             [
              0,
              "#0d0887"
             ],
             [
              0.1111111111111111,
              "#46039f"
             ],
             [
              0.2222222222222222,
              "#7201a8"
             ],
             [
              0.3333333333333333,
              "#9c179e"
             ],
             [
              0.4444444444444444,
              "#bd3786"
             ],
             [
              0.5555555555555556,
              "#d8576b"
             ],
             [
              0.6666666666666666,
              "#ed7953"
             ],
             [
              0.7777777777777778,
              "#fb9f3a"
             ],
             [
              0.8888888888888888,
              "#fdca26"
             ],
             [
              1,
              "#f0f921"
             ]
            ],
            "type": "heatmap"
           }
          ],
          "heatmapgl": [
           {
            "colorbar": {
             "outlinewidth": 0,
             "ticks": ""
            },
            "colorscale": [
             [
              0,
              "#0d0887"
             ],
             [
              0.1111111111111111,
              "#46039f"
             ],
             [
              0.2222222222222222,
              "#7201a8"
             ],
             [
              0.3333333333333333,
              "#9c179e"
             ],
             [
              0.4444444444444444,
              "#bd3786"
             ],
             [
              0.5555555555555556,
              "#d8576b"
             ],
             [
              0.6666666666666666,
              "#ed7953"
             ],
             [
              0.7777777777777778,
              "#fb9f3a"
             ],
             [
              0.8888888888888888,
              "#fdca26"
             ],
             [
              1,
              "#f0f921"
             ]
            ],
            "type": "heatmapgl"
           }
          ],
          "histogram": [
           {
            "marker": {
             "pattern": {
              "fillmode": "overlay",
              "size": 10,
              "solidity": 0.2
             }
            },
            "type": "histogram"
           }
          ],
          "histogram2d": [
           {
            "colorbar": {
             "outlinewidth": 0,
             "ticks": ""
            },
            "colorscale": [
             [
              0,
              "#0d0887"
             ],
             [
              0.1111111111111111,
              "#46039f"
             ],
             [
              0.2222222222222222,
              "#7201a8"
             ],
             [
              0.3333333333333333,
              "#9c179e"
             ],
             [
              0.4444444444444444,
              "#bd3786"
             ],
             [
              0.5555555555555556,
              "#d8576b"
             ],
             [
              0.6666666666666666,
              "#ed7953"
             ],
             [
              0.7777777777777778,
              "#fb9f3a"
             ],
             [
              0.8888888888888888,
              "#fdca26"
             ],
             [
              1,
              "#f0f921"
             ]
            ],
            "type": "histogram2d"
           }
          ],
          "histogram2dcontour": [
           {
            "colorbar": {
             "outlinewidth": 0,
             "ticks": ""
            },
            "colorscale": [
             [
              0,
              "#0d0887"
             ],
             [
              0.1111111111111111,
              "#46039f"
             ],
             [
              0.2222222222222222,
              "#7201a8"
             ],
             [
              0.3333333333333333,
              "#9c179e"
             ],
             [
              0.4444444444444444,
              "#bd3786"
             ],
             [
              0.5555555555555556,
              "#d8576b"
             ],
             [
              0.6666666666666666,
              "#ed7953"
             ],
             [
              0.7777777777777778,
              "#fb9f3a"
             ],
             [
              0.8888888888888888,
              "#fdca26"
             ],
             [
              1,
              "#f0f921"
             ]
            ],
            "type": "histogram2dcontour"
           }
          ],
          "mesh3d": [
           {
            "colorbar": {
             "outlinewidth": 0,
             "ticks": ""
            },
            "type": "mesh3d"
           }
          ],
          "parcoords": [
           {
            "line": {
             "colorbar": {
              "outlinewidth": 0,
              "ticks": ""
             }
            },
            "type": "parcoords"
           }
          ],
          "pie": [
           {
            "automargin": true,
            "type": "pie"
           }
          ],
          "scatter": [
           {
            "marker": {
             "colorbar": {
              "outlinewidth": 0,
              "ticks": ""
             }
            },
            "type": "scatter"
           }
          ],
          "scatter3d": [
           {
            "line": {
             "colorbar": {
              "outlinewidth": 0,
              "ticks": ""
             }
            },
            "marker": {
             "colorbar": {
              "outlinewidth": 0,
              "ticks": ""
             }
            },
            "type": "scatter3d"
           }
          ],
          "scattercarpet": [
           {
            "marker": {
             "colorbar": {
              "outlinewidth": 0,
              "ticks": ""
             }
            },
            "type": "scattercarpet"
           }
          ],
          "scattergeo": [
           {
            "marker": {
             "colorbar": {
              "outlinewidth": 0,
              "ticks": ""
             }
            },
            "type": "scattergeo"
           }
          ],
          "scattergl": [
           {
            "marker": {
             "colorbar": {
              "outlinewidth": 0,
              "ticks": ""
             }
            },
            "type": "scattergl"
           }
          ],
          "scattermapbox": [
           {
            "marker": {
             "colorbar": {
              "outlinewidth": 0,
              "ticks": ""
             }
            },
            "type": "scattermapbox"
           }
          ],
          "scatterpolar": [
           {
            "marker": {
             "colorbar": {
              "outlinewidth": 0,
              "ticks": ""
             }
            },
            "type": "scatterpolar"
           }
          ],
          "scatterpolargl": [
           {
            "marker": {
             "colorbar": {
              "outlinewidth": 0,
              "ticks": ""
             }
            },
            "type": "scatterpolargl"
           }
          ],
          "scatterternary": [
           {
            "marker": {
             "colorbar": {
              "outlinewidth": 0,
              "ticks": ""
             }
            },
            "type": "scatterternary"
           }
          ],
          "surface": [
           {
            "colorbar": {
             "outlinewidth": 0,
             "ticks": ""
            },
            "colorscale": [
             [
              0,
              "#0d0887"
             ],
             [
              0.1111111111111111,
              "#46039f"
             ],
             [
              0.2222222222222222,
              "#7201a8"
             ],
             [
              0.3333333333333333,
              "#9c179e"
             ],
             [
              0.4444444444444444,
              "#bd3786"
             ],
             [
              0.5555555555555556,
              "#d8576b"
             ],
             [
              0.6666666666666666,
              "#ed7953"
             ],
             [
              0.7777777777777778,
              "#fb9f3a"
             ],
             [
              0.8888888888888888,
              "#fdca26"
             ],
             [
              1,
              "#f0f921"
             ]
            ],
            "type": "surface"
           }
          ],
          "table": [
           {
            "cells": {
             "fill": {
              "color": "#EBF0F8"
             },
             "line": {
              "color": "white"
             }
            },
            "header": {
             "fill": {
              "color": "#C8D4E3"
             },
             "line": {
              "color": "white"
             }
            },
            "type": "table"
           }
          ]
         },
         "layout": {
          "annotationdefaults": {
           "arrowcolor": "#2a3f5f",
           "arrowhead": 0,
           "arrowwidth": 1
          },
          "autotypenumbers": "strict",
          "coloraxis": {
           "colorbar": {
            "outlinewidth": 0,
            "ticks": ""
           }
          },
          "colorscale": {
           "diverging": [
            [
             0,
             "#8e0152"
            ],
            [
             0.1,
             "#c51b7d"
            ],
            [
             0.2,
             "#de77ae"
            ],
            [
             0.3,
             "#f1b6da"
            ],
            [
             0.4,
             "#fde0ef"
            ],
            [
             0.5,
             "#f7f7f7"
            ],
            [
             0.6,
             "#e6f5d0"
            ],
            [
             0.7,
             "#b8e186"
            ],
            [
             0.8,
             "#7fbc41"
            ],
            [
             0.9,
             "#4d9221"
            ],
            [
             1,
             "#276419"
            ]
           ],
           "sequential": [
            [
             0,
             "#0d0887"
            ],
            [
             0.1111111111111111,
             "#46039f"
            ],
            [
             0.2222222222222222,
             "#7201a8"
            ],
            [
             0.3333333333333333,
             "#9c179e"
            ],
            [
             0.4444444444444444,
             "#bd3786"
            ],
            [
             0.5555555555555556,
             "#d8576b"
            ],
            [
             0.6666666666666666,
             "#ed7953"
            ],
            [
             0.7777777777777778,
             "#fb9f3a"
            ],
            [
             0.8888888888888888,
             "#fdca26"
            ],
            [
             1,
             "#f0f921"
            ]
           ],
           "sequentialminus": [
            [
             0,
             "#0d0887"
            ],
            [
             0.1111111111111111,
             "#46039f"
            ],
            [
             0.2222222222222222,
             "#7201a8"
            ],
            [
             0.3333333333333333,
             "#9c179e"
            ],
            [
             0.4444444444444444,
             "#bd3786"
            ],
            [
             0.5555555555555556,
             "#d8576b"
            ],
            [
             0.6666666666666666,
             "#ed7953"
            ],
            [
             0.7777777777777778,
             "#fb9f3a"
            ],
            [
             0.8888888888888888,
             "#fdca26"
            ],
            [
             1,
             "#f0f921"
            ]
           ]
          },
          "colorway": [
           "#636efa",
           "#EF553B",
           "#00cc96",
           "#ab63fa",
           "#FFA15A",
           "#19d3f3",
           "#FF6692",
           "#B6E880",
           "#FF97FF",
           "#FECB52"
          ],
          "font": {
           "color": "#2a3f5f"
          },
          "geo": {
           "bgcolor": "white",
           "lakecolor": "white",
           "landcolor": "#E5ECF6",
           "showlakes": true,
           "showland": true,
           "subunitcolor": "white"
          },
          "hoverlabel": {
           "align": "left"
          },
          "hovermode": "closest",
          "mapbox": {
           "style": "light"
          },
          "paper_bgcolor": "white",
          "plot_bgcolor": "#E5ECF6",
          "polar": {
           "angularaxis": {
            "gridcolor": "white",
            "linecolor": "white",
            "ticks": ""
           },
           "bgcolor": "#E5ECF6",
           "radialaxis": {
            "gridcolor": "white",
            "linecolor": "white",
            "ticks": ""
           }
          },
          "scene": {
           "xaxis": {
            "backgroundcolor": "#E5ECF6",
            "gridcolor": "white",
            "gridwidth": 2,
            "linecolor": "white",
            "showbackground": true,
            "ticks": "",
            "zerolinecolor": "white"
           },
           "yaxis": {
            "backgroundcolor": "#E5ECF6",
            "gridcolor": "white",
            "gridwidth": 2,
            "linecolor": "white",
            "showbackground": true,
            "ticks": "",
            "zerolinecolor": "white"
           },
           "zaxis": {
            "backgroundcolor": "#E5ECF6",
            "gridcolor": "white",
            "gridwidth": 2,
            "linecolor": "white",
            "showbackground": true,
            "ticks": "",
            "zerolinecolor": "white"
           }
          },
          "shapedefaults": {
           "line": {
            "color": "#2a3f5f"
           }
          },
          "ternary": {
           "aaxis": {
            "gridcolor": "white",
            "linecolor": "white",
            "ticks": ""
           },
           "baxis": {
            "gridcolor": "white",
            "linecolor": "white",
            "ticks": ""
           },
           "bgcolor": "#E5ECF6",
           "caxis": {
            "gridcolor": "white",
            "linecolor": "white",
            "ticks": ""
           }
          },
          "title": {
           "x": 0.05
          },
          "xaxis": {
           "automargin": true,
           "gridcolor": "white",
           "linecolor": "white",
           "ticks": "",
           "title": {
            "standoff": 15
           },
           "zerolinecolor": "white",
           "zerolinewidth": 2
          },
          "yaxis": {
           "automargin": true,
           "gridcolor": "white",
           "linecolor": "white",
           "ticks": "",
           "title": {
            "standoff": 15
           },
           "zerolinecolor": "white",
           "zerolinewidth": 2
          }
         }
        },
        "xaxis": {
         "anchor": "y",
         "domain": [
          0,
          1
         ],
         "title": {
          "text": "Combination"
         }
        },
        "yaxis": {
         "anchor": "x",
         "domain": [
          0,
          1
         ],
         "title": {
          "text": "Proportion"
         }
        }
       }
      },
      "text/html": [
       "<div>                            <div id=\"d47b4d2f-2e2b-4fcd-8b5a-6a2e9532fc5b\" class=\"plotly-graph-div\" style=\"height:525px; width:100%;\"></div>            <script type=\"text/javascript\">                require([\"plotly\"], function(Plotly) {                    window.PLOTLYENV=window.PLOTLYENV || {};                                    if (document.getElementById(\"d47b4d2f-2e2b-4fcd-8b5a-6a2e9532fc5b\")) {                    Plotly.newPlot(                        \"d47b4d2f-2e2b-4fcd-8b5a-6a2e9532fc5b\",                        [{\"alignmentgroup\":\"True\",\"hovertemplate\":\"Combination=%{x}<br>Proportion=%{y}<extra></extra>\",\"legendgroup\":\"\",\"marker\":{\"color\":\"#636efa\",\"pattern\":{\"shape\":\"\"}},\"name\":\"\",\"offsetgroup\":\"\",\"orientation\":\"v\",\"showlegend\":false,\"textposition\":\"auto\",\"type\":\"bar\",\"x\":[\"Microcystis spp.\",\"Anabaena spp.\",\"Planktothrix\",\"Microcystis and Anabaena spp.\",\"Microcystis and Planktothrix spp.\",\"Planktothrix and Anabaena spp.\",\"All Three Genera\"],\"xaxis\":\"x\",\"y\":[34.0215861098076,5.068043172219616,0.7977475363679024,3.0971374941342096,0.18770530267480057,0.04692632566870014,0.04692632566870014],\"yaxis\":\"y\"}],                        {\"barmode\":\"relative\",\"legend\":{\"tracegroupgap\":0},\"margin\":{\"t\":60},\"template\":{\"data\":{\"bar\":[{\"error_x\":{\"color\":\"#2a3f5f\"},\"error_y\":{\"color\":\"#2a3f5f\"},\"marker\":{\"line\":{\"color\":\"#E5ECF6\",\"width\":0.5},\"pattern\":{\"fillmode\":\"overlay\",\"size\":10,\"solidity\":0.2}},\"type\":\"bar\"}],\"barpolar\":[{\"marker\":{\"line\":{\"color\":\"#E5ECF6\",\"width\":0.5},\"pattern\":{\"fillmode\":\"overlay\",\"size\":10,\"solidity\":0.2}},\"type\":\"barpolar\"}],\"carpet\":[{\"aaxis\":{\"endlinecolor\":\"#2a3f5f\",\"gridcolor\":\"white\",\"linecolor\":\"white\",\"minorgridcolor\":\"white\",\"startlinecolor\":\"#2a3f5f\"},\"baxis\":{\"endlinecolor\":\"#2a3f5f\",\"gridcolor\":\"white\",\"linecolor\":\"white\",\"minorgridcolor\":\"white\",\"startlinecolor\":\"#2a3f5f\"},\"type\":\"carpet\"}],\"choropleth\":[{\"colorbar\":{\"outlinewidth\":0,\"ticks\":\"\"},\"type\":\"choropleth\"}],\"contour\":[{\"colorbar\":{\"outlinewidth\":0,\"ticks\":\"\"},\"colorscale\":[[0.0,\"#0d0887\"],[0.1111111111111111,\"#46039f\"],[0.2222222222222222,\"#7201a8\"],[0.3333333333333333,\"#9c179e\"],[0.4444444444444444,\"#bd3786\"],[0.5555555555555556,\"#d8576b\"],[0.6666666666666666,\"#ed7953\"],[0.7777777777777778,\"#fb9f3a\"],[0.8888888888888888,\"#fdca26\"],[1.0,\"#f0f921\"]],\"type\":\"contour\"}],\"contourcarpet\":[{\"colorbar\":{\"outlinewidth\":0,\"ticks\":\"\"},\"type\":\"contourcarpet\"}],\"heatmap\":[{\"colorbar\":{\"outlinewidth\":0,\"ticks\":\"\"},\"colorscale\":[[0.0,\"#0d0887\"],[0.1111111111111111,\"#46039f\"],[0.2222222222222222,\"#7201a8\"],[0.3333333333333333,\"#9c179e\"],[0.4444444444444444,\"#bd3786\"],[0.5555555555555556,\"#d8576b\"],[0.6666666666666666,\"#ed7953\"],[0.7777777777777778,\"#fb9f3a\"],[0.8888888888888888,\"#fdca26\"],[1.0,\"#f0f921\"]],\"type\":\"heatmap\"}],\"heatmapgl\":[{\"colorbar\":{\"outlinewidth\":0,\"ticks\":\"\"},\"colorscale\":[[0.0,\"#0d0887\"],[0.1111111111111111,\"#46039f\"],[0.2222222222222222,\"#7201a8\"],[0.3333333333333333,\"#9c179e\"],[0.4444444444444444,\"#bd3786\"],[0.5555555555555556,\"#d8576b\"],[0.6666666666666666,\"#ed7953\"],[0.7777777777777778,\"#fb9f3a\"],[0.8888888888888888,\"#fdca26\"],[1.0,\"#f0f921\"]],\"type\":\"heatmapgl\"}],\"histogram\":[{\"marker\":{\"pattern\":{\"fillmode\":\"overlay\",\"size\":10,\"solidity\":0.2}},\"type\":\"histogram\"}],\"histogram2d\":[{\"colorbar\":{\"outlinewidth\":0,\"ticks\":\"\"},\"colorscale\":[[0.0,\"#0d0887\"],[0.1111111111111111,\"#46039f\"],[0.2222222222222222,\"#7201a8\"],[0.3333333333333333,\"#9c179e\"],[0.4444444444444444,\"#bd3786\"],[0.5555555555555556,\"#d8576b\"],[0.6666666666666666,\"#ed7953\"],[0.7777777777777778,\"#fb9f3a\"],[0.8888888888888888,\"#fdca26\"],[1.0,\"#f0f921\"]],\"type\":\"histogram2d\"}],\"histogram2dcontour\":[{\"colorbar\":{\"outlinewidth\":0,\"ticks\":\"\"},\"colorscale\":[[0.0,\"#0d0887\"],[0.1111111111111111,\"#46039f\"],[0.2222222222222222,\"#7201a8\"],[0.3333333333333333,\"#9c179e\"],[0.4444444444444444,\"#bd3786\"],[0.5555555555555556,\"#d8576b\"],[0.6666666666666666,\"#ed7953\"],[0.7777777777777778,\"#fb9f3a\"],[0.8888888888888888,\"#fdca26\"],[1.0,\"#f0f921\"]],\"type\":\"histogram2dcontour\"}],\"mesh3d\":[{\"colorbar\":{\"outlinewidth\":0,\"ticks\":\"\"},\"type\":\"mesh3d\"}],\"parcoords\":[{\"line\":{\"colorbar\":{\"outlinewidth\":0,\"ticks\":\"\"}},\"type\":\"parcoords\"}],\"pie\":[{\"automargin\":true,\"type\":\"pie\"}],\"scatter\":[{\"marker\":{\"colorbar\":{\"outlinewidth\":0,\"ticks\":\"\"}},\"type\":\"scatter\"}],\"scatter3d\":[{\"line\":{\"colorbar\":{\"outlinewidth\":0,\"ticks\":\"\"}},\"marker\":{\"colorbar\":{\"outlinewidth\":0,\"ticks\":\"\"}},\"type\":\"scatter3d\"}],\"scattercarpet\":[{\"marker\":{\"colorbar\":{\"outlinewidth\":0,\"ticks\":\"\"}},\"type\":\"scattercarpet\"}],\"scattergeo\":[{\"marker\":{\"colorbar\":{\"outlinewidth\":0,\"ticks\":\"\"}},\"type\":\"scattergeo\"}],\"scattergl\":[{\"marker\":{\"colorbar\":{\"outlinewidth\":0,\"ticks\":\"\"}},\"type\":\"scattergl\"}],\"scattermapbox\":[{\"marker\":{\"colorbar\":{\"outlinewidth\":0,\"ticks\":\"\"}},\"type\":\"scattermapbox\"}],\"scatterpolar\":[{\"marker\":{\"colorbar\":{\"outlinewidth\":0,\"ticks\":\"\"}},\"type\":\"scatterpolar\"}],\"scatterpolargl\":[{\"marker\":{\"colorbar\":{\"outlinewidth\":0,\"ticks\":\"\"}},\"type\":\"scatterpolargl\"}],\"scatterternary\":[{\"marker\":{\"colorbar\":{\"outlinewidth\":0,\"ticks\":\"\"}},\"type\":\"scatterternary\"}],\"surface\":[{\"colorbar\":{\"outlinewidth\":0,\"ticks\":\"\"},\"colorscale\":[[0.0,\"#0d0887\"],[0.1111111111111111,\"#46039f\"],[0.2222222222222222,\"#7201a8\"],[0.3333333333333333,\"#9c179e\"],[0.4444444444444444,\"#bd3786\"],[0.5555555555555556,\"#d8576b\"],[0.6666666666666666,\"#ed7953\"],[0.7777777777777778,\"#fb9f3a\"],[0.8888888888888888,\"#fdca26\"],[1.0,\"#f0f921\"]],\"type\":\"surface\"}],\"table\":[{\"cells\":{\"fill\":{\"color\":\"#EBF0F8\"},\"line\":{\"color\":\"white\"}},\"header\":{\"fill\":{\"color\":\"#C8D4E3\"},\"line\":{\"color\":\"white\"}},\"type\":\"table\"}]},\"layout\":{\"annotationdefaults\":{\"arrowcolor\":\"#2a3f5f\",\"arrowhead\":0,\"arrowwidth\":1},\"autotypenumbers\":\"strict\",\"coloraxis\":{\"colorbar\":{\"outlinewidth\":0,\"ticks\":\"\"}},\"colorscale\":{\"diverging\":[[0,\"#8e0152\"],[0.1,\"#c51b7d\"],[0.2,\"#de77ae\"],[0.3,\"#f1b6da\"],[0.4,\"#fde0ef\"],[0.5,\"#f7f7f7\"],[0.6,\"#e6f5d0\"],[0.7,\"#b8e186\"],[0.8,\"#7fbc41\"],[0.9,\"#4d9221\"],[1,\"#276419\"]],\"sequential\":[[0.0,\"#0d0887\"],[0.1111111111111111,\"#46039f\"],[0.2222222222222222,\"#7201a8\"],[0.3333333333333333,\"#9c179e\"],[0.4444444444444444,\"#bd3786\"],[0.5555555555555556,\"#d8576b\"],[0.6666666666666666,\"#ed7953\"],[0.7777777777777778,\"#fb9f3a\"],[0.8888888888888888,\"#fdca26\"],[1.0,\"#f0f921\"]],\"sequentialminus\":[[0.0,\"#0d0887\"],[0.1111111111111111,\"#46039f\"],[0.2222222222222222,\"#7201a8\"],[0.3333333333333333,\"#9c179e\"],[0.4444444444444444,\"#bd3786\"],[0.5555555555555556,\"#d8576b\"],[0.6666666666666666,\"#ed7953\"],[0.7777777777777778,\"#fb9f3a\"],[0.8888888888888888,\"#fdca26\"],[1.0,\"#f0f921\"]]},\"colorway\":[\"#636efa\",\"#EF553B\",\"#00cc96\",\"#ab63fa\",\"#FFA15A\",\"#19d3f3\",\"#FF6692\",\"#B6E880\",\"#FF97FF\",\"#FECB52\"],\"font\":{\"color\":\"#2a3f5f\"},\"geo\":{\"bgcolor\":\"white\",\"lakecolor\":\"white\",\"landcolor\":\"#E5ECF6\",\"showlakes\":true,\"showland\":true,\"subunitcolor\":\"white\"},\"hoverlabel\":{\"align\":\"left\"},\"hovermode\":\"closest\",\"mapbox\":{\"style\":\"light\"},\"paper_bgcolor\":\"white\",\"plot_bgcolor\":\"#E5ECF6\",\"polar\":{\"angularaxis\":{\"gridcolor\":\"white\",\"linecolor\":\"white\",\"ticks\":\"\"},\"bgcolor\":\"#E5ECF6\",\"radialaxis\":{\"gridcolor\":\"white\",\"linecolor\":\"white\",\"ticks\":\"\"}},\"scene\":{\"xaxis\":{\"backgroundcolor\":\"#E5ECF6\",\"gridcolor\":\"white\",\"gridwidth\":2,\"linecolor\":\"white\",\"showbackground\":true,\"ticks\":\"\",\"zerolinecolor\":\"white\"},\"yaxis\":{\"backgroundcolor\":\"#E5ECF6\",\"gridcolor\":\"white\",\"gridwidth\":2,\"linecolor\":\"white\",\"showbackground\":true,\"ticks\":\"\",\"zerolinecolor\":\"white\"},\"zaxis\":{\"backgroundcolor\":\"#E5ECF6\",\"gridcolor\":\"white\",\"gridwidth\":2,\"linecolor\":\"white\",\"showbackground\":true,\"ticks\":\"\",\"zerolinecolor\":\"white\"}},\"shapedefaults\":{\"line\":{\"color\":\"#2a3f5f\"}},\"ternary\":{\"aaxis\":{\"gridcolor\":\"white\",\"linecolor\":\"white\",\"ticks\":\"\"},\"baxis\":{\"gridcolor\":\"white\",\"linecolor\":\"white\",\"ticks\":\"\"},\"bgcolor\":\"#E5ECF6\",\"caxis\":{\"gridcolor\":\"white\",\"linecolor\":\"white\",\"ticks\":\"\"}},\"title\":{\"x\":0.05},\"xaxis\":{\"automargin\":true,\"gridcolor\":\"white\",\"linecolor\":\"white\",\"ticks\":\"\",\"title\":{\"standoff\":15},\"zerolinecolor\":\"white\",\"zerolinewidth\":2},\"yaxis\":{\"automargin\":true,\"gridcolor\":\"white\",\"linecolor\":\"white\",\"ticks\":\"\",\"title\":{\"standoff\":15},\"zerolinecolor\":\"white\",\"zerolinewidth\":2}}},\"xaxis\":{\"anchor\":\"y\",\"domain\":[0.0,1.0],\"title\":{\"text\":\"Combination\"}},\"yaxis\":{\"anchor\":\"x\",\"domain\":[0.0,1.0],\"title\":{\"text\":\"Proportion\"}}},                        {\"responsive\": true}                    ).then(function(){\n",
       "                            \n",
       "var gd = document.getElementById('d47b4d2f-2e2b-4fcd-8b5a-6a2e9532fc5b');\n",
       "var x = new MutationObserver(function (mutations, observer) {{\n",
       "        var display = window.getComputedStyle(gd).display;\n",
       "        if (!display || display === 'none') {{\n",
       "            console.log([gd, 'removed!']);\n",
       "            Plotly.purge(gd);\n",
       "            observer.disconnect();\n",
       "        }}\n",
       "}});\n",
       "\n",
       "// Listen for the removal of the full notebook cells\n",
       "var notebookContainer = gd.closest('#notebook-container');\n",
       "if (notebookContainer) {{\n",
       "    x.observe(notebookContainer, {childList: true});\n",
       "}}\n",
       "\n",
       "// Listen for the clearing of the current output cell\n",
       "var outputEl = gd.closest('.output');\n",
       "if (outputEl) {{\n",
       "    x.observe(outputEl, {childList: true});\n",
       "}}\n",
       "\n",
       "                        })                };                });            </script>        </div>"
      ]
     },
     "metadata": {},
     "output_type": "display_data"
    }
   ],
   "source": [
    "bloomIndicators = df[['Waterbody_name', 'MC-LR_conc', 'Total_cyano_cell_count', 'Microcystis_mcyE', 'Anabaena_mcyE', 'Planktothrix_mcyE', 'Year', 'Month', 'Day']]\n",
    "bloomIndicators['MC-LR_conc'] = bloomIndicators['MC-LR_conc'].str.replace(r'(^.*<.*$)', '0').apply(pd.to_numeric)\n",
    "#print(bloomIndicators.count())\n",
    "\n",
    "# Samples where only 1 microcystin producing genus is present \n",
    "M_Samples = bloomIndicators[bloomIndicators['Microcystis_mcyE'] > 0]\n",
    "M_SamplesProp = (len(M_Samples)/len(bloomIndicators))*100\n",
    "\n",
    "A_Samples = bloomIndicators[bloomIndicators['Anabaena_mcyE'] > 0]\n",
    "A_SamplesProp = (len(A_Samples)/len(bloomIndicators))*100\n",
    "\n",
    "P_Samples = bloomIndicators[bloomIndicators['Planktothrix_mcyE'] > 0]\n",
    "P_SamplesProp = (len(P_Samples)/len(bloomIndicators))*100\n",
    "\n",
    "\n",
    "# Samples where 2 out of 3 microcystin producing genera of are present \n",
    "M_ASamples = bloomIndicators[(bloomIndicators['Microcystis_mcyE'] > 0) & (bloomIndicators['Anabaena_mcyE'] > 0)]\n",
    "M_ASamplesProp = (len(M_ASamples)/len(bloomIndicators))*100\n",
    "\n",
    "M_PSamples = bloomIndicators[(bloomIndicators['Microcystis_mcyE'] > 0) & (bloomIndicators['Planktothrix_mcyE'] > 0)]\n",
    "M_PSamplesProp = (len(M_PSamples)/len(bloomIndicators))*100\n",
    "\n",
    "A_PSamples = bloomIndicators[(bloomIndicators['Anabaena_mcyE'] > 0) & (bloomIndicators['Planktothrix_mcyE'] > 0)]\n",
    "A_PSamplesProp = (len(A_PSamples)/len(bloomIndicators))*100\n",
    "\n",
    "# Samples where all three microcystin producing genera of are present \n",
    "allGeneraSamples = bloomIndicators[((bloomIndicators['Microcystis_mcyE'] > 0) & (bloomIndicators['Anabaena_mcyE'] > 0)) & \n",
    "                                  (bloomIndicators['Planktothrix_mcyE'] > 0)]\n",
    "A_P_NSamplesProp = (len(allGeneraSamples)/len(bloomIndicators))*100\n",
    "\n",
    "## Plot the proportions of the samples containing the different microcystin producing genera \n",
    "names = ['Microcystis spp.', 'Anabaena spp.', 'Planktothrix', 'Microcystis and Anabaena spp.',\n",
    "                                 'Microcystis and Planktothrix spp.', 'Planktothrix and Anabaena spp.', 'All Three Genera']\n",
    "plotData = pd.DataFrame(list(zip(names, [M_SamplesProp, A_SamplesProp, P_SamplesProp, M_ASamplesProp, M_PSamplesProp, A_PSamplesProp, A_P_NSamplesProp])),\n",
    "                        columns = ['Combination', 'Proportion']\n",
    "                       )\n",
    "display(plotData)\n",
    "\n",
    "fig = px.bar(plotData, x= 'Combination', y='Proportion')\n",
    "fig.show()\n"
   ]
  },
  {
   "cell_type": "markdown",
   "id": "d726376f",
   "metadata": {},
   "source": [
    "The Plot indicates that species from the Microcystis genus are more prevalent in the cyanobacterial blooms occuring in Alberta lakes.\n",
    "\n",
    "Next, plot the correlations for 'Total_cyano_cell_count' with every other quantitative cyanobloom indicator"
   ]
  },
  {
   "cell_type": "code",
   "execution_count": 7,
   "id": "e9637845",
   "metadata": {
    "scrolled": true
   },
   "outputs": [
    {
     "data": {
      "text/plain": [
       "Waterbody_name            2042\n",
       "MC-LR_conc                2042\n",
       "Total_cyano_cell_count    2042\n",
       "dtype: int64"
      ]
     },
     "metadata": {},
     "output_type": "display_data"
    },
    {
     "data": {
      "text/plain": [
       "Waterbody_name            725\n",
       "Microcystis_mcyE          725\n",
       "Total_cyano_cell_count    725\n",
       "dtype: int64"
      ]
     },
     "metadata": {},
     "output_type": "display_data"
    },
    {
     "data": {
      "text/plain": [
       "Waterbody_name            108\n",
       "Anabaena_mcyE             108\n",
       "Total_cyano_cell_count    108\n",
       "dtype: int64"
      ]
     },
     "metadata": {},
     "output_type": "display_data"
    },
    {
     "data": {
      "text/plain": [
       "Waterbody_name            17\n",
       "Planktothrix_mcyE         17\n",
       "Total_cyano_cell_count    17\n",
       "dtype: int64"
      ]
     },
     "metadata": {},
     "output_type": "display_data"
    }
   ],
   "source": [
    "# Create dataframes for each pair of indicators and\n",
    "# Remove entries withh missing data in any of the selected features\n",
    "CellCountVsMCLR = bloomIndicators[['Waterbody_name', 'MC-LR_conc', 'Total_cyano_cell_count']].dropna(axis=0, how='any')\n",
    "display(CellCountVsMCLR.count())\n",
    "\n",
    "# Select entries where mcyE levels are over the detection limit(>0)\n",
    "CellCountVsM_mcyE = bloomIndicators[['Waterbody_name', 'Microcystis_mcyE', 'Total_cyano_cell_count']].dropna(axis=0, how='any')\n",
    "CellCountVsM_mcyE = CellCountVsM_mcyE[CellCountVsM_mcyE['Microcystis_mcyE'] > 0]\n",
    "display(CellCountVsM_mcyE.count())\n",
    "\n",
    "CellCountVsA_mcyE = bloomIndicators[['Waterbody_name', 'Anabaena_mcyE', 'Total_cyano_cell_count']].dropna(axis=0, how='any')\n",
    "CellCountVsA_mcyE = CellCountVsA_mcyE[CellCountVsA_mcyE['Anabaena_mcyE'] > 0]\n",
    "display(CellCountVsA_mcyE.count())\n",
    "\n",
    "CellCountVsP_mcyE = bloomIndicators[['Waterbody_name', 'Planktothrix_mcyE', 'Total_cyano_cell_count']].dropna(axis=0, how='any')\n",
    "CellCountVsP_mcyE = CellCountVsP_mcyE[CellCountVsP_mcyE['Planktothrix_mcyE'] > 0]\n",
    "display(CellCountVsP_mcyE.count())\n",
    "\n"
   ]
  },
  {
   "cell_type": "code",
   "execution_count": 19,
   "id": "f29a0bbc",
   "metadata": {},
   "outputs": [
    {
     "data": {
      "application/vnd.plotly.v1+json": {
       "config": {
        "plotlyServerURL": "https://plot.ly"
       },
       "data": [
        {
         "hovertemplate": "Total_cyano_cell_count=%{x}<br>MC-LR_conc=%{y}<extra></extra>",
         "legendgroup": "",
         "marker": {
          "color": "#636efa",
          "symbol": "circle"
         },
         "mode": "markers",
         "name": "",
         "showlegend": false,
         "type": "scattergl",
         "x": [
          0,
          0,
          0,
          0,
          0,
          0,
          0,
          0,
          0,
          0,
          0,
          1749075,
          72596,
          89960,
          0,
          0,
          4242,
          3403,
          0,
          0,
          0,
          810,
          341,
          5061,
          36764,
          0,
          14464,
          619302,
          1091,
          23399,
          376420,
          22915,
          8352,
          0,
          0,
          0,
          0,
          0,
          0,
          0,
          22918,
          7639,
          0,
          2772,
          23422,
          4161,
          0,
          0,
          0,
          0,
          0,
          0,
          0,
          0,
          0,
          28787,
          0,
          0,
          3588,
          4004,
          31415,
          0,
          3326,
          0,
          77428,
          46752,
          175552,
          0,
          0,
          110875,
          1366,
          2152,
          6760544,
          113266,
          43355,
          159511,
          3120,
          28283,
          45326,
          0,
          23992,
          95988,
          0,
          0,
          764,
          31857,
          2266,
          5704,
          0,
          0,
          0,
          0,
          0,
          0,
          156,
          0,
          14770,
          0,
          61574,
          0,
          3820,
          7283,
          2037,
          2903,
          359,
          0,
          0,
          0,
          0,
          0,
          0,
          12319,
          0,
          0,
          0,
          1540,
          0,
          1429055,
          218451,
          790,
          4748,
          3973,
          184618,
          0,
          58824,
          0,
          5092,
          9884,
          47873,
          736,
          0,
          19914,
          8276,
          201426,
          120424,
          93251,
          126559,
          11457,
          141180,
          17374,
          222305,
          40108,
          69774,
          178303,
          158493,
          132366,
          28520,
          81997,
          0,
          224255,
          1047,
          29258,
          32216,
          43672,
          75888,
          29813,
          14667,
          19587,
          193353,
          0,
          183856,
          15075,
          5512,
          3576,
          0,
          129589,
          0,
          0,
          0,
          0,
          0,
          0,
          0,
          48383,
          0,
          372861,
          7106,
          347286,
          1101,
          0,
          0,
          86240,
          0,
          50181,
          116990,
          77802,
          19,
          47772,
          0,
          0,
          0,
          3252,
          8624,
          19303,
          17802,
          801,
          6169,
          1254,
          0,
          0,
          64677,
          0,
          0,
          6086,
          138594,
          43118,
          0,
          58517,
          97133,
          15533,
          7079,
          6439,
          2201,
          2956,
          1730,
          134809,
          11700,
          77515,
          10441,
          16495,
          0,
          0,
          0,
          34556,
          241152,
          181773,
          79522,
          66094,
          13304,
          35358,
          204991,
          0,
          15279,
          41915,
          0,
          122639,
          117844,
          381461,
          36506,
          2801,
          272830,
          0,
          101986,
          0,
          0,
          0,
          0,
          0,
          0,
          1203,
          0,
          0,
          0,
          0,
          0,
          2852,
          10135,
          0,
          0,
          0,
          0,
          0,
          0,
          0,
          0,
          0,
          0,
          0,
          0,
          0,
          0,
          0,
          0,
          0,
          0,
          10780,
          3080,
          59749,
          0,
          0,
          308,
          0,
          40038,
          0,
          4743,
          0,
          0,
          0,
          678,
          0,
          1540,
          0,
          0,
          0,
          0,
          0,
          0,
          0,
          0,
          0,
          3005,
          0,
          0,
          0,
          260,
          22599,
          2180,
          0,
          6111,
          0,
          0,
          0,
          1884,
          480,
          0,
          0,
          0,
          0,
          0,
          0,
          49278,
          0,
          0,
          0,
          0,
          0,
          0,
          12670,
          0,
          338,
          6828,
          0,
          0,
          31,
          0,
          15941,
          0,
          0,
          0,
          507,
          3310,
          4330,
          0,
          6621,
          0,
          7036,
          46,
          5296,
          0,
          6926,
          0,
          0,
          0,
          764,
          0,
          1901,
          375,
          0,
          23224,
          1514,
          7868,
          15839,
          10417,
          166373,
          71063,
          238162,
          235916,
          65484,
          3033,
          2801,
          13936,
          12117,
          1371,
          31834,
          159131,
          67665,
          1131,
          0,
          0,
          0,
          591,
          0,
          0,
          1354214,
          527120,
          23810,
          32341,
          132162,
          0,
          0,
          48638,
          0,
          0,
          27807,
          174200,
          136370,
          51360,
          1848,
          32709,
          1540,
          585789,
          781,
          0,
          46814,
          0,
          0,
          31,
          0,
          0,
          0,
          0,
          0,
          0,
          0,
          2597,
          3769,
          59,
          0,
          2954,
          50471,
          29896,
          0,
          0,
          0,
          0,
          67757,
          0,
          0,
          0,
          75272,
          1047,
          0,
          0,
          0,
          0,
          0,
          587,
          279654,
          0,
          253,
          56317,
          89744,
          25868,
          0,
          381442,
          142990,
          8559,
          0,
          0,
          0,
          0,
          0,
          383036,
          379316,
          0,
          11204,
          25465,
          0,
          34953,
          1833460,
          193743,
          106,
          0,
          105706,
          52840,
          0,
          0,
          0,
          407436,
          0,
          223935,
          0,
          0,
          0,
          123810,
          0,
          190951,
          0,
          542055,
          493,
          354492,
          32339,
          0,
          0,
          15756,
          0,
          984,
          0,
          0,
          99684,
          0,
          0,
          650,
          108,
          0,
          82,
          0,
          5997,
          0,
          0,
          0,
          0,
          0,
          381,
          0,
          0,
          0,
          106,
          0,
          21198,
          28733,
          593,
          27,
          0,
          593008,
          0,
          0,
          0,
          128,
          0,
          1546,
          0,
          0,
          5044,
          0,
          0,
          0,
          0,
          0,
          30799,
          0,
          0,
          0,
          0,
          0,
          25871,
          0,
          253,
          0,
          443,
          0,
          0,
          14992,
          180832,
          0,
          0,
          9256,
          41080,
          158496,
          0,
          8251,
          0,
          0,
          0,
          1401,
          0,
          0,
          4681,
          0,
          0,
          24731,
          2464,
          4065,
          0,
          0,
          0,
          0,
          7884,
          0,
          0,
          4431,
          1222,
          63445,
          0,
          10410,
          0,
          3080,
          1783,
          3950,
          6977,
          37790,
          27502,
          4787,
          1273,
          0,
          0,
          0,
          31576,
          0,
          1950597,
          231792,
          269926,
          66514,
          38128,
          60242,
          12381,
          35142,
          115204,
          141915,
          10166,
          51153,
          23989,
          366185,
          627559,
          1240769,
          821083,
          3338681,
          37484,
          213624,
          36567,
          8352,
          72957,
          185128,
          443595,
          18029,
          8913,
          18589,
          0,
          0,
          0,
          0,
          0,
          0,
          0,
          0,
          0,
          0,
          0,
          0,
          1910,
          317,
          0,
          0,
          0,
          0,
          0,
          0,
          0,
          0,
          0,
          0,
          0,
          0,
          0,
          0,
          0,
          0,
          3080,
          0,
          4979,
          0,
          3812,
          901,
          284,
          0,
          5975,
          2523260,
          326457,
          293800,
          13190,
          457245,
          65444,
          194856,
          31140,
          3922,
          157881,
          886415,
          976694,
          122995,
          308910,
          223451,
          27966,
          273746,
          44258,
          34632,
          312961,
          695697,
          163432,
          79068,
          278713,
          155895,
          198218,
          451643,
          23631,
          1215906,
          1000000,
          1604977,
          28062,
          312606,
          223048,
          55859,
          15960,
          26487,
          84194,
          1873636,
          349918,
          422309,
          16385,
          205223,
          236943,
          53700,
          178897,
          30179,
          787702,
          936894,
          0,
          32468,
          101794,
          79940,
          264464,
          181998,
          22889,
          197979,
          9422,
          51184,
          441160,
          233525,
          71760,
          8000,
          81996,
          167303,
          125923,
          3798,
          38197,
          89891,
          132417,
          78189,
          55004,
          183805,
          291825,
          180545,
          47,
          161217,
          6492,
          164403,
          1540,
          433,
          0,
          5908,
          0,
          27808,
          313115,
          278532,
          466158,
          35067,
          179043,
          108719,
          88515,
          25923,
          370297,
          3820,
          968,
          101663,
          22740,
          83777,
          45874,
          14697,
          30287,
          47854,
          31729,
          58519,
          96206,
          138936,
          105792,
          21177,
          11254,
          0,
          14960,
          204,
          315924,
          28161,
          196093,
          125010,
          108099,
          66895,
          632356,
          336683,
          422469,
          59811,
          207288,
          66946,
          55868,
          27252,
          191642,
          14663,
          129581,
          261734,
          63453,
          14214,
          634,
          0,
          26484,
          0,
          0,
          3734,
          39557,
          24465,
          13721,
          654,
          70703,
          105958,
          368501,
          869726,
          104903,
          14616,
          12987,
          22450,
          399992,
          183814,
          0,
          126764,
          307320,
          7824,
          0,
          0,
          346238,
          2563078,
          0,
          494934,
          1246,
          579630,
          136499,
          362501,
          41578,
          203024,
          15126,
          51031,
          203888,
          0,
          74587,
          0,
          63662,
          72007,
          118082,
          29,
          9016,
          123503,
          107488,
          22738,
          471220,
          43118,
          148078,
          86580,
          455256,
          189817,
          4055,
          52167,
          2598,
          49631,
          0,
          2615,
          342793,
          136393,
          27909,
          18589,
          25677,
          21238,
          49506,
          104405,
          463330,
          144354,
          194933,
          150395,
          0,
          9438,
          759,
          185590,
          37636,
          90548,
          30860,
          47795,
          1160,
          22152,
          11603,
          14353,
          40458,
          139789,
          147009,
          254900,
          158135,
          154928,
          399897,
          68373,
          143521,
          562108,
          472370,
          483831,
          365932,
          44843,
          50012,
          27977,
          93936,
          15981,
          29255,
          1647,
          0,
          54340,
          0,
          22659,
          312639,
          293959,
          81161,
          88488,
          122180,
          28674,
          97581,
          617163,
          842553,
          1077182,
          7849333,
          241022,
          0,
          244422,
          160313,
          67395,
          4999,
          14586,
          7205,
          0,
          157689,
          120115,
          188364,
          37808,
          30467,
          13552,
          23602,
          7485,
          370,
          111430,
          241338,
          35418,
          75764,
          134221,
          238935,
          214370,
          30799,
          58250,
          317472,
          17463,
          83269,
          10780,
          131202,
          32850,
          11103,
          83524,
          161956,
          451797,
          200355,
          285460,
          190019,
          149330,
          110313,
          217341,
          175681,
          18080,
          104565,
          11349,
          375347,
          425835,
          696411,
          1063709,
          210630,
          183406,
          479721,
          2293,
          96328,
          94887,
          9066,
          138543,
          415346,
          1218437,
          105831,
          490252,
          70232,
          185188,
          776319,
          842493,
          666059,
          295796,
          113887,
          101859,
          1469696,
          51591,
          264248,
          35906,
          190985,
          234938,
          215177,
          33360,
          0,
          8352,
          866,
          327324,
          4403362,
          917088,
          17801,
          377165,
          1056449,
          331007,
          131302,
          445924,
          79648,
          0,
          304108,
          0,
          0,
          0,
          0,
          2500,
          355141,
          0,
          36924,
          1300834,
          25160,
          508762,
          449452,
          59842,
          1638210,
          443,
          143519,
          2601913,
          1455131,
          5610115,
          113647,
          199388,
          1687938,
          276995,
          76369,
          183682,
          114975,
          53589,
          130667,
          368620,
          1597372,
          171442,
          475561,
          131078,
          90272,
          351104,
          0,
          684,
          2441,
          88479,
          36157,
          16825,
          184314,
          432671,
          147651,
          245782,
          159283,
          115409,
          78059,
          5126,
          338259,
          166748,
          0,
          426421,
          440769,
          291102,
          69374,
          3162032,
          4329,
          173956,
          55262,
          17932,
          504219,
          64346,
          260966,
          9117,
          84757,
          117722,
          0,
          0,
          84696,
          2856,
          0,
          9116,
          12275,
          34632,
          163483,
          142388,
          158725,
          519462,
          382703,
          139126,
          60086,
          32773,
          30896,
          409495,
          147697,
          103901,
          41609,
          338477,
          995671,
          495290,
          288647,
          19898,
          603993,
          1330685,
          865524,
          234369,
          18832,
          0,
          201848,
          101164,
          138429,
          67769,
          443962,
          152788,
          0,
          309704,
          444039,
          287519,
          622364,
          143504,
          94666,
          101845,
          16926,
          85565,
          7958,
          1708837,
          148800,
          244328,
          0,
          0,
          14092,
          196300,
          9677,
          5093,
          26738,
          14148,
          0,
          82761,
          182453,
          754455,
          149632,
          0,
          111027,
          348117,
          127150,
          0,
          51547,
          246038,
          189084,
          109767,
          120580,
          291936,
          233816,
          0,
          0,
          14724,
          168466,
          95352,
          62457,
          191935,
          0,
          0,
          200191,
          45582,
          19589,
          7028,
          3724,
          158883,
          2743,
          13295,
          137261,
          49492,
          42380,
          1664810,
          50633,
          15823,
          2535014,
          330929,
          479190,
          330781,
          36643,
          234144,
          1058059,
          76394,
          159920,
          15356,
          18259,
          23094,
          4192,
          7364,
          7366,
          3200,
          0,
          6502,
          3845,
          0,
          0,
          222017,
          1044996,
          15385,
          96772,
          49400,
          36507,
          328144,
          65513,
          100307,
          83642,
          4839,
          0,
          294222,
          309388,
          258247,
          281507,
          185704,
          16202,
          209405,
          214706,
          103055,
          265164,
          0,
          601172,
          611358,
          59639,
          80832,
          0,
          52115,
          15356,
          80754,
          801,
          16492,
          6838,
          172472,
          51,
          90856,
          22157,
          36669,
          52189,
          208031,
          2394,
          117392,
          8913,
          68893,
          9720,
          44260,
          56328,
          738477,
          254647,
          0,
          127963,
          153775,
          102581,
          12427,
          79771,
          665087,
          829082,
          230082,
          102252,
          164280,
          685002,
          181902,
          84162,
          88006,
          1942,
          5127,
          194975,
          502,
          0,
          8711,
          13066,
          501,
          18209,
          29381,
          22855,
          607431,
          12155,
          17126,
          14012,
          659,
          0,
          0,
          7350,
          8712,
          248616,
          79169,
          11256,
          53915,
          34244,
          0,
          0,
          3972,
          16000,
          177336,
          68962,
          3215490,
          500755,
          720083,
          374303,
          75949,
          90717,
          5615032,
          0,
          491040,
          0,
          0,
          124957,
          138489,
          122599,
          54199,
          127836,
          255299,
          63761,
          1527884,
          388337,
          979736,
          4072,
          636618,
          418302,
          0,
          113339,
          483969,
          196754,
          52850,
          1049864,
          226856,
          0,
          0,
          12732,
          2801,
          258784,
          433171,
          340358,
          0,
          2114604,
          513295,
          129167,
          219107,
          314288,
          215491,
          162400,
          209117,
          0,
          33262,
          26056,
          53297,
          739,
          0,
          111791,
          25465,
          497836,
          590323,
          1743508,
          253782,
          165398,
          76201,
          52040,
          312789,
          259613,
          2084635,
          751217,
          387918,
          320193,
          0,
          323110,
          52113,
          256643,
          475221,
          137433,
          112212,
          296837,
          648804,
          147586,
          377776,
          782901,
          159728,
          321598,
          973986,
          310512,
          229510,
          1940796,
          174673,
          3250,
          0,
          2895,
          414673,
          261982,
          22256,
          32882,
          54902,
          173161,
          2002,
          0,
          0,
          322996,
          0,
          31985,
          0,
          89321,
          193340,
          988822,
          516615,
          411593,
          1132711,
          328250,
          11976,
          898,
          33508,
          15459,
          777041,
          154064,
          937264,
          141920,
          10116,
          1028920,
          611320,
          320245,
          283145,
          6168,
          151262,
          26591,
          96012,
          29970,
          641441,
          188301,
          0,
          92184,
          139831,
          488663,
          7084,
          41515,
          126274,
          80163,
          83512,
          120372,
          141660,
          18131,
          0,
          18481,
          222196,
          356252,
          25210,
          9065,
          227188,
          100613,
          96350,
          136118,
          200,
          53844,
          0,
          790785,
          0,
          84880,
          690626,
          308,
          0,
          66727,
          5173,
          338661,
          9430,
          38,
          224543,
          0,
          13522,
          2617882,
          0,
          5678,
          89871,
          96708,
          122474,
          40744,
          6366,
          0,
          43263,
          75294,
          13348,
          1755,
          1910,
          306392,
          0,
          533944,
          2220319,
          35269,
          0,
          9422,
          179298,
          9856,
          199313,
          5421788,
          73178,
          0,
          15203,
          311667,
          562,
          8810,
          337857,
          0,
          41281,
          75292,
          36418,
          108152,
          460331,
          77671,
          60579,
          73826,
          2463889,
          406009,
          0,
          729927,
          459740,
          415711,
          816964,
          2001680,
          0,
          764,
          0,
          0,
          0,
          4065,
          717,
          19489,
          0,
          0,
          0,
          0,
          6213,
          0,
          12525,
          109824,
          2851,
          0,
          263574,
          0,
          0,
          396247,
          275059,
          134040,
          0,
          0,
          27808,
          892061,
          509295,
          0,
          677569,
          69543,
          27482,
          160091,
          15890,
          243035,
          97333,
          155844,
          95860,
          222399,
          94117,
          59892,
          87961,
          157217,
          307328,
          30799,
          165498,
          66848,
          22483,
          158122,
          317406,
          362992,
          65086,
          407436,
          720652,
          468798,
          336135,
          244461,
          174433,
          1346280,
          0,
          0,
          786983,
          148714,
          169926,
          12987,
          135426,
          302225,
          291062,
          109499,
          115457,
          39725,
          177743,
          305577,
          7843,
          16297,
          157881,
          28699,
          430354,
          236822,
          287751,
          760326,
          20881,
          56022,
          361599,
          351031,
          88322,
          556451,
          187566,
          672340,
          142805,
          113804,
          70028,
          8193,
          78991,
          43902,
          402776,
          98124,
          13361,
          178508,
          0,
          3010800,
          479,
          6353,
          20302,
          0,
          1168,
          169942,
          4658,
          42287,
          1028271,
          15400,
          175490,
          2309896,
          6507,
          1086724,
          13517,
          960020,
          116034,
          2064597,
          10298,
          577567,
          399150,
          313099,
          25549,
          2070600,
          68065,
          1126,
          901,
          1651,
          2806,
          7016,
          670,
          7500,
          2960,
          32553,
          888987,
          7595,
          20696,
          28123,
          7421,
          173945,
          0,
          99509,
          18480,
          127051,
          23059,
          289451,
          182415,
          13080,
          21308,
          19831,
          3504893,
          123708,
          782,
          0,
          0,
          226504,
          86623,
          0,
          14189,
          1110405,
          23054,
          986,
          568095,
          236810,
          325234,
          0,
          246992,
          317256,
          198206,
          348995,
          51693,
          333982,
          713,
          10882,
          0,
          137610,
          256150,
          153533,
          279620,
          449321,
          311067,
          103525,
          148820,
          86422,
          270759,
          67181,
          863204,
          331295,
          351771,
          977948,
          813280,
          96265,
          230028,
          156364,
          439822,
          71710,
          0,
          123359,
          854086,
          881195,
          159843,
          194791,
          134454,
          76292,
          231327,
          1103862,
          160152,
          4620,
          1492255,
          0,
          929502,
          294270,
          167656,
          121505,
          3234,
          1435,
          771012,
          29004,
          111004,
          260597,
          2953,
          41923,
          15375,
          2471,
          0,
          0,
          866,
          12355,
          6610,
          0,
          77109,
          181061,
          1166985,
          8149,
          45831,
          97059,
          116639,
          164268,
          127791,
          39804,
          25612,
          146361,
          11773,
          126751,
          105865,
          311994,
          125186,
          185893,
          4513,
          35266,
          62418,
          4026,
          7017,
          41466,
          0,
          102573,
          52571,
          250612,
          8760,
          224008,
          43188,
          131653,
          56886,
          255676,
          155164,
          517417,
          7084,
          30070,
          196245,
          0,
          15688,
          34610,
          141987,
          9949,
          100350,
          61239,
          33951,
          761833,
          41498,
          23736,
          17754,
          1687,
          528113,
          95328,
          163645,
          231667,
          114,
          128677,
          26257,
          33218,
          21196,
          23317,
          0,
          0,
          0,
          0,
          288006,
          157372,
          0,
          33257,
          0,
          38197,
          49656,
          63662,
          26789,
          21135,
          40488,
          206875,
          69195,
          27665,
          19282,
          61776,
          92279,
          39151,
          49183,
          19723,
          39230,
          2031865,
          0,
          114787,
          63804,
          30194,
          63192,
          41818,
          151872,
          162975,
          133487,
          1308379,
          700280,
          184620,
          636618,
          280112,
          432900,
          3896,
          38197,
          1935,
          7824,
          36477,
          456932,
          13394,
          59916,
          553222,
          673,
          0,
          0,
          0,
          0,
          17316,
          28978,
          38197,
          17316,
          88108,
          10251,
          81487,
          570410,
          308124,
          4779,
          42321,
          1697,
          112045,
          47315,
          1617,
          9325,
          7805,
          7699,
          2580,
          4182,
          1721,
          174669,
          0,
          490080,
          0,
          1550970,
          2741076,
          0,
          27,
          122231,
          0,
          95063,
          176835,
          181860,
          1425928,
          45928,
          0,
          0,
          11603,
          62056,
          164029,
          11814,
          179325,
          6906,
          1185307,
          446905,
          146820,
          360227,
          95165,
          36389,
          1901,
          8946,
          261022,
          144872,
          584644,
          146890,
          171473,
          1630,
          159224,
          63662,
          5170,
          93,
          12567,
          8343,
          451249,
          86972,
          66675,
          7209,
          201485,
          187546,
          30707,
          48,
          26995,
          13859,
          19095,
          117712,
          144753,
          100404,
          14784,
          3291,
          5043,
          0,
          10780,
          1793582,
          1107195,
          135574,
          45016,
          34967,
          1384,
          2577,
          80959,
          422205,
          0,
          0,
          36057,
          90202,
          147989,
          800,
          24551,
          0,
          0,
          1916,
          25826,
          66467,
          22815,
          184842,
          360581,
          153384,
          299376,
          73941,
          123658,
          45470,
          113498,
          99665,
          412834,
          206264,
          38961,
          555619,
          80235,
          145537,
          158674,
          13026,
          1847916,
          19609,
          37679,
          43672,
          398362,
          89460,
          51126,
          59996,
          381,
          12707,
          32032,
          44600,
          2040,
          233,
          21288,
          0,
          45837,
          297938,
          8632,
          208297,
          99313,
          618793,
          0,
          616,
          0,
          91349,
          62028,
          135334,
          186772,
          12381,
          274172,
          13750,
          0,
          26372,
          364161,
          24066,
          38269,
          1844,
          0,
          9683,
          10851,
          96315,
          0,
          41118,
          37975,
          665,
          907,
          3144,
          633,
          7066,
          55209,
          58139,
          5928,
          58144,
          1148,
          4011,
          2921,
          43291,
          79094,
          47110,
          408709,
          6514,
          11765,
          42017,
          0
         ],
         "xaxis": "x",
         "y": [
          0,
          0,
          0,
          0,
          0,
          0,
          0,
          0,
          0,
          0.15,
          0.1,
          0.52,
          0.2,
          3.2,
          0.41,
          0.27,
          0.11,
          0,
          0,
          0,
          0,
          0,
          0,
          0,
          0.67,
          0.7,
          0.11,
          1.67,
          0.19,
          0,
          0.69,
          0,
          0.05,
          0.06,
          0.07,
          0.06,
          0,
          0.05,
          0.05,
          0.05,
          0,
          0.06,
          0.05,
          0,
          0,
          0,
          0,
          0,
          0,
          0,
          0,
          0,
          0,
          0,
          0,
          0,
          0,
          0.18,
          0.11,
          0,
          0,
          0,
          0,
          0,
          0,
          0,
          0,
          0,
          0.11,
          0.11,
          0,
          0.52,
          27.73,
          0,
          4.99,
          0.23,
          0.12,
          1.34,
          0.53,
          8.06,
          0,
          0,
          0,
          0.11,
          0.08,
          0,
          0,
          0.35,
          0,
          0,
          0.12,
          0,
          0,
          0,
          0,
          0,
          0.12,
          0.12,
          0.21,
          0.11,
          0.34,
          0.31,
          0.21,
          0.09,
          0,
          0,
          0.104,
          0,
          0,
          0,
          0,
          0,
          0,
          0,
          0,
          0,
          0,
          0,
          0,
          0,
          0,
          0,
          0.06,
          0,
          0.07,
          0,
          0,
          0,
          0.1,
          0.21,
          0.1,
          0,
          0,
          0,
          0.72,
          0.088,
          0.1,
          0.1,
          0.28,
          0.1,
          0.13,
          0.09,
          0.32,
          0,
          0.06,
          0.44,
          0.2,
          0.11,
          0,
          0.48,
          0,
          0,
          0.16,
          0.24,
          0.16,
          0.17,
          0.33,
          0.11,
          0.07,
          0.4,
          0.94,
          0.15,
          0.13,
          0,
          0.42,
          0.1,
          0.1,
          0.1,
          0,
          0,
          0.11,
          0.11,
          0.12,
          0.36,
          0.4,
          0,
          0.9,
          0.12,
          0.11,
          0.1,
          0.1,
          0.18,
          0.1,
          0.19,
          0.49,
          0.74,
          0.12,
          0.67,
          0.15,
          0.29,
          0.16,
          0.15,
          1.51,
          1,
          0.23,
          0.08,
          0.08,
          0.057,
          0,
          0,
          0.2,
          0.12,
          0.19,
          0.15,
          0.12,
          0.13,
          0.11,
          0.12,
          0.94,
          0.11,
          0.47,
          0.29,
          0.21,
          0.23,
          4.3,
          0.4,
          0.63,
          0.48,
          0.41,
          0.23,
          0.49,
          0.1,
          0.196,
          0,
          0.1,
          0.18,
          0.17,
          0.39,
          3.31,
          0.11,
          8.29,
          0.18,
          6.47,
          8.36,
          0.398,
          1.51,
          5.25,
          15.84,
          1.35,
          0.24,
          9.8,
          0.1,
          0,
          0,
          0.1,
          0,
          0,
          0,
          0,
          0.1,
          0,
          0.07,
          0,
          0,
          0.052,
          0.054,
          0.07,
          0.07,
          0.06,
          0.07,
          0,
          0.07,
          0.07,
          0.09,
          0.09,
          0.08,
          0,
          0,
          0,
          0.08,
          0.1,
          0,
          0,
          0,
          0,
          0,
          0,
          0.14,
          0,
          0,
          0,
          0,
          0,
          0.1,
          0,
          0,
          0,
          0,
          0,
          0,
          0,
          0,
          0,
          0,
          0,
          0,
          0.14,
          0.1,
          0,
          0.1,
          0.14,
          0,
          0,
          0.1,
          0,
          0,
          0,
          0,
          0,
          0,
          0,
          0.14,
          0.15,
          0.19,
          0.1,
          0,
          0,
          0,
          0.1,
          0,
          0,
          0,
          0,
          0,
          0.11,
          0,
          0,
          0,
          0.12,
          0,
          0,
          0,
          0,
          0,
          0,
          0.22,
          0,
          0,
          0.12,
          0.14,
          0.23,
          0,
          0,
          0,
          0.11,
          0.13,
          0.07,
          0.12,
          0.07,
          0.09,
          0,
          0,
          0,
          0,
          0,
          0,
          0,
          0,
          0.7,
          0.1,
          0.14,
          0.15,
          0.25,
          3.11,
          3.88,
          2.09,
          1.76,
          0.19,
          0.73,
          0.09,
          0.72,
          1.11,
          0.29,
          0.11,
          0.1,
          0,
          0.1,
          0,
          0,
          0.1,
          0,
          0.062,
          0.1,
          120.06,
          7.1,
          7.61,
          3.41,
          17.69,
          0.37,
          0.31,
          0.18,
          0.09,
          0.07,
          0.069,
          1.23,
          3.95,
          1.82,
          0.16,
          0,
          0,
          0,
          7.94,
          0,
          0,
          0,
          0,
          0,
          0,
          0,
          0,
          0,
          0.1,
          0,
          0,
          0.1,
          0.09,
          0.08,
          0.09,
          0.08,
          0.58,
          0,
          0,
          0.056,
          0.11,
          0,
          0,
          0,
          0.11,
          0,
          0,
          0,
          0.13,
          0.17,
          0.3,
          0,
          0.2,
          0.12,
          0.28,
          0.19,
          0.11,
          0.24,
          0.1,
          0.12,
          0.05,
          0.11,
          0,
          0.15,
          0.12,
          0,
          0.12,
          0.15,
          0.2,
          0.11,
          0.1,
          0.08,
          0,
          0.1,
          0,
          0,
          0.13,
          0.19,
          0.19,
          0,
          0,
          0.11,
          0.07,
          0.1,
          0.08,
          0,
          0.08,
          0.11,
          0.11,
          0,
          0,
          0,
          0,
          0.1,
          0,
          0.12,
          0.16,
          0.15,
          0.18,
          0.12,
          0,
          0,
          0.12,
          0,
          0,
          0,
          0,
          0,
          0,
          0.1,
          0,
          0,
          0.11,
          0,
          0,
          0,
          0,
          0,
          0,
          0,
          0,
          0,
          0,
          0,
          0,
          0,
          0.29,
          0.19,
          0.18,
          0,
          0.11,
          0.11,
          0.11,
          0.11,
          0,
          0,
          0,
          0.1,
          0,
          0,
          0.1,
          0,
          0,
          0.12,
          0.11,
          0.11,
          0.1,
          0,
          0,
          0,
          0,
          0.1,
          0,
          0,
          0.1,
          0.12,
          0.11,
          0,
          0,
          0,
          0,
          0,
          0,
          0,
          0,
          0,
          0,
          0,
          0,
          0,
          0,
          0,
          0,
          0,
          0.17,
          0.11,
          0,
          0,
          0,
          0.14,
          0,
          0,
          0.06,
          0.06,
          0.11,
          0.13,
          0.51,
          0.07,
          0,
          3.6,
          1.47,
          0.18,
          0.06,
          0.2,
          0.05,
          0.1,
          0.05,
          0.07,
          0,
          0.06,
          0.06,
          0.08,
          0.41,
          0.37,
          0.08,
          0.11,
          7.85,
          0.24,
          3.12,
          12.47,
          0.2,
          0.16,
          0.22,
          3.87,
          0.26,
          3.8,
          0.29,
          0.26,
          0.14,
          78.66,
          53.63,
          98.95,
          9.95,
          56.04,
          0.38,
          29.2,
          1.07,
          0.25,
          0.33,
          0.43,
          2.77,
          0.225,
          0.347,
          0.267,
          0.09,
          0.06,
          0.06,
          0.06,
          0.07,
          0,
          0.07,
          0,
          0.09,
          0.07,
          0.11,
          0.06,
          0.09,
          0.24,
          0,
          0,
          0.24,
          0.21,
          0.1,
          0.1,
          0,
          0,
          0,
          0,
          0.15,
          0.1,
          0,
          0,
          0,
          0,
          0.11,
          0,
          0,
          0,
          0,
          0,
          0,
          0,
          0,
          0.71,
          3.29,
          3.66,
          0.31,
          4.01,
          5.03,
          9.81,
          0.42,
          0.23,
          0.4,
          1.22,
          4.56,
          4.87,
          4.2,
          3.9,
          0.96,
          1.91,
          0.085,
          0.13,
          0.25,
          3.83,
          0.37,
          0.39,
          0.32,
          0.65,
          1.24,
          0.45,
          0.16,
          35.59,
          44805,
          0.17,
          0.11,
          0.14,
          0.48,
          3.3,
          0.18,
          2.83,
          3.18,
          6.58,
          6.26,
          2.47,
          0.45,
          1.38,
          2.72,
          0.23,
          0.1,
          0.96,
          3.99,
          0.22,
          0.28,
          0.79,
          4.72,
          1.54,
          3.89,
          1.38,
          3.13,
          4.75,
          0.34,
          0.6,
          9.5,
          3.66,
          0.13,
          0,
          5.57,
          1.06,
          0.68,
          0.15,
          0.077,
          0.29,
          0.39,
          0.14,
          0.23,
          0.22,
          0.17,
          0.18,
          0.054,
          0.6,
          0.33,
          0.1,
          0.12,
          0.058,
          0.079,
          0.104,
          0.09,
          0.11,
          0.18,
          0.18,
          0.74,
          0.34,
          1.35,
          0.24,
          0.25,
          0.21,
          2.63,
          0.34,
          0.16,
          1.34,
          1.64,
          1.05,
          2.75,
          2.52,
          4.37,
          2.55,
          2.24,
          1.97,
          1.84,
          2.23,
          3.45,
          1.21,
          0.39,
          0.16,
          0.16,
          0.16,
          0.33,
          0.8,
          0.82,
          0.1,
          1.67,
          0.93,
          5.13,
          2.5,
          3.89,
          2.34,
          6.76,
          1.23,
          0.29,
          0.25,
          0.51,
          1.59,
          0.11,
          0.12,
          0.12,
          0.14,
          0.11,
          0.13,
          0,
          0,
          0.11,
          0.11,
          0.12,
          0,
          0,
          0.12,
          0.1,
          0,
          0.1,
          0,
          0,
          0,
          0.1,
          0.11,
          0.1,
          0,
          0.11,
          0.13,
          0.14,
          0.1,
          0.12,
          0.12,
          0,
          0,
          0,
          0,
          0.1,
          0.12,
          0.1,
          0.1,
          0,
          0.11,
          0.09,
          0.09,
          0.13,
          0.09,
          0.07,
          0.06,
          0.08,
          0.11,
          0.12,
          0.13,
          0.11,
          0,
          0,
          0,
          0.1,
          0.11,
          0.1,
          0.11,
          0,
          0,
          0.1,
          0,
          0.1,
          0.1,
          0.07,
          0.07,
          0.09,
          0.1,
          0,
          0.1,
          0.06,
          0.08,
          0.11,
          0.06,
          0.11,
          0.2,
          0.41,
          0.21,
          0.2,
          0.21,
          0.21,
          0.24,
          0.22,
          0.19,
          0.16,
          0.24,
          0.18,
          0.19,
          0.16,
          0.13,
          0.18,
          0.19,
          0.26,
          0.112,
          0.169,
          0.14,
          0.19,
          0.24,
          0.17,
          0.16,
          0.2,
          0.21,
          0.17,
          0.18,
          0.22,
          0.17,
          0.2,
          0.11,
          0.21,
          0.23,
          0.21,
          0.21,
          0.24,
          0.24,
          0.25,
          0.17,
          0.25,
          0.28,
          0.14,
          0.13,
          0.24,
          0.23,
          0.21,
          0.21,
          0.2,
          0.2,
          0.21,
          0.17,
          0.18,
          0.17,
          0.15,
          0.16,
          0.25,
          0.13,
          0.24,
          0.19,
          0.24,
          0.17,
          0.19,
          0.17,
          0.14,
          0.21,
          0.24,
          0.21,
          0.17,
          0.16,
          0.14,
          0.23,
          0.2,
          0.2,
          0.35,
          0.22,
          0.22,
          0.2,
          0.15,
          0.21,
          0.21,
          0.103,
          0.14,
          0.141,
          0.19,
          0.19,
          0.16,
          0.19,
          0.16,
          0.15,
          0.14,
          0.14,
          0.15,
          0.12,
          0.14,
          0.14,
          0.2,
          0.17,
          0.14,
          0.13,
          0.15,
          0.18,
          0.17,
          0.17,
          0.18,
          0.22,
          0.15,
          2.37,
          0.43,
          4.03,
          0.1,
          0,
          0,
          0,
          0.12,
          0.65,
          0.37,
          0.09,
          3.85,
          0,
          4.84,
          0.08,
          0.06,
          0.06,
          0.2,
          0.06,
          0.09,
          0.05,
          0.1,
          0.14,
          0.075,
          8.17,
          14.92,
          5.64,
          0,
          0.06,
          0.15,
          7.06,
          7.95,
          0,
          0,
          0,
          0,
          0,
          0,
          0,
          0,
          0.1,
          0,
          0.076,
          0.15,
          13.26,
          0.11,
          0.07,
          0,
          0,
          0,
          0,
          0.12,
          0,
          0.46,
          0.43,
          0.2,
          2.39,
          8.49,
          0.05,
          0.06,
          0,
          0,
          0.13,
          0.46,
          0,
          0,
          0,
          0,
          0.14,
          0.06,
          0,
          0,
          0,
          0.15,
          0.68,
          0,
          0.72,
          2.6,
          0.06,
          0.1,
          0.1,
          0,
          0.63,
          0,
          0,
          0,
          0.11,
          0.13,
          0.33,
          0.17,
          0.1,
          0,
          0.13,
          0.126,
          0.13,
          0.11,
          0.1,
          0.1,
          0,
          0.1,
          0.12,
          0.12,
          0.1,
          0,
          0.12,
          0,
          0.13,
          0.1,
          0.16,
          0.15,
          0.08,
          0.07,
          0.63,
          0.11,
          0,
          0,
          0,
          0.87,
          0.74,
          0.24,
          0.11,
          1.92,
          0.11,
          0.06,
          0.07,
          0.23,
          0.06,
          0.08,
          0.28,
          1.33,
          0.16,
          0,
          0.59,
          0,
          0.19,
          0.38,
          0.65,
          0.43,
          0.38,
          0.49,
          0.1,
          0.12,
          14.86,
          17.84,
          29.64,
          59.84,
          0.15,
          0,
          0.1,
          0.11,
          0.13,
          0.14,
          6.37,
          0.14,
          1.19,
          0.1,
          0.28,
          0.11,
          10.04,
          0.12,
          0.1,
          0.08,
          0,
          0,
          0.17,
          0,
          0.14,
          0.06,
          0.11,
          5.1,
          0.08,
          0.14,
          0,
          0.1,
          0.19,
          0.1,
          0.12,
          0,
          0.11,
          0.06,
          0.1,
          0,
          0.13,
          0.23,
          0.25,
          0.31,
          1.64,
          0,
          0.12,
          0,
          0.13,
          0,
          0.096,
          0,
          0.43,
          0.35,
          0.51,
          0.13,
          0.12,
          0,
          0.12,
          0.1,
          0.1,
          0,
          60.47,
          0.18,
          17.59,
          0,
          0.11,
          0.2,
          0,
          8.33,
          0.1,
          0.14,
          0,
          0.1,
          0.12,
          0,
          0,
          0.12,
          0,
          0,
          0.13,
          0,
          0.28,
          0.63,
          0.12,
          0.42,
          0,
          0,
          0.11,
          0.13,
          0.11,
          0.14,
          0.11,
          0,
          107.21,
          13.5,
          1.01,
          2.83,
          0.81,
          0.14,
          0,
          0.64,
          0.1,
          5.62,
          0,
          0.07,
          0.12,
          0.26,
          0.11,
          0,
          0.15,
          0,
          0,
          0,
          0,
          0.1,
          0,
          0.17,
          0.1,
          0,
          0.08,
          0.37,
          3.92,
          0.08,
          0.21,
          0.11,
          0.2,
          0.05,
          0.07,
          0,
          0.12,
          0,
          0.12,
          0.13,
          0.83,
          22.38,
          0.05,
          0.29,
          51.51,
          438.5,
          2.75,
          0.15,
          0.23,
          4.42,
          2.19,
          0.9,
          0.32,
          0,
          0.3,
          0.11,
          0,
          0,
          0,
          0.12,
          0,
          0.65,
          0.4,
          0.11,
          0.06,
          0,
          0.12,
          0.12,
          0,
          0,
          0,
          0,
          0.1,
          0.19,
          0.13,
          0.15,
          0.27,
          1.05,
          0.108,
          0.114,
          0.134,
          0.32,
          0.22,
          0.17,
          0.77,
          1.2,
          0.14,
          0,
          0,
          0,
          0,
          0.1,
          0.67,
          0,
          0.1,
          0,
          0.11,
          0.54,
          1.14,
          0.12,
          0.66,
          0,
          0,
          0,
          0.12,
          0.11,
          0,
          3.3,
          0.11,
          0.12,
          0.21,
          15.86,
          0,
          0.12,
          0.1,
          0.39,
          0.1,
          0.248,
          0.076,
          0.92,
          7.25,
          0.12,
          0.16,
          0.77,
          0,
          0.13,
          0.2,
          1.99,
          0,
          0.11,
          1.24,
          0.11,
          0.29,
          0.14,
          0.1,
          0.18,
          0.11,
          1.21,
          0.1,
          0,
          0,
          0.13,
          0.1,
          0.1,
          7.76,
          0.31,
          6.7,
          8.25,
          0.11,
          3.22,
          0.45,
          2.84,
          0.19,
          0.28,
          0.29,
          0.94,
          0.3,
          0.85,
          0.57,
          0.85,
          0.46,
          0.7,
          1.35,
          0.58,
          0.72,
          1.3,
          2.67,
          3.27,
          3.6,
          0.93,
          2.74,
          0.29,
          0,
          0.2,
          1.43,
          0.29,
          0.12,
          0.09,
          0.47,
          0.06,
          0.05,
          0.052,
          0.062,
          0.56,
          0.06,
          0.22,
          0,
          13.55,
          2.68,
          1.28,
          1.25,
          0.76,
          0.64,
          4.01,
          0.15,
          0.17,
          0.74,
          20.31,
          1.55,
          5.04,
          0.68,
          0.7,
          0.18,
          0.86,
          1.04,
          1.24,
          1.71,
          0.13,
          3.94,
          10.19,
          0.56,
          0.73,
          2.04,
          1.93,
          0.1,
          0.13,
          2.96,
          9.03,
          0.32,
          0.23,
          2.23,
          0.58,
          1.92,
          0.51,
          0.28,
          0.08,
          0.07,
          0.38,
          2.85,
          0.29,
          0.05,
          0.052,
          0.38,
          0.21,
          0.13,
          0.44,
          0.32,
          0.69,
          0.11,
          0.21,
          0.42,
          0.18,
          2.88,
          0,
          1.54,
          0.11,
          0.12,
          1.55,
          0,
          0.11,
          0.1,
          0.096,
          1.23,
          0.12,
          0,
          0.12,
          0.14,
          0.22,
          0.11,
          0.99,
          1.34,
          0.14,
          0.23,
          0.49,
          0.28,
          1.2,
          0.12,
          0.1,
          0.139,
          0.14,
          0.17,
          0.24,
          0,
          0.105,
          0.1,
          0.1,
          0,
          0.12,
          0.11,
          0.13,
          0.11,
          0.12,
          0.17,
          0,
          0.1,
          0.13,
          0.11,
          0.13,
          0.14,
          0.14,
          0.13,
          0.13,
          0.12,
          0.26,
          0.1,
          0.09,
          0.09,
          0,
          0.09,
          0.11,
          0.12,
          0.12,
          0,
          0.1,
          0,
          0,
          0,
          0,
          0,
          0,
          0,
          0,
          0.06,
          0.06,
          0.05,
          0.058,
          0,
          0,
          0,
          0,
          0.1,
          0.11,
          0.1,
          0.12,
          0.11,
          0.12,
          0.16,
          0.161,
          0.12,
          0.15,
          0,
          0,
          0.11,
          0.18,
          0.3,
          4.13,
          0.452,
          0.73,
          5.99,
          5.35,
          4.94,
          22.85,
          4.47,
          3.83,
          1.5,
          9.67,
          9.56,
          2.21,
          4.59,
          5.15,
          5,
          2.93,
          6.02,
          11.57,
          6.09,
          4.62,
          23.73,
          5.19,
          11.85,
          7.69,
          13.27,
          16193.2,
          0.11,
          0.088,
          0.77,
          7.2,
          4.11,
          0.81,
          0.87,
          9.59,
          0.7,
          3,
          0.92,
          0.127,
          0.46,
          25.81,
          0.19,
          5,
          15.13,
          0.143,
          6.91,
          11.01,
          12.1,
          42.1,
          0.094,
          0.183,
          28.58,
          13.14,
          9.37,
          9.45,
          6,
          14.76,
          10.9,
          14.97,
          1.22,
          0.46,
          0.6,
          0.4,
          14.79,
          5.47,
          0.51,
          4.57,
          0.17,
          2909.9,
          0.67,
          1.11,
          2.86,
          0.71,
          0.23,
          1.43,
          1.63,
          2.52,
          12.47,
          0.37,
          4.2,
          0.37,
          0.13,
          0.19,
          7.56,
          22.87,
          0.62,
          4745,
          17.6,
          0.11,
          0.28,
          0.62,
          0.34,
          1219.1,
          0.44,
          3.96,
          5.18,
          4.59,
          0.25,
          5.31,
          2.83,
          3.21,
          1,
          6.87,
          0.4,
          1.74,
          2.21,
          0.51,
          0.18,
          2.06,
          0.137,
          0.25,
          0.26,
          23.3,
          3.44,
          21.82,
          0.23,
          3.24,
          4.56,
          3.75,
          15.16,
          258.05,
          0.27,
          0,
          0.14,
          3.18,
          25.08,
          0.17,
          2.24,
          98.24,
          0.23,
          0.19,
          1.92,
          5.1,
          12.59,
          0.1,
          150.47,
          38.52,
          0,
          11.21,
          2.18,
          3.76,
          0.25,
          18.21,
          5.07,
          6.5,
          1.02,
          0.36,
          0.17,
          0,
          0.81,
          27.29,
          0.76,
          1.37,
          1.18,
          0.79,
          1.56,
          1.8,
          1.27,
          2.07,
          0.98,
          1.36,
          1,
          0.44,
          0.47,
          0.21,
          0.28,
          0.8,
          0.9,
          3.08,
          0.88,
          1.23,
          1.09,
          0.81,
          0.56,
          5.26,
          0.81,
          8.33,
          26.54,
          0.07,
          8.34,
          3.67,
          0,
          0,
          0.07,
          2.33,
          19.35,
          0.33,
          0.37,
          14.53,
          2.72,
          0.16,
          0,
          0.1,
          0.11,
          0,
          0.13,
          0.2,
          0.22,
          0.12,
          0.14,
          0.24,
          0.19,
          0,
          0.13,
          1.61,
          1.75,
          5.93,
          1.67,
          2.09,
          3.16,
          0.11,
          0.88,
          2.72,
          2.82,
          343.4,
          0.38,
          2.65,
          1.04,
          0.74,
          3.93,
          1.17,
          0,
          3.1,
          0.095,
          0.22,
          2.03,
          1.89,
          0.29,
          1.55,
          0.14,
          0.67,
          1.4,
          12.61,
          0.68,
          0.24,
          0.11,
          5.01,
          11.92,
          0.067,
          4.89,
          14.68,
          2.55,
          1.63,
          2.36,
          2.65,
          0,
          4.84,
          2.22,
          2.6,
          2.52,
          0.37,
          139.16,
          5.67,
          201.23,
          54.94,
          0.35,
          4.17,
          2.71,
          0.22,
          0,
          0.1,
          0,
          0,
          0,
          0,
          0.05,
          0.06,
          0.07,
          0.06,
          0.05,
          0.09,
          0.07,
          0.08,
          0.1,
          0.24,
          0.23,
          0.33,
          0,
          0.14,
          0,
          0,
          0,
          0.19,
          0.17,
          0.13,
          4.99,
          91.02,
          1.89,
          8.41,
          1.93,
          2.18,
          5.69,
          0.14,
          0.3,
          4.57,
          2.82,
          2.78,
          3.98,
          0.31,
          1.42,
          0.4,
          0.27,
          0.1,
          0.116,
          0.068,
          0.06,
          1.85,
          0.21,
          0,
          0.37,
          0.73,
          0.16,
          0.06,
          0.083,
          0.07,
          0.06,
          0.11,
          0.17,
          0.16,
          0.22,
          1.4,
          0.15,
          0.24,
          1.61,
          0.36,
          0.1,
          0.45,
          0.21,
          0.14,
          0,
          0,
          0,
          0,
          0,
          0,
          0,
          0,
          0,
          0.07,
          3.93,
          0.07,
          0.55,
          0,
          0,
          0,
          0,
          0,
          0,
          0.11,
          0.11,
          0.1,
          0.16,
          0,
          0,
          0,
          0.1,
          0.1,
          0,
          0,
          0,
          0,
          0,
          0,
          0,
          0.1,
          0,
          0,
          0,
          0,
          0,
          0,
          0.1,
          0,
          0,
          0,
          0,
          0,
          0,
          0,
          0,
          0,
          0,
          0,
          0,
          0,
          0,
          0,
          0,
          0.11,
          0,
          0,
          0,
          0,
          0.18,
          0.4,
          0,
          0,
          0,
          0,
          0.52,
          0.23,
          0.48,
          0,
          0,
          0,
          0.33,
          0,
          0.1,
          0.1,
          0.1,
          0,
          0.12,
          0,
          0,
          0.11,
          0.053,
          0.07,
          0,
          0,
          1.14,
          0,
          0,
          0.59,
          0.49,
          0,
          0.52,
          0.99,
          0.41,
          0.36,
          0.2,
          0.19,
          0.28,
          0.4,
          0.39,
          0.32,
          0.19,
          0,
          0,
          3.35,
          0.29,
          1.42,
          0.2,
          0.15,
          0.31,
          0.12,
          0,
          3.37,
          1.43,
          2.01,
          5.85,
          0.94,
          0.37,
          0.09,
          0.077,
          0.66,
          1.1,
          0.17,
          0.2,
          0.12,
          0.2,
          0,
          0,
          0,
          0,
          0,
          0.13,
          2.45,
          0,
          2.34,
          0.75,
          0,
          1.1,
          0.55,
          0.13,
          0.21,
          0.11,
          0,
          0.15,
          0,
          0.39,
          0,
          0,
          0,
          0,
          0,
          0.2,
          0.38,
          8.46,
          4.42,
          0.35,
          0.14,
          3.2,
          1.4,
          2.75,
          15.96,
          14.49,
          0.08,
          0.16,
          1.62,
          1.04,
          0.063,
          2.88,
          0.24
         ],
         "yaxis": "y"
        }
       ],
       "layout": {
        "annotations": [
         {
          "font": {
           "color": "black",
           "size": 20
          },
          "showarrow": false,
          "text": "Pearson's r: 0.07\nPVal: 0.0",
          "textangle": 0,
          "x": 0.2,
          "xanchor": "left",
          "xref": "paper",
          "y": 0.95,
          "yref": "paper"
         }
        ],
        "legend": {
         "tracegroupgap": 0
        },
        "margin": {
         "t": 60
        },
        "template": {
         "data": {
          "bar": [
           {
            "error_x": {
             "color": "#2a3f5f"
            },
            "error_y": {
             "color": "#2a3f5f"
            },
            "marker": {
             "line": {
              "color": "#E5ECF6",
              "width": 0.5
             },
             "pattern": {
              "fillmode": "overlay",
              "size": 10,
              "solidity": 0.2
             }
            },
            "type": "bar"
           }
          ],
          "barpolar": [
           {
            "marker": {
             "line": {
              "color": "#E5ECF6",
              "width": 0.5
             },
             "pattern": {
              "fillmode": "overlay",
              "size": 10,
              "solidity": 0.2
             }
            },
            "type": "barpolar"
           }
          ],
          "carpet": [
           {
            "aaxis": {
             "endlinecolor": "#2a3f5f",
             "gridcolor": "white",
             "linecolor": "white",
             "minorgridcolor": "white",
             "startlinecolor": "#2a3f5f"
            },
            "baxis": {
             "endlinecolor": "#2a3f5f",
             "gridcolor": "white",
             "linecolor": "white",
             "minorgridcolor": "white",
             "startlinecolor": "#2a3f5f"
            },
            "type": "carpet"
           }
          ],
          "choropleth": [
           {
            "colorbar": {
             "outlinewidth": 0,
             "ticks": ""
            },
            "type": "choropleth"
           }
          ],
          "contour": [
           {
            "colorbar": {
             "outlinewidth": 0,
             "ticks": ""
            },
            "colorscale": [
             [
              0,
              "#0d0887"
             ],
             [
              0.1111111111111111,
              "#46039f"
             ],
             [
              0.2222222222222222,
              "#7201a8"
             ],
             [
              0.3333333333333333,
              "#9c179e"
             ],
             [
              0.4444444444444444,
              "#bd3786"
             ],
             [
              0.5555555555555556,
              "#d8576b"
             ],
             [
              0.6666666666666666,
              "#ed7953"
             ],
             [
              0.7777777777777778,
              "#fb9f3a"
             ],
             [
              0.8888888888888888,
              "#fdca26"
             ],
             [
              1,
              "#f0f921"
             ]
            ],
            "type": "contour"
           }
          ],
          "contourcarpet": [
           {
            "colorbar": {
             "outlinewidth": 0,
             "ticks": ""
            },
            "type": "contourcarpet"
           }
          ],
          "heatmap": [
           {
            "colorbar": {
             "outlinewidth": 0,
             "ticks": ""
            },
            "colorscale": [
             [
              0,
              "#0d0887"
             ],
             [
              0.1111111111111111,
              "#46039f"
             ],
             [
              0.2222222222222222,
              "#7201a8"
             ],
             [
              0.3333333333333333,
              "#9c179e"
             ],
             [
              0.4444444444444444,
              "#bd3786"
             ],
             [
              0.5555555555555556,
              "#d8576b"
             ],
             [
              0.6666666666666666,
              "#ed7953"
             ],
             [
              0.7777777777777778,
              "#fb9f3a"
             ],
             [
              0.8888888888888888,
              "#fdca26"
             ],
             [
              1,
              "#f0f921"
             ]
            ],
            "type": "heatmap"
           }
          ],
          "heatmapgl": [
           {
            "colorbar": {
             "outlinewidth": 0,
             "ticks": ""
            },
            "colorscale": [
             [
              0,
              "#0d0887"
             ],
             [
              0.1111111111111111,
              "#46039f"
             ],
             [
              0.2222222222222222,
              "#7201a8"
             ],
             [
              0.3333333333333333,
              "#9c179e"
             ],
             [
              0.4444444444444444,
              "#bd3786"
             ],
             [
              0.5555555555555556,
              "#d8576b"
             ],
             [
              0.6666666666666666,
              "#ed7953"
             ],
             [
              0.7777777777777778,
              "#fb9f3a"
             ],
             [
              0.8888888888888888,
              "#fdca26"
             ],
             [
              1,
              "#f0f921"
             ]
            ],
            "type": "heatmapgl"
           }
          ],
          "histogram": [
           {
            "marker": {
             "pattern": {
              "fillmode": "overlay",
              "size": 10,
              "solidity": 0.2
             }
            },
            "type": "histogram"
           }
          ],
          "histogram2d": [
           {
            "colorbar": {
             "outlinewidth": 0,
             "ticks": ""
            },
            "colorscale": [
             [
              0,
              "#0d0887"
             ],
             [
              0.1111111111111111,
              "#46039f"
             ],
             [
              0.2222222222222222,
              "#7201a8"
             ],
             [
              0.3333333333333333,
              "#9c179e"
             ],
             [
              0.4444444444444444,
              "#bd3786"
             ],
             [
              0.5555555555555556,
              "#d8576b"
             ],
             [
              0.6666666666666666,
              "#ed7953"
             ],
             [
              0.7777777777777778,
              "#fb9f3a"
             ],
             [
              0.8888888888888888,
              "#fdca26"
             ],
             [
              1,
              "#f0f921"
             ]
            ],
            "type": "histogram2d"
           }
          ],
          "histogram2dcontour": [
           {
            "colorbar": {
             "outlinewidth": 0,
             "ticks": ""
            },
            "colorscale": [
             [
              0,
              "#0d0887"
             ],
             [
              0.1111111111111111,
              "#46039f"
             ],
             [
              0.2222222222222222,
              "#7201a8"
             ],
             [
              0.3333333333333333,
              "#9c179e"
             ],
             [
              0.4444444444444444,
              "#bd3786"
             ],
             [
              0.5555555555555556,
              "#d8576b"
             ],
             [
              0.6666666666666666,
              "#ed7953"
             ],
             [
              0.7777777777777778,
              "#fb9f3a"
             ],
             [
              0.8888888888888888,
              "#fdca26"
             ],
             [
              1,
              "#f0f921"
             ]
            ],
            "type": "histogram2dcontour"
           }
          ],
          "mesh3d": [
           {
            "colorbar": {
             "outlinewidth": 0,
             "ticks": ""
            },
            "type": "mesh3d"
           }
          ],
          "parcoords": [
           {
            "line": {
             "colorbar": {
              "outlinewidth": 0,
              "ticks": ""
             }
            },
            "type": "parcoords"
           }
          ],
          "pie": [
           {
            "automargin": true,
            "type": "pie"
           }
          ],
          "scatter": [
           {
            "marker": {
             "colorbar": {
              "outlinewidth": 0,
              "ticks": ""
             }
            },
            "type": "scatter"
           }
          ],
          "scatter3d": [
           {
            "line": {
             "colorbar": {
              "outlinewidth": 0,
              "ticks": ""
             }
            },
            "marker": {
             "colorbar": {
              "outlinewidth": 0,
              "ticks": ""
             }
            },
            "type": "scatter3d"
           }
          ],
          "scattercarpet": [
           {
            "marker": {
             "colorbar": {
              "outlinewidth": 0,
              "ticks": ""
             }
            },
            "type": "scattercarpet"
           }
          ],
          "scattergeo": [
           {
            "marker": {
             "colorbar": {
              "outlinewidth": 0,
              "ticks": ""
             }
            },
            "type": "scattergeo"
           }
          ],
          "scattergl": [
           {
            "marker": {
             "colorbar": {
              "outlinewidth": 0,
              "ticks": ""
             }
            },
            "type": "scattergl"
           }
          ],
          "scattermapbox": [
           {
            "marker": {
             "colorbar": {
              "outlinewidth": 0,
              "ticks": ""
             }
            },
            "type": "scattermapbox"
           }
          ],
          "scatterpolar": [
           {
            "marker": {
             "colorbar": {
              "outlinewidth": 0,
              "ticks": ""
             }
            },
            "type": "scatterpolar"
           }
          ],
          "scatterpolargl": [
           {
            "marker": {
             "colorbar": {
              "outlinewidth": 0,
              "ticks": ""
             }
            },
            "type": "scatterpolargl"
           }
          ],
          "scatterternary": [
           {
            "marker": {
             "colorbar": {
              "outlinewidth": 0,
              "ticks": ""
             }
            },
            "type": "scatterternary"
           }
          ],
          "surface": [
           {
            "colorbar": {
             "outlinewidth": 0,
             "ticks": ""
            },
            "colorscale": [
             [
              0,
              "#0d0887"
             ],
             [
              0.1111111111111111,
              "#46039f"
             ],
             [
              0.2222222222222222,
              "#7201a8"
             ],
             [
              0.3333333333333333,
              "#9c179e"
             ],
             [
              0.4444444444444444,
              "#bd3786"
             ],
             [
              0.5555555555555556,
              "#d8576b"
             ],
             [
              0.6666666666666666,
              "#ed7953"
             ],
             [
              0.7777777777777778,
              "#fb9f3a"
             ],
             [
              0.8888888888888888,
              "#fdca26"
             ],
             [
              1,
              "#f0f921"
             ]
            ],
            "type": "surface"
           }
          ],
          "table": [
           {
            "cells": {
             "fill": {
              "color": "#EBF0F8"
             },
             "line": {
              "color": "white"
             }
            },
            "header": {
             "fill": {
              "color": "#C8D4E3"
             },
             "line": {
              "color": "white"
             }
            },
            "type": "table"
           }
          ]
         },
         "layout": {
          "annotationdefaults": {
           "arrowcolor": "#2a3f5f",
           "arrowhead": 0,
           "arrowwidth": 1
          },
          "autotypenumbers": "strict",
          "coloraxis": {
           "colorbar": {
            "outlinewidth": 0,
            "ticks": ""
           }
          },
          "colorscale": {
           "diverging": [
            [
             0,
             "#8e0152"
            ],
            [
             0.1,
             "#c51b7d"
            ],
            [
             0.2,
             "#de77ae"
            ],
            [
             0.3,
             "#f1b6da"
            ],
            [
             0.4,
             "#fde0ef"
            ],
            [
             0.5,
             "#f7f7f7"
            ],
            [
             0.6,
             "#e6f5d0"
            ],
            [
             0.7,
             "#b8e186"
            ],
            [
             0.8,
             "#7fbc41"
            ],
            [
             0.9,
             "#4d9221"
            ],
            [
             1,
             "#276419"
            ]
           ],
           "sequential": [
            [
             0,
             "#0d0887"
            ],
            [
             0.1111111111111111,
             "#46039f"
            ],
            [
             0.2222222222222222,
             "#7201a8"
            ],
            [
             0.3333333333333333,
             "#9c179e"
            ],
            [
             0.4444444444444444,
             "#bd3786"
            ],
            [
             0.5555555555555556,
             "#d8576b"
            ],
            [
             0.6666666666666666,
             "#ed7953"
            ],
            [
             0.7777777777777778,
             "#fb9f3a"
            ],
            [
             0.8888888888888888,
             "#fdca26"
            ],
            [
             1,
             "#f0f921"
            ]
           ],
           "sequentialminus": [
            [
             0,
             "#0d0887"
            ],
            [
             0.1111111111111111,
             "#46039f"
            ],
            [
             0.2222222222222222,
             "#7201a8"
            ],
            [
             0.3333333333333333,
             "#9c179e"
            ],
            [
             0.4444444444444444,
             "#bd3786"
            ],
            [
             0.5555555555555556,
             "#d8576b"
            ],
            [
             0.6666666666666666,
             "#ed7953"
            ],
            [
             0.7777777777777778,
             "#fb9f3a"
            ],
            [
             0.8888888888888888,
             "#fdca26"
            ],
            [
             1,
             "#f0f921"
            ]
           ]
          },
          "colorway": [
           "#636efa",
           "#EF553B",
           "#00cc96",
           "#ab63fa",
           "#FFA15A",
           "#19d3f3",
           "#FF6692",
           "#B6E880",
           "#FF97FF",
           "#FECB52"
          ],
          "font": {
           "color": "#2a3f5f"
          },
          "geo": {
           "bgcolor": "white",
           "lakecolor": "white",
           "landcolor": "#E5ECF6",
           "showlakes": true,
           "showland": true,
           "subunitcolor": "white"
          },
          "hoverlabel": {
           "align": "left"
          },
          "hovermode": "closest",
          "mapbox": {
           "style": "light"
          },
          "paper_bgcolor": "white",
          "plot_bgcolor": "#E5ECF6",
          "polar": {
           "angularaxis": {
            "gridcolor": "white",
            "linecolor": "white",
            "ticks": ""
           },
           "bgcolor": "#E5ECF6",
           "radialaxis": {
            "gridcolor": "white",
            "linecolor": "white",
            "ticks": ""
           }
          },
          "scene": {
           "xaxis": {
            "backgroundcolor": "#E5ECF6",
            "gridcolor": "white",
            "gridwidth": 2,
            "linecolor": "white",
            "showbackground": true,
            "ticks": "",
            "zerolinecolor": "white"
           },
           "yaxis": {
            "backgroundcolor": "#E5ECF6",
            "gridcolor": "white",
            "gridwidth": 2,
            "linecolor": "white",
            "showbackground": true,
            "ticks": "",
            "zerolinecolor": "white"
           },
           "zaxis": {
            "backgroundcolor": "#E5ECF6",
            "gridcolor": "white",
            "gridwidth": 2,
            "linecolor": "white",
            "showbackground": true,
            "ticks": "",
            "zerolinecolor": "white"
           }
          },
          "shapedefaults": {
           "line": {
            "color": "#2a3f5f"
           }
          },
          "ternary": {
           "aaxis": {
            "gridcolor": "white",
            "linecolor": "white",
            "ticks": ""
           },
           "baxis": {
            "gridcolor": "white",
            "linecolor": "white",
            "ticks": ""
           },
           "bgcolor": "#E5ECF6",
           "caxis": {
            "gridcolor": "white",
            "linecolor": "white",
            "ticks": ""
           }
          },
          "title": {
           "x": 0.05
          },
          "xaxis": {
           "automargin": true,
           "gridcolor": "white",
           "linecolor": "white",
           "ticks": "",
           "title": {
            "standoff": 15
           },
           "zerolinecolor": "white",
           "zerolinewidth": 2
          },
          "yaxis": {
           "automargin": true,
           "gridcolor": "white",
           "linecolor": "white",
           "ticks": "",
           "title": {
            "standoff": 15
           },
           "zerolinecolor": "white",
           "zerolinewidth": 2
          }
         }
        },
        "xaxis": {
         "anchor": "y",
         "domain": [
          0,
          1
         ],
         "title": {
          "text": "Total_cyano_cell_count"
         }
        },
        "yaxis": {
         "anchor": "x",
         "domain": [
          0,
          1
         ],
         "title": {
          "text": "MC-LR_conc"
         }
        }
       }
      },
      "text/html": [
       "<div>                            <div id=\"f76f8c1c-ad07-435a-9987-f35854890f16\" class=\"plotly-graph-div\" style=\"height:525px; width:100%;\"></div>            <script type=\"text/javascript\">                require([\"plotly\"], function(Plotly) {                    window.PLOTLYENV=window.PLOTLYENV || {};                                    if (document.getElementById(\"f76f8c1c-ad07-435a-9987-f35854890f16\")) {                    Plotly.newPlot(                        \"f76f8c1c-ad07-435a-9987-f35854890f16\",                        [{\"hovertemplate\":\"Total_cyano_cell_count=%{x}<br>MC-LR_conc=%{y}<extra></extra>\",\"legendgroup\":\"\",\"marker\":{\"color\":\"#636efa\",\"symbol\":\"circle\"},\"mode\":\"markers\",\"name\":\"\",\"showlegend\":false,\"type\":\"scattergl\",\"x\":[0.0,0.0,0.0,0.0,0.0,0.0,0.0,0.0,0.0,0.0,0.0,1749075.0,72596.0,89960.0,0.0,0.0,4242.0,3403.0,0.0,0.0,0.0,810.0,341.0,5061.0,36764.0,0.0,14464.0,619302.0,1091.0,23399.0,376420.0,22915.0,8352.0,0.0,0.0,0.0,0.0,0.0,0.0,0.0,22918.0,7639.0,0.0,2772.0,23422.0,4161.0,0.0,0.0,0.0,0.0,0.0,0.0,0.0,0.0,0.0,28787.0,0.0,0.0,3588.0,4004.0,31415.0,0.0,3326.0,0.0,77428.0,46752.0,175552.0,0.0,0.0,110875.0,1366.0,2152.0,6760544.0,113266.0,43355.0,159511.0,3120.0,28283.0,45326.0,0.0,23992.0,95988.0,0.0,0.0,764.0,31857.0,2266.0,5704.0,0.0,0.0,0.0,0.0,0.0,0.0,156.0,0.0,14770.0,0.0,61574.0,0.0,3820.0,7283.0,2037.0,2903.0,359.0,0.0,0.0,0.0,0.0,0.0,0.0,12319.0,0.0,0.0,0.0,1540.0,0.0,1429055.0,218451.0,790.0,4748.0,3973.0,184618.0,0.0,58824.0,0.0,5092.0,9884.0,47873.0,736.0,0.0,19914.0,8276.0,201426.0,120424.0,93251.0,126559.0,11457.0,141180.0,17374.0,222305.0,40108.0,69774.0,178303.0,158493.0,132366.0,28520.0,81997.0,0.0,224255.0,1047.0,29258.0,32216.0,43672.0,75888.0,29813.0,14667.0,19587.0,193353.0,0.0,183856.0,15075.0,5512.0,3576.0,0.0,129589.0,0.0,0.0,0.0,0.0,0.0,0.0,0.0,48383.0,0.0,372861.0,7106.0,347286.0,1101.0,0.0,0.0,86240.0,0.0,50181.0,116990.0,77802.0,19.0,47772.0,0.0,0.0,0.0,3252.0,8624.0,19303.0,17802.0,801.0,6169.0,1254.0,0.0,0.0,64677.0,0.0,0.0,6086.0,138594.0,43118.0,0.0,58517.0,97133.0,15533.0,7079.0,6439.0,2201.0,2956.0,1730.0,134809.0,11700.0,77515.0,10441.0,16495.0,0.0,0.0,0.0,34556.0,241152.0,181773.0,79522.0,66094.0,13304.0,35358.0,204991.0,0.0,15279.0,41915.0,0.0,122639.0,117844.0,381461.0,36506.0,2801.0,272830.0,0.0,101986.0,0.0,0.0,0.0,0.0,0.0,0.0,1203.0,0.0,0.0,0.0,0.0,0.0,2852.0,10135.0,0.0,0.0,0.0,0.0,0.0,0.0,0.0,0.0,0.0,0.0,0.0,0.0,0.0,0.0,0.0,0.0,0.0,0.0,10780.0,3080.0,59749.0,0.0,0.0,308.0,0.0,40038.0,0.0,4743.0,0.0,0.0,0.0,678.0,0.0,1540.0,0.0,0.0,0.0,0.0,0.0,0.0,0.0,0.0,0.0,3005.0,0.0,0.0,0.0,260.0,22599.0,2180.0,0.0,6111.0,0.0,0.0,0.0,1884.0,480.0,0.0,0.0,0.0,0.0,0.0,0.0,49278.0,0.0,0.0,0.0,0.0,0.0,0.0,12670.0,0.0,338.0,6828.0,0.0,0.0,31.0,0.0,15941.0,0.0,0.0,0.0,507.0,3310.0,4330.0,0.0,6621.0,0.0,7036.0,46.0,5296.0,0.0,6926.0,0.0,0.0,0.0,764.0,0.0,1901.0,375.0,0.0,23224.0,1514.0,7868.0,15839.0,10417.0,166373.0,71063.0,238162.0,235916.0,65484.0,3033.0,2801.0,13936.0,12117.0,1371.0,31834.0,159131.0,67665.0,1131.0,0.0,0.0,0.0,591.0,0.0,0.0,1354214.0,527120.0,23810.0,32341.0,132162.0,0.0,0.0,48638.0,0.0,0.0,27807.0,174200.0,136370.0,51360.0,1848.0,32709.0,1540.0,585789.0,781.0,0.0,46814.0,0.0,0.0,31.0,0.0,0.0,0.0,0.0,0.0,0.0,0.0,2597.0,3769.0,59.0,0.0,2954.0,50471.0,29896.0,0.0,0.0,0.0,0.0,67757.0,0.0,0.0,0.0,75272.0,1047.0,0.0,0.0,0.0,0.0,0.0,587.0,279654.0,0.0,253.0,56317.0,89744.0,25868.0,0.0,381442.0,142990.0,8559.0,0.0,0.0,0.0,0.0,0.0,383036.0,379316.0,0.0,11204.0,25465.0,0.0,34953.0,1833460.0,193743.0,106.0,0.0,105706.0,52840.0,0.0,0.0,0.0,407436.0,0.0,223935.0,0.0,0.0,0.0,123810.0,0.0,190951.0,0.0,542055.0,493.0,354492.0,32339.0,0.0,0.0,15756.0,0.0,984.0,0.0,0.0,99684.0,0.0,0.0,650.0,108.0,0.0,82.0,0.0,5997.0,0.0,0.0,0.0,0.0,0.0,381.0,0.0,0.0,0.0,106.0,0.0,21198.0,28733.0,593.0,27.0,0.0,593008.0,0.0,0.0,0.0,128.0,0.0,1546.0,0.0,0.0,5044.0,0.0,0.0,0.0,0.0,0.0,30799.0,0.0,0.0,0.0,0.0,0.0,25871.0,0.0,253.0,0.0,443.0,0.0,0.0,14992.0,180832.0,0.0,0.0,9256.0,41080.0,158496.0,0.0,8251.0,0.0,0.0,0.0,1401.0,0.0,0.0,4681.0,0.0,0.0,24731.0,2464.0,4065.0,0.0,0.0,0.0,0.0,7884.0,0.0,0.0,4431.0,1222.0,63445.0,0.0,10410.0,0.0,3080.0,1783.0,3950.0,6977.0,37790.0,27502.0,4787.0,1273.0,0.0,0.0,0.0,31576.0,0.0,1950597.0,231792.0,269926.0,66514.0,38128.0,60242.0,12381.0,35142.0,115204.0,141915.0,10166.0,51153.0,23989.0,366185.0,627559.0,1240769.0,821083.0,3338681.0,37484.0,213624.0,36567.0,8352.0,72957.0,185128.0,443595.0,18029.0,8913.0,18589.0,0.0,0.0,0.0,0.0,0.0,0.0,0.0,0.0,0.0,0.0,0.0,0.0,1910.0,317.0,0.0,0.0,0.0,0.0,0.0,0.0,0.0,0.0,0.0,0.0,0.0,0.0,0.0,0.0,0.0,0.0,3080.0,0.0,4979.0,0.0,3812.0,901.0,284.0,0.0,5975.0,2523260.0,326457.0,293800.0,13190.0,457245.0,65444.0,194856.0,31140.0,3922.0,157881.0,886415.0,976694.0,122995.0,308910.0,223451.0,27966.0,273746.0,44258.0,34632.0,312961.0,695697.0,163432.0,79068.0,278713.0,155895.0,198218.0,451643.0,23631.0,1215906.0,1000000.0,1604977.0,28062.0,312606.0,223048.0,55859.0,15960.0,26487.0,84194.0,1873636.0,349918.0,422309.0,16385.0,205223.0,236943.0,53700.0,178897.0,30179.0,787702.0,936894.0,0.0,32468.0,101794.0,79940.0,264464.0,181998.0,22889.0,197979.0,9422.0,51184.0,441160.0,233525.0,71760.0,8000.0,81996.0,167303.0,125923.0,3798.0,38197.0,89891.0,132417.0,78189.0,55004.0,183805.0,291825.0,180545.0,47.0,161217.0,6492.0,164403.0,1540.0,433.0,0.0,5908.0,0.0,27808.0,313115.0,278532.0,466158.0,35067.0,179043.0,108719.0,88515.0,25923.0,370297.0,3820.0,968.0,101663.0,22740.0,83777.0,45874.0,14697.0,30287.0,47854.0,31729.0,58519.0,96206.0,138936.0,105792.0,21177.0,11254.0,0.0,14960.0,204.0,315924.0,28161.0,196093.0,125010.0,108099.0,66895.0,632356.0,336683.0,422469.0,59811.0,207288.0,66946.0,55868.0,27252.0,191642.0,14663.0,129581.0,261734.0,63453.0,14214.0,634.0,0.0,26484.0,0.0,0.0,3734.0,39557.0,24465.0,13721.0,654.0,70703.0,105958.0,368501.0,869726.0,104903.0,14616.0,12987.0,22450.0,399992.0,183814.0,0.0,126764.0,307320.0,7824.0,0.0,0.0,346238.0,2563078.0,0.0,494934.0,1246.0,579630.0,136499.0,362501.0,41578.0,203024.0,15126.0,51031.0,203888.0,0.0,74587.0,0.0,63662.0,72007.0,118082.0,29.0,9016.0,123503.0,107488.0,22738.0,471220.0,43118.0,148078.0,86580.0,455256.0,189817.0,4055.0,52167.0,2598.0,49631.0,0.0,2615.0,342793.0,136393.0,27909.0,18589.0,25677.0,21238.0,49506.0,104405.0,463330.0,144354.0,194933.0,150395.0,0.0,9438.0,759.0,185590.0,37636.0,90548.0,30860.0,47795.0,1160.0,22152.0,11603.0,14353.0,40458.0,139789.0,147009.0,254900.0,158135.0,154928.0,399897.0,68373.0,143521.0,562108.0,472370.0,483831.0,365932.0,44843.0,50012.0,27977.0,93936.0,15981.0,29255.0,1647.0,0.0,54340.0,0.0,22659.0,312639.0,293959.0,81161.0,88488.0,122180.0,28674.0,97581.0,617163.0,842553.0,1077182.0,7849333.0,241022.0,0.0,244422.0,160313.0,67395.0,4999.0,14586.0,7205.0,0.0,157689.0,120115.0,188364.0,37808.0,30467.0,13552.0,23602.0,7485.0,370.0,111430.0,241338.0,35418.0,75764.0,134221.0,238935.0,214370.0,30799.0,58250.0,317472.0,17463.0,83269.0,10780.0,131202.0,32850.0,11103.0,83524.0,161956.0,451797.0,200355.0,285460.0,190019.0,149330.0,110313.0,217341.0,175681.0,18080.0,104565.0,11349.0,375347.0,425835.0,696411.0,1063709.0,210630.0,183406.0,479721.0,2293.0,96328.0,94887.0,9066.0,138543.0,415346.0,1218437.0,105831.0,490252.0,70232.0,185188.0,776319.0,842493.0,666059.0,295796.0,113887.0,101859.0,1469696.0,51591.0,264248.0,35906.0,190985.0,234938.0,215177.0,33360.0,0.0,8352.0,866.0,327324.0,4403362.0,917088.0,17801.0,377165.0,1056449.0,331007.0,131302.0,445924.0,79648.0,0.0,304108.0,0.0,0.0,0.0,0.0,2500.0,355141.0,0.0,36924.0,1300834.0,25160.0,508762.0,449452.0,59842.0,1638210.0,443.0,143519.0,2601913.0,1455131.0,5610115.0,113647.0,199388.0,1687938.0,276995.0,76369.0,183682.0,114975.0,53589.0,130667.0,368620.0,1597372.0,171442.0,475561.0,131078.0,90272.0,351104.0,0.0,684.0,2441.0,88479.0,36157.0,16825.0,184314.0,432671.0,147651.0,245782.0,159283.0,115409.0,78059.0,5126.0,338259.0,166748.0,0.0,426421.0,440769.0,291102.0,69374.0,3162032.0,4329.0,173956.0,55262.0,17932.0,504219.0,64346.0,260966.0,9117.0,84757.0,117722.0,0.0,0.0,84696.0,2856.0,0.0,9116.0,12275.0,34632.0,163483.0,142388.0,158725.0,519462.0,382703.0,139126.0,60086.0,32773.0,30896.0,409495.0,147697.0,103901.0,41609.0,338477.0,995671.0,495290.0,288647.0,19898.0,603993.0,1330685.0,865524.0,234369.0,18832.0,0.0,201848.0,101164.0,138429.0,67769.0,443962.0,152788.0,0.0,309704.0,444039.0,287519.0,622364.0,143504.0,94666.0,101845.0,16926.0,85565.0,7958.0,1708837.0,148800.0,244328.0,0.0,0.0,14092.0,196300.0,9677.0,5093.0,26738.0,14148.0,0.0,82761.0,182453.0,754455.0,149632.0,0.0,111027.0,348117.0,127150.0,0.0,51547.0,246038.0,189084.0,109767.0,120580.0,291936.0,233816.0,0.0,0.0,14724.0,168466.0,95352.0,62457.0,191935.0,0.0,0.0,200191.0,45582.0,19589.0,7028.0,3724.0,158883.0,2743.0,13295.0,137261.0,49492.0,42380.0,1664810.0,50633.0,15823.0,2535014.0,330929.0,479190.0,330781.0,36643.0,234144.0,1058059.0,76394.0,159920.0,15356.0,18259.0,23094.0,4192.0,7364.0,7366.0,3200.0,0.0,6502.0,3845.0,0.0,0.0,222017.0,1044996.0,15385.0,96772.0,49400.0,36507.0,328144.0,65513.0,100307.0,83642.0,4839.0,0.0,294222.0,309388.0,258247.0,281507.0,185704.0,16202.0,209405.0,214706.0,103055.0,265164.0,0.0,601172.0,611358.0,59639.0,80832.0,0.0,52115.0,15356.0,80754.0,801.0,16492.0,6838.0,172472.0,51.0,90856.0,22157.0,36669.0,52189.0,208031.0,2394.0,117392.0,8913.0,68893.0,9720.0,44260.0,56328.0,738477.0,254647.0,0.0,127963.0,153775.0,102581.0,12427.0,79771.0,665087.0,829082.0,230082.0,102252.0,164280.0,685002.0,181902.0,84162.0,88006.0,1942.0,5127.0,194975.0,502.0,0.0,8711.0,13066.0,501.0,18209.0,29381.0,22855.0,607431.0,12155.0,17126.0,14012.0,659.0,0.0,0.0,7350.0,8712.0,248616.0,79169.0,11256.0,53915.0,34244.0,0.0,0.0,3972.0,16000.0,177336.0,68962.0,3215490.0,500755.0,720083.0,374303.0,75949.0,90717.0,5615032.0,0.0,491040.0,0.0,0.0,124957.0,138489.0,122599.0,54199.0,127836.0,255299.0,63761.0,1527884.0,388337.0,979736.0,4072.0,636618.0,418302.0,0.0,113339.0,483969.0,196754.0,52850.0,1049864.0,226856.0,0.0,0.0,12732.0,2801.0,258784.0,433171.0,340358.0,0.0,2114604.0,513295.0,129167.0,219107.0,314288.0,215491.0,162400.0,209117.0,0.0,33262.0,26056.0,53297.0,739.0,0.0,111791.0,25465.0,497836.0,590323.0,1743508.0,253782.0,165398.0,76201.0,52040.0,312789.0,259613.0,2084635.0,751217.0,387918.0,320193.0,0.0,323110.0,52113.0,256643.0,475221.0,137433.0,112212.0,296837.0,648804.0,147586.0,377776.0,782901.0,159728.0,321598.0,973986.0,310512.0,229510.0,1940796.0,174673.0,3250.0,0.0,2895.0,414673.0,261982.0,22256.0,32882.0,54902.0,173161.0,2002.0,0.0,0.0,322996.0,0.0,31985.0,0.0,89321.0,193340.0,988822.0,516615.0,411593.0,1132711.0,328250.0,11976.0,898.0,33508.0,15459.0,777041.0,154064.0,937264.0,141920.0,10116.0,1028920.0,611320.0,320245.0,283145.0,6168.0,151262.0,26591.0,96012.0,29970.0,641441.0,188301.0,0.0,92184.0,139831.0,488663.0,7084.0,41515.0,126274.0,80163.0,83512.0,120372.0,141660.0,18131.0,0.0,18481.0,222196.0,356252.0,25210.0,9065.0,227188.0,100613.0,96350.0,136118.0,200.0,53844.0,0.0,790785.0,0.0,84880.0,690626.0,308.0,0.0,66727.0,5173.0,338661.0,9430.0,38.0,224543.0,0.0,13522.0,2617882.0,0.0,5678.0,89871.0,96708.0,122474.0,40744.0,6366.0,0.0,43263.0,75294.0,13348.0,1755.0,1910.0,306392.0,0.0,533944.0,2220319.0,35269.0,0.0,9422.0,179298.0,9856.0,199313.0,5421788.0,73178.0,0.0,15203.0,311667.0,562.0,8810.0,337857.0,0.0,41281.0,75292.0,36418.0,108152.0,460331.0,77671.0,60579.0,73826.0,2463889.0,406009.0,0.0,729927.0,459740.0,415711.0,816964.0,2001680.0,0.0,764.0,0.0,0.0,0.0,4065.0,717.0,19489.0,0.0,0.0,0.0,0.0,6213.0,0.0,12525.0,109824.0,2851.0,0.0,263574.0,0.0,0.0,396247.0,275059.0,134040.0,0.0,0.0,27808.0,892061.0,509295.0,0.0,677569.0,69543.0,27482.0,160091.0,15890.0,243035.0,97333.0,155844.0,95860.0,222399.0,94117.0,59892.0,87961.0,157217.0,307328.0,30799.0,165498.0,66848.0,22483.0,158122.0,317406.0,362992.0,65086.0,407436.0,720652.0,468798.0,336135.0,244461.0,174433.0,1346280.0,0.0,0.0,786983.0,148714.0,169926.0,12987.0,135426.0,302225.0,291062.0,109499.0,115457.0,39725.0,177743.0,305577.0,7843.0,16297.0,157881.0,28699.0,430354.0,236822.0,287751.0,760326.0,20881.0,56022.0,361599.0,351031.0,88322.0,556451.0,187566.0,672340.0,142805.0,113804.0,70028.0,8193.0,78991.0,43902.0,402776.0,98124.0,13361.0,178508.0,0.0,3010800.0,479.0,6353.0,20302.0,0.0,1168.0,169942.0,4658.0,42287.0,1028271.0,15400.0,175490.0,2309896.0,6507.0,1086724.0,13517.0,960020.0,116034.0,2064597.0,10298.0,577567.0,399150.0,313099.0,25549.0,2070600.0,68065.0,1126.0,901.0,1651.0,2806.0,7016.0,670.0,7500.0,2960.0,32553.0,888987.0,7595.0,20696.0,28123.0,7421.0,173945.0,0.0,99509.0,18480.0,127051.0,23059.0,289451.0,182415.0,13080.0,21308.0,19831.0,3504893.0,123708.0,782.0,0.0,0.0,226504.0,86623.0,0.0,14189.0,1110405.0,23054.0,986.0,568095.0,236810.0,325234.0,0.0,246992.0,317256.0,198206.0,348995.0,51693.0,333982.0,713.0,10882.0,0.0,137610.0,256150.0,153533.0,279620.0,449321.0,311067.0,103525.0,148820.0,86422.0,270759.0,67181.0,863204.0,331295.0,351771.0,977948.0,813280.0,96265.0,230028.0,156364.0,439822.0,71710.0,0.0,123359.0,854086.0,881195.0,159843.0,194791.0,134454.0,76292.0,231327.0,1103862.0,160152.0,4620.0,1492255.0,0.0,929502.0,294270.0,167656.0,121505.0,3234.0,1435.0,771012.0,29004.0,111004.0,260597.0,2953.0,41923.0,15375.0,2471.0,0.0,0.0,866.0,12355.0,6610.0,0.0,77109.0,181061.0,1166985.0,8149.0,45831.0,97059.0,116639.0,164268.0,127791.0,39804.0,25612.0,146361.0,11773.0,126751.0,105865.0,311994.0,125186.0,185893.0,4513.0,35266.0,62418.0,4026.0,7017.0,41466.0,0.0,102573.0,52571.0,250612.0,8760.0,224008.0,43188.0,131653.0,56886.0,255676.0,155164.0,517417.0,7084.0,30070.0,196245.0,0.0,15688.0,34610.0,141987.0,9949.0,100350.0,61239.0,33951.0,761833.0,41498.0,23736.0,17754.0,1687.0,528113.0,95328.0,163645.0,231667.0,114.0,128677.0,26257.0,33218.0,21196.0,23317.0,0.0,0.0,0.0,0.0,288006.0,157372.0,0.0,33257.0,0.0,38197.0,49656.0,63662.0,26789.0,21135.0,40488.0,206875.0,69195.0,27665.0,19282.0,61776.0,92279.0,39151.0,49183.0,19723.0,39230.0,2031865.0,0.0,114787.0,63804.0,30194.0,63192.0,41818.0,151872.0,162975.0,133487.0,1308379.0,700280.0,184620.0,636618.0,280112.0,432900.0,3896.0,38197.0,1935.0,7824.0,36477.0,456932.0,13394.0,59916.0,553222.0,673.0,0.0,0.0,0.0,0.0,17316.0,28978.0,38197.0,17316.0,88108.0,10251.0,81487.0,570410.0,308124.0,4779.0,42321.0,1697.0,112045.0,47315.0,1617.0,9325.0,7805.0,7699.0,2580.0,4182.0,1721.0,174669.0,0.0,490080.0,0.0,1550970.0,2741076.0,0.0,27.0,122231.0,0.0,95063.0,176835.0,181860.0,1425928.0,45928.0,0.0,0.0,11603.0,62056.0,164029.0,11814.0,179325.0,6906.0,1185307.0,446905.0,146820.0,360227.0,95165.0,36389.0,1901.0,8946.0,261022.0,144872.0,584644.0,146890.0,171473.0,1630.0,159224.0,63662.0,5170.0,93.0,12567.0,8343.0,451249.0,86972.0,66675.0,7209.0,201485.0,187546.0,30707.0,48.0,26995.0,13859.0,19095.0,117712.0,144753.0,100404.0,14784.0,3291.0,5043.0,0.0,10780.0,1793582.0,1107195.0,135574.0,45016.0,34967.0,1384.0,2577.0,80959.0,422205.0,0.0,0.0,36057.0,90202.0,147989.0,800.0,24551.0,0.0,0.0,1916.0,25826.0,66467.0,22815.0,184842.0,360581.0,153384.0,299376.0,73941.0,123658.0,45470.0,113498.0,99665.0,412834.0,206264.0,38961.0,555619.0,80235.0,145537.0,158674.0,13026.0,1847916.0,19609.0,37679.0,43672.0,398362.0,89460.0,51126.0,59996.0,381.0,12707.0,32032.0,44600.0,2040.0,233.0,21288.0,0.0,45837.0,297938.0,8632.0,208297.0,99313.0,618793.0,0.0,616.0,0.0,91349.0,62028.0,135334.0,186772.0,12381.0,274172.0,13750.0,0.0,26372.0,364161.0,24066.0,38269.0,1844.0,0.0,9683.0,10851.0,96315.0,0.0,41118.0,37975.0,665.0,907.0,3144.0,633.0,7066.0,55209.0,58139.0,5928.0,58144.0,1148.0,4011.0,2921.0,43291.0,79094.0,47110.0,408709.0,6514.0,11765.0,42017.0,0.0],\"xaxis\":\"x\",\"y\":[0.0,0.0,0.0,0.0,0.0,0.0,0.0,0.0,0.0,0.15,0.1,0.52,0.2,3.2,0.41,0.27,0.11,0.0,0.0,0.0,0.0,0.0,0.0,0.0,0.67,0.7,0.11,1.67,0.19,0.0,0.69,0.0,0.05,0.06,0.07,0.06,0.0,0.05,0.05,0.05,0.0,0.06,0.05,0.0,0.0,0.0,0.0,0.0,0.0,0.0,0.0,0.0,0.0,0.0,0.0,0.0,0.0,0.18,0.11,0.0,0.0,0.0,0.0,0.0,0.0,0.0,0.0,0.0,0.11,0.11,0.0,0.52,27.73,0.0,4.99,0.23,0.12,1.34,0.53,8.06,0.0,0.0,0.0,0.11,0.08,0.0,0.0,0.35,0.0,0.0,0.12,0.0,0.0,0.0,0.0,0.0,0.12,0.12,0.21,0.11,0.34,0.31,0.21,0.09,0.0,0.0,0.104,0.0,0.0,0.0,0.0,0.0,0.0,0.0,0.0,0.0,0.0,0.0,0.0,0.0,0.0,0.0,0.06,0.0,0.07,0.0,0.0,0.0,0.1,0.21,0.1,0.0,0.0,0.0,0.72,0.088,0.1,0.1,0.28,0.1,0.13,0.09,0.32,0.0,0.06,0.44,0.2,0.11,0.0,0.48,0.0,0.0,0.16,0.24,0.16,0.17,0.33,0.11,0.07,0.4,0.94,0.15,0.13,0.0,0.42,0.1,0.1,0.1,0.0,0.0,0.11,0.11,0.12,0.36,0.4,0.0,0.9,0.12,0.11,0.1,0.1,0.18,0.1,0.19,0.49,0.74,0.12,0.67,0.15,0.29,0.16,0.15,1.51,1.0,0.23,0.08,0.08,0.057,0.0,0.0,0.2,0.12,0.19,0.15,0.12,0.13,0.11,0.12,0.94,0.11,0.47,0.29,0.21,0.23,4.3,0.4,0.63,0.48,0.41,0.23,0.49,0.1,0.196,0.0,0.1,0.18,0.17,0.39,3.31,0.11,8.29,0.18,6.47,8.36,0.398,1.51,5.25,15.84,1.35,0.24,9.8,0.1,0.0,0.0,0.1,0.0,0.0,0.0,0.0,0.1,0.0,0.07,0.0,0.0,0.052,0.054,0.07,0.07,0.06,0.07,0.0,0.07,0.07,0.09,0.09,0.08,0.0,0.0,0.0,0.08,0.1,0.0,0.0,0.0,0.0,0.0,0.0,0.14,0.0,0.0,0.0,0.0,0.0,0.1,0.0,0.0,0.0,0.0,0.0,0.0,0.0,0.0,0.0,0.0,0.0,0.0,0.14,0.1,0.0,0.1,0.14,0.0,0.0,0.1,0.0,0.0,0.0,0.0,0.0,0.0,0.0,0.14,0.15,0.19,0.1,0.0,0.0,0.0,0.1,0.0,0.0,0.0,0.0,0.0,0.11,0.0,0.0,0.0,0.12,0.0,0.0,0.0,0.0,0.0,0.0,0.22,0.0,0.0,0.12,0.14,0.23,0.0,0.0,0.0,0.11,0.13,0.07,0.12,0.07,0.09,0.0,0.0,0.0,0.0,0.0,0.0,0.0,0.0,0.7,0.1,0.14,0.15,0.25,3.11,3.88,2.09,1.76,0.19,0.73,0.09,0.72,1.11,0.29,0.11,0.1,0.0,0.1,0.0,0.0,0.1,0.0,0.062,0.1,120.06,7.1,7.61,3.41,17.69,0.37,0.31,0.18,0.09,0.07,0.069,1.23,3.95,1.82,0.16,0.0,0.0,0.0,7.94,0.0,0.0,0.0,0.0,0.0,0.0,0.0,0.0,0.0,0.1,0.0,0.0,0.1,0.09,0.08,0.09,0.08,0.58,0.0,0.0,0.056,0.11,0.0,0.0,0.0,0.11,0.0,0.0,0.0,0.13,0.17,0.3,0.0,0.2,0.12,0.28,0.19,0.11,0.24,0.1,0.12,0.05,0.11,0.0,0.15,0.12,0.0,0.12,0.15,0.2,0.11,0.1,0.08,0.0,0.1,0.0,0.0,0.13,0.19,0.19,0.0,0.0,0.11,0.07,0.1,0.08,0.0,0.08,0.11,0.11,0.0,0.0,0.0,0.0,0.1,0.0,0.12,0.16,0.15,0.18,0.12,0.0,0.0,0.12,0.0,0.0,0.0,0.0,0.0,0.0,0.1,0.0,0.0,0.11,0.0,0.0,0.0,0.0,0.0,0.0,0.0,0.0,0.0,0.0,0.0,0.0,0.0,0.29,0.19,0.18,0.0,0.11,0.11,0.11,0.11,0.0,0.0,0.0,0.1,0.0,0.0,0.1,0.0,0.0,0.12,0.11,0.11,0.1,0.0,0.0,0.0,0.0,0.1,0.0,0.0,0.1,0.12,0.11,0.0,0.0,0.0,0.0,0.0,0.0,0.0,0.0,0.0,0.0,0.0,0.0,0.0,0.0,0.0,0.0,0.0,0.17,0.11,0.0,0.0,0.0,0.14,0.0,0.0,0.06,0.06,0.11,0.13,0.51,0.07,0.0,3.6,1.47,0.18,0.06,0.2,0.05,0.1,0.05,0.07,0.0,0.06,0.06,0.08,0.41,0.37,0.08,0.11,7.85,0.24,3.12,12.47,0.2,0.16,0.22,3.87,0.26,3.8,0.29,0.26,0.14,78.66,53.63,98.95,9.95,56.04,0.38,29.2,1.07,0.25,0.33,0.43,2.77,0.225,0.347,0.267,0.09,0.06,0.06,0.06,0.07,0.0,0.07,0.0,0.09,0.07,0.11,0.06,0.09,0.24,0.0,0.0,0.24,0.21,0.1,0.1,0.0,0.0,0.0,0.0,0.15,0.1,0.0,0.0,0.0,0.0,0.11,0.0,0.0,0.0,0.0,0.0,0.0,0.0,0.0,0.71,3.29,3.66,0.31,4.01,5.03,9.81,0.42,0.23,0.4,1.22,4.56,4.87,4.2,3.9,0.96,1.91,0.085,0.13,0.25,3.83,0.37,0.39,0.32,0.65,1.24,0.45,0.16,35.59,44805.0,0.17,0.11,0.14,0.48,3.3,0.18,2.83,3.18,6.58,6.26,2.47,0.45,1.38,2.72,0.23,0.1,0.96,3.99,0.22,0.28,0.79,4.72,1.54,3.89,1.38,3.13,4.75,0.34,0.6,9.5,3.66,0.13,0.0,5.57,1.06,0.68,0.15,0.077,0.29,0.39,0.14,0.23,0.22,0.17,0.18,0.054,0.6,0.33,0.1,0.12,0.058,0.079,0.104,0.09,0.11,0.18,0.18,0.74,0.34,1.35,0.24,0.25,0.21,2.63,0.34,0.16,1.34,1.64,1.05,2.75,2.52,4.37,2.55,2.24,1.97,1.84,2.23,3.45,1.21,0.39,0.16,0.16,0.16,0.33,0.8,0.82,0.1,1.67,0.93,5.13,2.5,3.89,2.34,6.76,1.23,0.29,0.25,0.51,1.59,0.11,0.12,0.12,0.14,0.11,0.13,0.0,0.0,0.11,0.11,0.12,0.0,0.0,0.12,0.1,0.0,0.1,0.0,0.0,0.0,0.1,0.11,0.1,0.0,0.11,0.13,0.14,0.1,0.12,0.12,0.0,0.0,0.0,0.0,0.1,0.12,0.1,0.1,0.0,0.11,0.09,0.09,0.13,0.09,0.07,0.06,0.08,0.11,0.12,0.13,0.11,0.0,0.0,0.0,0.1,0.11,0.1,0.11,0.0,0.0,0.1,0.0,0.1,0.1,0.07,0.07,0.09,0.1,0.0,0.1,0.06,0.08,0.11,0.06,0.11,0.2,0.41,0.21,0.2,0.21,0.21,0.24,0.22,0.19,0.16,0.24,0.18,0.19,0.16,0.13,0.18,0.19,0.26,0.112,0.169,0.14,0.19,0.24,0.17,0.16,0.2,0.21,0.17,0.18,0.22,0.17,0.2,0.11,0.21,0.23,0.21,0.21,0.24,0.24,0.25,0.17,0.25,0.28,0.14,0.13,0.24,0.23,0.21,0.21,0.2,0.2,0.21,0.17,0.18,0.17,0.15,0.16,0.25,0.13,0.24,0.19,0.24,0.17,0.19,0.17,0.14,0.21,0.24,0.21,0.17,0.16,0.14,0.23,0.2,0.2,0.35,0.22,0.22,0.2,0.15,0.21,0.21,0.103,0.14,0.141,0.19,0.19,0.16,0.19,0.16,0.15,0.14,0.14,0.15,0.12,0.14,0.14,0.2,0.17,0.14,0.13,0.15,0.18,0.17,0.17,0.18,0.22,0.15,2.37,0.43,4.03,0.1,0.0,0.0,0.0,0.12,0.65,0.37,0.09,3.85,0.0,4.84,0.08,0.06,0.06,0.2,0.06,0.09,0.05,0.1,0.14,0.075,8.17,14.92,5.64,0.0,0.06,0.15,7.06,7.95,0.0,0.0,0.0,0.0,0.0,0.0,0.0,0.0,0.1,0.0,0.076,0.15,13.26,0.11,0.07,0.0,0.0,0.0,0.0,0.12,0.0,0.46,0.43,0.2,2.39,8.49,0.05,0.06,0.0,0.0,0.13,0.46,0.0,0.0,0.0,0.0,0.14,0.06,0.0,0.0,0.0,0.15,0.68,0.0,0.72,2.6,0.06,0.1,0.1,0.0,0.63,0.0,0.0,0.0,0.11,0.13,0.33,0.17,0.1,0.0,0.13,0.126,0.13,0.11,0.1,0.1,0.0,0.1,0.12,0.12,0.1,0.0,0.12,0.0,0.13,0.1,0.16,0.15,0.08,0.07,0.63,0.11,0.0,0.0,0.0,0.87,0.74,0.24,0.11,1.92,0.11,0.06,0.07,0.23,0.06,0.08,0.28,1.33,0.16,0.0,0.59,0.0,0.19,0.38,0.65,0.43,0.38,0.49,0.1,0.12,14.86,17.84,29.64,59.84,0.15,0.0,0.1,0.11,0.13,0.14,6.37,0.14,1.19,0.1,0.28,0.11,10.04,0.12,0.1,0.08,0.0,0.0,0.17,0.0,0.14,0.06,0.11,5.1,0.08,0.14,0.0,0.1,0.19,0.1,0.12,0.0,0.11,0.06,0.1,0.0,0.13,0.23,0.25,0.31,1.64,0.0,0.12,0.0,0.13,0.0,0.096,0.0,0.43,0.35,0.51,0.13,0.12,0.0,0.12,0.1,0.1,0.0,60.47,0.18,17.59,0.0,0.11,0.2,0.0,8.33,0.1,0.14,0.0,0.1,0.12,0.0,0.0,0.12,0.0,0.0,0.13,0.0,0.28,0.63,0.12,0.42,0.0,0.0,0.11,0.13,0.11,0.14,0.11,0.0,107.21,13.5,1.01,2.83,0.81,0.14,0.0,0.64,0.1,5.62,0.0,0.07,0.12,0.26,0.11,0.0,0.15,0.0,0.0,0.0,0.0,0.1,0.0,0.17,0.1,0.0,0.08,0.37,3.92,0.08,0.21,0.11,0.2,0.05,0.07,0.0,0.12,0.0,0.12,0.13,0.83,22.38,0.05,0.29,51.51,438.5,2.75,0.15,0.23,4.42,2.19,0.9,0.32,0.0,0.3,0.11,0.0,0.0,0.0,0.12,0.0,0.65,0.4,0.11,0.06,0.0,0.12,0.12,0.0,0.0,0.0,0.0,0.1,0.19,0.13,0.15,0.27,1.05,0.108,0.114,0.134,0.32,0.22,0.17,0.77,1.2,0.14,0.0,0.0,0.0,0.0,0.1,0.67,0.0,0.1,0.0,0.11,0.54,1.14,0.12,0.66,0.0,0.0,0.0,0.12,0.11,0.0,3.3,0.11,0.12,0.21,15.86,0.0,0.12,0.1,0.39,0.1,0.248,0.076,0.92,7.25,0.12,0.16,0.77,0.0,0.13,0.2,1.99,0.0,0.11,1.24,0.11,0.29,0.14,0.1,0.18,0.11,1.21,0.1,0.0,0.0,0.13,0.1,0.1,7.76,0.31,6.7,8.25,0.11,3.22,0.45,2.84,0.19,0.28,0.29,0.94,0.3,0.85,0.57,0.85,0.46,0.7,1.35,0.58,0.72,1.3,2.67,3.27,3.6,0.93,2.74,0.29,0.0,0.2,1.43,0.29,0.12,0.09,0.47,0.06,0.05,0.052,0.062,0.56,0.06,0.22,0.0,13.55,2.68,1.28,1.25,0.76,0.64,4.01,0.15,0.17,0.74,20.31,1.55,5.04,0.68,0.7,0.18,0.86,1.04,1.24,1.71,0.13,3.94,10.19,0.56,0.73,2.04,1.93,0.1,0.13,2.96,9.03,0.32,0.23,2.23,0.58,1.92,0.51,0.28,0.08,0.07,0.38,2.85,0.29,0.05,0.052,0.38,0.21,0.13,0.44,0.32,0.69,0.11,0.21,0.42,0.18,2.88,0.0,1.54,0.11,0.12,1.55,0.0,0.11,0.1,0.096,1.23,0.12,0.0,0.12,0.14,0.22,0.11,0.99,1.34,0.14,0.23,0.49,0.28,1.2,0.12,0.1,0.139,0.14,0.17,0.24,0.0,0.105,0.1,0.1,0.0,0.12,0.11,0.13,0.11,0.12,0.17,0.0,0.1,0.13,0.11,0.13,0.14,0.14,0.13,0.13,0.12,0.26,0.1,0.09,0.09,0.0,0.09,0.11,0.12,0.12,0.0,0.1,0.0,0.0,0.0,0.0,0.0,0.0,0.0,0.0,0.06,0.06,0.05,0.058,0.0,0.0,0.0,0.0,0.1,0.11,0.1,0.12,0.11,0.12,0.16,0.161,0.12,0.15,0.0,0.0,0.11,0.18,0.3,4.13,0.452,0.73,5.99,5.35,4.94,22.85,4.47,3.83,1.5,9.67,9.56,2.21,4.59,5.15,5.0,2.93,6.02,11.57,6.09,4.62,23.73,5.19,11.85,7.69,13.27,16193.2,0.11,0.088,0.77,7.2,4.11,0.81,0.87,9.59,0.7,3.0,0.92,0.127,0.46,25.81,0.19,5.0,15.13,0.143,6.91,11.01,12.1,42.1,0.094,0.183,28.58,13.14,9.37,9.45,6.0,14.76,10.9,14.97,1.22,0.46,0.6,0.4,14.79,5.47,0.51,4.57,0.17,2909.9,0.67,1.11,2.86,0.71,0.23,1.43,1.63,2.52,12.47,0.37,4.2,0.37,0.13,0.19,7.56,22.87,0.62,4745.0,17.6,0.11,0.28,0.62,0.34,1219.1,0.44,3.96,5.18,4.59,0.25,5.31,2.83,3.21,1.0,6.87,0.4,1.74,2.21,0.51,0.18,2.06,0.137,0.25,0.26,23.3,3.44,21.82,0.23,3.24,4.56,3.75,15.16,258.05,0.27,0.0,0.14,3.18,25.08,0.17,2.24,98.24,0.23,0.19,1.92,5.1,12.59,0.1,150.47,38.52,0.0,11.21,2.18,3.76,0.25,18.21,5.07,6.5,1.02,0.36,0.17,0.0,0.81,27.29,0.76,1.37,1.18,0.79,1.56,1.8,1.27,2.07,0.98,1.36,1.0,0.44,0.47,0.21,0.28,0.8,0.9,3.08,0.88,1.23,1.09,0.81,0.56,5.26,0.81,8.33,26.54,0.07,8.34,3.67,0.0,0.0,0.07,2.33,19.35,0.33,0.37,14.53,2.72,0.16,0.0,0.1,0.11,0.0,0.13,0.2,0.22,0.12,0.14,0.24,0.19,0.0,0.13,1.61,1.75,5.93,1.67,2.09,3.16,0.11,0.88,2.72,2.82,343.4,0.38,2.65,1.04,0.74,3.93,1.17,0.0,3.1,0.095,0.22,2.03,1.89,0.29,1.55,0.14,0.67,1.4,12.61,0.68,0.24,0.11,5.01,11.92,0.067,4.89,14.68,2.55,1.63,2.36,2.65,0.0,4.84,2.22,2.6,2.52,0.37,139.16,5.67,201.23,54.94,0.35,4.17,2.71,0.22,0.0,0.1,0.0,0.0,0.0,0.0,0.05,0.06,0.07,0.06,0.05,0.09,0.07,0.08,0.1,0.24,0.23,0.33,0.0,0.14,0.0,0.0,0.0,0.19,0.17,0.13,4.99,91.02,1.89,8.41,1.93,2.18,5.69,0.14,0.3,4.57,2.82,2.78,3.98,0.31,1.42,0.4,0.27,0.1,0.116,0.068,0.06,1.85,0.21,0.0,0.37,0.73,0.16,0.06,0.083,0.07,0.06,0.11,0.17,0.16,0.22,1.4,0.15,0.24,1.61,0.36,0.1,0.45,0.21,0.14,0.0,0.0,0.0,0.0,0.0,0.0,0.0,0.0,0.0,0.07,3.93,0.07,0.55,0.0,0.0,0.0,0.0,0.0,0.0,0.11,0.11,0.1,0.16,0.0,0.0,0.0,0.1,0.1,0.0,0.0,0.0,0.0,0.0,0.0,0.0,0.1,0.0,0.0,0.0,0.0,0.0,0.0,0.1,0.0,0.0,0.0,0.0,0.0,0.0,0.0,0.0,0.0,0.0,0.0,0.0,0.0,0.0,0.0,0.0,0.11,0.0,0.0,0.0,0.0,0.18,0.4,0.0,0.0,0.0,0.0,0.52,0.23,0.48,0.0,0.0,0.0,0.33,0.0,0.1,0.1,0.1,0.0,0.12,0.0,0.0,0.11,0.053,0.07,0.0,0.0,1.14,0.0,0.0,0.59,0.49,0.0,0.52,0.99,0.41,0.36,0.2,0.19,0.28,0.4,0.39,0.32,0.19,0.0,0.0,3.35,0.29,1.42,0.2,0.15,0.31,0.12,0.0,3.37,1.43,2.01,5.85,0.94,0.37,0.09,0.077,0.66,1.1,0.17,0.2,0.12,0.2,0.0,0.0,0.0,0.0,0.0,0.13,2.45,0.0,2.34,0.75,0.0,1.1,0.55,0.13,0.21,0.11,0.0,0.15,0.0,0.39,0.0,0.0,0.0,0.0,0.0,0.2,0.38,8.46,4.42,0.35,0.14,3.2,1.4,2.75,15.96,14.49,0.08,0.16,1.62,1.04,0.063,2.88,0.24],\"yaxis\":\"y\"}],                        {\"annotations\":[{\"font\":{\"color\":\"black\",\"size\":20},\"showarrow\":false,\"text\":\"Pearson's r: 0.07\\nPVal: 0.0\",\"textangle\":0,\"x\":0.2,\"xanchor\":\"left\",\"xref\":\"paper\",\"y\":0.95,\"yref\":\"paper\"}],\"legend\":{\"tracegroupgap\":0},\"margin\":{\"t\":60},\"template\":{\"data\":{\"bar\":[{\"error_x\":{\"color\":\"#2a3f5f\"},\"error_y\":{\"color\":\"#2a3f5f\"},\"marker\":{\"line\":{\"color\":\"#E5ECF6\",\"width\":0.5},\"pattern\":{\"fillmode\":\"overlay\",\"size\":10,\"solidity\":0.2}},\"type\":\"bar\"}],\"barpolar\":[{\"marker\":{\"line\":{\"color\":\"#E5ECF6\",\"width\":0.5},\"pattern\":{\"fillmode\":\"overlay\",\"size\":10,\"solidity\":0.2}},\"type\":\"barpolar\"}],\"carpet\":[{\"aaxis\":{\"endlinecolor\":\"#2a3f5f\",\"gridcolor\":\"white\",\"linecolor\":\"white\",\"minorgridcolor\":\"white\",\"startlinecolor\":\"#2a3f5f\"},\"baxis\":{\"endlinecolor\":\"#2a3f5f\",\"gridcolor\":\"white\",\"linecolor\":\"white\",\"minorgridcolor\":\"white\",\"startlinecolor\":\"#2a3f5f\"},\"type\":\"carpet\"}],\"choropleth\":[{\"colorbar\":{\"outlinewidth\":0,\"ticks\":\"\"},\"type\":\"choropleth\"}],\"contour\":[{\"colorbar\":{\"outlinewidth\":0,\"ticks\":\"\"},\"colorscale\":[[0.0,\"#0d0887\"],[0.1111111111111111,\"#46039f\"],[0.2222222222222222,\"#7201a8\"],[0.3333333333333333,\"#9c179e\"],[0.4444444444444444,\"#bd3786\"],[0.5555555555555556,\"#d8576b\"],[0.6666666666666666,\"#ed7953\"],[0.7777777777777778,\"#fb9f3a\"],[0.8888888888888888,\"#fdca26\"],[1.0,\"#f0f921\"]],\"type\":\"contour\"}],\"contourcarpet\":[{\"colorbar\":{\"outlinewidth\":0,\"ticks\":\"\"},\"type\":\"contourcarpet\"}],\"heatmap\":[{\"colorbar\":{\"outlinewidth\":0,\"ticks\":\"\"},\"colorscale\":[[0.0,\"#0d0887\"],[0.1111111111111111,\"#46039f\"],[0.2222222222222222,\"#7201a8\"],[0.3333333333333333,\"#9c179e\"],[0.4444444444444444,\"#bd3786\"],[0.5555555555555556,\"#d8576b\"],[0.6666666666666666,\"#ed7953\"],[0.7777777777777778,\"#fb9f3a\"],[0.8888888888888888,\"#fdca26\"],[1.0,\"#f0f921\"]],\"type\":\"heatmap\"}],\"heatmapgl\":[{\"colorbar\":{\"outlinewidth\":0,\"ticks\":\"\"},\"colorscale\":[[0.0,\"#0d0887\"],[0.1111111111111111,\"#46039f\"],[0.2222222222222222,\"#7201a8\"],[0.3333333333333333,\"#9c179e\"],[0.4444444444444444,\"#bd3786\"],[0.5555555555555556,\"#d8576b\"],[0.6666666666666666,\"#ed7953\"],[0.7777777777777778,\"#fb9f3a\"],[0.8888888888888888,\"#fdca26\"],[1.0,\"#f0f921\"]],\"type\":\"heatmapgl\"}],\"histogram\":[{\"marker\":{\"pattern\":{\"fillmode\":\"overlay\",\"size\":10,\"solidity\":0.2}},\"type\":\"histogram\"}],\"histogram2d\":[{\"colorbar\":{\"outlinewidth\":0,\"ticks\":\"\"},\"colorscale\":[[0.0,\"#0d0887\"],[0.1111111111111111,\"#46039f\"],[0.2222222222222222,\"#7201a8\"],[0.3333333333333333,\"#9c179e\"],[0.4444444444444444,\"#bd3786\"],[0.5555555555555556,\"#d8576b\"],[0.6666666666666666,\"#ed7953\"],[0.7777777777777778,\"#fb9f3a\"],[0.8888888888888888,\"#fdca26\"],[1.0,\"#f0f921\"]],\"type\":\"histogram2d\"}],\"histogram2dcontour\":[{\"colorbar\":{\"outlinewidth\":0,\"ticks\":\"\"},\"colorscale\":[[0.0,\"#0d0887\"],[0.1111111111111111,\"#46039f\"],[0.2222222222222222,\"#7201a8\"],[0.3333333333333333,\"#9c179e\"],[0.4444444444444444,\"#bd3786\"],[0.5555555555555556,\"#d8576b\"],[0.6666666666666666,\"#ed7953\"],[0.7777777777777778,\"#fb9f3a\"],[0.8888888888888888,\"#fdca26\"],[1.0,\"#f0f921\"]],\"type\":\"histogram2dcontour\"}],\"mesh3d\":[{\"colorbar\":{\"outlinewidth\":0,\"ticks\":\"\"},\"type\":\"mesh3d\"}],\"parcoords\":[{\"line\":{\"colorbar\":{\"outlinewidth\":0,\"ticks\":\"\"}},\"type\":\"parcoords\"}],\"pie\":[{\"automargin\":true,\"type\":\"pie\"}],\"scatter\":[{\"marker\":{\"colorbar\":{\"outlinewidth\":0,\"ticks\":\"\"}},\"type\":\"scatter\"}],\"scatter3d\":[{\"line\":{\"colorbar\":{\"outlinewidth\":0,\"ticks\":\"\"}},\"marker\":{\"colorbar\":{\"outlinewidth\":0,\"ticks\":\"\"}},\"type\":\"scatter3d\"}],\"scattercarpet\":[{\"marker\":{\"colorbar\":{\"outlinewidth\":0,\"ticks\":\"\"}},\"type\":\"scattercarpet\"}],\"scattergeo\":[{\"marker\":{\"colorbar\":{\"outlinewidth\":0,\"ticks\":\"\"}},\"type\":\"scattergeo\"}],\"scattergl\":[{\"marker\":{\"colorbar\":{\"outlinewidth\":0,\"ticks\":\"\"}},\"type\":\"scattergl\"}],\"scattermapbox\":[{\"marker\":{\"colorbar\":{\"outlinewidth\":0,\"ticks\":\"\"}},\"type\":\"scattermapbox\"}],\"scatterpolar\":[{\"marker\":{\"colorbar\":{\"outlinewidth\":0,\"ticks\":\"\"}},\"type\":\"scatterpolar\"}],\"scatterpolargl\":[{\"marker\":{\"colorbar\":{\"outlinewidth\":0,\"ticks\":\"\"}},\"type\":\"scatterpolargl\"}],\"scatterternary\":[{\"marker\":{\"colorbar\":{\"outlinewidth\":0,\"ticks\":\"\"}},\"type\":\"scatterternary\"}],\"surface\":[{\"colorbar\":{\"outlinewidth\":0,\"ticks\":\"\"},\"colorscale\":[[0.0,\"#0d0887\"],[0.1111111111111111,\"#46039f\"],[0.2222222222222222,\"#7201a8\"],[0.3333333333333333,\"#9c179e\"],[0.4444444444444444,\"#bd3786\"],[0.5555555555555556,\"#d8576b\"],[0.6666666666666666,\"#ed7953\"],[0.7777777777777778,\"#fb9f3a\"],[0.8888888888888888,\"#fdca26\"],[1.0,\"#f0f921\"]],\"type\":\"surface\"}],\"table\":[{\"cells\":{\"fill\":{\"color\":\"#EBF0F8\"},\"line\":{\"color\":\"white\"}},\"header\":{\"fill\":{\"color\":\"#C8D4E3\"},\"line\":{\"color\":\"white\"}},\"type\":\"table\"}]},\"layout\":{\"annotationdefaults\":{\"arrowcolor\":\"#2a3f5f\",\"arrowhead\":0,\"arrowwidth\":1},\"autotypenumbers\":\"strict\",\"coloraxis\":{\"colorbar\":{\"outlinewidth\":0,\"ticks\":\"\"}},\"colorscale\":{\"diverging\":[[0,\"#8e0152\"],[0.1,\"#c51b7d\"],[0.2,\"#de77ae\"],[0.3,\"#f1b6da\"],[0.4,\"#fde0ef\"],[0.5,\"#f7f7f7\"],[0.6,\"#e6f5d0\"],[0.7,\"#b8e186\"],[0.8,\"#7fbc41\"],[0.9,\"#4d9221\"],[1,\"#276419\"]],\"sequential\":[[0.0,\"#0d0887\"],[0.1111111111111111,\"#46039f\"],[0.2222222222222222,\"#7201a8\"],[0.3333333333333333,\"#9c179e\"],[0.4444444444444444,\"#bd3786\"],[0.5555555555555556,\"#d8576b\"],[0.6666666666666666,\"#ed7953\"],[0.7777777777777778,\"#fb9f3a\"],[0.8888888888888888,\"#fdca26\"],[1.0,\"#f0f921\"]],\"sequentialminus\":[[0.0,\"#0d0887\"],[0.1111111111111111,\"#46039f\"],[0.2222222222222222,\"#7201a8\"],[0.3333333333333333,\"#9c179e\"],[0.4444444444444444,\"#bd3786\"],[0.5555555555555556,\"#d8576b\"],[0.6666666666666666,\"#ed7953\"],[0.7777777777777778,\"#fb9f3a\"],[0.8888888888888888,\"#fdca26\"],[1.0,\"#f0f921\"]]},\"colorway\":[\"#636efa\",\"#EF553B\",\"#00cc96\",\"#ab63fa\",\"#FFA15A\",\"#19d3f3\",\"#FF6692\",\"#B6E880\",\"#FF97FF\",\"#FECB52\"],\"font\":{\"color\":\"#2a3f5f\"},\"geo\":{\"bgcolor\":\"white\",\"lakecolor\":\"white\",\"landcolor\":\"#E5ECF6\",\"showlakes\":true,\"showland\":true,\"subunitcolor\":\"white\"},\"hoverlabel\":{\"align\":\"left\"},\"hovermode\":\"closest\",\"mapbox\":{\"style\":\"light\"},\"paper_bgcolor\":\"white\",\"plot_bgcolor\":\"#E5ECF6\",\"polar\":{\"angularaxis\":{\"gridcolor\":\"white\",\"linecolor\":\"white\",\"ticks\":\"\"},\"bgcolor\":\"#E5ECF6\",\"radialaxis\":{\"gridcolor\":\"white\",\"linecolor\":\"white\",\"ticks\":\"\"}},\"scene\":{\"xaxis\":{\"backgroundcolor\":\"#E5ECF6\",\"gridcolor\":\"white\",\"gridwidth\":2,\"linecolor\":\"white\",\"showbackground\":true,\"ticks\":\"\",\"zerolinecolor\":\"white\"},\"yaxis\":{\"backgroundcolor\":\"#E5ECF6\",\"gridcolor\":\"white\",\"gridwidth\":2,\"linecolor\":\"white\",\"showbackground\":true,\"ticks\":\"\",\"zerolinecolor\":\"white\"},\"zaxis\":{\"backgroundcolor\":\"#E5ECF6\",\"gridcolor\":\"white\",\"gridwidth\":2,\"linecolor\":\"white\",\"showbackground\":true,\"ticks\":\"\",\"zerolinecolor\":\"white\"}},\"shapedefaults\":{\"line\":{\"color\":\"#2a3f5f\"}},\"ternary\":{\"aaxis\":{\"gridcolor\":\"white\",\"linecolor\":\"white\",\"ticks\":\"\"},\"baxis\":{\"gridcolor\":\"white\",\"linecolor\":\"white\",\"ticks\":\"\"},\"bgcolor\":\"#E5ECF6\",\"caxis\":{\"gridcolor\":\"white\",\"linecolor\":\"white\",\"ticks\":\"\"}},\"title\":{\"x\":0.05},\"xaxis\":{\"automargin\":true,\"gridcolor\":\"white\",\"linecolor\":\"white\",\"ticks\":\"\",\"title\":{\"standoff\":15},\"zerolinecolor\":\"white\",\"zerolinewidth\":2},\"yaxis\":{\"automargin\":true,\"gridcolor\":\"white\",\"linecolor\":\"white\",\"ticks\":\"\",\"title\":{\"standoff\":15},\"zerolinecolor\":\"white\",\"zerolinewidth\":2}}},\"xaxis\":{\"anchor\":\"y\",\"domain\":[0.0,1.0],\"title\":{\"text\":\"Total_cyano_cell_count\"}},\"yaxis\":{\"anchor\":\"x\",\"domain\":[0.0,1.0],\"title\":{\"text\":\"MC-LR_conc\"}}},                        {\"responsive\": true}                    ).then(function(){\n",
       "                            \n",
       "var gd = document.getElementById('f76f8c1c-ad07-435a-9987-f35854890f16');\n",
       "var x = new MutationObserver(function (mutations, observer) {{\n",
       "        var display = window.getComputedStyle(gd).display;\n",
       "        if (!display || display === 'none') {{\n",
       "            console.log([gd, 'removed!']);\n",
       "            Plotly.purge(gd);\n",
       "            observer.disconnect();\n",
       "        }}\n",
       "}});\n",
       "\n",
       "// Listen for the removal of the full notebook cells\n",
       "var notebookContainer = gd.closest('#notebook-container');\n",
       "if (notebookContainer) {{\n",
       "    x.observe(notebookContainer, {childList: true});\n",
       "}}\n",
       "\n",
       "// Listen for the clearing of the current output cell\n",
       "var outputEl = gd.closest('.output');\n",
       "if (outputEl) {{\n",
       "    x.observe(outputEl, {childList: true});\n",
       "}}\n",
       "\n",
       "                        })                };                });            </script>        </div>"
      ]
     },
     "metadata": {},
     "output_type": "display_data"
    },
    {
     "data": {
      "application/vnd.plotly.v1+json": {
       "config": {
        "plotlyServerURL": "https://plot.ly"
       },
       "data": [
        {
         "hovertemplate": "Total_cyano_cell_count=%{x}<br>MC-LR_conc=%{y}<extra></extra>",
         "legendgroup": "",
         "marker": {
          "color": "#636efa",
          "symbol": "circle"
         },
         "mode": "markers",
         "name": "",
         "showlegend": false,
         "type": "scattergl",
         "x": [
          0,
          0,
          0,
          0,
          0,
          0,
          0,
          0,
          0,
          0,
          0,
          1749075,
          72596,
          89960,
          0,
          0,
          4242,
          3403,
          0,
          0,
          0,
          810,
          341,
          5061,
          36764,
          0,
          14464,
          619302,
          1091,
          23399,
          376420,
          22915,
          8352,
          0,
          0,
          0,
          0,
          0,
          0,
          0,
          22918,
          7639,
          0,
          2772,
          23422,
          4161,
          0,
          0,
          0,
          0,
          0,
          0,
          0,
          0,
          0,
          28787,
          0,
          0,
          3588,
          4004,
          31415,
          0,
          3326,
          0,
          77428,
          46752,
          175552,
          0,
          0,
          110875,
          1366,
          2152,
          6760544,
          113266,
          43355,
          159511,
          3120,
          28283,
          45326,
          0,
          23992,
          95988,
          0,
          0,
          764,
          31857,
          2266,
          5704,
          0,
          0,
          0,
          0,
          0,
          0,
          156,
          0,
          14770,
          0,
          61574,
          0,
          3820,
          7283,
          2037,
          2903,
          359,
          0,
          0,
          0,
          0,
          0,
          0,
          12319,
          0,
          0,
          0,
          1540,
          0,
          1429055,
          218451,
          790,
          4748,
          3973,
          184618,
          0,
          58824,
          0,
          5092,
          9884,
          47873,
          736,
          0,
          19914,
          8276,
          201426,
          120424,
          93251,
          126559,
          11457,
          141180,
          17374,
          222305,
          40108,
          69774,
          178303,
          158493,
          132366,
          28520,
          81997,
          0,
          224255,
          1047,
          29258,
          32216,
          43672,
          75888,
          29813,
          14667,
          19587,
          193353,
          0,
          183856,
          15075,
          5512,
          3576,
          0,
          129589,
          0,
          0,
          0,
          0,
          0,
          0,
          0,
          48383,
          0,
          372861,
          7106,
          347286,
          1101,
          0,
          0,
          86240,
          0,
          50181,
          116990,
          77802,
          19,
          47772,
          0,
          0,
          0,
          3252,
          8624,
          19303,
          17802,
          801,
          6169,
          1254,
          0,
          0,
          64677,
          0,
          0,
          6086,
          138594,
          43118,
          0,
          58517,
          97133,
          15533,
          7079,
          6439,
          2201,
          2956,
          1730,
          134809,
          11700,
          77515,
          10441,
          16495,
          0,
          0,
          0,
          34556,
          241152,
          181773,
          79522,
          66094,
          13304,
          35358,
          204991,
          0,
          15279,
          41915,
          0,
          122639,
          117844,
          381461,
          36506,
          2801,
          272830,
          0,
          101986,
          0,
          0,
          0,
          0,
          0,
          0,
          1203,
          0,
          0,
          0,
          0,
          0,
          2852,
          10135,
          0,
          0,
          0,
          0,
          0,
          0,
          0,
          0,
          0,
          0,
          0,
          0,
          0,
          0,
          0,
          0,
          0,
          0,
          10780,
          3080,
          59749,
          0,
          0,
          308,
          0,
          40038,
          0,
          4743,
          0,
          0,
          0,
          678,
          0,
          1540,
          0,
          0,
          0,
          0,
          0,
          0,
          0,
          0,
          0,
          3005,
          0,
          0,
          0,
          260,
          22599,
          2180,
          0,
          6111,
          0,
          0,
          0,
          1884,
          480,
          0,
          0,
          0,
          0,
          0,
          0,
          49278,
          0,
          0,
          0,
          0,
          0,
          0,
          12670,
          0,
          338,
          6828,
          0,
          0,
          31,
          0,
          15941,
          0,
          0,
          0,
          507,
          3310,
          4330,
          0,
          6621,
          0,
          7036,
          46,
          5296,
          0,
          6926,
          0,
          0,
          0,
          764,
          0,
          1901,
          375,
          0,
          23224,
          1514,
          7868,
          15839,
          10417,
          166373,
          71063,
          238162,
          235916,
          65484,
          3033,
          2801,
          13936,
          12117,
          1371,
          31834,
          159131,
          67665,
          1131,
          0,
          0,
          0,
          591,
          0,
          0,
          1354214,
          527120,
          23810,
          32341,
          132162,
          0,
          0,
          48638,
          0,
          0,
          27807,
          174200,
          136370,
          51360,
          1848,
          32709,
          1540,
          585789,
          781,
          0,
          46814,
          0,
          0,
          31,
          0,
          0,
          0,
          0,
          0,
          0,
          0,
          2597,
          3769,
          59,
          0,
          2954,
          50471,
          29896,
          0,
          0,
          0,
          0,
          67757,
          0,
          0,
          0,
          75272,
          1047,
          0,
          0,
          0,
          0,
          0,
          587,
          279654,
          0,
          253,
          56317,
          89744,
          25868,
          0,
          381442,
          142990,
          8559,
          0,
          0,
          0,
          0,
          0,
          383036,
          379316,
          0,
          11204,
          25465,
          0,
          34953,
          1833460,
          193743,
          106,
          0,
          105706,
          52840,
          0,
          0,
          0,
          407436,
          0,
          223935,
          0,
          0,
          0,
          123810,
          0,
          190951,
          0,
          542055,
          493,
          354492,
          32339,
          0,
          0,
          15756,
          0,
          984,
          0,
          0,
          99684,
          0,
          0,
          650,
          108,
          0,
          82,
          0,
          5997,
          0,
          0,
          0,
          0,
          0,
          381,
          0,
          0,
          0,
          106,
          0,
          21198,
          28733,
          593,
          27,
          0,
          593008,
          0,
          0,
          0,
          128,
          0,
          1546,
          0,
          0,
          5044,
          0,
          0,
          0,
          0,
          0,
          30799,
          0,
          0,
          0,
          0,
          0,
          25871,
          0,
          253,
          0,
          443,
          0,
          0,
          14992,
          180832,
          0,
          0,
          9256,
          41080,
          158496,
          0,
          8251,
          0,
          0,
          0,
          1401,
          0,
          0,
          4681,
          0,
          0,
          24731,
          2464,
          4065,
          0,
          0,
          0,
          0,
          7884,
          0,
          0,
          4431,
          1222,
          63445,
          0,
          10410,
          0,
          3080,
          1783,
          3950,
          6977,
          37790,
          27502,
          4787,
          1273,
          0,
          0,
          0,
          31576,
          0,
          1950597,
          231792,
          269926,
          66514,
          38128,
          60242,
          12381,
          35142,
          115204,
          141915,
          10166,
          51153,
          23989,
          366185,
          627559,
          1240769,
          821083,
          3338681,
          37484,
          213624,
          36567,
          8352,
          72957,
          185128,
          443595,
          18029,
          8913,
          18589,
          0,
          0,
          0,
          0,
          0,
          0,
          0,
          0,
          0,
          0,
          0,
          0,
          1910,
          317,
          0,
          0,
          0,
          0,
          0,
          0,
          0,
          0,
          0,
          0,
          0,
          0,
          0,
          0,
          0,
          0,
          3080,
          0,
          4979,
          0,
          3812,
          901,
          284,
          0,
          5975,
          2523260,
          326457,
          293800,
          13190,
          457245,
          65444,
          194856,
          31140,
          3922,
          157881,
          886415,
          976694,
          122995,
          308910,
          223451,
          27966,
          273746,
          44258,
          34632,
          312961,
          695697,
          163432,
          79068,
          278713,
          155895,
          198218,
          451643,
          23631,
          1604977,
          28062,
          312606,
          223048,
          55859,
          15960,
          26487,
          84194,
          1873636,
          349918,
          422309,
          16385,
          205223,
          236943,
          53700,
          178897,
          30179,
          787702,
          936894,
          0,
          32468,
          101794,
          79940,
          264464,
          181998,
          22889,
          197979,
          9422,
          51184,
          441160,
          233525,
          71760,
          8000,
          81996,
          167303,
          125923,
          3798,
          38197,
          89891,
          132417,
          78189,
          55004,
          183805,
          291825,
          180545,
          47,
          161217,
          6492,
          164403,
          1540,
          433,
          0,
          5908,
          0,
          27808,
          313115,
          278532,
          466158,
          35067,
          179043,
          108719,
          88515,
          25923,
          370297,
          3820,
          968,
          101663,
          22740,
          83777,
          45874,
          14697,
          30287,
          47854,
          31729,
          58519,
          96206,
          138936,
          105792,
          21177,
          11254,
          0,
          14960,
          204,
          315924,
          28161,
          196093,
          125010,
          108099,
          66895,
          632356,
          336683,
          422469,
          59811,
          207288,
          66946,
          55868,
          27252,
          191642,
          14663,
          129581,
          261734,
          63453,
          14214,
          634,
          0,
          26484,
          0,
          0,
          3734,
          39557,
          24465,
          13721,
          654,
          70703,
          105958,
          368501,
          869726,
          104903,
          14616,
          12987,
          22450,
          399992,
          183814,
          0,
          126764,
          307320,
          7824,
          0,
          0,
          346238,
          2563078,
          0,
          494934,
          1246,
          579630,
          136499,
          362501,
          41578,
          203024,
          15126,
          51031,
          203888,
          0,
          74587,
          0,
          63662,
          72007,
          118082,
          29,
          9016,
          123503,
          107488,
          22738,
          471220,
          43118,
          148078,
          86580,
          455256,
          189817,
          4055,
          52167,
          2598,
          49631,
          0,
          2615,
          342793,
          136393,
          27909,
          18589,
          25677,
          21238,
          49506,
          104405,
          463330,
          144354,
          194933,
          150395,
          0,
          9438,
          759,
          185590,
          37636,
          90548,
          30860,
          47795,
          1160,
          22152,
          11603,
          14353,
          40458,
          139789,
          147009,
          254900,
          158135,
          154928,
          399897,
          68373,
          143521,
          562108,
          472370,
          483831,
          365932,
          44843,
          50012,
          27977,
          93936,
          15981,
          29255,
          1647,
          0,
          54340,
          0,
          22659,
          312639,
          293959,
          81161,
          88488,
          122180,
          28674,
          97581,
          617163,
          842553,
          1077182,
          7849333,
          241022,
          0,
          244422,
          160313,
          67395,
          4999,
          14586,
          7205,
          0,
          157689,
          120115,
          188364,
          37808,
          30467,
          13552,
          23602,
          7485,
          370,
          111430,
          241338,
          35418,
          75764,
          134221,
          238935,
          214370,
          30799,
          58250,
          317472,
          17463,
          83269,
          10780,
          131202,
          32850,
          11103,
          83524,
          161956,
          451797,
          200355,
          285460,
          190019,
          149330,
          110313,
          217341,
          175681,
          18080,
          104565,
          11349,
          375347,
          425835,
          696411,
          1063709,
          210630,
          183406,
          479721,
          2293,
          96328,
          94887,
          9066,
          138543,
          415346,
          1218437,
          105831,
          490252,
          70232,
          185188,
          776319,
          842493,
          666059,
          295796,
          113887,
          101859,
          1469696,
          51591,
          264248,
          35906,
          190985,
          234938,
          215177,
          33360,
          0,
          8352,
          866,
          327324,
          4403362,
          917088,
          17801,
          377165,
          1056449,
          331007,
          131302,
          445924,
          79648,
          0,
          304108,
          0,
          0,
          0,
          0,
          2500,
          355141,
          0,
          36924,
          1300834,
          25160,
          508762,
          449452,
          59842,
          1638210,
          443,
          143519,
          2601913,
          1455131,
          5610115,
          113647,
          199388,
          1687938,
          276995,
          76369,
          183682,
          114975,
          53589,
          130667,
          368620,
          1597372,
          171442,
          475561,
          131078,
          90272,
          351104,
          0,
          684,
          2441,
          88479,
          36157,
          16825,
          184314,
          432671,
          147651,
          245782,
          159283,
          115409,
          78059,
          5126,
          338259,
          166748,
          0,
          426421,
          440769,
          291102,
          69374,
          3162032,
          4329,
          173956,
          55262,
          17932,
          504219,
          64346,
          260966,
          9117,
          84757,
          117722,
          0,
          0,
          84696,
          2856,
          0,
          9116,
          12275,
          34632,
          163483,
          142388,
          158725,
          519462,
          382703,
          139126,
          60086,
          32773,
          30896,
          409495,
          147697,
          103901,
          41609,
          338477,
          995671,
          495290,
          288647,
          19898,
          603993,
          1330685,
          865524,
          234369,
          18832,
          0,
          201848,
          101164,
          138429,
          67769,
          443962,
          152788,
          0,
          309704,
          444039,
          287519,
          622364,
          143504,
          94666,
          101845,
          16926,
          85565,
          7958,
          1708837,
          148800,
          244328,
          0,
          0,
          14092,
          196300,
          9677,
          5093,
          26738,
          14148,
          0,
          82761,
          182453,
          754455,
          149632,
          0,
          111027,
          348117,
          127150,
          0,
          51547,
          246038,
          189084,
          109767,
          120580,
          291936,
          233816,
          0,
          0,
          14724,
          168466,
          95352,
          62457,
          191935,
          0,
          0,
          200191,
          45582,
          19589,
          7028,
          3724,
          158883,
          2743,
          13295,
          137261,
          49492,
          42380,
          1664810,
          50633,
          15823,
          2535014,
          330929,
          479190,
          330781,
          36643,
          234144,
          1058059,
          76394,
          159920,
          15356,
          18259,
          23094,
          4192,
          7364,
          7366,
          3200,
          0,
          6502,
          3845,
          0,
          0,
          222017,
          1044996,
          15385,
          96772,
          49400,
          36507,
          328144,
          65513,
          100307,
          83642,
          4839,
          0,
          294222,
          309388,
          258247,
          281507,
          185704,
          16202,
          209405,
          214706,
          103055,
          265164,
          0,
          601172,
          611358,
          59639,
          80832,
          0,
          52115,
          15356,
          80754,
          801,
          16492,
          6838,
          172472,
          51,
          90856,
          22157,
          36669,
          52189,
          208031,
          2394,
          117392,
          8913,
          68893,
          9720,
          44260,
          56328,
          738477,
          254647,
          0,
          127963,
          153775,
          102581,
          12427,
          79771,
          665087,
          829082,
          230082,
          102252,
          164280,
          685002,
          181902,
          84162,
          88006,
          1942,
          5127,
          194975,
          502,
          0,
          8711,
          13066,
          501,
          18209,
          29381,
          22855,
          607431,
          12155,
          17126,
          14012,
          659,
          0,
          0,
          7350,
          8712,
          248616,
          79169,
          11256,
          53915,
          34244,
          0,
          0,
          3972,
          16000,
          177336,
          68962,
          3215490,
          500755,
          720083,
          374303,
          75949,
          90717,
          5615032,
          0,
          491040,
          0,
          0,
          124957,
          138489,
          122599,
          54199,
          127836,
          255299,
          63761,
          1527884,
          388337,
          979736,
          4072,
          636618,
          418302,
          0,
          113339,
          483969,
          196754,
          52850,
          1049864,
          226856,
          0,
          0,
          12732,
          2801,
          258784,
          433171,
          340358,
          0,
          2114604,
          513295,
          129167,
          219107,
          314288,
          215491,
          162400,
          209117,
          0,
          33262,
          26056,
          53297,
          739,
          0,
          111791,
          25465,
          497836,
          590323,
          1743508,
          253782,
          165398,
          76201,
          52040,
          312789,
          259613,
          2084635,
          751217,
          387918,
          320193,
          0,
          323110,
          52113,
          256643,
          475221,
          137433,
          112212,
          296837,
          648804,
          147586,
          377776,
          782901,
          159728,
          321598,
          973986,
          310512,
          229510,
          1940796,
          174673,
          3250,
          0,
          2895,
          414673,
          261982,
          22256,
          32882,
          54902,
          173161,
          2002,
          0,
          0,
          322996,
          0,
          31985,
          0,
          89321,
          193340,
          988822,
          516615,
          411593,
          1132711,
          328250,
          11976,
          898,
          33508,
          15459,
          777041,
          154064,
          937264,
          141920,
          10116,
          1028920,
          611320,
          320245,
          283145,
          6168,
          151262,
          26591,
          96012,
          29970,
          641441,
          188301,
          0,
          92184,
          139831,
          488663,
          7084,
          41515,
          126274,
          80163,
          83512,
          120372,
          141660,
          18131,
          0,
          18481,
          222196,
          356252,
          25210,
          9065,
          227188,
          100613,
          96350,
          136118,
          200,
          53844,
          0,
          790785,
          0,
          84880,
          690626,
          308,
          0,
          66727,
          5173,
          338661,
          9430,
          38,
          224543,
          0,
          13522,
          2617882,
          0,
          5678,
          89871,
          96708,
          122474,
          40744,
          6366,
          0,
          43263,
          75294,
          13348,
          1755,
          1910,
          306392,
          0,
          533944,
          2220319,
          35269,
          0,
          9422,
          179298,
          9856,
          199313,
          5421788,
          73178,
          0,
          15203,
          311667,
          562,
          8810,
          337857,
          0,
          41281,
          75292,
          36418,
          108152,
          460331,
          77671,
          60579,
          73826,
          2463889,
          406009,
          0,
          729927,
          459740,
          415711,
          816964,
          2001680,
          0,
          764,
          0,
          0,
          0,
          4065,
          717,
          19489,
          0,
          0,
          0,
          0,
          6213,
          0,
          12525,
          109824,
          2851,
          0,
          263574,
          0,
          0,
          396247,
          275059,
          134040,
          0,
          0,
          27808,
          892061,
          509295,
          0,
          677569,
          69543,
          27482,
          42287,
          1028271,
          15400,
          175490,
          2309896,
          6507,
          1086724,
          13517,
          960020,
          116034,
          2064597,
          10298,
          577567,
          399150,
          313099,
          25549,
          2070600,
          68065,
          1126,
          901,
          1651,
          2806,
          7016,
          670,
          7500,
          2960,
          32553,
          888987,
          7595,
          20696,
          28123,
          7421,
          173945,
          0,
          99509,
          18480,
          127051,
          23059,
          289451,
          182415,
          13080,
          21308,
          19831,
          3504893,
          123708,
          782,
          0,
          0,
          226504,
          86623,
          0,
          14189,
          1110405,
          23054,
          986,
          568095,
          236810,
          325234,
          0,
          246992,
          317256,
          198206,
          348995,
          51693,
          333982,
          713,
          10882,
          0,
          137610,
          256150,
          153533,
          279620,
          449321,
          311067,
          103525,
          148820,
          86422,
          270759,
          67181,
          863204,
          331295,
          351771,
          977948,
          813280,
          96265,
          230028,
          156364,
          439822,
          71710,
          0,
          123359,
          854086,
          881195,
          159843,
          194791,
          134454,
          76292,
          231327,
          1103862,
          160152,
          4620,
          1492255,
          0,
          929502,
          294270,
          167656,
          121505,
          3234,
          1435,
          771012,
          29004,
          111004,
          260597,
          2953,
          41923,
          15375,
          2471,
          0,
          0,
          866,
          12355,
          6610,
          0,
          77109,
          181061,
          1166985,
          8149,
          45831,
          97059,
          116639,
          164268,
          127791,
          39804,
          25612,
          146361,
          11773,
          126751,
          105865,
          311994,
          125186,
          185893,
          4513,
          35266,
          62418,
          4026,
          7017,
          41466,
          0,
          102573,
          52571,
          250612,
          8760,
          224008,
          43188,
          131653,
          56886,
          255676,
          155164,
          517417,
          7084,
          30070,
          196245,
          0,
          15688,
          34610,
          141987,
          9949,
          100350,
          61239,
          33951,
          761833,
          41498,
          23736,
          17754,
          1687,
          528113,
          95328,
          163645,
          231667,
          114,
          128677,
          26257,
          33218,
          21196,
          23317,
          0,
          0,
          0,
          0,
          288006,
          157372,
          0,
          33257,
          0,
          38197,
          49656,
          63662,
          26789,
          21135,
          40488,
          206875,
          69195,
          27665,
          19282,
          61776,
          92279,
          39151,
          49183,
          19723,
          39230,
          2031865,
          0,
          114787,
          63804,
          30194,
          63192,
          41818,
          151872,
          162975,
          133487,
          1308379,
          700280,
          184620,
          636618,
          280112,
          432900,
          3896,
          38197,
          1935,
          7824,
          36477,
          456932,
          13394,
          59916,
          553222,
          673,
          0,
          0,
          0,
          0,
          17316,
          28978,
          38197,
          17316,
          88108,
          10251,
          81487,
          570410,
          308124,
          4779,
          42321,
          1697,
          112045,
          47315,
          1617,
          9325,
          7805,
          7699,
          2580,
          4182,
          1721,
          174669,
          0,
          490080,
          0,
          1550970,
          2741076,
          0,
          27,
          122231,
          0,
          95063,
          176835,
          181860,
          1425928,
          45928,
          0,
          0,
          11603,
          62056,
          164029,
          11814,
          179325,
          6906,
          1185307,
          446905,
          146820,
          360227,
          95165,
          36389,
          1901,
          8946,
          261022,
          144872,
          584644,
          146890,
          171473,
          1630,
          159224,
          63662,
          5170,
          93,
          12567,
          8343,
          451249,
          86972,
          66675,
          7209,
          201485,
          187546,
          30707,
          48,
          26995,
          13859,
          19095,
          117712,
          144753,
          100404,
          14784,
          3291,
          5043,
          0,
          10780,
          1793582,
          1107195,
          135574,
          45016,
          34967,
          1384,
          2577,
          80959,
          422205,
          0,
          0,
          36057,
          90202,
          147989,
          800,
          24551,
          0,
          0,
          1916,
          25826,
          66467,
          22815,
          184842,
          360581,
          153384,
          299376,
          73941,
          123658,
          45470,
          113498,
          99665,
          412834,
          206264,
          38961,
          555619,
          80235,
          145537,
          158674,
          13026,
          1847916,
          19609,
          37679,
          43672,
          398362,
          89460,
          51126,
          59996,
          381,
          12707,
          32032,
          44600,
          2040,
          233,
          21288,
          0,
          45837,
          297938,
          8632,
          208297,
          99313,
          618793,
          0,
          616,
          0,
          91349,
          62028,
          135334,
          186772,
          12381,
          274172,
          13750,
          0,
          26372,
          364161,
          24066,
          38269,
          1844,
          0,
          9683,
          10851,
          96315,
          0,
          41118,
          37975,
          665,
          907,
          3144,
          633,
          7066,
          55209,
          58139,
          5928,
          58144,
          1148,
          4011,
          2921,
          43291,
          79094,
          47110,
          408709,
          6514,
          11765,
          42017,
          0
         ],
         "xaxis": "x",
         "y": [
          0,
          0,
          0,
          0,
          0,
          0,
          0,
          0,
          0,
          0.15,
          0.1,
          0.52,
          0.2,
          3.2,
          0.41,
          0.27,
          0.11,
          0,
          0,
          0,
          0,
          0,
          0,
          0,
          0.67,
          0.7,
          0.11,
          1.67,
          0.19,
          0,
          0.69,
          0,
          0.05,
          0.06,
          0.07,
          0.06,
          0,
          0.05,
          0.05,
          0.05,
          0,
          0.06,
          0.05,
          0,
          0,
          0,
          0,
          0,
          0,
          0,
          0,
          0,
          0,
          0,
          0,
          0,
          0,
          0.18,
          0.11,
          0,
          0,
          0,
          0,
          0,
          0,
          0,
          0,
          0,
          0.11,
          0.11,
          0,
          0.52,
          27.73,
          0,
          4.99,
          0.23,
          0.12,
          1.34,
          0.53,
          8.06,
          0,
          0,
          0,
          0.11,
          0.08,
          0,
          0,
          0.35,
          0,
          0,
          0.12,
          0,
          0,
          0,
          0,
          0,
          0.12,
          0.12,
          0.21,
          0.11,
          0.34,
          0.31,
          0.21,
          0.09,
          0,
          0,
          0.104,
          0,
          0,
          0,
          0,
          0,
          0,
          0,
          0,
          0,
          0,
          0,
          0,
          0,
          0,
          0,
          0.06,
          0,
          0.07,
          0,
          0,
          0,
          0.1,
          0.21,
          0.1,
          0,
          0,
          0,
          0.72,
          0.088,
          0.1,
          0.1,
          0.28,
          0.1,
          0.13,
          0.09,
          0.32,
          0,
          0.06,
          0.44,
          0.2,
          0.11,
          0,
          0.48,
          0,
          0,
          0.16,
          0.24,
          0.16,
          0.17,
          0.33,
          0.11,
          0.07,
          0.4,
          0.94,
          0.15,
          0.13,
          0,
          0.42,
          0.1,
          0.1,
          0.1,
          0,
          0,
          0.11,
          0.11,
          0.12,
          0.36,
          0.4,
          0,
          0.9,
          0.12,
          0.11,
          0.1,
          0.1,
          0.18,
          0.1,
          0.19,
          0.49,
          0.74,
          0.12,
          0.67,
          0.15,
          0.29,
          0.16,
          0.15,
          1.51,
          1,
          0.23,
          0.08,
          0.08,
          0.057,
          0,
          0,
          0.2,
          0.12,
          0.19,
          0.15,
          0.12,
          0.13,
          0.11,
          0.12,
          0.94,
          0.11,
          0.47,
          0.29,
          0.21,
          0.23,
          4.3,
          0.4,
          0.63,
          0.48,
          0.41,
          0.23,
          0.49,
          0.1,
          0.196,
          0,
          0.1,
          0.18,
          0.17,
          0.39,
          3.31,
          0.11,
          8.29,
          0.18,
          6.47,
          8.36,
          0.398,
          1.51,
          5.25,
          15.84,
          1.35,
          0.24,
          9.8,
          0.1,
          0,
          0,
          0.1,
          0,
          0,
          0,
          0,
          0.1,
          0,
          0.07,
          0,
          0,
          0.052,
          0.054,
          0.07,
          0.07,
          0.06,
          0.07,
          0,
          0.07,
          0.07,
          0.09,
          0.09,
          0.08,
          0,
          0,
          0,
          0.08,
          0.1,
          0,
          0,
          0,
          0,
          0,
          0,
          0.14,
          0,
          0,
          0,
          0,
          0,
          0.1,
          0,
          0,
          0,
          0,
          0,
          0,
          0,
          0,
          0,
          0,
          0,
          0,
          0.14,
          0.1,
          0,
          0.1,
          0.14,
          0,
          0,
          0.1,
          0,
          0,
          0,
          0,
          0,
          0,
          0,
          0.14,
          0.15,
          0.19,
          0.1,
          0,
          0,
          0,
          0.1,
          0,
          0,
          0,
          0,
          0,
          0.11,
          0,
          0,
          0,
          0.12,
          0,
          0,
          0,
          0,
          0,
          0,
          0.22,
          0,
          0,
          0.12,
          0.14,
          0.23,
          0,
          0,
          0,
          0.11,
          0.13,
          0.07,
          0.12,
          0.07,
          0.09,
          0,
          0,
          0,
          0,
          0,
          0,
          0,
          0,
          0.7,
          0.1,
          0.14,
          0.15,
          0.25,
          3.11,
          3.88,
          2.09,
          1.76,
          0.19,
          0.73,
          0.09,
          0.72,
          1.11,
          0.29,
          0.11,
          0.1,
          0,
          0.1,
          0,
          0,
          0.1,
          0,
          0.062,
          0.1,
          120.06,
          7.1,
          7.61,
          3.41,
          17.69,
          0.37,
          0.31,
          0.18,
          0.09,
          0.07,
          0.069,
          1.23,
          3.95,
          1.82,
          0.16,
          0,
          0,
          0,
          7.94,
          0,
          0,
          0,
          0,
          0,
          0,
          0,
          0,
          0,
          0.1,
          0,
          0,
          0.1,
          0.09,
          0.08,
          0.09,
          0.08,
          0.58,
          0,
          0,
          0.056,
          0.11,
          0,
          0,
          0,
          0.11,
          0,
          0,
          0,
          0.13,
          0.17,
          0.3,
          0,
          0.2,
          0.12,
          0.28,
          0.19,
          0.11,
          0.24,
          0.1,
          0.12,
          0.05,
          0.11,
          0,
          0.15,
          0.12,
          0,
          0.12,
          0.15,
          0.2,
          0.11,
          0.1,
          0.08,
          0,
          0.1,
          0,
          0,
          0.13,
          0.19,
          0.19,
          0,
          0,
          0.11,
          0.07,
          0.1,
          0.08,
          0,
          0.08,
          0.11,
          0.11,
          0,
          0,
          0,
          0,
          0.1,
          0,
          0.12,
          0.16,
          0.15,
          0.18,
          0.12,
          0,
          0,
          0.12,
          0,
          0,
          0,
          0,
          0,
          0,
          0.1,
          0,
          0,
          0.11,
          0,
          0,
          0,
          0,
          0,
          0,
          0,
          0,
          0,
          0,
          0,
          0,
          0,
          0.29,
          0.19,
          0.18,
          0,
          0.11,
          0.11,
          0.11,
          0.11,
          0,
          0,
          0,
          0.1,
          0,
          0,
          0.1,
          0,
          0,
          0.12,
          0.11,
          0.11,
          0.1,
          0,
          0,
          0,
          0,
          0.1,
          0,
          0,
          0.1,
          0.12,
          0.11,
          0,
          0,
          0,
          0,
          0,
          0,
          0,
          0,
          0,
          0,
          0,
          0,
          0,
          0,
          0,
          0,
          0,
          0.17,
          0.11,
          0,
          0,
          0,
          0.14,
          0,
          0,
          0.06,
          0.06,
          0.11,
          0.13,
          0.51,
          0.07,
          0,
          3.6,
          1.47,
          0.18,
          0.06,
          0.2,
          0.05,
          0.1,
          0.05,
          0.07,
          0,
          0.06,
          0.06,
          0.08,
          0.41,
          0.37,
          0.08,
          0.11,
          7.85,
          0.24,
          3.12,
          12.47,
          0.2,
          0.16,
          0.22,
          3.87,
          0.26,
          3.8,
          0.29,
          0.26,
          0.14,
          78.66,
          53.63,
          98.95,
          9.95,
          56.04,
          0.38,
          29.2,
          1.07,
          0.25,
          0.33,
          0.43,
          2.77,
          0.225,
          0.347,
          0.267,
          0.09,
          0.06,
          0.06,
          0.06,
          0.07,
          0,
          0.07,
          0,
          0.09,
          0.07,
          0.11,
          0.06,
          0.09,
          0.24,
          0,
          0,
          0.24,
          0.21,
          0.1,
          0.1,
          0,
          0,
          0,
          0,
          0.15,
          0.1,
          0,
          0,
          0,
          0,
          0.11,
          0,
          0,
          0,
          0,
          0,
          0,
          0,
          0,
          0.71,
          3.29,
          3.66,
          0.31,
          4.01,
          5.03,
          9.81,
          0.42,
          0.23,
          0.4,
          1.22,
          4.56,
          4.87,
          4.2,
          3.9,
          0.96,
          1.91,
          0.085,
          0.13,
          0.25,
          3.83,
          0.37,
          0.39,
          0.32,
          0.65,
          1.24,
          0.45,
          0.16,
          0.17,
          0.11,
          0.14,
          0.48,
          3.3,
          0.18,
          2.83,
          3.18,
          6.58,
          6.26,
          2.47,
          0.45,
          1.38,
          2.72,
          0.23,
          0.1,
          0.96,
          3.99,
          0.22,
          0.28,
          0.79,
          4.72,
          1.54,
          3.89,
          1.38,
          3.13,
          4.75,
          0.34,
          0.6,
          9.5,
          3.66,
          0.13,
          0,
          5.57,
          1.06,
          0.68,
          0.15,
          0.077,
          0.29,
          0.39,
          0.14,
          0.23,
          0.22,
          0.17,
          0.18,
          0.054,
          0.6,
          0.33,
          0.1,
          0.12,
          0.058,
          0.079,
          0.104,
          0.09,
          0.11,
          0.18,
          0.18,
          0.74,
          0.34,
          1.35,
          0.24,
          0.25,
          0.21,
          2.63,
          0.34,
          0.16,
          1.34,
          1.64,
          1.05,
          2.75,
          2.52,
          4.37,
          2.55,
          2.24,
          1.97,
          1.84,
          2.23,
          3.45,
          1.21,
          0.39,
          0.16,
          0.16,
          0.16,
          0.33,
          0.8,
          0.82,
          0.1,
          1.67,
          0.93,
          5.13,
          2.5,
          3.89,
          2.34,
          6.76,
          1.23,
          0.29,
          0.25,
          0.51,
          1.59,
          0.11,
          0.12,
          0.12,
          0.14,
          0.11,
          0.13,
          0,
          0,
          0.11,
          0.11,
          0.12,
          0,
          0,
          0.12,
          0.1,
          0,
          0.1,
          0,
          0,
          0,
          0.1,
          0.11,
          0.1,
          0,
          0.11,
          0.13,
          0.14,
          0.1,
          0.12,
          0.12,
          0,
          0,
          0,
          0,
          0.1,
          0.12,
          0.1,
          0.1,
          0,
          0.11,
          0.09,
          0.09,
          0.13,
          0.09,
          0.07,
          0.06,
          0.08,
          0.11,
          0.12,
          0.13,
          0.11,
          0,
          0,
          0,
          0.1,
          0.11,
          0.1,
          0.11,
          0,
          0,
          0.1,
          0,
          0.1,
          0.1,
          0.07,
          0.07,
          0.09,
          0.1,
          0,
          0.1,
          0.06,
          0.08,
          0.11,
          0.06,
          0.11,
          0.2,
          0.41,
          0.21,
          0.2,
          0.21,
          0.21,
          0.24,
          0.22,
          0.19,
          0.16,
          0.24,
          0.18,
          0.19,
          0.16,
          0.13,
          0.18,
          0.19,
          0.26,
          0.112,
          0.169,
          0.14,
          0.19,
          0.24,
          0.17,
          0.16,
          0.2,
          0.21,
          0.17,
          0.18,
          0.22,
          0.17,
          0.2,
          0.11,
          0.21,
          0.23,
          0.21,
          0.21,
          0.24,
          0.24,
          0.25,
          0.17,
          0.25,
          0.28,
          0.14,
          0.13,
          0.24,
          0.23,
          0.21,
          0.21,
          0.2,
          0.2,
          0.21,
          0.17,
          0.18,
          0.17,
          0.15,
          0.16,
          0.25,
          0.13,
          0.24,
          0.19,
          0.24,
          0.17,
          0.19,
          0.17,
          0.14,
          0.21,
          0.24,
          0.21,
          0.17,
          0.16,
          0.14,
          0.23,
          0.2,
          0.2,
          0.35,
          0.22,
          0.22,
          0.2,
          0.15,
          0.21,
          0.21,
          0.103,
          0.14,
          0.141,
          0.19,
          0.19,
          0.16,
          0.19,
          0.16,
          0.15,
          0.14,
          0.14,
          0.15,
          0.12,
          0.14,
          0.14,
          0.2,
          0.17,
          0.14,
          0.13,
          0.15,
          0.18,
          0.17,
          0.17,
          0.18,
          0.22,
          0.15,
          2.37,
          0.43,
          4.03,
          0.1,
          0,
          0,
          0,
          0.12,
          0.65,
          0.37,
          0.09,
          3.85,
          0,
          4.84,
          0.08,
          0.06,
          0.06,
          0.2,
          0.06,
          0.09,
          0.05,
          0.1,
          0.14,
          0.075,
          8.17,
          14.92,
          5.64,
          0,
          0.06,
          0.15,
          7.06,
          7.95,
          0,
          0,
          0,
          0,
          0,
          0,
          0,
          0,
          0.1,
          0,
          0.076,
          0.15,
          13.26,
          0.11,
          0.07,
          0,
          0,
          0,
          0,
          0.12,
          0,
          0.46,
          0.43,
          0.2,
          2.39,
          8.49,
          0.05,
          0.06,
          0,
          0,
          0.13,
          0.46,
          0,
          0,
          0,
          0,
          0.14,
          0.06,
          0,
          0,
          0,
          0.15,
          0.68,
          0,
          0.72,
          2.6,
          0.06,
          0.1,
          0.1,
          0,
          0.63,
          0,
          0,
          0,
          0.11,
          0.13,
          0.33,
          0.17,
          0.1,
          0,
          0.13,
          0.126,
          0.13,
          0.11,
          0.1,
          0.1,
          0,
          0.1,
          0.12,
          0.12,
          0.1,
          0,
          0.12,
          0,
          0.13,
          0.1,
          0.16,
          0.15,
          0.08,
          0.07,
          0.63,
          0.11,
          0,
          0,
          0,
          0.87,
          0.74,
          0.24,
          0.11,
          1.92,
          0.11,
          0.06,
          0.07,
          0.23,
          0.06,
          0.08,
          0.28,
          1.33,
          0.16,
          0,
          0.59,
          0,
          0.19,
          0.38,
          0.65,
          0.43,
          0.38,
          0.49,
          0.1,
          0.12,
          14.86,
          17.84,
          29.64,
          59.84,
          0.15,
          0,
          0.1,
          0.11,
          0.13,
          0.14,
          6.37,
          0.14,
          1.19,
          0.1,
          0.28,
          0.11,
          10.04,
          0.12,
          0.1,
          0.08,
          0,
          0,
          0.17,
          0,
          0.14,
          0.06,
          0.11,
          5.1,
          0.08,
          0.14,
          0,
          0.1,
          0.19,
          0.1,
          0.12,
          0,
          0.11,
          0.06,
          0.1,
          0,
          0.13,
          0.23,
          0.25,
          0.31,
          1.64,
          0,
          0.12,
          0,
          0.13,
          0,
          0.096,
          0,
          0.43,
          0.35,
          0.51,
          0.13,
          0.12,
          0,
          0.12,
          0.1,
          0.1,
          0,
          60.47,
          0.18,
          17.59,
          0,
          0.11,
          0.2,
          0,
          8.33,
          0.1,
          0.14,
          0,
          0.1,
          0.12,
          0,
          0,
          0.12,
          0,
          0,
          0.13,
          0,
          0.28,
          0.63,
          0.12,
          0.42,
          0,
          0,
          0.11,
          0.13,
          0.11,
          0.14,
          0.11,
          0,
          107.21,
          13.5,
          1.01,
          2.83,
          0.81,
          0.14,
          0,
          0.64,
          0.1,
          5.62,
          0,
          0.07,
          0.12,
          0.26,
          0.11,
          0,
          0.15,
          0,
          0,
          0,
          0,
          0.1,
          0,
          0.17,
          0.1,
          0,
          0.08,
          0.37,
          3.92,
          0.08,
          0.21,
          0.11,
          0.2,
          0.05,
          0.07,
          0,
          0.12,
          0,
          0.12,
          0.13,
          0.83,
          22.38,
          0.05,
          0.29,
          51.51,
          438.5,
          2.75,
          0.15,
          0.23,
          4.42,
          2.19,
          0.9,
          0.32,
          0,
          0.3,
          0.11,
          0,
          0,
          0,
          0.12,
          0,
          0.65,
          0.4,
          0.11,
          0.06,
          0,
          0.12,
          0.12,
          0,
          0,
          0,
          0,
          0.1,
          0.19,
          0.13,
          0.15,
          0.27,
          1.05,
          0.108,
          0.114,
          0.134,
          0.32,
          0.22,
          0.17,
          0.77,
          1.2,
          0.14,
          0,
          0,
          0,
          0,
          0.1,
          0.67,
          0,
          0.1,
          0,
          0.11,
          0.54,
          1.14,
          0.12,
          0.66,
          0,
          0,
          0,
          0.12,
          0.11,
          0,
          3.3,
          0.11,
          0.12,
          0.21,
          15.86,
          0,
          0.12,
          0.1,
          0.39,
          0.1,
          0.248,
          0.076,
          0.92,
          7.25,
          0.12,
          0.16,
          0.77,
          0,
          0.13,
          0.2,
          1.99,
          0,
          0.11,
          1.24,
          0.11,
          0.29,
          0.14,
          0.1,
          0.18,
          0.11,
          1.21,
          0.1,
          0,
          0,
          0.13,
          0.1,
          0.1,
          7.76,
          0.31,
          6.7,
          8.25,
          0.11,
          3.22,
          0.45,
          2.84,
          0.19,
          0.28,
          0.29,
          0.94,
          0.3,
          0.85,
          0.57,
          0.85,
          0.46,
          0.7,
          1.35,
          0.58,
          0.72,
          1.3,
          2.67,
          3.27,
          3.6,
          0.93,
          2.74,
          0.29,
          0,
          0.2,
          1.43,
          0.29,
          0.12,
          0.09,
          0.47,
          0.06,
          0.05,
          0.052,
          0.062,
          0.56,
          0.06,
          0.22,
          0,
          13.55,
          2.68,
          1.28,
          1.25,
          0.76,
          0.64,
          4.01,
          0.15,
          0.17,
          0.74,
          20.31,
          1.55,
          5.04,
          0.68,
          0.7,
          0.18,
          0.86,
          1.04,
          1.24,
          1.71,
          0.13,
          3.94,
          10.19,
          0.56,
          0.73,
          2.04,
          1.93,
          0.1,
          0.13,
          2.96,
          9.03,
          0.32,
          0.23,
          2.23,
          0.58,
          1.92,
          0.51,
          0.28,
          0.08,
          0.07,
          0.38,
          2.85,
          0.29,
          0.05,
          0.052,
          0.38,
          0.21,
          0.13,
          0.44,
          0.32,
          0.69,
          0.11,
          0.21,
          0.42,
          0.18,
          2.88,
          0,
          1.54,
          0.11,
          0.12,
          1.55,
          0,
          0.11,
          0.1,
          0.096,
          1.23,
          0.12,
          0,
          0.12,
          0.14,
          0.22,
          0.11,
          0.99,
          1.34,
          0.14,
          0.23,
          0.49,
          0.28,
          1.2,
          0.12,
          0.1,
          0.139,
          0.14,
          0.17,
          0.24,
          0,
          0.105,
          0.1,
          0.1,
          0,
          0.12,
          0.11,
          0.13,
          0.11,
          0.12,
          0.17,
          0,
          0.1,
          0.13,
          0.11,
          0.13,
          0.14,
          0.14,
          0.13,
          0.13,
          0.12,
          0.26,
          0.1,
          0.09,
          0.09,
          0,
          0.09,
          0.11,
          0.12,
          0.12,
          0,
          0.1,
          0,
          0,
          0,
          0,
          0,
          0,
          0,
          0,
          0.06,
          0.06,
          0.05,
          0.058,
          0,
          0,
          0,
          0,
          0.1,
          0.11,
          0.1,
          0.12,
          0.11,
          0.12,
          0.16,
          0.161,
          0.12,
          0.15,
          0,
          0,
          0.11,
          0.18,
          0.3,
          2.52,
          12.47,
          0.37,
          4.2,
          0.37,
          0.13,
          0.19,
          7.56,
          22.87,
          0.62,
          4745,
          17.6,
          0.11,
          0.28,
          0.62,
          0.34,
          1219.1,
          0.44,
          3.96,
          5.18,
          4.59,
          0.25,
          5.31,
          2.83,
          3.21,
          1,
          6.87,
          0.4,
          1.74,
          2.21,
          0.51,
          0.18,
          2.06,
          0.137,
          0.25,
          0.26,
          23.3,
          3.44,
          21.82,
          0.23,
          3.24,
          4.56,
          3.75,
          15.16,
          258.05,
          0.27,
          0,
          0.14,
          3.18,
          25.08,
          0.17,
          2.24,
          98.24,
          0.23,
          0.19,
          1.92,
          5.1,
          12.59,
          0.1,
          150.47,
          38.52,
          0,
          11.21,
          2.18,
          3.76,
          0.25,
          18.21,
          5.07,
          6.5,
          1.02,
          0.36,
          0.17,
          0,
          0.81,
          27.29,
          0.76,
          1.37,
          1.18,
          0.79,
          1.56,
          1.8,
          1.27,
          2.07,
          0.98,
          1.36,
          1,
          0.44,
          0.47,
          0.21,
          0.28,
          0.8,
          0.9,
          3.08,
          0.88,
          1.23,
          1.09,
          0.81,
          0.56,
          5.26,
          0.81,
          8.33,
          26.54,
          0.07,
          8.34,
          3.67,
          0,
          0,
          0.07,
          2.33,
          19.35,
          0.33,
          0.37,
          14.53,
          2.72,
          0.16,
          0,
          0.1,
          0.11,
          0,
          0.13,
          0.2,
          0.22,
          0.12,
          0.14,
          0.24,
          0.19,
          0,
          0.13,
          1.61,
          1.75,
          5.93,
          1.67,
          2.09,
          3.16,
          0.11,
          0.88,
          2.72,
          2.82,
          343.4,
          0.38,
          2.65,
          1.04,
          0.74,
          3.93,
          1.17,
          0,
          3.1,
          0.095,
          0.22,
          2.03,
          1.89,
          0.29,
          1.55,
          0.14,
          0.67,
          1.4,
          12.61,
          0.68,
          0.24,
          0.11,
          5.01,
          11.92,
          0.067,
          4.89,
          14.68,
          2.55,
          1.63,
          2.36,
          2.65,
          0,
          4.84,
          2.22,
          2.6,
          2.52,
          0.37,
          139.16,
          5.67,
          201.23,
          54.94,
          0.35,
          4.17,
          2.71,
          0.22,
          0,
          0.1,
          0,
          0,
          0,
          0,
          0.05,
          0.06,
          0.07,
          0.06,
          0.05,
          0.09,
          0.07,
          0.08,
          0.1,
          0.24,
          0.23,
          0.33,
          0,
          0.14,
          0,
          0,
          0,
          0.19,
          0.17,
          0.13,
          4.99,
          91.02,
          1.89,
          8.41,
          1.93,
          2.18,
          5.69,
          0.14,
          0.3,
          4.57,
          2.82,
          2.78,
          3.98,
          0.31,
          1.42,
          0.4,
          0.27,
          0.1,
          0.116,
          0.068,
          0.06,
          1.85,
          0.21,
          0,
          0.37,
          0.73,
          0.16,
          0.06,
          0.083,
          0.07,
          0.06,
          0.11,
          0.17,
          0.16,
          0.22,
          1.4,
          0.15,
          0.24,
          1.61,
          0.36,
          0.1,
          0.45,
          0.21,
          0.14,
          0,
          0,
          0,
          0,
          0,
          0,
          0,
          0,
          0,
          0.07,
          3.93,
          0.07,
          0.55,
          0,
          0,
          0,
          0,
          0,
          0,
          0.11,
          0.11,
          0.1,
          0.16,
          0,
          0,
          0,
          0.1,
          0.1,
          0,
          0,
          0,
          0,
          0,
          0,
          0,
          0.1,
          0,
          0,
          0,
          0,
          0,
          0,
          0.1,
          0,
          0,
          0,
          0,
          0,
          0,
          0,
          0,
          0,
          0,
          0,
          0,
          0,
          0,
          0,
          0,
          0.11,
          0,
          0,
          0,
          0,
          0.18,
          0.4,
          0,
          0,
          0,
          0,
          0.52,
          0.23,
          0.48,
          0,
          0,
          0,
          0.33,
          0,
          0.1,
          0.1,
          0.1,
          0,
          0.12,
          0,
          0,
          0.11,
          0.053,
          0.07,
          0,
          0,
          1.14,
          0,
          0,
          0.59,
          0.49,
          0,
          0.52,
          0.99,
          0.41,
          0.36,
          0.2,
          0.19,
          0.28,
          0.4,
          0.39,
          0.32,
          0.19,
          0,
          0,
          3.35,
          0.29,
          1.42,
          0.2,
          0.15,
          0.31,
          0.12,
          0,
          3.37,
          1.43,
          2.01,
          5.85,
          0.94,
          0.37,
          0.09,
          0.077,
          0.66,
          1.1,
          0.17,
          0.2,
          0.12,
          0.2,
          0,
          0,
          0,
          0,
          0,
          0.13,
          2.45,
          0,
          2.34,
          0.75,
          0,
          1.1,
          0.55,
          0.13,
          0.21,
          0.11,
          0,
          0.15,
          0,
          0.39,
          0,
          0,
          0,
          0,
          0,
          0.2,
          0.38,
          8.46,
          4.42,
          0.35,
          0.14,
          3.2,
          1.4,
          2.75,
          15.96,
          14.49,
          0.08,
          0.16,
          1.62,
          1.04,
          0.063,
          2.88,
          0.24
         ],
         "yaxis": "y"
        }
       ],
       "layout": {
        "annotations": [
         {
          "font": {
           "color": "black",
           "size": 20
          },
          "showarrow": false,
          "text": "Pearson's r: 0.12\nPVal: 0.0",
          "textangle": 0,
          "x": 0.2,
          "xanchor": "left",
          "xref": "paper",
          "y": 0.95,
          "yref": "paper"
         }
        ],
        "legend": {
         "tracegroupgap": 0
        },
        "margin": {
         "t": 60
        },
        "template": {
         "data": {
          "bar": [
           {
            "error_x": {
             "color": "#2a3f5f"
            },
            "error_y": {
             "color": "#2a3f5f"
            },
            "marker": {
             "line": {
              "color": "#E5ECF6",
              "width": 0.5
             },
             "pattern": {
              "fillmode": "overlay",
              "size": 10,
              "solidity": 0.2
             }
            },
            "type": "bar"
           }
          ],
          "barpolar": [
           {
            "marker": {
             "line": {
              "color": "#E5ECF6",
              "width": 0.5
             },
             "pattern": {
              "fillmode": "overlay",
              "size": 10,
              "solidity": 0.2
             }
            },
            "type": "barpolar"
           }
          ],
          "carpet": [
           {
            "aaxis": {
             "endlinecolor": "#2a3f5f",
             "gridcolor": "white",
             "linecolor": "white",
             "minorgridcolor": "white",
             "startlinecolor": "#2a3f5f"
            },
            "baxis": {
             "endlinecolor": "#2a3f5f",
             "gridcolor": "white",
             "linecolor": "white",
             "minorgridcolor": "white",
             "startlinecolor": "#2a3f5f"
            },
            "type": "carpet"
           }
          ],
          "choropleth": [
           {
            "colorbar": {
             "outlinewidth": 0,
             "ticks": ""
            },
            "type": "choropleth"
           }
          ],
          "contour": [
           {
            "colorbar": {
             "outlinewidth": 0,
             "ticks": ""
            },
            "colorscale": [
             [
              0,
              "#0d0887"
             ],
             [
              0.1111111111111111,
              "#46039f"
             ],
             [
              0.2222222222222222,
              "#7201a8"
             ],
             [
              0.3333333333333333,
              "#9c179e"
             ],
             [
              0.4444444444444444,
              "#bd3786"
             ],
             [
              0.5555555555555556,
              "#d8576b"
             ],
             [
              0.6666666666666666,
              "#ed7953"
             ],
             [
              0.7777777777777778,
              "#fb9f3a"
             ],
             [
              0.8888888888888888,
              "#fdca26"
             ],
             [
              1,
              "#f0f921"
             ]
            ],
            "type": "contour"
           }
          ],
          "contourcarpet": [
           {
            "colorbar": {
             "outlinewidth": 0,
             "ticks": ""
            },
            "type": "contourcarpet"
           }
          ],
          "heatmap": [
           {
            "colorbar": {
             "outlinewidth": 0,
             "ticks": ""
            },
            "colorscale": [
             [
              0,
              "#0d0887"
             ],
             [
              0.1111111111111111,
              "#46039f"
             ],
             [
              0.2222222222222222,
              "#7201a8"
             ],
             [
              0.3333333333333333,
              "#9c179e"
             ],
             [
              0.4444444444444444,
              "#bd3786"
             ],
             [
              0.5555555555555556,
              "#d8576b"
             ],
             [
              0.6666666666666666,
              "#ed7953"
             ],
             [
              0.7777777777777778,
              "#fb9f3a"
             ],
             [
              0.8888888888888888,
              "#fdca26"
             ],
             [
              1,
              "#f0f921"
             ]
            ],
            "type": "heatmap"
           }
          ],
          "heatmapgl": [
           {
            "colorbar": {
             "outlinewidth": 0,
             "ticks": ""
            },
            "colorscale": [
             [
              0,
              "#0d0887"
             ],
             [
              0.1111111111111111,
              "#46039f"
             ],
             [
              0.2222222222222222,
              "#7201a8"
             ],
             [
              0.3333333333333333,
              "#9c179e"
             ],
             [
              0.4444444444444444,
              "#bd3786"
             ],
             [
              0.5555555555555556,
              "#d8576b"
             ],
             [
              0.6666666666666666,
              "#ed7953"
             ],
             [
              0.7777777777777778,
              "#fb9f3a"
             ],
             [
              0.8888888888888888,
              "#fdca26"
             ],
             [
              1,
              "#f0f921"
             ]
            ],
            "type": "heatmapgl"
           }
          ],
          "histogram": [
           {
            "marker": {
             "pattern": {
              "fillmode": "overlay",
              "size": 10,
              "solidity": 0.2
             }
            },
            "type": "histogram"
           }
          ],
          "histogram2d": [
           {
            "colorbar": {
             "outlinewidth": 0,
             "ticks": ""
            },
            "colorscale": [
             [
              0,
              "#0d0887"
             ],
             [
              0.1111111111111111,
              "#46039f"
             ],
             [
              0.2222222222222222,
              "#7201a8"
             ],
             [
              0.3333333333333333,
              "#9c179e"
             ],
             [
              0.4444444444444444,
              "#bd3786"
             ],
             [
              0.5555555555555556,
              "#d8576b"
             ],
             [
              0.6666666666666666,
              "#ed7953"
             ],
             [
              0.7777777777777778,
              "#fb9f3a"
             ],
             [
              0.8888888888888888,
              "#fdca26"
             ],
             [
              1,
              "#f0f921"
             ]
            ],
            "type": "histogram2d"
           }
          ],
          "histogram2dcontour": [
           {
            "colorbar": {
             "outlinewidth": 0,
             "ticks": ""
            },
            "colorscale": [
             [
              0,
              "#0d0887"
             ],
             [
              0.1111111111111111,
              "#46039f"
             ],
             [
              0.2222222222222222,
              "#7201a8"
             ],
             [
              0.3333333333333333,
              "#9c179e"
             ],
             [
              0.4444444444444444,
              "#bd3786"
             ],
             [
              0.5555555555555556,
              "#d8576b"
             ],
             [
              0.6666666666666666,
              "#ed7953"
             ],
             [
              0.7777777777777778,
              "#fb9f3a"
             ],
             [
              0.8888888888888888,
              "#fdca26"
             ],
             [
              1,
              "#f0f921"
             ]
            ],
            "type": "histogram2dcontour"
           }
          ],
          "mesh3d": [
           {
            "colorbar": {
             "outlinewidth": 0,
             "ticks": ""
            },
            "type": "mesh3d"
           }
          ],
          "parcoords": [
           {
            "line": {
             "colorbar": {
              "outlinewidth": 0,
              "ticks": ""
             }
            },
            "type": "parcoords"
           }
          ],
          "pie": [
           {
            "automargin": true,
            "type": "pie"
           }
          ],
          "scatter": [
           {
            "marker": {
             "colorbar": {
              "outlinewidth": 0,
              "ticks": ""
             }
            },
            "type": "scatter"
           }
          ],
          "scatter3d": [
           {
            "line": {
             "colorbar": {
              "outlinewidth": 0,
              "ticks": ""
             }
            },
            "marker": {
             "colorbar": {
              "outlinewidth": 0,
              "ticks": ""
             }
            },
            "type": "scatter3d"
           }
          ],
          "scattercarpet": [
           {
            "marker": {
             "colorbar": {
              "outlinewidth": 0,
              "ticks": ""
             }
            },
            "type": "scattercarpet"
           }
          ],
          "scattergeo": [
           {
            "marker": {
             "colorbar": {
              "outlinewidth": 0,
              "ticks": ""
             }
            },
            "type": "scattergeo"
           }
          ],
          "scattergl": [
           {
            "marker": {
             "colorbar": {
              "outlinewidth": 0,
              "ticks": ""
             }
            },
            "type": "scattergl"
           }
          ],
          "scattermapbox": [
           {
            "marker": {
             "colorbar": {
              "outlinewidth": 0,
              "ticks": ""
             }
            },
            "type": "scattermapbox"
           }
          ],
          "scatterpolar": [
           {
            "marker": {
             "colorbar": {
              "outlinewidth": 0,
              "ticks": ""
             }
            },
            "type": "scatterpolar"
           }
          ],
          "scatterpolargl": [
           {
            "marker": {
             "colorbar": {
              "outlinewidth": 0,
              "ticks": ""
             }
            },
            "type": "scatterpolargl"
           }
          ],
          "scatterternary": [
           {
            "marker": {
             "colorbar": {
              "outlinewidth": 0,
              "ticks": ""
             }
            },
            "type": "scatterternary"
           }
          ],
          "surface": [
           {
            "colorbar": {
             "outlinewidth": 0,
             "ticks": ""
            },
            "colorscale": [
             [
              0,
              "#0d0887"
             ],
             [
              0.1111111111111111,
              "#46039f"
             ],
             [
              0.2222222222222222,
              "#7201a8"
             ],
             [
              0.3333333333333333,
              "#9c179e"
             ],
             [
              0.4444444444444444,
              "#bd3786"
             ],
             [
              0.5555555555555556,
              "#d8576b"
             ],
             [
              0.6666666666666666,
              "#ed7953"
             ],
             [
              0.7777777777777778,
              "#fb9f3a"
             ],
             [
              0.8888888888888888,
              "#fdca26"
             ],
             [
              1,
              "#f0f921"
             ]
            ],
            "type": "surface"
           }
          ],
          "table": [
           {
            "cells": {
             "fill": {
              "color": "#EBF0F8"
             },
             "line": {
              "color": "white"
             }
            },
            "header": {
             "fill": {
              "color": "#C8D4E3"
             },
             "line": {
              "color": "white"
             }
            },
            "type": "table"
           }
          ]
         },
         "layout": {
          "annotationdefaults": {
           "arrowcolor": "#2a3f5f",
           "arrowhead": 0,
           "arrowwidth": 1
          },
          "autotypenumbers": "strict",
          "coloraxis": {
           "colorbar": {
            "outlinewidth": 0,
            "ticks": ""
           }
          },
          "colorscale": {
           "diverging": [
            [
             0,
             "#8e0152"
            ],
            [
             0.1,
             "#c51b7d"
            ],
            [
             0.2,
             "#de77ae"
            ],
            [
             0.3,
             "#f1b6da"
            ],
            [
             0.4,
             "#fde0ef"
            ],
            [
             0.5,
             "#f7f7f7"
            ],
            [
             0.6,
             "#e6f5d0"
            ],
            [
             0.7,
             "#b8e186"
            ],
            [
             0.8,
             "#7fbc41"
            ],
            [
             0.9,
             "#4d9221"
            ],
            [
             1,
             "#276419"
            ]
           ],
           "sequential": [
            [
             0,
             "#0d0887"
            ],
            [
             0.1111111111111111,
             "#46039f"
            ],
            [
             0.2222222222222222,
             "#7201a8"
            ],
            [
             0.3333333333333333,
             "#9c179e"
            ],
            [
             0.4444444444444444,
             "#bd3786"
            ],
            [
             0.5555555555555556,
             "#d8576b"
            ],
            [
             0.6666666666666666,
             "#ed7953"
            ],
            [
             0.7777777777777778,
             "#fb9f3a"
            ],
            [
             0.8888888888888888,
             "#fdca26"
            ],
            [
             1,
             "#f0f921"
            ]
           ],
           "sequentialminus": [
            [
             0,
             "#0d0887"
            ],
            [
             0.1111111111111111,
             "#46039f"
            ],
            [
             0.2222222222222222,
             "#7201a8"
            ],
            [
             0.3333333333333333,
             "#9c179e"
            ],
            [
             0.4444444444444444,
             "#bd3786"
            ],
            [
             0.5555555555555556,
             "#d8576b"
            ],
            [
             0.6666666666666666,
             "#ed7953"
            ],
            [
             0.7777777777777778,
             "#fb9f3a"
            ],
            [
             0.8888888888888888,
             "#fdca26"
            ],
            [
             1,
             "#f0f921"
            ]
           ]
          },
          "colorway": [
           "#636efa",
           "#EF553B",
           "#00cc96",
           "#ab63fa",
           "#FFA15A",
           "#19d3f3",
           "#FF6692",
           "#B6E880",
           "#FF97FF",
           "#FECB52"
          ],
          "font": {
           "color": "#2a3f5f"
          },
          "geo": {
           "bgcolor": "white",
           "lakecolor": "white",
           "landcolor": "#E5ECF6",
           "showlakes": true,
           "showland": true,
           "subunitcolor": "white"
          },
          "hoverlabel": {
           "align": "left"
          },
          "hovermode": "closest",
          "mapbox": {
           "style": "light"
          },
          "paper_bgcolor": "white",
          "plot_bgcolor": "#E5ECF6",
          "polar": {
           "angularaxis": {
            "gridcolor": "white",
            "linecolor": "white",
            "ticks": ""
           },
           "bgcolor": "#E5ECF6",
           "radialaxis": {
            "gridcolor": "white",
            "linecolor": "white",
            "ticks": ""
           }
          },
          "scene": {
           "xaxis": {
            "backgroundcolor": "#E5ECF6",
            "gridcolor": "white",
            "gridwidth": 2,
            "linecolor": "white",
            "showbackground": true,
            "ticks": "",
            "zerolinecolor": "white"
           },
           "yaxis": {
            "backgroundcolor": "#E5ECF6",
            "gridcolor": "white",
            "gridwidth": 2,
            "linecolor": "white",
            "showbackground": true,
            "ticks": "",
            "zerolinecolor": "white"
           },
           "zaxis": {
            "backgroundcolor": "#E5ECF6",
            "gridcolor": "white",
            "gridwidth": 2,
            "linecolor": "white",
            "showbackground": true,
            "ticks": "",
            "zerolinecolor": "white"
           }
          },
          "shapedefaults": {
           "line": {
            "color": "#2a3f5f"
           }
          },
          "ternary": {
           "aaxis": {
            "gridcolor": "white",
            "linecolor": "white",
            "ticks": ""
           },
           "baxis": {
            "gridcolor": "white",
            "linecolor": "white",
            "ticks": ""
           },
           "bgcolor": "#E5ECF6",
           "caxis": {
            "gridcolor": "white",
            "linecolor": "white",
            "ticks": ""
           }
          },
          "title": {
           "x": 0.05
          },
          "xaxis": {
           "automargin": true,
           "gridcolor": "white",
           "linecolor": "white",
           "ticks": "",
           "title": {
            "standoff": 15
           },
           "zerolinecolor": "white",
           "zerolinewidth": 2
          },
          "yaxis": {
           "automargin": true,
           "gridcolor": "white",
           "linecolor": "white",
           "ticks": "",
           "title": {
            "standoff": 15
           },
           "zerolinecolor": "white",
           "zerolinewidth": 2
          }
         }
        },
        "xaxis": {
         "anchor": "y",
         "domain": [
          0,
          1
         ],
         "title": {
          "text": "Total_cyano_cell_count"
         },
         "type": "log"
        },
        "yaxis": {
         "anchor": "x",
         "domain": [
          0,
          1
         ],
         "title": {
          "text": "MC-LR_conc"
         },
         "type": "log"
        }
       }
      },
      "text/html": [
       "<div>                            <div id=\"31269aa7-4726-46d0-ab29-e76fd52d16cb\" class=\"plotly-graph-div\" style=\"height:525px; width:100%;\"></div>            <script type=\"text/javascript\">                require([\"plotly\"], function(Plotly) {                    window.PLOTLYENV=window.PLOTLYENV || {};                                    if (document.getElementById(\"31269aa7-4726-46d0-ab29-e76fd52d16cb\")) {                    Plotly.newPlot(                        \"31269aa7-4726-46d0-ab29-e76fd52d16cb\",                        [{\"hovertemplate\":\"Total_cyano_cell_count=%{x}<br>MC-LR_conc=%{y}<extra></extra>\",\"legendgroup\":\"\",\"marker\":{\"color\":\"#636efa\",\"symbol\":\"circle\"},\"mode\":\"markers\",\"name\":\"\",\"showlegend\":false,\"type\":\"scattergl\",\"x\":[0.0,0.0,0.0,0.0,0.0,0.0,0.0,0.0,0.0,0.0,0.0,1749075.0,72596.0,89960.0,0.0,0.0,4242.0,3403.0,0.0,0.0,0.0,810.0,341.0,5061.0,36764.0,0.0,14464.0,619302.0,1091.0,23399.0,376420.0,22915.0,8352.0,0.0,0.0,0.0,0.0,0.0,0.0,0.0,22918.0,7639.0,0.0,2772.0,23422.0,4161.0,0.0,0.0,0.0,0.0,0.0,0.0,0.0,0.0,0.0,28787.0,0.0,0.0,3588.0,4004.0,31415.0,0.0,3326.0,0.0,77428.0,46752.0,175552.0,0.0,0.0,110875.0,1366.0,2152.0,6760544.0,113266.0,43355.0,159511.0,3120.0,28283.0,45326.0,0.0,23992.0,95988.0,0.0,0.0,764.0,31857.0,2266.0,5704.0,0.0,0.0,0.0,0.0,0.0,0.0,156.0,0.0,14770.0,0.0,61574.0,0.0,3820.0,7283.0,2037.0,2903.0,359.0,0.0,0.0,0.0,0.0,0.0,0.0,12319.0,0.0,0.0,0.0,1540.0,0.0,1429055.0,218451.0,790.0,4748.0,3973.0,184618.0,0.0,58824.0,0.0,5092.0,9884.0,47873.0,736.0,0.0,19914.0,8276.0,201426.0,120424.0,93251.0,126559.0,11457.0,141180.0,17374.0,222305.0,40108.0,69774.0,178303.0,158493.0,132366.0,28520.0,81997.0,0.0,224255.0,1047.0,29258.0,32216.0,43672.0,75888.0,29813.0,14667.0,19587.0,193353.0,0.0,183856.0,15075.0,5512.0,3576.0,0.0,129589.0,0.0,0.0,0.0,0.0,0.0,0.0,0.0,48383.0,0.0,372861.0,7106.0,347286.0,1101.0,0.0,0.0,86240.0,0.0,50181.0,116990.0,77802.0,19.0,47772.0,0.0,0.0,0.0,3252.0,8624.0,19303.0,17802.0,801.0,6169.0,1254.0,0.0,0.0,64677.0,0.0,0.0,6086.0,138594.0,43118.0,0.0,58517.0,97133.0,15533.0,7079.0,6439.0,2201.0,2956.0,1730.0,134809.0,11700.0,77515.0,10441.0,16495.0,0.0,0.0,0.0,34556.0,241152.0,181773.0,79522.0,66094.0,13304.0,35358.0,204991.0,0.0,15279.0,41915.0,0.0,122639.0,117844.0,381461.0,36506.0,2801.0,272830.0,0.0,101986.0,0.0,0.0,0.0,0.0,0.0,0.0,1203.0,0.0,0.0,0.0,0.0,0.0,2852.0,10135.0,0.0,0.0,0.0,0.0,0.0,0.0,0.0,0.0,0.0,0.0,0.0,0.0,0.0,0.0,0.0,0.0,0.0,0.0,10780.0,3080.0,59749.0,0.0,0.0,308.0,0.0,40038.0,0.0,4743.0,0.0,0.0,0.0,678.0,0.0,1540.0,0.0,0.0,0.0,0.0,0.0,0.0,0.0,0.0,0.0,3005.0,0.0,0.0,0.0,260.0,22599.0,2180.0,0.0,6111.0,0.0,0.0,0.0,1884.0,480.0,0.0,0.0,0.0,0.0,0.0,0.0,49278.0,0.0,0.0,0.0,0.0,0.0,0.0,12670.0,0.0,338.0,6828.0,0.0,0.0,31.0,0.0,15941.0,0.0,0.0,0.0,507.0,3310.0,4330.0,0.0,6621.0,0.0,7036.0,46.0,5296.0,0.0,6926.0,0.0,0.0,0.0,764.0,0.0,1901.0,375.0,0.0,23224.0,1514.0,7868.0,15839.0,10417.0,166373.0,71063.0,238162.0,235916.0,65484.0,3033.0,2801.0,13936.0,12117.0,1371.0,31834.0,159131.0,67665.0,1131.0,0.0,0.0,0.0,591.0,0.0,0.0,1354214.0,527120.0,23810.0,32341.0,132162.0,0.0,0.0,48638.0,0.0,0.0,27807.0,174200.0,136370.0,51360.0,1848.0,32709.0,1540.0,585789.0,781.0,0.0,46814.0,0.0,0.0,31.0,0.0,0.0,0.0,0.0,0.0,0.0,0.0,2597.0,3769.0,59.0,0.0,2954.0,50471.0,29896.0,0.0,0.0,0.0,0.0,67757.0,0.0,0.0,0.0,75272.0,1047.0,0.0,0.0,0.0,0.0,0.0,587.0,279654.0,0.0,253.0,56317.0,89744.0,25868.0,0.0,381442.0,142990.0,8559.0,0.0,0.0,0.0,0.0,0.0,383036.0,379316.0,0.0,11204.0,25465.0,0.0,34953.0,1833460.0,193743.0,106.0,0.0,105706.0,52840.0,0.0,0.0,0.0,407436.0,0.0,223935.0,0.0,0.0,0.0,123810.0,0.0,190951.0,0.0,542055.0,493.0,354492.0,32339.0,0.0,0.0,15756.0,0.0,984.0,0.0,0.0,99684.0,0.0,0.0,650.0,108.0,0.0,82.0,0.0,5997.0,0.0,0.0,0.0,0.0,0.0,381.0,0.0,0.0,0.0,106.0,0.0,21198.0,28733.0,593.0,27.0,0.0,593008.0,0.0,0.0,0.0,128.0,0.0,1546.0,0.0,0.0,5044.0,0.0,0.0,0.0,0.0,0.0,30799.0,0.0,0.0,0.0,0.0,0.0,25871.0,0.0,253.0,0.0,443.0,0.0,0.0,14992.0,180832.0,0.0,0.0,9256.0,41080.0,158496.0,0.0,8251.0,0.0,0.0,0.0,1401.0,0.0,0.0,4681.0,0.0,0.0,24731.0,2464.0,4065.0,0.0,0.0,0.0,0.0,7884.0,0.0,0.0,4431.0,1222.0,63445.0,0.0,10410.0,0.0,3080.0,1783.0,3950.0,6977.0,37790.0,27502.0,4787.0,1273.0,0.0,0.0,0.0,31576.0,0.0,1950597.0,231792.0,269926.0,66514.0,38128.0,60242.0,12381.0,35142.0,115204.0,141915.0,10166.0,51153.0,23989.0,366185.0,627559.0,1240769.0,821083.0,3338681.0,37484.0,213624.0,36567.0,8352.0,72957.0,185128.0,443595.0,18029.0,8913.0,18589.0,0.0,0.0,0.0,0.0,0.0,0.0,0.0,0.0,0.0,0.0,0.0,0.0,1910.0,317.0,0.0,0.0,0.0,0.0,0.0,0.0,0.0,0.0,0.0,0.0,0.0,0.0,0.0,0.0,0.0,0.0,3080.0,0.0,4979.0,0.0,3812.0,901.0,284.0,0.0,5975.0,2523260.0,326457.0,293800.0,13190.0,457245.0,65444.0,194856.0,31140.0,3922.0,157881.0,886415.0,976694.0,122995.0,308910.0,223451.0,27966.0,273746.0,44258.0,34632.0,312961.0,695697.0,163432.0,79068.0,278713.0,155895.0,198218.0,451643.0,23631.0,1604977.0,28062.0,312606.0,223048.0,55859.0,15960.0,26487.0,84194.0,1873636.0,349918.0,422309.0,16385.0,205223.0,236943.0,53700.0,178897.0,30179.0,787702.0,936894.0,0.0,32468.0,101794.0,79940.0,264464.0,181998.0,22889.0,197979.0,9422.0,51184.0,441160.0,233525.0,71760.0,8000.0,81996.0,167303.0,125923.0,3798.0,38197.0,89891.0,132417.0,78189.0,55004.0,183805.0,291825.0,180545.0,47.0,161217.0,6492.0,164403.0,1540.0,433.0,0.0,5908.0,0.0,27808.0,313115.0,278532.0,466158.0,35067.0,179043.0,108719.0,88515.0,25923.0,370297.0,3820.0,968.0,101663.0,22740.0,83777.0,45874.0,14697.0,30287.0,47854.0,31729.0,58519.0,96206.0,138936.0,105792.0,21177.0,11254.0,0.0,14960.0,204.0,315924.0,28161.0,196093.0,125010.0,108099.0,66895.0,632356.0,336683.0,422469.0,59811.0,207288.0,66946.0,55868.0,27252.0,191642.0,14663.0,129581.0,261734.0,63453.0,14214.0,634.0,0.0,26484.0,0.0,0.0,3734.0,39557.0,24465.0,13721.0,654.0,70703.0,105958.0,368501.0,869726.0,104903.0,14616.0,12987.0,22450.0,399992.0,183814.0,0.0,126764.0,307320.0,7824.0,0.0,0.0,346238.0,2563078.0,0.0,494934.0,1246.0,579630.0,136499.0,362501.0,41578.0,203024.0,15126.0,51031.0,203888.0,0.0,74587.0,0.0,63662.0,72007.0,118082.0,29.0,9016.0,123503.0,107488.0,22738.0,471220.0,43118.0,148078.0,86580.0,455256.0,189817.0,4055.0,52167.0,2598.0,49631.0,0.0,2615.0,342793.0,136393.0,27909.0,18589.0,25677.0,21238.0,49506.0,104405.0,463330.0,144354.0,194933.0,150395.0,0.0,9438.0,759.0,185590.0,37636.0,90548.0,30860.0,47795.0,1160.0,22152.0,11603.0,14353.0,40458.0,139789.0,147009.0,254900.0,158135.0,154928.0,399897.0,68373.0,143521.0,562108.0,472370.0,483831.0,365932.0,44843.0,50012.0,27977.0,93936.0,15981.0,29255.0,1647.0,0.0,54340.0,0.0,22659.0,312639.0,293959.0,81161.0,88488.0,122180.0,28674.0,97581.0,617163.0,842553.0,1077182.0,7849333.0,241022.0,0.0,244422.0,160313.0,67395.0,4999.0,14586.0,7205.0,0.0,157689.0,120115.0,188364.0,37808.0,30467.0,13552.0,23602.0,7485.0,370.0,111430.0,241338.0,35418.0,75764.0,134221.0,238935.0,214370.0,30799.0,58250.0,317472.0,17463.0,83269.0,10780.0,131202.0,32850.0,11103.0,83524.0,161956.0,451797.0,200355.0,285460.0,190019.0,149330.0,110313.0,217341.0,175681.0,18080.0,104565.0,11349.0,375347.0,425835.0,696411.0,1063709.0,210630.0,183406.0,479721.0,2293.0,96328.0,94887.0,9066.0,138543.0,415346.0,1218437.0,105831.0,490252.0,70232.0,185188.0,776319.0,842493.0,666059.0,295796.0,113887.0,101859.0,1469696.0,51591.0,264248.0,35906.0,190985.0,234938.0,215177.0,33360.0,0.0,8352.0,866.0,327324.0,4403362.0,917088.0,17801.0,377165.0,1056449.0,331007.0,131302.0,445924.0,79648.0,0.0,304108.0,0.0,0.0,0.0,0.0,2500.0,355141.0,0.0,36924.0,1300834.0,25160.0,508762.0,449452.0,59842.0,1638210.0,443.0,143519.0,2601913.0,1455131.0,5610115.0,113647.0,199388.0,1687938.0,276995.0,76369.0,183682.0,114975.0,53589.0,130667.0,368620.0,1597372.0,171442.0,475561.0,131078.0,90272.0,351104.0,0.0,684.0,2441.0,88479.0,36157.0,16825.0,184314.0,432671.0,147651.0,245782.0,159283.0,115409.0,78059.0,5126.0,338259.0,166748.0,0.0,426421.0,440769.0,291102.0,69374.0,3162032.0,4329.0,173956.0,55262.0,17932.0,504219.0,64346.0,260966.0,9117.0,84757.0,117722.0,0.0,0.0,84696.0,2856.0,0.0,9116.0,12275.0,34632.0,163483.0,142388.0,158725.0,519462.0,382703.0,139126.0,60086.0,32773.0,30896.0,409495.0,147697.0,103901.0,41609.0,338477.0,995671.0,495290.0,288647.0,19898.0,603993.0,1330685.0,865524.0,234369.0,18832.0,0.0,201848.0,101164.0,138429.0,67769.0,443962.0,152788.0,0.0,309704.0,444039.0,287519.0,622364.0,143504.0,94666.0,101845.0,16926.0,85565.0,7958.0,1708837.0,148800.0,244328.0,0.0,0.0,14092.0,196300.0,9677.0,5093.0,26738.0,14148.0,0.0,82761.0,182453.0,754455.0,149632.0,0.0,111027.0,348117.0,127150.0,0.0,51547.0,246038.0,189084.0,109767.0,120580.0,291936.0,233816.0,0.0,0.0,14724.0,168466.0,95352.0,62457.0,191935.0,0.0,0.0,200191.0,45582.0,19589.0,7028.0,3724.0,158883.0,2743.0,13295.0,137261.0,49492.0,42380.0,1664810.0,50633.0,15823.0,2535014.0,330929.0,479190.0,330781.0,36643.0,234144.0,1058059.0,76394.0,159920.0,15356.0,18259.0,23094.0,4192.0,7364.0,7366.0,3200.0,0.0,6502.0,3845.0,0.0,0.0,222017.0,1044996.0,15385.0,96772.0,49400.0,36507.0,328144.0,65513.0,100307.0,83642.0,4839.0,0.0,294222.0,309388.0,258247.0,281507.0,185704.0,16202.0,209405.0,214706.0,103055.0,265164.0,0.0,601172.0,611358.0,59639.0,80832.0,0.0,52115.0,15356.0,80754.0,801.0,16492.0,6838.0,172472.0,51.0,90856.0,22157.0,36669.0,52189.0,208031.0,2394.0,117392.0,8913.0,68893.0,9720.0,44260.0,56328.0,738477.0,254647.0,0.0,127963.0,153775.0,102581.0,12427.0,79771.0,665087.0,829082.0,230082.0,102252.0,164280.0,685002.0,181902.0,84162.0,88006.0,1942.0,5127.0,194975.0,502.0,0.0,8711.0,13066.0,501.0,18209.0,29381.0,22855.0,607431.0,12155.0,17126.0,14012.0,659.0,0.0,0.0,7350.0,8712.0,248616.0,79169.0,11256.0,53915.0,34244.0,0.0,0.0,3972.0,16000.0,177336.0,68962.0,3215490.0,500755.0,720083.0,374303.0,75949.0,90717.0,5615032.0,0.0,491040.0,0.0,0.0,124957.0,138489.0,122599.0,54199.0,127836.0,255299.0,63761.0,1527884.0,388337.0,979736.0,4072.0,636618.0,418302.0,0.0,113339.0,483969.0,196754.0,52850.0,1049864.0,226856.0,0.0,0.0,12732.0,2801.0,258784.0,433171.0,340358.0,0.0,2114604.0,513295.0,129167.0,219107.0,314288.0,215491.0,162400.0,209117.0,0.0,33262.0,26056.0,53297.0,739.0,0.0,111791.0,25465.0,497836.0,590323.0,1743508.0,253782.0,165398.0,76201.0,52040.0,312789.0,259613.0,2084635.0,751217.0,387918.0,320193.0,0.0,323110.0,52113.0,256643.0,475221.0,137433.0,112212.0,296837.0,648804.0,147586.0,377776.0,782901.0,159728.0,321598.0,973986.0,310512.0,229510.0,1940796.0,174673.0,3250.0,0.0,2895.0,414673.0,261982.0,22256.0,32882.0,54902.0,173161.0,2002.0,0.0,0.0,322996.0,0.0,31985.0,0.0,89321.0,193340.0,988822.0,516615.0,411593.0,1132711.0,328250.0,11976.0,898.0,33508.0,15459.0,777041.0,154064.0,937264.0,141920.0,10116.0,1028920.0,611320.0,320245.0,283145.0,6168.0,151262.0,26591.0,96012.0,29970.0,641441.0,188301.0,0.0,92184.0,139831.0,488663.0,7084.0,41515.0,126274.0,80163.0,83512.0,120372.0,141660.0,18131.0,0.0,18481.0,222196.0,356252.0,25210.0,9065.0,227188.0,100613.0,96350.0,136118.0,200.0,53844.0,0.0,790785.0,0.0,84880.0,690626.0,308.0,0.0,66727.0,5173.0,338661.0,9430.0,38.0,224543.0,0.0,13522.0,2617882.0,0.0,5678.0,89871.0,96708.0,122474.0,40744.0,6366.0,0.0,43263.0,75294.0,13348.0,1755.0,1910.0,306392.0,0.0,533944.0,2220319.0,35269.0,0.0,9422.0,179298.0,9856.0,199313.0,5421788.0,73178.0,0.0,15203.0,311667.0,562.0,8810.0,337857.0,0.0,41281.0,75292.0,36418.0,108152.0,460331.0,77671.0,60579.0,73826.0,2463889.0,406009.0,0.0,729927.0,459740.0,415711.0,816964.0,2001680.0,0.0,764.0,0.0,0.0,0.0,4065.0,717.0,19489.0,0.0,0.0,0.0,0.0,6213.0,0.0,12525.0,109824.0,2851.0,0.0,263574.0,0.0,0.0,396247.0,275059.0,134040.0,0.0,0.0,27808.0,892061.0,509295.0,0.0,677569.0,69543.0,27482.0,42287.0,1028271.0,15400.0,175490.0,2309896.0,6507.0,1086724.0,13517.0,960020.0,116034.0,2064597.0,10298.0,577567.0,399150.0,313099.0,25549.0,2070600.0,68065.0,1126.0,901.0,1651.0,2806.0,7016.0,670.0,7500.0,2960.0,32553.0,888987.0,7595.0,20696.0,28123.0,7421.0,173945.0,0.0,99509.0,18480.0,127051.0,23059.0,289451.0,182415.0,13080.0,21308.0,19831.0,3504893.0,123708.0,782.0,0.0,0.0,226504.0,86623.0,0.0,14189.0,1110405.0,23054.0,986.0,568095.0,236810.0,325234.0,0.0,246992.0,317256.0,198206.0,348995.0,51693.0,333982.0,713.0,10882.0,0.0,137610.0,256150.0,153533.0,279620.0,449321.0,311067.0,103525.0,148820.0,86422.0,270759.0,67181.0,863204.0,331295.0,351771.0,977948.0,813280.0,96265.0,230028.0,156364.0,439822.0,71710.0,0.0,123359.0,854086.0,881195.0,159843.0,194791.0,134454.0,76292.0,231327.0,1103862.0,160152.0,4620.0,1492255.0,0.0,929502.0,294270.0,167656.0,121505.0,3234.0,1435.0,771012.0,29004.0,111004.0,260597.0,2953.0,41923.0,15375.0,2471.0,0.0,0.0,866.0,12355.0,6610.0,0.0,77109.0,181061.0,1166985.0,8149.0,45831.0,97059.0,116639.0,164268.0,127791.0,39804.0,25612.0,146361.0,11773.0,126751.0,105865.0,311994.0,125186.0,185893.0,4513.0,35266.0,62418.0,4026.0,7017.0,41466.0,0.0,102573.0,52571.0,250612.0,8760.0,224008.0,43188.0,131653.0,56886.0,255676.0,155164.0,517417.0,7084.0,30070.0,196245.0,0.0,15688.0,34610.0,141987.0,9949.0,100350.0,61239.0,33951.0,761833.0,41498.0,23736.0,17754.0,1687.0,528113.0,95328.0,163645.0,231667.0,114.0,128677.0,26257.0,33218.0,21196.0,23317.0,0.0,0.0,0.0,0.0,288006.0,157372.0,0.0,33257.0,0.0,38197.0,49656.0,63662.0,26789.0,21135.0,40488.0,206875.0,69195.0,27665.0,19282.0,61776.0,92279.0,39151.0,49183.0,19723.0,39230.0,2031865.0,0.0,114787.0,63804.0,30194.0,63192.0,41818.0,151872.0,162975.0,133487.0,1308379.0,700280.0,184620.0,636618.0,280112.0,432900.0,3896.0,38197.0,1935.0,7824.0,36477.0,456932.0,13394.0,59916.0,553222.0,673.0,0.0,0.0,0.0,0.0,17316.0,28978.0,38197.0,17316.0,88108.0,10251.0,81487.0,570410.0,308124.0,4779.0,42321.0,1697.0,112045.0,47315.0,1617.0,9325.0,7805.0,7699.0,2580.0,4182.0,1721.0,174669.0,0.0,490080.0,0.0,1550970.0,2741076.0,0.0,27.0,122231.0,0.0,95063.0,176835.0,181860.0,1425928.0,45928.0,0.0,0.0,11603.0,62056.0,164029.0,11814.0,179325.0,6906.0,1185307.0,446905.0,146820.0,360227.0,95165.0,36389.0,1901.0,8946.0,261022.0,144872.0,584644.0,146890.0,171473.0,1630.0,159224.0,63662.0,5170.0,93.0,12567.0,8343.0,451249.0,86972.0,66675.0,7209.0,201485.0,187546.0,30707.0,48.0,26995.0,13859.0,19095.0,117712.0,144753.0,100404.0,14784.0,3291.0,5043.0,0.0,10780.0,1793582.0,1107195.0,135574.0,45016.0,34967.0,1384.0,2577.0,80959.0,422205.0,0.0,0.0,36057.0,90202.0,147989.0,800.0,24551.0,0.0,0.0,1916.0,25826.0,66467.0,22815.0,184842.0,360581.0,153384.0,299376.0,73941.0,123658.0,45470.0,113498.0,99665.0,412834.0,206264.0,38961.0,555619.0,80235.0,145537.0,158674.0,13026.0,1847916.0,19609.0,37679.0,43672.0,398362.0,89460.0,51126.0,59996.0,381.0,12707.0,32032.0,44600.0,2040.0,233.0,21288.0,0.0,45837.0,297938.0,8632.0,208297.0,99313.0,618793.0,0.0,616.0,0.0,91349.0,62028.0,135334.0,186772.0,12381.0,274172.0,13750.0,0.0,26372.0,364161.0,24066.0,38269.0,1844.0,0.0,9683.0,10851.0,96315.0,0.0,41118.0,37975.0,665.0,907.0,3144.0,633.0,7066.0,55209.0,58139.0,5928.0,58144.0,1148.0,4011.0,2921.0,43291.0,79094.0,47110.0,408709.0,6514.0,11765.0,42017.0,0.0],\"xaxis\":\"x\",\"y\":[0.0,0.0,0.0,0.0,0.0,0.0,0.0,0.0,0.0,0.15,0.1,0.52,0.2,3.2,0.41,0.27,0.11,0.0,0.0,0.0,0.0,0.0,0.0,0.0,0.67,0.7,0.11,1.67,0.19,0.0,0.69,0.0,0.05,0.06,0.07,0.06,0.0,0.05,0.05,0.05,0.0,0.06,0.05,0.0,0.0,0.0,0.0,0.0,0.0,0.0,0.0,0.0,0.0,0.0,0.0,0.0,0.0,0.18,0.11,0.0,0.0,0.0,0.0,0.0,0.0,0.0,0.0,0.0,0.11,0.11,0.0,0.52,27.73,0.0,4.99,0.23,0.12,1.34,0.53,8.06,0.0,0.0,0.0,0.11,0.08,0.0,0.0,0.35,0.0,0.0,0.12,0.0,0.0,0.0,0.0,0.0,0.12,0.12,0.21,0.11,0.34,0.31,0.21,0.09,0.0,0.0,0.104,0.0,0.0,0.0,0.0,0.0,0.0,0.0,0.0,0.0,0.0,0.0,0.0,0.0,0.0,0.0,0.06,0.0,0.07,0.0,0.0,0.0,0.1,0.21,0.1,0.0,0.0,0.0,0.72,0.088,0.1,0.1,0.28,0.1,0.13,0.09,0.32,0.0,0.06,0.44,0.2,0.11,0.0,0.48,0.0,0.0,0.16,0.24,0.16,0.17,0.33,0.11,0.07,0.4,0.94,0.15,0.13,0.0,0.42,0.1,0.1,0.1,0.0,0.0,0.11,0.11,0.12,0.36,0.4,0.0,0.9,0.12,0.11,0.1,0.1,0.18,0.1,0.19,0.49,0.74,0.12,0.67,0.15,0.29,0.16,0.15,1.51,1.0,0.23,0.08,0.08,0.057,0.0,0.0,0.2,0.12,0.19,0.15,0.12,0.13,0.11,0.12,0.94,0.11,0.47,0.29,0.21,0.23,4.3,0.4,0.63,0.48,0.41,0.23,0.49,0.1,0.196,0.0,0.1,0.18,0.17,0.39,3.31,0.11,8.29,0.18,6.47,8.36,0.398,1.51,5.25,15.84,1.35,0.24,9.8,0.1,0.0,0.0,0.1,0.0,0.0,0.0,0.0,0.1,0.0,0.07,0.0,0.0,0.052,0.054,0.07,0.07,0.06,0.07,0.0,0.07,0.07,0.09,0.09,0.08,0.0,0.0,0.0,0.08,0.1,0.0,0.0,0.0,0.0,0.0,0.0,0.14,0.0,0.0,0.0,0.0,0.0,0.1,0.0,0.0,0.0,0.0,0.0,0.0,0.0,0.0,0.0,0.0,0.0,0.0,0.14,0.1,0.0,0.1,0.14,0.0,0.0,0.1,0.0,0.0,0.0,0.0,0.0,0.0,0.0,0.14,0.15,0.19,0.1,0.0,0.0,0.0,0.1,0.0,0.0,0.0,0.0,0.0,0.11,0.0,0.0,0.0,0.12,0.0,0.0,0.0,0.0,0.0,0.0,0.22,0.0,0.0,0.12,0.14,0.23,0.0,0.0,0.0,0.11,0.13,0.07,0.12,0.07,0.09,0.0,0.0,0.0,0.0,0.0,0.0,0.0,0.0,0.7,0.1,0.14,0.15,0.25,3.11,3.88,2.09,1.76,0.19,0.73,0.09,0.72,1.11,0.29,0.11,0.1,0.0,0.1,0.0,0.0,0.1,0.0,0.062,0.1,120.06,7.1,7.61,3.41,17.69,0.37,0.31,0.18,0.09,0.07,0.069,1.23,3.95,1.82,0.16,0.0,0.0,0.0,7.94,0.0,0.0,0.0,0.0,0.0,0.0,0.0,0.0,0.0,0.1,0.0,0.0,0.1,0.09,0.08,0.09,0.08,0.58,0.0,0.0,0.056,0.11,0.0,0.0,0.0,0.11,0.0,0.0,0.0,0.13,0.17,0.3,0.0,0.2,0.12,0.28,0.19,0.11,0.24,0.1,0.12,0.05,0.11,0.0,0.15,0.12,0.0,0.12,0.15,0.2,0.11,0.1,0.08,0.0,0.1,0.0,0.0,0.13,0.19,0.19,0.0,0.0,0.11,0.07,0.1,0.08,0.0,0.08,0.11,0.11,0.0,0.0,0.0,0.0,0.1,0.0,0.12,0.16,0.15,0.18,0.12,0.0,0.0,0.12,0.0,0.0,0.0,0.0,0.0,0.0,0.1,0.0,0.0,0.11,0.0,0.0,0.0,0.0,0.0,0.0,0.0,0.0,0.0,0.0,0.0,0.0,0.0,0.29,0.19,0.18,0.0,0.11,0.11,0.11,0.11,0.0,0.0,0.0,0.1,0.0,0.0,0.1,0.0,0.0,0.12,0.11,0.11,0.1,0.0,0.0,0.0,0.0,0.1,0.0,0.0,0.1,0.12,0.11,0.0,0.0,0.0,0.0,0.0,0.0,0.0,0.0,0.0,0.0,0.0,0.0,0.0,0.0,0.0,0.0,0.0,0.17,0.11,0.0,0.0,0.0,0.14,0.0,0.0,0.06,0.06,0.11,0.13,0.51,0.07,0.0,3.6,1.47,0.18,0.06,0.2,0.05,0.1,0.05,0.07,0.0,0.06,0.06,0.08,0.41,0.37,0.08,0.11,7.85,0.24,3.12,12.47,0.2,0.16,0.22,3.87,0.26,3.8,0.29,0.26,0.14,78.66,53.63,98.95,9.95,56.04,0.38,29.2,1.07,0.25,0.33,0.43,2.77,0.225,0.347,0.267,0.09,0.06,0.06,0.06,0.07,0.0,0.07,0.0,0.09,0.07,0.11,0.06,0.09,0.24,0.0,0.0,0.24,0.21,0.1,0.1,0.0,0.0,0.0,0.0,0.15,0.1,0.0,0.0,0.0,0.0,0.11,0.0,0.0,0.0,0.0,0.0,0.0,0.0,0.0,0.71,3.29,3.66,0.31,4.01,5.03,9.81,0.42,0.23,0.4,1.22,4.56,4.87,4.2,3.9,0.96,1.91,0.085,0.13,0.25,3.83,0.37,0.39,0.32,0.65,1.24,0.45,0.16,0.17,0.11,0.14,0.48,3.3,0.18,2.83,3.18,6.58,6.26,2.47,0.45,1.38,2.72,0.23,0.1,0.96,3.99,0.22,0.28,0.79,4.72,1.54,3.89,1.38,3.13,4.75,0.34,0.6,9.5,3.66,0.13,0.0,5.57,1.06,0.68,0.15,0.077,0.29,0.39,0.14,0.23,0.22,0.17,0.18,0.054,0.6,0.33,0.1,0.12,0.058,0.079,0.104,0.09,0.11,0.18,0.18,0.74,0.34,1.35,0.24,0.25,0.21,2.63,0.34,0.16,1.34,1.64,1.05,2.75,2.52,4.37,2.55,2.24,1.97,1.84,2.23,3.45,1.21,0.39,0.16,0.16,0.16,0.33,0.8,0.82,0.1,1.67,0.93,5.13,2.5,3.89,2.34,6.76,1.23,0.29,0.25,0.51,1.59,0.11,0.12,0.12,0.14,0.11,0.13,0.0,0.0,0.11,0.11,0.12,0.0,0.0,0.12,0.1,0.0,0.1,0.0,0.0,0.0,0.1,0.11,0.1,0.0,0.11,0.13,0.14,0.1,0.12,0.12,0.0,0.0,0.0,0.0,0.1,0.12,0.1,0.1,0.0,0.11,0.09,0.09,0.13,0.09,0.07,0.06,0.08,0.11,0.12,0.13,0.11,0.0,0.0,0.0,0.1,0.11,0.1,0.11,0.0,0.0,0.1,0.0,0.1,0.1,0.07,0.07,0.09,0.1,0.0,0.1,0.06,0.08,0.11,0.06,0.11,0.2,0.41,0.21,0.2,0.21,0.21,0.24,0.22,0.19,0.16,0.24,0.18,0.19,0.16,0.13,0.18,0.19,0.26,0.112,0.169,0.14,0.19,0.24,0.17,0.16,0.2,0.21,0.17,0.18,0.22,0.17,0.2,0.11,0.21,0.23,0.21,0.21,0.24,0.24,0.25,0.17,0.25,0.28,0.14,0.13,0.24,0.23,0.21,0.21,0.2,0.2,0.21,0.17,0.18,0.17,0.15,0.16,0.25,0.13,0.24,0.19,0.24,0.17,0.19,0.17,0.14,0.21,0.24,0.21,0.17,0.16,0.14,0.23,0.2,0.2,0.35,0.22,0.22,0.2,0.15,0.21,0.21,0.103,0.14,0.141,0.19,0.19,0.16,0.19,0.16,0.15,0.14,0.14,0.15,0.12,0.14,0.14,0.2,0.17,0.14,0.13,0.15,0.18,0.17,0.17,0.18,0.22,0.15,2.37,0.43,4.03,0.1,0.0,0.0,0.0,0.12,0.65,0.37,0.09,3.85,0.0,4.84,0.08,0.06,0.06,0.2,0.06,0.09,0.05,0.1,0.14,0.075,8.17,14.92,5.64,0.0,0.06,0.15,7.06,7.95,0.0,0.0,0.0,0.0,0.0,0.0,0.0,0.0,0.1,0.0,0.076,0.15,13.26,0.11,0.07,0.0,0.0,0.0,0.0,0.12,0.0,0.46,0.43,0.2,2.39,8.49,0.05,0.06,0.0,0.0,0.13,0.46,0.0,0.0,0.0,0.0,0.14,0.06,0.0,0.0,0.0,0.15,0.68,0.0,0.72,2.6,0.06,0.1,0.1,0.0,0.63,0.0,0.0,0.0,0.11,0.13,0.33,0.17,0.1,0.0,0.13,0.126,0.13,0.11,0.1,0.1,0.0,0.1,0.12,0.12,0.1,0.0,0.12,0.0,0.13,0.1,0.16,0.15,0.08,0.07,0.63,0.11,0.0,0.0,0.0,0.87,0.74,0.24,0.11,1.92,0.11,0.06,0.07,0.23,0.06,0.08,0.28,1.33,0.16,0.0,0.59,0.0,0.19,0.38,0.65,0.43,0.38,0.49,0.1,0.12,14.86,17.84,29.64,59.84,0.15,0.0,0.1,0.11,0.13,0.14,6.37,0.14,1.19,0.1,0.28,0.11,10.04,0.12,0.1,0.08,0.0,0.0,0.17,0.0,0.14,0.06,0.11,5.1,0.08,0.14,0.0,0.1,0.19,0.1,0.12,0.0,0.11,0.06,0.1,0.0,0.13,0.23,0.25,0.31,1.64,0.0,0.12,0.0,0.13,0.0,0.096,0.0,0.43,0.35,0.51,0.13,0.12,0.0,0.12,0.1,0.1,0.0,60.47,0.18,17.59,0.0,0.11,0.2,0.0,8.33,0.1,0.14,0.0,0.1,0.12,0.0,0.0,0.12,0.0,0.0,0.13,0.0,0.28,0.63,0.12,0.42,0.0,0.0,0.11,0.13,0.11,0.14,0.11,0.0,107.21,13.5,1.01,2.83,0.81,0.14,0.0,0.64,0.1,5.62,0.0,0.07,0.12,0.26,0.11,0.0,0.15,0.0,0.0,0.0,0.0,0.1,0.0,0.17,0.1,0.0,0.08,0.37,3.92,0.08,0.21,0.11,0.2,0.05,0.07,0.0,0.12,0.0,0.12,0.13,0.83,22.38,0.05,0.29,51.51,438.5,2.75,0.15,0.23,4.42,2.19,0.9,0.32,0.0,0.3,0.11,0.0,0.0,0.0,0.12,0.0,0.65,0.4,0.11,0.06,0.0,0.12,0.12,0.0,0.0,0.0,0.0,0.1,0.19,0.13,0.15,0.27,1.05,0.108,0.114,0.134,0.32,0.22,0.17,0.77,1.2,0.14,0.0,0.0,0.0,0.0,0.1,0.67,0.0,0.1,0.0,0.11,0.54,1.14,0.12,0.66,0.0,0.0,0.0,0.12,0.11,0.0,3.3,0.11,0.12,0.21,15.86,0.0,0.12,0.1,0.39,0.1,0.248,0.076,0.92,7.25,0.12,0.16,0.77,0.0,0.13,0.2,1.99,0.0,0.11,1.24,0.11,0.29,0.14,0.1,0.18,0.11,1.21,0.1,0.0,0.0,0.13,0.1,0.1,7.76,0.31,6.7,8.25,0.11,3.22,0.45,2.84,0.19,0.28,0.29,0.94,0.3,0.85,0.57,0.85,0.46,0.7,1.35,0.58,0.72,1.3,2.67,3.27,3.6,0.93,2.74,0.29,0.0,0.2,1.43,0.29,0.12,0.09,0.47,0.06,0.05,0.052,0.062,0.56,0.06,0.22,0.0,13.55,2.68,1.28,1.25,0.76,0.64,4.01,0.15,0.17,0.74,20.31,1.55,5.04,0.68,0.7,0.18,0.86,1.04,1.24,1.71,0.13,3.94,10.19,0.56,0.73,2.04,1.93,0.1,0.13,2.96,9.03,0.32,0.23,2.23,0.58,1.92,0.51,0.28,0.08,0.07,0.38,2.85,0.29,0.05,0.052,0.38,0.21,0.13,0.44,0.32,0.69,0.11,0.21,0.42,0.18,2.88,0.0,1.54,0.11,0.12,1.55,0.0,0.11,0.1,0.096,1.23,0.12,0.0,0.12,0.14,0.22,0.11,0.99,1.34,0.14,0.23,0.49,0.28,1.2,0.12,0.1,0.139,0.14,0.17,0.24,0.0,0.105,0.1,0.1,0.0,0.12,0.11,0.13,0.11,0.12,0.17,0.0,0.1,0.13,0.11,0.13,0.14,0.14,0.13,0.13,0.12,0.26,0.1,0.09,0.09,0.0,0.09,0.11,0.12,0.12,0.0,0.1,0.0,0.0,0.0,0.0,0.0,0.0,0.0,0.0,0.06,0.06,0.05,0.058,0.0,0.0,0.0,0.0,0.1,0.11,0.1,0.12,0.11,0.12,0.16,0.161,0.12,0.15,0.0,0.0,0.11,0.18,0.3,2.52,12.47,0.37,4.2,0.37,0.13,0.19,7.56,22.87,0.62,4745.0,17.6,0.11,0.28,0.62,0.34,1219.1,0.44,3.96,5.18,4.59,0.25,5.31,2.83,3.21,1.0,6.87,0.4,1.74,2.21,0.51,0.18,2.06,0.137,0.25,0.26,23.3,3.44,21.82,0.23,3.24,4.56,3.75,15.16,258.05,0.27,0.0,0.14,3.18,25.08,0.17,2.24,98.24,0.23,0.19,1.92,5.1,12.59,0.1,150.47,38.52,0.0,11.21,2.18,3.76,0.25,18.21,5.07,6.5,1.02,0.36,0.17,0.0,0.81,27.29,0.76,1.37,1.18,0.79,1.56,1.8,1.27,2.07,0.98,1.36,1.0,0.44,0.47,0.21,0.28,0.8,0.9,3.08,0.88,1.23,1.09,0.81,0.56,5.26,0.81,8.33,26.54,0.07,8.34,3.67,0.0,0.0,0.07,2.33,19.35,0.33,0.37,14.53,2.72,0.16,0.0,0.1,0.11,0.0,0.13,0.2,0.22,0.12,0.14,0.24,0.19,0.0,0.13,1.61,1.75,5.93,1.67,2.09,3.16,0.11,0.88,2.72,2.82,343.4,0.38,2.65,1.04,0.74,3.93,1.17,0.0,3.1,0.095,0.22,2.03,1.89,0.29,1.55,0.14,0.67,1.4,12.61,0.68,0.24,0.11,5.01,11.92,0.067,4.89,14.68,2.55,1.63,2.36,2.65,0.0,4.84,2.22,2.6,2.52,0.37,139.16,5.67,201.23,54.94,0.35,4.17,2.71,0.22,0.0,0.1,0.0,0.0,0.0,0.0,0.05,0.06,0.07,0.06,0.05,0.09,0.07,0.08,0.1,0.24,0.23,0.33,0.0,0.14,0.0,0.0,0.0,0.19,0.17,0.13,4.99,91.02,1.89,8.41,1.93,2.18,5.69,0.14,0.3,4.57,2.82,2.78,3.98,0.31,1.42,0.4,0.27,0.1,0.116,0.068,0.06,1.85,0.21,0.0,0.37,0.73,0.16,0.06,0.083,0.07,0.06,0.11,0.17,0.16,0.22,1.4,0.15,0.24,1.61,0.36,0.1,0.45,0.21,0.14,0.0,0.0,0.0,0.0,0.0,0.0,0.0,0.0,0.0,0.07,3.93,0.07,0.55,0.0,0.0,0.0,0.0,0.0,0.0,0.11,0.11,0.1,0.16,0.0,0.0,0.0,0.1,0.1,0.0,0.0,0.0,0.0,0.0,0.0,0.0,0.1,0.0,0.0,0.0,0.0,0.0,0.0,0.1,0.0,0.0,0.0,0.0,0.0,0.0,0.0,0.0,0.0,0.0,0.0,0.0,0.0,0.0,0.0,0.0,0.11,0.0,0.0,0.0,0.0,0.18,0.4,0.0,0.0,0.0,0.0,0.52,0.23,0.48,0.0,0.0,0.0,0.33,0.0,0.1,0.1,0.1,0.0,0.12,0.0,0.0,0.11,0.053,0.07,0.0,0.0,1.14,0.0,0.0,0.59,0.49,0.0,0.52,0.99,0.41,0.36,0.2,0.19,0.28,0.4,0.39,0.32,0.19,0.0,0.0,3.35,0.29,1.42,0.2,0.15,0.31,0.12,0.0,3.37,1.43,2.01,5.85,0.94,0.37,0.09,0.077,0.66,1.1,0.17,0.2,0.12,0.2,0.0,0.0,0.0,0.0,0.0,0.13,2.45,0.0,2.34,0.75,0.0,1.1,0.55,0.13,0.21,0.11,0.0,0.15,0.0,0.39,0.0,0.0,0.0,0.0,0.0,0.2,0.38,8.46,4.42,0.35,0.14,3.2,1.4,2.75,15.96,14.49,0.08,0.16,1.62,1.04,0.063,2.88,0.24],\"yaxis\":\"y\"}],                        {\"annotations\":[{\"font\":{\"color\":\"black\",\"size\":20},\"showarrow\":false,\"text\":\"Pearson's r: 0.12\\nPVal: 0.0\",\"textangle\":0,\"x\":0.2,\"xanchor\":\"left\",\"xref\":\"paper\",\"y\":0.95,\"yref\":\"paper\"}],\"legend\":{\"tracegroupgap\":0},\"margin\":{\"t\":60},\"template\":{\"data\":{\"bar\":[{\"error_x\":{\"color\":\"#2a3f5f\"},\"error_y\":{\"color\":\"#2a3f5f\"},\"marker\":{\"line\":{\"color\":\"#E5ECF6\",\"width\":0.5},\"pattern\":{\"fillmode\":\"overlay\",\"size\":10,\"solidity\":0.2}},\"type\":\"bar\"}],\"barpolar\":[{\"marker\":{\"line\":{\"color\":\"#E5ECF6\",\"width\":0.5},\"pattern\":{\"fillmode\":\"overlay\",\"size\":10,\"solidity\":0.2}},\"type\":\"barpolar\"}],\"carpet\":[{\"aaxis\":{\"endlinecolor\":\"#2a3f5f\",\"gridcolor\":\"white\",\"linecolor\":\"white\",\"minorgridcolor\":\"white\",\"startlinecolor\":\"#2a3f5f\"},\"baxis\":{\"endlinecolor\":\"#2a3f5f\",\"gridcolor\":\"white\",\"linecolor\":\"white\",\"minorgridcolor\":\"white\",\"startlinecolor\":\"#2a3f5f\"},\"type\":\"carpet\"}],\"choropleth\":[{\"colorbar\":{\"outlinewidth\":0,\"ticks\":\"\"},\"type\":\"choropleth\"}],\"contour\":[{\"colorbar\":{\"outlinewidth\":0,\"ticks\":\"\"},\"colorscale\":[[0.0,\"#0d0887\"],[0.1111111111111111,\"#46039f\"],[0.2222222222222222,\"#7201a8\"],[0.3333333333333333,\"#9c179e\"],[0.4444444444444444,\"#bd3786\"],[0.5555555555555556,\"#d8576b\"],[0.6666666666666666,\"#ed7953\"],[0.7777777777777778,\"#fb9f3a\"],[0.8888888888888888,\"#fdca26\"],[1.0,\"#f0f921\"]],\"type\":\"contour\"}],\"contourcarpet\":[{\"colorbar\":{\"outlinewidth\":0,\"ticks\":\"\"},\"type\":\"contourcarpet\"}],\"heatmap\":[{\"colorbar\":{\"outlinewidth\":0,\"ticks\":\"\"},\"colorscale\":[[0.0,\"#0d0887\"],[0.1111111111111111,\"#46039f\"],[0.2222222222222222,\"#7201a8\"],[0.3333333333333333,\"#9c179e\"],[0.4444444444444444,\"#bd3786\"],[0.5555555555555556,\"#d8576b\"],[0.6666666666666666,\"#ed7953\"],[0.7777777777777778,\"#fb9f3a\"],[0.8888888888888888,\"#fdca26\"],[1.0,\"#f0f921\"]],\"type\":\"heatmap\"}],\"heatmapgl\":[{\"colorbar\":{\"outlinewidth\":0,\"ticks\":\"\"},\"colorscale\":[[0.0,\"#0d0887\"],[0.1111111111111111,\"#46039f\"],[0.2222222222222222,\"#7201a8\"],[0.3333333333333333,\"#9c179e\"],[0.4444444444444444,\"#bd3786\"],[0.5555555555555556,\"#d8576b\"],[0.6666666666666666,\"#ed7953\"],[0.7777777777777778,\"#fb9f3a\"],[0.8888888888888888,\"#fdca26\"],[1.0,\"#f0f921\"]],\"type\":\"heatmapgl\"}],\"histogram\":[{\"marker\":{\"pattern\":{\"fillmode\":\"overlay\",\"size\":10,\"solidity\":0.2}},\"type\":\"histogram\"}],\"histogram2d\":[{\"colorbar\":{\"outlinewidth\":0,\"ticks\":\"\"},\"colorscale\":[[0.0,\"#0d0887\"],[0.1111111111111111,\"#46039f\"],[0.2222222222222222,\"#7201a8\"],[0.3333333333333333,\"#9c179e\"],[0.4444444444444444,\"#bd3786\"],[0.5555555555555556,\"#d8576b\"],[0.6666666666666666,\"#ed7953\"],[0.7777777777777778,\"#fb9f3a\"],[0.8888888888888888,\"#fdca26\"],[1.0,\"#f0f921\"]],\"type\":\"histogram2d\"}],\"histogram2dcontour\":[{\"colorbar\":{\"outlinewidth\":0,\"ticks\":\"\"},\"colorscale\":[[0.0,\"#0d0887\"],[0.1111111111111111,\"#46039f\"],[0.2222222222222222,\"#7201a8\"],[0.3333333333333333,\"#9c179e\"],[0.4444444444444444,\"#bd3786\"],[0.5555555555555556,\"#d8576b\"],[0.6666666666666666,\"#ed7953\"],[0.7777777777777778,\"#fb9f3a\"],[0.8888888888888888,\"#fdca26\"],[1.0,\"#f0f921\"]],\"type\":\"histogram2dcontour\"}],\"mesh3d\":[{\"colorbar\":{\"outlinewidth\":0,\"ticks\":\"\"},\"type\":\"mesh3d\"}],\"parcoords\":[{\"line\":{\"colorbar\":{\"outlinewidth\":0,\"ticks\":\"\"}},\"type\":\"parcoords\"}],\"pie\":[{\"automargin\":true,\"type\":\"pie\"}],\"scatter\":[{\"marker\":{\"colorbar\":{\"outlinewidth\":0,\"ticks\":\"\"}},\"type\":\"scatter\"}],\"scatter3d\":[{\"line\":{\"colorbar\":{\"outlinewidth\":0,\"ticks\":\"\"}},\"marker\":{\"colorbar\":{\"outlinewidth\":0,\"ticks\":\"\"}},\"type\":\"scatter3d\"}],\"scattercarpet\":[{\"marker\":{\"colorbar\":{\"outlinewidth\":0,\"ticks\":\"\"}},\"type\":\"scattercarpet\"}],\"scattergeo\":[{\"marker\":{\"colorbar\":{\"outlinewidth\":0,\"ticks\":\"\"}},\"type\":\"scattergeo\"}],\"scattergl\":[{\"marker\":{\"colorbar\":{\"outlinewidth\":0,\"ticks\":\"\"}},\"type\":\"scattergl\"}],\"scattermapbox\":[{\"marker\":{\"colorbar\":{\"outlinewidth\":0,\"ticks\":\"\"}},\"type\":\"scattermapbox\"}],\"scatterpolar\":[{\"marker\":{\"colorbar\":{\"outlinewidth\":0,\"ticks\":\"\"}},\"type\":\"scatterpolar\"}],\"scatterpolargl\":[{\"marker\":{\"colorbar\":{\"outlinewidth\":0,\"ticks\":\"\"}},\"type\":\"scatterpolargl\"}],\"scatterternary\":[{\"marker\":{\"colorbar\":{\"outlinewidth\":0,\"ticks\":\"\"}},\"type\":\"scatterternary\"}],\"surface\":[{\"colorbar\":{\"outlinewidth\":0,\"ticks\":\"\"},\"colorscale\":[[0.0,\"#0d0887\"],[0.1111111111111111,\"#46039f\"],[0.2222222222222222,\"#7201a8\"],[0.3333333333333333,\"#9c179e\"],[0.4444444444444444,\"#bd3786\"],[0.5555555555555556,\"#d8576b\"],[0.6666666666666666,\"#ed7953\"],[0.7777777777777778,\"#fb9f3a\"],[0.8888888888888888,\"#fdca26\"],[1.0,\"#f0f921\"]],\"type\":\"surface\"}],\"table\":[{\"cells\":{\"fill\":{\"color\":\"#EBF0F8\"},\"line\":{\"color\":\"white\"}},\"header\":{\"fill\":{\"color\":\"#C8D4E3\"},\"line\":{\"color\":\"white\"}},\"type\":\"table\"}]},\"layout\":{\"annotationdefaults\":{\"arrowcolor\":\"#2a3f5f\",\"arrowhead\":0,\"arrowwidth\":1},\"autotypenumbers\":\"strict\",\"coloraxis\":{\"colorbar\":{\"outlinewidth\":0,\"ticks\":\"\"}},\"colorscale\":{\"diverging\":[[0,\"#8e0152\"],[0.1,\"#c51b7d\"],[0.2,\"#de77ae\"],[0.3,\"#f1b6da\"],[0.4,\"#fde0ef\"],[0.5,\"#f7f7f7\"],[0.6,\"#e6f5d0\"],[0.7,\"#b8e186\"],[0.8,\"#7fbc41\"],[0.9,\"#4d9221\"],[1,\"#276419\"]],\"sequential\":[[0.0,\"#0d0887\"],[0.1111111111111111,\"#46039f\"],[0.2222222222222222,\"#7201a8\"],[0.3333333333333333,\"#9c179e\"],[0.4444444444444444,\"#bd3786\"],[0.5555555555555556,\"#d8576b\"],[0.6666666666666666,\"#ed7953\"],[0.7777777777777778,\"#fb9f3a\"],[0.8888888888888888,\"#fdca26\"],[1.0,\"#f0f921\"]],\"sequentialminus\":[[0.0,\"#0d0887\"],[0.1111111111111111,\"#46039f\"],[0.2222222222222222,\"#7201a8\"],[0.3333333333333333,\"#9c179e\"],[0.4444444444444444,\"#bd3786\"],[0.5555555555555556,\"#d8576b\"],[0.6666666666666666,\"#ed7953\"],[0.7777777777777778,\"#fb9f3a\"],[0.8888888888888888,\"#fdca26\"],[1.0,\"#f0f921\"]]},\"colorway\":[\"#636efa\",\"#EF553B\",\"#00cc96\",\"#ab63fa\",\"#FFA15A\",\"#19d3f3\",\"#FF6692\",\"#B6E880\",\"#FF97FF\",\"#FECB52\"],\"font\":{\"color\":\"#2a3f5f\"},\"geo\":{\"bgcolor\":\"white\",\"lakecolor\":\"white\",\"landcolor\":\"#E5ECF6\",\"showlakes\":true,\"showland\":true,\"subunitcolor\":\"white\"},\"hoverlabel\":{\"align\":\"left\"},\"hovermode\":\"closest\",\"mapbox\":{\"style\":\"light\"},\"paper_bgcolor\":\"white\",\"plot_bgcolor\":\"#E5ECF6\",\"polar\":{\"angularaxis\":{\"gridcolor\":\"white\",\"linecolor\":\"white\",\"ticks\":\"\"},\"bgcolor\":\"#E5ECF6\",\"radialaxis\":{\"gridcolor\":\"white\",\"linecolor\":\"white\",\"ticks\":\"\"}},\"scene\":{\"xaxis\":{\"backgroundcolor\":\"#E5ECF6\",\"gridcolor\":\"white\",\"gridwidth\":2,\"linecolor\":\"white\",\"showbackground\":true,\"ticks\":\"\",\"zerolinecolor\":\"white\"},\"yaxis\":{\"backgroundcolor\":\"#E5ECF6\",\"gridcolor\":\"white\",\"gridwidth\":2,\"linecolor\":\"white\",\"showbackground\":true,\"ticks\":\"\",\"zerolinecolor\":\"white\"},\"zaxis\":{\"backgroundcolor\":\"#E5ECF6\",\"gridcolor\":\"white\",\"gridwidth\":2,\"linecolor\":\"white\",\"showbackground\":true,\"ticks\":\"\",\"zerolinecolor\":\"white\"}},\"shapedefaults\":{\"line\":{\"color\":\"#2a3f5f\"}},\"ternary\":{\"aaxis\":{\"gridcolor\":\"white\",\"linecolor\":\"white\",\"ticks\":\"\"},\"baxis\":{\"gridcolor\":\"white\",\"linecolor\":\"white\",\"ticks\":\"\"},\"bgcolor\":\"#E5ECF6\",\"caxis\":{\"gridcolor\":\"white\",\"linecolor\":\"white\",\"ticks\":\"\"}},\"title\":{\"x\":0.05},\"xaxis\":{\"automargin\":true,\"gridcolor\":\"white\",\"linecolor\":\"white\",\"ticks\":\"\",\"title\":{\"standoff\":15},\"zerolinecolor\":\"white\",\"zerolinewidth\":2},\"yaxis\":{\"automargin\":true,\"gridcolor\":\"white\",\"linecolor\":\"white\",\"ticks\":\"\",\"title\":{\"standoff\":15},\"zerolinecolor\":\"white\",\"zerolinewidth\":2}}},\"xaxis\":{\"anchor\":\"y\",\"domain\":[0.0,1.0],\"title\":{\"text\":\"Total_cyano_cell_count\"},\"type\":\"log\"},\"yaxis\":{\"anchor\":\"x\",\"domain\":[0.0,1.0],\"title\":{\"text\":\"MC-LR_conc\"},\"type\":\"log\"}},                        {\"responsive\": true}                    ).then(function(){\n",
       "                            \n",
       "var gd = document.getElementById('31269aa7-4726-46d0-ab29-e76fd52d16cb');\n",
       "var x = new MutationObserver(function (mutations, observer) {{\n",
       "        var display = window.getComputedStyle(gd).display;\n",
       "        if (!display || display === 'none') {{\n",
       "            console.log([gd, 'removed!']);\n",
       "            Plotly.purge(gd);\n",
       "            observer.disconnect();\n",
       "        }}\n",
       "}});\n",
       "\n",
       "// Listen for the removal of the full notebook cells\n",
       "var notebookContainer = gd.closest('#notebook-container');\n",
       "if (notebookContainer) {{\n",
       "    x.observe(notebookContainer, {childList: true});\n",
       "}}\n",
       "\n",
       "// Listen for the clearing of the current output cell\n",
       "var outputEl = gd.closest('.output');\n",
       "if (outputEl) {{\n",
       "    x.observe(outputEl, {childList: true});\n",
       "}}\n",
       "\n",
       "                        })                };                });            </script>        </div>"
      ]
     },
     "metadata": {},
     "output_type": "display_data"
    }
   ],
   "source": [
    "# Plot 1 Cell Count vs MCLR\n",
    "corr = stats.pearsonr(CellCountVsMCLR['MC-LR_conc'], CellCountVsMCLR['Total_cyano_cell_count'])\n",
    "fig = px.scatter(CellCountVsMCLR, x = 'Total_cyano_cell_count', y = 'MC-LR_conc')\n",
    "# add annotation\n",
    "fig.add_annotation(dict(font=dict(color='black',size=20),\n",
    "                                        x=0.2,\n",
    "                                        y=0.95,\n",
    "                                        showarrow=False,\n",
    "                                        text= \"Pearson's r: \" + str(round(corr[0], 2)) +\"\\nPVal: \" + str(round(corr[1], 2)),\n",
    "                                        textangle=0,\n",
    "                                        xanchor='left',\n",
    "                                        xref=\"paper\",\n",
    "                                        yref=\"paper\"))\n",
    "fig.show()\n",
    "\n",
    "## Remove Berry Creek Reservoir and Isle lake from the dataset\n",
    "\n",
    "df = CellCountVsMCLR[~CellCountVsMCLR['Waterbody_name'].isin(['Berry Creek Reservoir', 'Isle Lake'])]\n",
    "corr = stats.pearsonr(df['MC-LR_conc'], df['Total_cyano_cell_count'])\n",
    "fig = px.scatter(df, x = 'Total_cyano_cell_count', y = 'MC-LR_conc',\n",
    "                log_x=True,log_y=True)\n",
    "fig.add_annotation(dict(font=dict(color='black',size=20),\n",
    "                                        x=0.2,\n",
    "                                        y=0.95,\n",
    "                                        showarrow=False,\n",
    "                                        text= \"Pearson's r: \" + str(round(corr[0], 2)) +\"\\nPVal: \" + str(round(corr[1], 2)),\n",
    "                                        textangle=0,\n",
    "                                        xanchor='left',\n",
    "                                        xref=\"paper\",\n",
    "                                        yref=\"paper\"))\n",
    "fig.show()\n"
   ]
  },
  {
   "cell_type": "code",
   "execution_count": 16,
   "id": "0472b436",
   "metadata": {
    "scrolled": true
   },
   "outputs": [
    {
     "data": {
      "application/vnd.plotly.v1+json": {
       "config": {
        "plotlyServerURL": "https://plot.ly"
       },
       "data": [
        {
         "hovertemplate": "Total_cyano_cell_count=%{x}<br>Microcystis_mcyE=%{y}<extra></extra>",
         "legendgroup": "",
         "marker": {
          "color": "#636efa",
          "symbol": "circle"
         },
         "mode": "markers",
         "name": "",
         "orientation": "v",
         "showlegend": false,
         "type": "scatter",
         "x": [
          43355,
          23992,
          95988,
          0,
          5704,
          0,
          61574,
          0,
          3820,
          7283,
          58824,
          69774,
          178303,
          158493,
          132366,
          28520,
          0,
          0,
          48383,
          7106,
          1101,
          0,
          86240,
          50181,
          116990,
          77802,
          19,
          47772,
          8624,
          19303,
          17802,
          0,
          0,
          138594,
          43118,
          97133,
          15533,
          7079,
          6439,
          2201,
          2956,
          134809,
          11700,
          77515,
          10441,
          16495,
          0,
          181773,
          79522,
          66094,
          13304,
          204991,
          0,
          15279,
          41915,
          0,
          122639,
          117844,
          381461,
          36506,
          2801,
          272830,
          0,
          0,
          0,
          0,
          1884,
          0,
          0,
          15941,
          3310,
          4330,
          0,
          6621,
          7036,
          5296,
          375,
          23224,
          1514,
          7868,
          15839,
          10417,
          166373,
          71063,
          238162,
          235916,
          65484,
          1354214,
          527120,
          23810,
          32341,
          132162,
          0,
          48638,
          136370,
          51360,
          1848,
          59,
          2954,
          0,
          0,
          0,
          0,
          0,
          0,
          379316,
          193743,
          0,
          542055,
          354492,
          32339,
          0,
          0,
          4681,
          24731,
          0,
          63445,
          0,
          10410,
          3080,
          0,
          0,
          1950597,
          231792,
          269926,
          66514,
          35142,
          115204,
          141915,
          10166,
          51153,
          366185,
          627559,
          1240769,
          821083,
          3338681,
          37484,
          213624,
          36567,
          8352,
          185128,
          443595,
          18029,
          8913,
          18589,
          0,
          0,
          326457,
          293800,
          13190,
          457245,
          65444,
          31140,
          3922,
          157881,
          976694,
          122995,
          223451,
          273746,
          44258,
          163432,
          79068,
          278713,
          155895,
          198218,
          451643,
          1604977,
          191567,
          26487,
          84194,
          1873636,
          349918,
          422309,
          16385,
          53700,
          787702,
          936894,
          32468,
          101794,
          79940,
          264464,
          181998,
          22889,
          197979,
          9422,
          51184,
          441160,
          233525,
          81996,
          167303,
          125923,
          89891,
          132417,
          78189,
          55004,
          183805,
          291825,
          161217,
          6492,
          466158,
          35067,
          179043,
          88515,
          25923,
          370297,
          3820,
          101663,
          22740,
          83777,
          45874,
          96206,
          138936,
          105792,
          11254,
          108099,
          66895,
          632356,
          336683,
          422469,
          59811,
          870532,
          207288,
          66946,
          55868,
          26484,
          105958,
          368501,
          869726,
          12987,
          22450,
          399992,
          2563078,
          1246,
          579630,
          203024,
          730975,
          203888,
          0,
          118082,
          9016,
          208629,
          86580,
          4055,
          52167,
          49631,
          136393,
          49506,
          150395,
          37636,
          254900,
          158135,
          154928,
          68373,
          143521,
          52665,
          483831,
          365932,
          50012,
          122180,
          28674,
          97581,
          617163,
          842553,
          1077182,
          7849333,
          241022,
          0,
          244422,
          160313,
          67395,
          4999,
          0,
          13552,
          241338,
          75764,
          58250,
          11103,
          83524,
          104565,
          375347,
          696411,
          1063709,
          210630,
          183406,
          479721,
          96328,
          94887,
          415346,
          1218437,
          70232,
          185188,
          776319,
          842493,
          666059,
          280113,
          295796,
          113887,
          1469696,
          51591,
          190985,
          234938,
          33360,
          8352,
          866,
          327324,
          4403362,
          917088,
          331007,
          131302,
          36924,
          1300834,
          59842,
          1638210,
          143519,
          1455131,
          5610115,
          113647,
          199388,
          1687938,
          276995,
          76369,
          183682,
          114975,
          65909,
          53589,
          475561,
          131078,
          684,
          184314,
          432671,
          79553,
          3162032,
          0,
          163483,
          519462,
          382703,
          82327,
          147697,
          103901,
          41609,
          338477,
          495290,
          288647,
          603993,
          1330685,
          865524,
          18832,
          201848,
          138429,
          67769,
          443962,
          152788,
          309704,
          444039,
          287519,
          622364,
          1708837,
          26738,
          754455,
          111027,
          348117,
          284463,
          127150,
          246038,
          189084,
          109767,
          291936,
          200191,
          3724,
          330929,
          330781,
          36643,
          234144,
          1058059,
          76394,
          159920,
          222017,
          96772,
          65513,
          309388,
          281507,
          209405,
          214706,
          20943,
          103055,
          265164,
          601172,
          611358,
          80832,
          15356,
          80754,
          49019,
          90856,
          22157,
          36669,
          52189,
          208031,
          68893,
          44260,
          56328,
          738477,
          254647,
          0,
          153775,
          102581,
          79771,
          665087,
          829082,
          230082,
          102252,
          164280,
          685002,
          181902,
          84162,
          194975,
          607431,
          3972,
          25618,
          177336,
          141569,
          500755,
          720083,
          491040,
          127836,
          63761,
          397042,
          1527884,
          636618,
          418302,
          113339,
          196754,
          1049864,
          9116,
          0,
          12732,
          258784,
          433171,
          340358,
          0,
          513295,
          129167,
          314288,
          209117,
          33262,
          53297,
          739,
          111791,
          25465,
          590323,
          76201,
          52040,
          312789,
          259613,
          2084635,
          270360,
          320193,
          0,
          13496,
          323110,
          52113,
          123864,
          256643,
          475221,
          137433,
          112212,
          296837,
          648804,
          147586,
          377776,
          782901,
          159728,
          321598,
          973986,
          310512,
          229510,
          414673,
          261982,
          22256,
          54902,
          322996,
          988822,
          516615,
          411593,
          1132711,
          328250,
          611320,
          320245,
          283145,
          151262,
          49963,
          96012,
          641441,
          139831,
          488663,
          7084,
          126274,
          83512,
          120372,
          141660,
          222196,
          356252,
          227188,
          290013,
          310033,
          53844,
          84880,
          690626,
          338661,
          13522,
          96708,
          40744,
          6366,
          43263,
          1910,
          4093,
          306392,
          2220319,
          0,
          9856,
          199313,
          5421788,
          73178,
          0,
          415711,
          1909855,
          0,
          892061,
          509295,
          0,
          69543,
          160091,
          15890,
          243035,
          155844,
          95860,
          222399,
          94117,
          59892,
          87961,
          157217,
          307328,
          30799,
          165498,
          66848,
          22483,
          158122,
          317406,
          362992,
          65086,
          407436,
          720652,
          468798,
          336135,
          244461,
          174433,
          148714,
          169926,
          12987,
          135426,
          302225,
          291062,
          109499,
          115457,
          39725,
          177743,
          305577,
          7843,
          16297,
          157881,
          28699,
          430354,
          236822,
          287751,
          760326,
          361599,
          351031,
          88322,
          556451,
          187566,
          672340,
          142805,
          113804,
          70028,
          8193,
          78991,
          43902,
          402776,
          98124,
          13361,
          178508,
          1028271,
          15400,
          175490,
          2309896,
          6507,
          1086724,
          960020,
          577567,
          399150,
          313099,
          25549,
          0,
          99509,
          1110405,
          23054,
          568095,
          236810,
          325234,
          0,
          348995,
          51693,
          333982,
          713,
          10882,
          256150,
          279620,
          449321,
          311067,
          148820,
          86422,
          270759,
          67181,
          863204,
          331295,
          351771,
          977948,
          123359,
          854086,
          447416,
          881195,
          159843,
          194791,
          134454,
          76292,
          231327,
          1103862,
          1492255,
          0,
          929502,
          311994,
          185893,
          4026,
          0,
          8760,
          155164,
          517417,
          7084,
          0,
          0,
          0,
          49656,
          26789,
          21135,
          40488,
          206875,
          114787,
          63804,
          30194,
          63192,
          25872,
          151872,
          162975,
          133487,
          1308379,
          700280,
          184620,
          636618,
          280112,
          432900,
          3896,
          38197,
          1935,
          7824,
          456932,
          0,
          0,
          17316,
          28978,
          17316,
          88108,
          81487,
          570410,
          490080,
          1550970,
          6906,
          1185307,
          146820,
          360227,
          36389,
          1901,
          8946,
          146890,
          93,
          19095,
          14784,
          1793582,
          1107195,
          135574,
          0,
          184842,
          360581,
          153384,
          299376,
          123658,
          113498,
          99665,
          412834,
          206264,
          38961,
          555619,
          145537,
          19609,
          43672,
          398362,
          381,
          45837,
          297938,
          8632,
          208297,
          99313,
          618793,
          274172,
          58144,
          43291,
          42017
         ],
         "xaxis": "x",
         "y": [
          462.5,
          122,
          150,
          337.5,
          13600,
          442.5,
          21950,
          2825,
          5075,
          9100,
          199.25,
          580,
          295,
          168,
          445,
          146.75,
          877.5,
          710,
          577.5,
          1965,
          595,
          54.25,
          287.5,
          385,
          1925,
          2120,
          392.5,
          8775,
          35750,
          13125,
          835,
          55.75,
          1437.5,
          186.25,
          169,
          3575,
          5400,
          7850,
          355,
          192.25,
          397.5,
          7725,
          12625,
          510,
          6050,
          2650,
          815,
          1057.5,
          59.75,
          482.5,
          385,
          21675,
          243.5,
          29500,
          352500,
          141,
          2002.5,
          5750,
          3075000,
          1739.9999999999998,
          175.5,
          1195000,
          187.5,
          82,
          485,
          782.5,
          158,
          510,
          121.75,
          140.75,
          357.5,
          1952.5,
          85.5,
          70,
          198.75,
          52,
          180.75,
          67,
          177,
          6125,
          1850,
          220.75,
          180500,
          46750,
          66500,
          12725,
          1372.5,
          2015000,
          8550,
          79500,
          25750,
          505000,
          280,
          290,
          140000,
          77750,
          197.25,
          57.75,
          72,
          367.5,
          70.25,
          552.5,
          567.5,
          100.75,
          1802.5,
          62,
          178.25,
          192.25,
          154,
          1280,
          517.5,
          58.5,
          74.75,
          167,
          150.5,
          94.5,
          35500,
          44750,
          99.75,
          592.5,
          535,
          380,
          68500,
          482.5,
          987.5,
          140000,
          3100,
          470,
          5600,
          4375,
          1620,
          1040000,
          219500,
          395000,
          4100,
          165750,
          8825,
          435000,
          722.5,
          262.5,
          260,
          1225,
          510,
          130.5,
          1470,
          83.5,
          205,
          18850,
          49750,
          815,
          127250,
          11100,
          2825,
          4000,
          1707.5,
          85750,
          179000,
          51500,
          9625,
          53,
          1585,
          154,
          367.5,
          632.5,
          395,
          525,
          322.5,
          42500,
          59250,
          49750,
          22275,
          37250,
          8775,
          4925,
          295,
          26250,
          3200,
          30000,
          75500,
          97000,
          140000,
          53000,
          53250,
          92250,
          1305,
          2650,
          405000,
          132500,
          17550,
          842.5000000000001,
          455,
          507.5,
          827.5,
          715,
          163,
          218.75,
          147,
          505,
          2037.5,
          217.75000000000003,
          580,
          937.5,
          325,
          422.5,
          51000,
          174,
          41000,
          59000,
          65000,
          71750,
          69500,
          85250,
          113000,
          392.5,
          12875,
          14650,
          19600,
          24650,
          24950,
          29250,
          36500,
          230250,
          24675,
          732.5,
          497.5,
          102.75,
          60.75000000000001,
          357.5,
          1955,
          310,
          415.00000000000006,
          282.5,
          125.5,
          315,
          71,
          239.75,
          203.75,
          59,
          62.5,
          69.25,
          812.5,
          642.5,
          55.75,
          1082.5,
          59.5,
          166.75,
          136.25,
          242,
          171.75,
          223.25,
          350,
          397.5,
          163.75,
          405,
          171,
          162.75,
          81.25,
          70.25,
          420,
          172.25,
          131,
          1127.5,
          168.5,
          677.5,
          1315,
          1097.5,
          5450,
          470,
          602.5,
          1745,
          53.25,
          222.00000000000003,
          133.25,
          397.5,
          437.5,
          97.75,
          875,
          342.5,
          877.5,
          62.25000000000001,
          80.25,
          137.5,
          136,
          213,
          243.5,
          1497.5,
          205.50000000000003,
          5625,
          74000,
          3150,
          221.5,
          655,
          20025,
          3675,
          3125,
          3050,
          4450,
          37500,
          3875,
          60.25,
          104.25,
          119,
          164.75,
          177,
          13775,
          84250,
          19000,
          16575,
          52750,
          65.25,
          99500,
          1385,
          502.50000000000006,
          214.25,
          20350,
          5125,
          522.5,
          26500,
          5900,
          255,
          345,
          57.75,
          287.5,
          1150,
          402.50000000000006,
          890,
          350,
          116.25,
          1325,
          3875,
          5050,
          84.25,
          69,
          229.25,
          345,
          477.50000000000006,
          1482.5,
          1440,
          1335,
          70.75,
          185.5,
          477.50000000000006,
          23875,
          2052.5,
          248,
          347.5,
          655,
          727.5,
          1095,
          18950,
          2675,
          300,
          77500,
          100500,
          110250,
          320000,
          30000,
          365,
          112,
          172500,
          5250,
          8500,
          755,
          315,
          252.5,
          652.5,
          3175,
          187.75,
          148.75,
          82500,
          437500,
          277.5,
          572.5,
          745,
          191.75,
          59000,
          134.5,
          27250,
          81.75,
          6800,
          47000,
          1157.5,
          12225,
          1132.5,
          980,
          3625000,
          8525,
          1452.5,
          147,
          111.5,
          86.25,
          4125,
          657.5,
          1820,
          189.25,
          1557.5,
          1477.5,
          5525,
          90.25,
          1322.5,
          822.5,
          760,
          200.75,
          18375,
          84500,
          1495,
          182250,
          2187500,
          93750,
          977.5,
          720,
          30750,
          3000,
          540,
          197.75,
          732.5,
          161,
          203.5,
          590,
          135.25,
          12250,
          745,
          2725,
          892.5000000000001,
          1015,
          680,
          189.75,
          2550,
          48000,
          56.49999999999999,
          143000,
          98.75,
          530,
          226.5,
          78.25,
          22275,
          23575,
          425,
          188.25,
          452.50000000000006,
          149.75,
          20150,
          1502.5,
          195.25,
          200.5,
          231.5,
          572.5,
          935,
          412.5,
          1512.5,
          442.5,
          502500,
          12525,
          190.5,
          1110,
          8075,
          2427.5,
          472.5,
          4000,
          201,
          2600,
          2057.5,
          1127.5,
          6425,
          6425,
          62.25000000000001,
          525,
          360,
          135.75,
          2325,
          2700,
          7925,
          3900,
          5325,
          397.5,
          18975,
          1717.5,
          81.25,
          462.5,
          2285,
          3575,
          955,
          297.5,
          1147.5,
          11750,
          1027.5,
          1240,
          14225,
          91000,
          147750,
          21500,
          1982.5,
          22425,
          557500,
          295,
          6175,
          8800,
          635,
          90.75,
          32000,
          452.50000000000006,
          15325,
          21975,
          22325,
          47750,
          183.25,
          1410,
          26000,
          330,
          652.5,
          216.75,
          842.5000000000001,
          695,
          201,
          2207.5,
          1560,
          620,
          86,
          450,
          290,
          154.5,
          179.75,
          1540,
          191.75,
          69.25,
          163,
          165.75,
          472.5,
          183,
          200,
          57500,
          327.5,
          68.5,
          5375,
          221250,
          1572500,
          3150,
          18625,
          2925,
          420000,
          295000,
          2925,
          242500,
          19800,
          5850,
          110750,
          267500,
          502500,
          9500,
          97750,
          231750,
          6425,
          2675000,
          213750,
          36250,
          103500,
          55000,
          15525,
          6200,
          218750,
          852.5,
          23700,
          110.75,
          450,
          8675,
          525000,
          90.25,
          51750,
          11875000,
          312.5,
          66000,
          590000,
          6600000,
          2500000,
          1772500,
          415000,
          237250,
          22625,
          15525,
          510000,
          202250,
          555000,
          31000,
          1737.5,
          550,
          6625,
          19425000,
          148500,
          15200,
          4600,
          130500,
          2435,
          34000,
          457.5,
          163.25,
          420,
          1317500,
          347.5,
          1320,
          3950,
          149,
          28500,
          485,
          2550000,
          149.5,
          33500,
          38000,
          76750,
          72.5,
          205500,
          852.5,
          49500,
          627.5,
          199250,
          31750,
          61.75000000000001,
          5625,
          5025,
          14550,
          12900,
          3750,
          5175,
          6175,
          12525,
          7775,
          16600,
          9525,
          2012.5,
          3475,
          10900,
          5650,
          5575,
          5925,
          8475,
          94250,
          2675,
          164250,
          38000,
          52750,
          79750000,
          392.5,
          1335,
          181.75,
          223,
          163.75,
          3225,
          1030,
          192.25,
          122.25,
          3550,
          103.5,
          345,
          510,
          337.5,
          635,
          41750,
          20225,
          37750,
          56000,
          1422.5,
          2875,
          497500,
          38750,
          35250,
          82,
          937.5,
          272.5,
          235.25,
          1037.5,
          2750,
          168.25,
          1137.5,
          30500,
          87750,
          167,
          410,
          610,
          9475,
          975,
          300,
          372.5,
          1782.5,
          1555,
          985,
          487.5,
          625,
          53.25,
          55.25,
          322.5,
          175.75,
          752.5,
          662.5,
          105,
          171.75,
          47000,
          92.75,
          392.5,
          183.5,
          1432.5,
          216.75,
          470,
          1775,
          3500,
          507.5,
          1072.5,
          2650,
          6225,
          58.25,
          1435,
          92.25,
          1477.5,
          4925,
          228,
          1850,
          13075,
          2237.5,
          6625,
          582.5,
          194.25,
          307.5,
          345,
          61500,
          385,
          17275,
          505
         ],
         "yaxis": "y"
        }
       ],
       "layout": {
        "annotations": [
         {
          "font": {
           "color": "black",
           "size": 20
          },
          "showarrow": false,
          "text": "Pearson's r: 0.01\nPVal: 0.8",
          "textangle": 0,
          "x": 0.2,
          "xanchor": "left",
          "xref": "paper",
          "y": 0.95,
          "yref": "paper"
         }
        ],
        "legend": {
         "tracegroupgap": 0
        },
        "margin": {
         "t": 60
        },
        "template": {
         "data": {
          "bar": [
           {
            "error_x": {
             "color": "#2a3f5f"
            },
            "error_y": {
             "color": "#2a3f5f"
            },
            "marker": {
             "line": {
              "color": "#E5ECF6",
              "width": 0.5
             },
             "pattern": {
              "fillmode": "overlay",
              "size": 10,
              "solidity": 0.2
             }
            },
            "type": "bar"
           }
          ],
          "barpolar": [
           {
            "marker": {
             "line": {
              "color": "#E5ECF6",
              "width": 0.5
             },
             "pattern": {
              "fillmode": "overlay",
              "size": 10,
              "solidity": 0.2
             }
            },
            "type": "barpolar"
           }
          ],
          "carpet": [
           {
            "aaxis": {
             "endlinecolor": "#2a3f5f",
             "gridcolor": "white",
             "linecolor": "white",
             "minorgridcolor": "white",
             "startlinecolor": "#2a3f5f"
            },
            "baxis": {
             "endlinecolor": "#2a3f5f",
             "gridcolor": "white",
             "linecolor": "white",
             "minorgridcolor": "white",
             "startlinecolor": "#2a3f5f"
            },
            "type": "carpet"
           }
          ],
          "choropleth": [
           {
            "colorbar": {
             "outlinewidth": 0,
             "ticks": ""
            },
            "type": "choropleth"
           }
          ],
          "contour": [
           {
            "colorbar": {
             "outlinewidth": 0,
             "ticks": ""
            },
            "colorscale": [
             [
              0,
              "#0d0887"
             ],
             [
              0.1111111111111111,
              "#46039f"
             ],
             [
              0.2222222222222222,
              "#7201a8"
             ],
             [
              0.3333333333333333,
              "#9c179e"
             ],
             [
              0.4444444444444444,
              "#bd3786"
             ],
             [
              0.5555555555555556,
              "#d8576b"
             ],
             [
              0.6666666666666666,
              "#ed7953"
             ],
             [
              0.7777777777777778,
              "#fb9f3a"
             ],
             [
              0.8888888888888888,
              "#fdca26"
             ],
             [
              1,
              "#f0f921"
             ]
            ],
            "type": "contour"
           }
          ],
          "contourcarpet": [
           {
            "colorbar": {
             "outlinewidth": 0,
             "ticks": ""
            },
            "type": "contourcarpet"
           }
          ],
          "heatmap": [
           {
            "colorbar": {
             "outlinewidth": 0,
             "ticks": ""
            },
            "colorscale": [
             [
              0,
              "#0d0887"
             ],
             [
              0.1111111111111111,
              "#46039f"
             ],
             [
              0.2222222222222222,
              "#7201a8"
             ],
             [
              0.3333333333333333,
              "#9c179e"
             ],
             [
              0.4444444444444444,
              "#bd3786"
             ],
             [
              0.5555555555555556,
              "#d8576b"
             ],
             [
              0.6666666666666666,
              "#ed7953"
             ],
             [
              0.7777777777777778,
              "#fb9f3a"
             ],
             [
              0.8888888888888888,
              "#fdca26"
             ],
             [
              1,
              "#f0f921"
             ]
            ],
            "type": "heatmap"
           }
          ],
          "heatmapgl": [
           {
            "colorbar": {
             "outlinewidth": 0,
             "ticks": ""
            },
            "colorscale": [
             [
              0,
              "#0d0887"
             ],
             [
              0.1111111111111111,
              "#46039f"
             ],
             [
              0.2222222222222222,
              "#7201a8"
             ],
             [
              0.3333333333333333,
              "#9c179e"
             ],
             [
              0.4444444444444444,
              "#bd3786"
             ],
             [
              0.5555555555555556,
              "#d8576b"
             ],
             [
              0.6666666666666666,
              "#ed7953"
             ],
             [
              0.7777777777777778,
              "#fb9f3a"
             ],
             [
              0.8888888888888888,
              "#fdca26"
             ],
             [
              1,
              "#f0f921"
             ]
            ],
            "type": "heatmapgl"
           }
          ],
          "histogram": [
           {
            "marker": {
             "pattern": {
              "fillmode": "overlay",
              "size": 10,
              "solidity": 0.2
             }
            },
            "type": "histogram"
           }
          ],
          "histogram2d": [
           {
            "colorbar": {
             "outlinewidth": 0,
             "ticks": ""
            },
            "colorscale": [
             [
              0,
              "#0d0887"
             ],
             [
              0.1111111111111111,
              "#46039f"
             ],
             [
              0.2222222222222222,
              "#7201a8"
             ],
             [
              0.3333333333333333,
              "#9c179e"
             ],
             [
              0.4444444444444444,
              "#bd3786"
             ],
             [
              0.5555555555555556,
              "#d8576b"
             ],
             [
              0.6666666666666666,
              "#ed7953"
             ],
             [
              0.7777777777777778,
              "#fb9f3a"
             ],
             [
              0.8888888888888888,
              "#fdca26"
             ],
             [
              1,
              "#f0f921"
             ]
            ],
            "type": "histogram2d"
           }
          ],
          "histogram2dcontour": [
           {
            "colorbar": {
             "outlinewidth": 0,
             "ticks": ""
            },
            "colorscale": [
             [
              0,
              "#0d0887"
             ],
             [
              0.1111111111111111,
              "#46039f"
             ],
             [
              0.2222222222222222,
              "#7201a8"
             ],
             [
              0.3333333333333333,
              "#9c179e"
             ],
             [
              0.4444444444444444,
              "#bd3786"
             ],
             [
              0.5555555555555556,
              "#d8576b"
             ],
             [
              0.6666666666666666,
              "#ed7953"
             ],
             [
              0.7777777777777778,
              "#fb9f3a"
             ],
             [
              0.8888888888888888,
              "#fdca26"
             ],
             [
              1,
              "#f0f921"
             ]
            ],
            "type": "histogram2dcontour"
           }
          ],
          "mesh3d": [
           {
            "colorbar": {
             "outlinewidth": 0,
             "ticks": ""
            },
            "type": "mesh3d"
           }
          ],
          "parcoords": [
           {
            "line": {
             "colorbar": {
              "outlinewidth": 0,
              "ticks": ""
             }
            },
            "type": "parcoords"
           }
          ],
          "pie": [
           {
            "automargin": true,
            "type": "pie"
           }
          ],
          "scatter": [
           {
            "marker": {
             "colorbar": {
              "outlinewidth": 0,
              "ticks": ""
             }
            },
            "type": "scatter"
           }
          ],
          "scatter3d": [
           {
            "line": {
             "colorbar": {
              "outlinewidth": 0,
              "ticks": ""
             }
            },
            "marker": {
             "colorbar": {
              "outlinewidth": 0,
              "ticks": ""
             }
            },
            "type": "scatter3d"
           }
          ],
          "scattercarpet": [
           {
            "marker": {
             "colorbar": {
              "outlinewidth": 0,
              "ticks": ""
             }
            },
            "type": "scattercarpet"
           }
          ],
          "scattergeo": [
           {
            "marker": {
             "colorbar": {
              "outlinewidth": 0,
              "ticks": ""
             }
            },
            "type": "scattergeo"
           }
          ],
          "scattergl": [
           {
            "marker": {
             "colorbar": {
              "outlinewidth": 0,
              "ticks": ""
             }
            },
            "type": "scattergl"
           }
          ],
          "scattermapbox": [
           {
            "marker": {
             "colorbar": {
              "outlinewidth": 0,
              "ticks": ""
             }
            },
            "type": "scattermapbox"
           }
          ],
          "scatterpolar": [
           {
            "marker": {
             "colorbar": {
              "outlinewidth": 0,
              "ticks": ""
             }
            },
            "type": "scatterpolar"
           }
          ],
          "scatterpolargl": [
           {
            "marker": {
             "colorbar": {
              "outlinewidth": 0,
              "ticks": ""
             }
            },
            "type": "scatterpolargl"
           }
          ],
          "scatterternary": [
           {
            "marker": {
             "colorbar": {
              "outlinewidth": 0,
              "ticks": ""
             }
            },
            "type": "scatterternary"
           }
          ],
          "surface": [
           {
            "colorbar": {
             "outlinewidth": 0,
             "ticks": ""
            },
            "colorscale": [
             [
              0,
              "#0d0887"
             ],
             [
              0.1111111111111111,
              "#46039f"
             ],
             [
              0.2222222222222222,
              "#7201a8"
             ],
             [
              0.3333333333333333,
              "#9c179e"
             ],
             [
              0.4444444444444444,
              "#bd3786"
             ],
             [
              0.5555555555555556,
              "#d8576b"
             ],
             [
              0.6666666666666666,
              "#ed7953"
             ],
             [
              0.7777777777777778,
              "#fb9f3a"
             ],
             [
              0.8888888888888888,
              "#fdca26"
             ],
             [
              1,
              "#f0f921"
             ]
            ],
            "type": "surface"
           }
          ],
          "table": [
           {
            "cells": {
             "fill": {
              "color": "#EBF0F8"
             },
             "line": {
              "color": "white"
             }
            },
            "header": {
             "fill": {
              "color": "#C8D4E3"
             },
             "line": {
              "color": "white"
             }
            },
            "type": "table"
           }
          ]
         },
         "layout": {
          "annotationdefaults": {
           "arrowcolor": "#2a3f5f",
           "arrowhead": 0,
           "arrowwidth": 1
          },
          "autotypenumbers": "strict",
          "coloraxis": {
           "colorbar": {
            "outlinewidth": 0,
            "ticks": ""
           }
          },
          "colorscale": {
           "diverging": [
            [
             0,
             "#8e0152"
            ],
            [
             0.1,
             "#c51b7d"
            ],
            [
             0.2,
             "#de77ae"
            ],
            [
             0.3,
             "#f1b6da"
            ],
            [
             0.4,
             "#fde0ef"
            ],
            [
             0.5,
             "#f7f7f7"
            ],
            [
             0.6,
             "#e6f5d0"
            ],
            [
             0.7,
             "#b8e186"
            ],
            [
             0.8,
             "#7fbc41"
            ],
            [
             0.9,
             "#4d9221"
            ],
            [
             1,
             "#276419"
            ]
           ],
           "sequential": [
            [
             0,
             "#0d0887"
            ],
            [
             0.1111111111111111,
             "#46039f"
            ],
            [
             0.2222222222222222,
             "#7201a8"
            ],
            [
             0.3333333333333333,
             "#9c179e"
            ],
            [
             0.4444444444444444,
             "#bd3786"
            ],
            [
             0.5555555555555556,
             "#d8576b"
            ],
            [
             0.6666666666666666,
             "#ed7953"
            ],
            [
             0.7777777777777778,
             "#fb9f3a"
            ],
            [
             0.8888888888888888,
             "#fdca26"
            ],
            [
             1,
             "#f0f921"
            ]
           ],
           "sequentialminus": [
            [
             0,
             "#0d0887"
            ],
            [
             0.1111111111111111,
             "#46039f"
            ],
            [
             0.2222222222222222,
             "#7201a8"
            ],
            [
             0.3333333333333333,
             "#9c179e"
            ],
            [
             0.4444444444444444,
             "#bd3786"
            ],
            [
             0.5555555555555556,
             "#d8576b"
            ],
            [
             0.6666666666666666,
             "#ed7953"
            ],
            [
             0.7777777777777778,
             "#fb9f3a"
            ],
            [
             0.8888888888888888,
             "#fdca26"
            ],
            [
             1,
             "#f0f921"
            ]
           ]
          },
          "colorway": [
           "#636efa",
           "#EF553B",
           "#00cc96",
           "#ab63fa",
           "#FFA15A",
           "#19d3f3",
           "#FF6692",
           "#B6E880",
           "#FF97FF",
           "#FECB52"
          ],
          "font": {
           "color": "#2a3f5f"
          },
          "geo": {
           "bgcolor": "white",
           "lakecolor": "white",
           "landcolor": "#E5ECF6",
           "showlakes": true,
           "showland": true,
           "subunitcolor": "white"
          },
          "hoverlabel": {
           "align": "left"
          },
          "hovermode": "closest",
          "mapbox": {
           "style": "light"
          },
          "paper_bgcolor": "white",
          "plot_bgcolor": "#E5ECF6",
          "polar": {
           "angularaxis": {
            "gridcolor": "white",
            "linecolor": "white",
            "ticks": ""
           },
           "bgcolor": "#E5ECF6",
           "radialaxis": {
            "gridcolor": "white",
            "linecolor": "white",
            "ticks": ""
           }
          },
          "scene": {
           "xaxis": {
            "backgroundcolor": "#E5ECF6",
            "gridcolor": "white",
            "gridwidth": 2,
            "linecolor": "white",
            "showbackground": true,
            "ticks": "",
            "zerolinecolor": "white"
           },
           "yaxis": {
            "backgroundcolor": "#E5ECF6",
            "gridcolor": "white",
            "gridwidth": 2,
            "linecolor": "white",
            "showbackground": true,
            "ticks": "",
            "zerolinecolor": "white"
           },
           "zaxis": {
            "backgroundcolor": "#E5ECF6",
            "gridcolor": "white",
            "gridwidth": 2,
            "linecolor": "white",
            "showbackground": true,
            "ticks": "",
            "zerolinecolor": "white"
           }
          },
          "shapedefaults": {
           "line": {
            "color": "#2a3f5f"
           }
          },
          "ternary": {
           "aaxis": {
            "gridcolor": "white",
            "linecolor": "white",
            "ticks": ""
           },
           "baxis": {
            "gridcolor": "white",
            "linecolor": "white",
            "ticks": ""
           },
           "bgcolor": "#E5ECF6",
           "caxis": {
            "gridcolor": "white",
            "linecolor": "white",
            "ticks": ""
           }
          },
          "title": {
           "x": 0.05
          },
          "xaxis": {
           "automargin": true,
           "gridcolor": "white",
           "linecolor": "white",
           "ticks": "",
           "title": {
            "standoff": 15
           },
           "zerolinecolor": "white",
           "zerolinewidth": 2
          },
          "yaxis": {
           "automargin": true,
           "gridcolor": "white",
           "linecolor": "white",
           "ticks": "",
           "title": {
            "standoff": 15
           },
           "zerolinecolor": "white",
           "zerolinewidth": 2
          }
         }
        },
        "xaxis": {
         "anchor": "y",
         "domain": [
          0,
          1
         ],
         "title": {
          "text": "Total_cyano_cell_count"
         },
         "type": "log"
        },
        "yaxis": {
         "anchor": "x",
         "domain": [
          0,
          1
         ],
         "title": {
          "text": "Microcystis_mcyE"
         },
         "type": "log"
        }
       }
      },
      "text/html": [
       "<div>                            <div id=\"9bc95812-0e3b-458c-abab-3b34d1b16dfd\" class=\"plotly-graph-div\" style=\"height:525px; width:100%;\"></div>            <script type=\"text/javascript\">                require([\"plotly\"], function(Plotly) {                    window.PLOTLYENV=window.PLOTLYENV || {};                                    if (document.getElementById(\"9bc95812-0e3b-458c-abab-3b34d1b16dfd\")) {                    Plotly.newPlot(                        \"9bc95812-0e3b-458c-abab-3b34d1b16dfd\",                        [{\"hovertemplate\":\"Total_cyano_cell_count=%{x}<br>Microcystis_mcyE=%{y}<extra></extra>\",\"legendgroup\":\"\",\"marker\":{\"color\":\"#636efa\",\"symbol\":\"circle\"},\"mode\":\"markers\",\"name\":\"\",\"orientation\":\"v\",\"showlegend\":false,\"type\":\"scatter\",\"x\":[43355.0,23992.0,95988.0,0.0,5704.0,0.0,61574.0,0.0,3820.0,7283.0,58824.0,69774.0,178303.0,158493.0,132366.0,28520.0,0.0,0.0,48383.0,7106.0,1101.0,0.0,86240.0,50181.0,116990.0,77802.0,19.0,47772.0,8624.0,19303.0,17802.0,0.0,0.0,138594.0,43118.0,97133.0,15533.0,7079.0,6439.0,2201.0,2956.0,134809.0,11700.0,77515.0,10441.0,16495.0,0.0,181773.0,79522.0,66094.0,13304.0,204991.0,0.0,15279.0,41915.0,0.0,122639.0,117844.0,381461.0,36506.0,2801.0,272830.0,0.0,0.0,0.0,0.0,1884.0,0.0,0.0,15941.0,3310.0,4330.0,0.0,6621.0,7036.0,5296.0,375.0,23224.0,1514.0,7868.0,15839.0,10417.0,166373.0,71063.0,238162.0,235916.0,65484.0,1354214.0,527120.0,23810.0,32341.0,132162.0,0.0,48638.0,136370.0,51360.0,1848.0,59.0,2954.0,0.0,0.0,0.0,0.0,0.0,0.0,379316.0,193743.0,0.0,542055.0,354492.0,32339.0,0.0,0.0,4681.0,24731.0,0.0,63445.0,0.0,10410.0,3080.0,0.0,0.0,1950597.0,231792.0,269926.0,66514.0,35142.0,115204.0,141915.0,10166.0,51153.0,366185.0,627559.0,1240769.0,821083.0,3338681.0,37484.0,213624.0,36567.0,8352.0,185128.0,443595.0,18029.0,8913.0,18589.0,0.0,0.0,326457.0,293800.0,13190.0,457245.0,65444.0,31140.0,3922.0,157881.0,976694.0,122995.0,223451.0,273746.0,44258.0,163432.0,79068.0,278713.0,155895.0,198218.0,451643.0,1604977.0,191567.0,26487.0,84194.0,1873636.0,349918.0,422309.0,16385.0,53700.0,787702.0,936894.0,32468.0,101794.0,79940.0,264464.0,181998.0,22889.0,197979.0,9422.0,51184.0,441160.0,233525.0,81996.0,167303.0,125923.0,89891.0,132417.0,78189.0,55004.0,183805.0,291825.0,161217.0,6492.0,466158.0,35067.0,179043.0,88515.0,25923.0,370297.0,3820.0,101663.0,22740.0,83777.0,45874.0,96206.0,138936.0,105792.0,11254.0,108099.0,66895.0,632356.0,336683.0,422469.0,59811.0,870532.0,207288.0,66946.0,55868.0,26484.0,105958.0,368501.0,869726.0,12987.0,22450.0,399992.0,2563078.0,1246.0,579630.0,203024.0,730975.0,203888.0,0.0,118082.0,9016.0,208629.0,86580.0,4055.0,52167.0,49631.0,136393.0,49506.0,150395.0,37636.0,254900.0,158135.0,154928.0,68373.0,143521.0,52665.0,483831.0,365932.0,50012.0,122180.0,28674.0,97581.0,617163.0,842553.0,1077182.0,7849333.0,241022.0,0.0,244422.0,160313.0,67395.0,4999.0,0.0,13552.0,241338.0,75764.0,58250.0,11103.0,83524.0,104565.0,375347.0,696411.0,1063709.0,210630.0,183406.0,479721.0,96328.0,94887.0,415346.0,1218437.0,70232.0,185188.0,776319.0,842493.0,666059.0,280113.0,295796.0,113887.0,1469696.0,51591.0,190985.0,234938.0,33360.0,8352.0,866.0,327324.0,4403362.0,917088.0,331007.0,131302.0,36924.0,1300834.0,59842.0,1638210.0,143519.0,1455131.0,5610115.0,113647.0,199388.0,1687938.0,276995.0,76369.0,183682.0,114975.0,65909.0,53589.0,475561.0,131078.0,684.0,184314.0,432671.0,79553.0,3162032.0,0.0,163483.0,519462.0,382703.0,82327.0,147697.0,103901.0,41609.0,338477.0,495290.0,288647.0,603993.0,1330685.0,865524.0,18832.0,201848.0,138429.0,67769.0,443962.0,152788.0,309704.0,444039.0,287519.0,622364.0,1708837.0,26738.0,754455.0,111027.0,348117.0,284463.0,127150.0,246038.0,189084.0,109767.0,291936.0,200191.0,3724.0,330929.0,330781.0,36643.0,234144.0,1058059.0,76394.0,159920.0,222017.0,96772.0,65513.0,309388.0,281507.0,209405.0,214706.0,20943.0,103055.0,265164.0,601172.0,611358.0,80832.0,15356.0,80754.0,49019.0,90856.0,22157.0,36669.0,52189.0,208031.0,68893.0,44260.0,56328.0,738477.0,254647.0,0.0,153775.0,102581.0,79771.0,665087.0,829082.0,230082.0,102252.0,164280.0,685002.0,181902.0,84162.0,194975.0,607431.0,3972.0,25618.0,177336.0,141569.0,500755.0,720083.0,491040.0,127836.0,63761.0,397042.0,1527884.0,636618.0,418302.0,113339.0,196754.0,1049864.0,9116.0,0.0,12732.0,258784.0,433171.0,340358.0,0.0,513295.0,129167.0,314288.0,209117.0,33262.0,53297.0,739.0,111791.0,25465.0,590323.0,76201.0,52040.0,312789.0,259613.0,2084635.0,270360.0,320193.0,0.0,13496.0,323110.0,52113.0,123864.0,256643.0,475221.0,137433.0,112212.0,296837.0,648804.0,147586.0,377776.0,782901.0,159728.0,321598.0,973986.0,310512.0,229510.0,414673.0,261982.0,22256.0,54902.0,322996.0,988822.0,516615.0,411593.0,1132711.0,328250.0,611320.0,320245.0,283145.0,151262.0,49963.0,96012.0,641441.0,139831.0,488663.0,7084.0,126274.0,83512.0,120372.0,141660.0,222196.0,356252.0,227188.0,290013.0,310033.0,53844.0,84880.0,690626.0,338661.0,13522.0,96708.0,40744.0,6366.0,43263.0,1910.0,4093.0,306392.0,2220319.0,0.0,9856.0,199313.0,5421788.0,73178.0,0.0,415711.0,1909855.0,0.0,892061.0,509295.0,0.0,69543.0,160091.0,15890.0,243035.0,155844.0,95860.0,222399.0,94117.0,59892.0,87961.0,157217.0,307328.0,30799.0,165498.0,66848.0,22483.0,158122.0,317406.0,362992.0,65086.0,407436.0,720652.0,468798.0,336135.0,244461.0,174433.0,148714.0,169926.0,12987.0,135426.0,302225.0,291062.0,109499.0,115457.0,39725.0,177743.0,305577.0,7843.0,16297.0,157881.0,28699.0,430354.0,236822.0,287751.0,760326.0,361599.0,351031.0,88322.0,556451.0,187566.0,672340.0,142805.0,113804.0,70028.0,8193.0,78991.0,43902.0,402776.0,98124.0,13361.0,178508.0,1028271.0,15400.0,175490.0,2309896.0,6507.0,1086724.0,960020.0,577567.0,399150.0,313099.0,25549.0,0.0,99509.0,1110405.0,23054.0,568095.0,236810.0,325234.0,0.0,348995.0,51693.0,333982.0,713.0,10882.0,256150.0,279620.0,449321.0,311067.0,148820.0,86422.0,270759.0,67181.0,863204.0,331295.0,351771.0,977948.0,123359.0,854086.0,447416.0,881195.0,159843.0,194791.0,134454.0,76292.0,231327.0,1103862.0,1492255.0,0.0,929502.0,311994.0,185893.0,4026.0,0.0,8760.0,155164.0,517417.0,7084.0,0.0,0.0,0.0,49656.0,26789.0,21135.0,40488.0,206875.0,114787.0,63804.0,30194.0,63192.0,25872.0,151872.0,162975.0,133487.0,1308379.0,700280.0,184620.0,636618.0,280112.0,432900.0,3896.0,38197.0,1935.0,7824.0,456932.0,0.0,0.0,17316.0,28978.0,17316.0,88108.0,81487.0,570410.0,490080.0,1550970.0,6906.0,1185307.0,146820.0,360227.0,36389.0,1901.0,8946.0,146890.0,93.0,19095.0,14784.0,1793582.0,1107195.0,135574.0,0.0,184842.0,360581.0,153384.0,299376.0,123658.0,113498.0,99665.0,412834.0,206264.0,38961.0,555619.0,145537.0,19609.0,43672.0,398362.0,381.0,45837.0,297938.0,8632.0,208297.0,99313.0,618793.0,274172.0,58144.0,43291.0,42017.0],\"xaxis\":\"x\",\"y\":[462.5,122.0,150.0,337.5,13600.0,442.5,21950.0,2825.0,5075.0,9100.0,199.25,580.0,295.0,168.0,445.0,146.75,877.5,710.0,577.5,1965.0,595.0,54.25,287.5,385.0,1925.0,2120.0,392.5,8775.0,35750.0,13125.0,835.0,55.75,1437.5,186.25,169.0,3575.0,5400.0,7850.0,355.0,192.25,397.5,7725.0,12625.0,510.0,6050.0,2650.0,815.0,1057.5,59.75,482.5,385.0,21675.0,243.5,29500.0,352500.0,141.0,2002.5,5750.0,3075000.0,1739.9999999999998,175.5,1195000.0,187.5,82.0,485.0,782.5,158.0,510.0,121.75,140.75,357.5,1952.5,85.5,70.0,198.75,52.0,180.75,67.0,177.0,6125.0,1850.0,220.75,180500.0,46750.0,66500.0,12725.0,1372.5,2015000.0,8550.0,79500.0,25750.0,505000.0,280.0,290.0,140000.0,77750.0,197.25,57.75,72.0,367.5,70.25,552.5,567.5,100.75,1802.5,62.0,178.25,192.25,154.0,1280.0,517.5,58.5,74.75,167.0,150.5,94.5,35500.0,44750.0,99.75,592.5,535.0,380.0,68500.0,482.5,987.5,140000.0,3100.0,470.0,5600.0,4375.0,1620.0,1040000.0,219500.0,395000.0,4100.0,165750.0,8825.0,435000.0,722.5,262.5,260.0,1225.0,510.0,130.5,1470.0,83.5,205.0,18850.0,49750.0,815.0,127250.0,11100.0,2825.0,4000.0,1707.5,85750.0,179000.0,51500.0,9625.0,53.0,1585.0,154.0,367.5,632.5,395.0,525.0,322.5,42500.0,59250.0,49750.0,22275.0,37250.0,8775.0,4925.0,295.0,26250.0,3200.0,30000.0,75500.0,97000.0,140000.0,53000.0,53250.0,92250.0,1305.0,2650.0,405000.0,132500.0,17550.0,842.5000000000001,455.0,507.5,827.5,715.0,163.0,218.75,147.0,505.0,2037.5,217.75000000000003,580.0,937.5,325.0,422.5,51000.0,174.0,41000.0,59000.0,65000.0,71750.0,69500.0,85250.0,113000.0,392.5,12875.0,14650.0,19600.0,24650.0,24950.0,29250.0,36500.0,230250.0,24675.0,732.5,497.5,102.75,60.75000000000001,357.5,1955.0,310.0,415.00000000000006,282.5,125.5,315.0,71.0,239.75,203.75,59.0,62.5,69.25,812.5,642.5,55.75,1082.5,59.5,166.75,136.25,242.0,171.75,223.25,350.0,397.5,163.75,405.0,171.0,162.75,81.25,70.25,420.0,172.25,131.0,1127.5,168.5,677.5,1315.0,1097.5,5450.0,470.0,602.5,1745.0,53.25,222.00000000000003,133.25,397.5,437.5,97.75,875.0,342.5,877.5,62.25000000000001,80.25,137.5,136.0,213.0,243.5,1497.5,205.50000000000003,5625.0,74000.0,3150.0,221.5,655.0,20025.0,3675.0,3125.0,3050.0,4450.0,37500.0,3875.0,60.25,104.25,119.0,164.75,177.0,13775.0,84250.0,19000.0,16575.0,52750.0,65.25,99500.0,1385.0,502.50000000000006,214.25,20350.0,5125.0,522.5,26500.0,5900.0,255.0,345.0,57.75,287.5,1150.0,402.50000000000006,890.0,350.0,116.25,1325.0,3875.0,5050.0,84.25,69.0,229.25,345.0,477.50000000000006,1482.5,1440.0,1335.0,70.75,185.5,477.50000000000006,23875.0,2052.5,248.0,347.5,655.0,727.5,1095.0,18950.0,2675.0,300.0,77500.0,100500.0,110250.0,320000.0,30000.0,365.0,112.0,172500.0,5250.0,8500.0,755.0,315.0,252.5,652.5,3175.0,187.75,148.75,82500.0,437500.0,277.5,572.5,745.0,191.75,59000.0,134.5,27250.0,81.75,6800.0,47000.0,1157.5,12225.0,1132.5,980.0,3625000.0,8525.0,1452.5,147.0,111.5,86.25,4125.0,657.5,1820.0,189.25,1557.5,1477.5,5525.0,90.25,1322.5,822.5,760.0,200.75,18375.0,84500.0,1495.0,182250.0,2187500.0,93750.0,977.5,720.0,30750.0,3000.0,540.0,197.75,732.5,161.0,203.5,590.0,135.25,12250.0,745.0,2725.0,892.5000000000001,1015.0,680.0,189.75,2550.0,48000.0,56.49999999999999,143000.0,98.75,530.0,226.5,78.25,22275.0,23575.0,425.0,188.25,452.50000000000006,149.75,20150.0,1502.5,195.25,200.5,231.5,572.5,935.0,412.5,1512.5,442.5,502500.0,12525.0,190.5,1110.0,8075.0,2427.5,472.5,4000.0,201.0,2600.0,2057.5,1127.5,6425.0,6425.0,62.25000000000001,525.0,360.0,135.75,2325.0,2700.0,7925.0,3900.0,5325.0,397.5,18975.0,1717.5,81.25,462.5,2285.0,3575.0,955.0,297.5,1147.5,11750.0,1027.5,1240.0,14225.0,91000.0,147750.0,21500.0,1982.5,22425.0,557500.0,295.0,6175.0,8800.0,635.0,90.75,32000.0,452.50000000000006,15325.0,21975.0,22325.0,47750.0,183.25,1410.0,26000.0,330.0,652.5,216.75,842.5000000000001,695.0,201.0,2207.5,1560.0,620.0,86.0,450.0,290.0,154.5,179.75,1540.0,191.75,69.25,163.0,165.75,472.5,183.0,200.0,57500.0,327.5,68.5,5375.0,221250.0,1572500.0,3150.0,18625.0,2925.0,420000.0,295000.0,2925.0,242500.0,19800.0,5850.0,110750.0,267500.0,502500.0,9500.0,97750.0,231750.0,6425.0,2675000.0,213750.0,36250.0,103500.0,55000.0,15525.0,6200.0,218750.0,852.5,23700.0,110.75,450.0,8675.0,525000.0,90.25,51750.0,11875000.0,312.5,66000.0,590000.0,6600000.0,2500000.0,1772500.0,415000.0,237250.0,22625.0,15525.0,510000.0,202250.0,555000.0,31000.0,1737.5,550.0,6625.0,19425000.0,148500.0,15200.0,4600.0,130500.0,2435.0,34000.0,457.5,163.25,420.0,1317500.0,347.5,1320.0,3950.0,149.0,28500.0,485.0,2550000.0,149.5,33500.0,38000.0,76750.0,72.5,205500.0,852.5,49500.0,627.5,199250.0,31750.0,61.75000000000001,5625.0,5025.0,14550.0,12900.0,3750.0,5175.0,6175.0,12525.0,7775.0,16600.0,9525.0,2012.5,3475.0,10900.0,5650.0,5575.0,5925.0,8475.0,94250.0,2675.0,164250.0,38000.0,52750.0,79750000.0,392.5,1335.0,181.75,223.0,163.75,3225.0,1030.0,192.25,122.25,3550.0,103.5,345.0,510.0,337.5,635.0,41750.0,20225.0,37750.0,56000.0,1422.5,2875.0,497500.0,38750.0,35250.0,82.0,937.5,272.5,235.25,1037.5,2750.0,168.25,1137.5,30500.0,87750.0,167.0,410.0,610.0,9475.0,975.0,300.0,372.5,1782.5,1555.0,985.0,487.5,625.0,53.25,55.25,322.5,175.75,752.5,662.5,105.0,171.75,47000.0,92.75,392.5,183.5,1432.5,216.75,470.0,1775.0,3500.0,507.5,1072.5,2650.0,6225.0,58.25,1435.0,92.25,1477.5,4925.0,228.0,1850.0,13075.0,2237.5,6625.0,582.5,194.25,307.5,345.0,61500.0,385.0,17275.0,505.0],\"yaxis\":\"y\"}],                        {\"annotations\":[{\"font\":{\"color\":\"black\",\"size\":20},\"showarrow\":false,\"text\":\"Pearson's r: 0.01\\nPVal: 0.8\",\"textangle\":0,\"x\":0.2,\"xanchor\":\"left\",\"xref\":\"paper\",\"y\":0.95,\"yref\":\"paper\"}],\"legend\":{\"tracegroupgap\":0},\"margin\":{\"t\":60},\"template\":{\"data\":{\"bar\":[{\"error_x\":{\"color\":\"#2a3f5f\"},\"error_y\":{\"color\":\"#2a3f5f\"},\"marker\":{\"line\":{\"color\":\"#E5ECF6\",\"width\":0.5},\"pattern\":{\"fillmode\":\"overlay\",\"size\":10,\"solidity\":0.2}},\"type\":\"bar\"}],\"barpolar\":[{\"marker\":{\"line\":{\"color\":\"#E5ECF6\",\"width\":0.5},\"pattern\":{\"fillmode\":\"overlay\",\"size\":10,\"solidity\":0.2}},\"type\":\"barpolar\"}],\"carpet\":[{\"aaxis\":{\"endlinecolor\":\"#2a3f5f\",\"gridcolor\":\"white\",\"linecolor\":\"white\",\"minorgridcolor\":\"white\",\"startlinecolor\":\"#2a3f5f\"},\"baxis\":{\"endlinecolor\":\"#2a3f5f\",\"gridcolor\":\"white\",\"linecolor\":\"white\",\"minorgridcolor\":\"white\",\"startlinecolor\":\"#2a3f5f\"},\"type\":\"carpet\"}],\"choropleth\":[{\"colorbar\":{\"outlinewidth\":0,\"ticks\":\"\"},\"type\":\"choropleth\"}],\"contour\":[{\"colorbar\":{\"outlinewidth\":0,\"ticks\":\"\"},\"colorscale\":[[0.0,\"#0d0887\"],[0.1111111111111111,\"#46039f\"],[0.2222222222222222,\"#7201a8\"],[0.3333333333333333,\"#9c179e\"],[0.4444444444444444,\"#bd3786\"],[0.5555555555555556,\"#d8576b\"],[0.6666666666666666,\"#ed7953\"],[0.7777777777777778,\"#fb9f3a\"],[0.8888888888888888,\"#fdca26\"],[1.0,\"#f0f921\"]],\"type\":\"contour\"}],\"contourcarpet\":[{\"colorbar\":{\"outlinewidth\":0,\"ticks\":\"\"},\"type\":\"contourcarpet\"}],\"heatmap\":[{\"colorbar\":{\"outlinewidth\":0,\"ticks\":\"\"},\"colorscale\":[[0.0,\"#0d0887\"],[0.1111111111111111,\"#46039f\"],[0.2222222222222222,\"#7201a8\"],[0.3333333333333333,\"#9c179e\"],[0.4444444444444444,\"#bd3786\"],[0.5555555555555556,\"#d8576b\"],[0.6666666666666666,\"#ed7953\"],[0.7777777777777778,\"#fb9f3a\"],[0.8888888888888888,\"#fdca26\"],[1.0,\"#f0f921\"]],\"type\":\"heatmap\"}],\"heatmapgl\":[{\"colorbar\":{\"outlinewidth\":0,\"ticks\":\"\"},\"colorscale\":[[0.0,\"#0d0887\"],[0.1111111111111111,\"#46039f\"],[0.2222222222222222,\"#7201a8\"],[0.3333333333333333,\"#9c179e\"],[0.4444444444444444,\"#bd3786\"],[0.5555555555555556,\"#d8576b\"],[0.6666666666666666,\"#ed7953\"],[0.7777777777777778,\"#fb9f3a\"],[0.8888888888888888,\"#fdca26\"],[1.0,\"#f0f921\"]],\"type\":\"heatmapgl\"}],\"histogram\":[{\"marker\":{\"pattern\":{\"fillmode\":\"overlay\",\"size\":10,\"solidity\":0.2}},\"type\":\"histogram\"}],\"histogram2d\":[{\"colorbar\":{\"outlinewidth\":0,\"ticks\":\"\"},\"colorscale\":[[0.0,\"#0d0887\"],[0.1111111111111111,\"#46039f\"],[0.2222222222222222,\"#7201a8\"],[0.3333333333333333,\"#9c179e\"],[0.4444444444444444,\"#bd3786\"],[0.5555555555555556,\"#d8576b\"],[0.6666666666666666,\"#ed7953\"],[0.7777777777777778,\"#fb9f3a\"],[0.8888888888888888,\"#fdca26\"],[1.0,\"#f0f921\"]],\"type\":\"histogram2d\"}],\"histogram2dcontour\":[{\"colorbar\":{\"outlinewidth\":0,\"ticks\":\"\"},\"colorscale\":[[0.0,\"#0d0887\"],[0.1111111111111111,\"#46039f\"],[0.2222222222222222,\"#7201a8\"],[0.3333333333333333,\"#9c179e\"],[0.4444444444444444,\"#bd3786\"],[0.5555555555555556,\"#d8576b\"],[0.6666666666666666,\"#ed7953\"],[0.7777777777777778,\"#fb9f3a\"],[0.8888888888888888,\"#fdca26\"],[1.0,\"#f0f921\"]],\"type\":\"histogram2dcontour\"}],\"mesh3d\":[{\"colorbar\":{\"outlinewidth\":0,\"ticks\":\"\"},\"type\":\"mesh3d\"}],\"parcoords\":[{\"line\":{\"colorbar\":{\"outlinewidth\":0,\"ticks\":\"\"}},\"type\":\"parcoords\"}],\"pie\":[{\"automargin\":true,\"type\":\"pie\"}],\"scatter\":[{\"marker\":{\"colorbar\":{\"outlinewidth\":0,\"ticks\":\"\"}},\"type\":\"scatter\"}],\"scatter3d\":[{\"line\":{\"colorbar\":{\"outlinewidth\":0,\"ticks\":\"\"}},\"marker\":{\"colorbar\":{\"outlinewidth\":0,\"ticks\":\"\"}},\"type\":\"scatter3d\"}],\"scattercarpet\":[{\"marker\":{\"colorbar\":{\"outlinewidth\":0,\"ticks\":\"\"}},\"type\":\"scattercarpet\"}],\"scattergeo\":[{\"marker\":{\"colorbar\":{\"outlinewidth\":0,\"ticks\":\"\"}},\"type\":\"scattergeo\"}],\"scattergl\":[{\"marker\":{\"colorbar\":{\"outlinewidth\":0,\"ticks\":\"\"}},\"type\":\"scattergl\"}],\"scattermapbox\":[{\"marker\":{\"colorbar\":{\"outlinewidth\":0,\"ticks\":\"\"}},\"type\":\"scattermapbox\"}],\"scatterpolar\":[{\"marker\":{\"colorbar\":{\"outlinewidth\":0,\"ticks\":\"\"}},\"type\":\"scatterpolar\"}],\"scatterpolargl\":[{\"marker\":{\"colorbar\":{\"outlinewidth\":0,\"ticks\":\"\"}},\"type\":\"scatterpolargl\"}],\"scatterternary\":[{\"marker\":{\"colorbar\":{\"outlinewidth\":0,\"ticks\":\"\"}},\"type\":\"scatterternary\"}],\"surface\":[{\"colorbar\":{\"outlinewidth\":0,\"ticks\":\"\"},\"colorscale\":[[0.0,\"#0d0887\"],[0.1111111111111111,\"#46039f\"],[0.2222222222222222,\"#7201a8\"],[0.3333333333333333,\"#9c179e\"],[0.4444444444444444,\"#bd3786\"],[0.5555555555555556,\"#d8576b\"],[0.6666666666666666,\"#ed7953\"],[0.7777777777777778,\"#fb9f3a\"],[0.8888888888888888,\"#fdca26\"],[1.0,\"#f0f921\"]],\"type\":\"surface\"}],\"table\":[{\"cells\":{\"fill\":{\"color\":\"#EBF0F8\"},\"line\":{\"color\":\"white\"}},\"header\":{\"fill\":{\"color\":\"#C8D4E3\"},\"line\":{\"color\":\"white\"}},\"type\":\"table\"}]},\"layout\":{\"annotationdefaults\":{\"arrowcolor\":\"#2a3f5f\",\"arrowhead\":0,\"arrowwidth\":1},\"autotypenumbers\":\"strict\",\"coloraxis\":{\"colorbar\":{\"outlinewidth\":0,\"ticks\":\"\"}},\"colorscale\":{\"diverging\":[[0,\"#8e0152\"],[0.1,\"#c51b7d\"],[0.2,\"#de77ae\"],[0.3,\"#f1b6da\"],[0.4,\"#fde0ef\"],[0.5,\"#f7f7f7\"],[0.6,\"#e6f5d0\"],[0.7,\"#b8e186\"],[0.8,\"#7fbc41\"],[0.9,\"#4d9221\"],[1,\"#276419\"]],\"sequential\":[[0.0,\"#0d0887\"],[0.1111111111111111,\"#46039f\"],[0.2222222222222222,\"#7201a8\"],[0.3333333333333333,\"#9c179e\"],[0.4444444444444444,\"#bd3786\"],[0.5555555555555556,\"#d8576b\"],[0.6666666666666666,\"#ed7953\"],[0.7777777777777778,\"#fb9f3a\"],[0.8888888888888888,\"#fdca26\"],[1.0,\"#f0f921\"]],\"sequentialminus\":[[0.0,\"#0d0887\"],[0.1111111111111111,\"#46039f\"],[0.2222222222222222,\"#7201a8\"],[0.3333333333333333,\"#9c179e\"],[0.4444444444444444,\"#bd3786\"],[0.5555555555555556,\"#d8576b\"],[0.6666666666666666,\"#ed7953\"],[0.7777777777777778,\"#fb9f3a\"],[0.8888888888888888,\"#fdca26\"],[1.0,\"#f0f921\"]]},\"colorway\":[\"#636efa\",\"#EF553B\",\"#00cc96\",\"#ab63fa\",\"#FFA15A\",\"#19d3f3\",\"#FF6692\",\"#B6E880\",\"#FF97FF\",\"#FECB52\"],\"font\":{\"color\":\"#2a3f5f\"},\"geo\":{\"bgcolor\":\"white\",\"lakecolor\":\"white\",\"landcolor\":\"#E5ECF6\",\"showlakes\":true,\"showland\":true,\"subunitcolor\":\"white\"},\"hoverlabel\":{\"align\":\"left\"},\"hovermode\":\"closest\",\"mapbox\":{\"style\":\"light\"},\"paper_bgcolor\":\"white\",\"plot_bgcolor\":\"#E5ECF6\",\"polar\":{\"angularaxis\":{\"gridcolor\":\"white\",\"linecolor\":\"white\",\"ticks\":\"\"},\"bgcolor\":\"#E5ECF6\",\"radialaxis\":{\"gridcolor\":\"white\",\"linecolor\":\"white\",\"ticks\":\"\"}},\"scene\":{\"xaxis\":{\"backgroundcolor\":\"#E5ECF6\",\"gridcolor\":\"white\",\"gridwidth\":2,\"linecolor\":\"white\",\"showbackground\":true,\"ticks\":\"\",\"zerolinecolor\":\"white\"},\"yaxis\":{\"backgroundcolor\":\"#E5ECF6\",\"gridcolor\":\"white\",\"gridwidth\":2,\"linecolor\":\"white\",\"showbackground\":true,\"ticks\":\"\",\"zerolinecolor\":\"white\"},\"zaxis\":{\"backgroundcolor\":\"#E5ECF6\",\"gridcolor\":\"white\",\"gridwidth\":2,\"linecolor\":\"white\",\"showbackground\":true,\"ticks\":\"\",\"zerolinecolor\":\"white\"}},\"shapedefaults\":{\"line\":{\"color\":\"#2a3f5f\"}},\"ternary\":{\"aaxis\":{\"gridcolor\":\"white\",\"linecolor\":\"white\",\"ticks\":\"\"},\"baxis\":{\"gridcolor\":\"white\",\"linecolor\":\"white\",\"ticks\":\"\"},\"bgcolor\":\"#E5ECF6\",\"caxis\":{\"gridcolor\":\"white\",\"linecolor\":\"white\",\"ticks\":\"\"}},\"title\":{\"x\":0.05},\"xaxis\":{\"automargin\":true,\"gridcolor\":\"white\",\"linecolor\":\"white\",\"ticks\":\"\",\"title\":{\"standoff\":15},\"zerolinecolor\":\"white\",\"zerolinewidth\":2},\"yaxis\":{\"automargin\":true,\"gridcolor\":\"white\",\"linecolor\":\"white\",\"ticks\":\"\",\"title\":{\"standoff\":15},\"zerolinecolor\":\"white\",\"zerolinewidth\":2}}},\"xaxis\":{\"anchor\":\"y\",\"domain\":[0.0,1.0],\"title\":{\"text\":\"Total_cyano_cell_count\"},\"type\":\"log\"},\"yaxis\":{\"anchor\":\"x\",\"domain\":[0.0,1.0],\"title\":{\"text\":\"Microcystis_mcyE\"},\"type\":\"log\"}},                        {\"responsive\": true}                    ).then(function(){\n",
       "                            \n",
       "var gd = document.getElementById('9bc95812-0e3b-458c-abab-3b34d1b16dfd');\n",
       "var x = new MutationObserver(function (mutations, observer) {{\n",
       "        var display = window.getComputedStyle(gd).display;\n",
       "        if (!display || display === 'none') {{\n",
       "            console.log([gd, 'removed!']);\n",
       "            Plotly.purge(gd);\n",
       "            observer.disconnect();\n",
       "        }}\n",
       "}});\n",
       "\n",
       "// Listen for the removal of the full notebook cells\n",
       "var notebookContainer = gd.closest('#notebook-container');\n",
       "if (notebookContainer) {{\n",
       "    x.observe(notebookContainer, {childList: true});\n",
       "}}\n",
       "\n",
       "// Listen for the clearing of the current output cell\n",
       "var outputEl = gd.closest('.output');\n",
       "if (outputEl) {{\n",
       "    x.observe(outputEl, {childList: true});\n",
       "}}\n",
       "\n",
       "                        })                };                });            </script>        </div>"
      ]
     },
     "metadata": {},
     "output_type": "display_data"
    }
   ],
   "source": [
    "# Plot 2- Cell Count vs Microcystis_mcyE\n",
    "corr = stats.pearsonr(CellCountVsM_mcyE['Microcystis_mcyE'], CellCountVsM_mcyE['Total_cyano_cell_count'])\n",
    "fig = px.scatter(CellCountVsM_mcyE, x = 'Total_cyano_cell_count', y = 'Microcystis_mcyE', log_x=True,log_y=True)\n",
    "fig.add_annotation(dict(font=dict(color='black',size=20),\n",
    "                                        x=0.2,\n",
    "                                        y=0.95,\n",
    "                                        showarrow=False,\n",
    "                                        text= \"Pearson's r: \" + str(round(corr[0], 2)) +\"\\nPVal: \" + str(round(corr[1], 2)),\n",
    "                                        textangle=0,\n",
    "                                        xanchor='left',\n",
    "                                        xref=\"paper\",\n",
    "                                        yref=\"paper\"))\n",
    "fig.show()\n",
    "\n"
   ]
  },
  {
   "cell_type": "code",
   "execution_count": 17,
   "id": "ead4f7e4",
   "metadata": {
    "scrolled": true
   },
   "outputs": [
    {
     "data": {
      "application/vnd.plotly.v1+json": {
       "config": {
        "plotlyServerURL": "https://plot.ly"
       },
       "data": [
        {
         "hovertemplate": "Total_cyano_cell_count=%{x}<br>Anabaena_mcyE=%{y}<extra></extra>",
         "legendgroup": "",
         "marker": {
          "color": "#636efa",
          "symbol": "circle"
         },
         "mode": "markers",
         "name": "",
         "orientation": "v",
         "showlegend": false,
         "type": "scatter",
         "x": [
          9884,
          736,
          0,
          19914,
          8276,
          201426,
          93251,
          11457,
          141180,
          17374,
          222305,
          40108,
          81997,
          224255,
          43672,
          14667,
          19587,
          86240,
          15533,
          260,
          22599,
          2180,
          6111,
          0,
          0,
          31,
          0,
          0,
          6621,
          0,
          7036,
          46,
          6926,
          0,
          764,
          1901,
          65484,
          1848,
          32709,
          31,
          2954,
          0,
          0,
          587,
          279654,
          10166,
          457245,
          157881,
          312961,
          695697,
          451643,
          23631,
          2801,
          323110,
          123864,
          256643,
          475221,
          137433,
          112212,
          296837,
          648804,
          147586,
          377776,
          782901,
          159728,
          321598,
          973986,
          310512,
          229510,
          414673,
          54902,
          322996,
          320245,
          2220319,
          179298,
          415711,
          69543,
          853068,
          2309896,
          1086724,
          1110405,
          10882,
          256150,
          449321,
          311067,
          148820,
          311994,
          8760,
          155164,
          517417,
          0,
          40488,
          206875,
          28978,
          490080,
          1793582,
          184842,
          360581,
          153384,
          299376,
          123658,
          113498,
          99665,
          412834,
          38961,
          381,
          186772,
          274172
         ],
         "xaxis": "x",
         "y": [
          372.5,
          7150,
          675,
          1290,
          2272.5,
          445,
          114.5,
          1712.5,
          1275,
          68.25,
          180.5,
          350,
          95.75,
          1682.5,
          95,
          2277.5,
          61.5,
          397.5,
          208.25,
          985,
          667.5,
          295,
          832.4999999999999,
          65,
          1310,
          605,
          300,
          213,
          905,
          1567.5,
          1310,
          537.5,
          109.5,
          162.75,
          59.25,
          212.5,
          96.5,
          172.5,
          86.5,
          100.25,
          402.50000000000006,
          887.5,
          345,
          815,
          133,
          244,
          532.5,
          180500,
          1447.5,
          13750,
          66,
          74.75,
          555,
          375,
          942.5,
          112.25,
          617.5,
          2575,
          890,
          139,
          415.00000000000006,
          2457.5,
          869.9999999999999,
          1072.5,
          787.5,
          4200,
          21975,
          31000,
          900,
          16275,
          445,
          847.5,
          54.25,
          126.5,
          62.5,
          170.75,
          1180,
          53,
          297.5,
          146.25,
          450,
          175.5,
          233,
          138.5,
          350,
          1222.5,
          11800,
          2700,
          7225,
          51.5,
          310,
          160.75,
          69,
          392.5,
          6275,
          525,
          1090,
          620,
          407.5,
          1015,
          70,
          193.5,
          105.75,
          89,
          163,
          56.25,
          151,
          70.75
         ],
         "yaxis": "y"
        }
       ],
       "layout": {
        "annotations": [
         {
          "font": {
           "color": "black",
           "size": 20
          },
          "showarrow": false,
          "text": "Pearson's r: 0.01\nPVal: 0.9",
          "textangle": 0,
          "x": 0.2,
          "xanchor": "left",
          "xref": "paper",
          "y": 0.95,
          "yref": "paper"
         }
        ],
        "legend": {
         "tracegroupgap": 0
        },
        "margin": {
         "t": 60
        },
        "template": {
         "data": {
          "bar": [
           {
            "error_x": {
             "color": "#2a3f5f"
            },
            "error_y": {
             "color": "#2a3f5f"
            },
            "marker": {
             "line": {
              "color": "#E5ECF6",
              "width": 0.5
             },
             "pattern": {
              "fillmode": "overlay",
              "size": 10,
              "solidity": 0.2
             }
            },
            "type": "bar"
           }
          ],
          "barpolar": [
           {
            "marker": {
             "line": {
              "color": "#E5ECF6",
              "width": 0.5
             },
             "pattern": {
              "fillmode": "overlay",
              "size": 10,
              "solidity": 0.2
             }
            },
            "type": "barpolar"
           }
          ],
          "carpet": [
           {
            "aaxis": {
             "endlinecolor": "#2a3f5f",
             "gridcolor": "white",
             "linecolor": "white",
             "minorgridcolor": "white",
             "startlinecolor": "#2a3f5f"
            },
            "baxis": {
             "endlinecolor": "#2a3f5f",
             "gridcolor": "white",
             "linecolor": "white",
             "minorgridcolor": "white",
             "startlinecolor": "#2a3f5f"
            },
            "type": "carpet"
           }
          ],
          "choropleth": [
           {
            "colorbar": {
             "outlinewidth": 0,
             "ticks": ""
            },
            "type": "choropleth"
           }
          ],
          "contour": [
           {
            "colorbar": {
             "outlinewidth": 0,
             "ticks": ""
            },
            "colorscale": [
             [
              0,
              "#0d0887"
             ],
             [
              0.1111111111111111,
              "#46039f"
             ],
             [
              0.2222222222222222,
              "#7201a8"
             ],
             [
              0.3333333333333333,
              "#9c179e"
             ],
             [
              0.4444444444444444,
              "#bd3786"
             ],
             [
              0.5555555555555556,
              "#d8576b"
             ],
             [
              0.6666666666666666,
              "#ed7953"
             ],
             [
              0.7777777777777778,
              "#fb9f3a"
             ],
             [
              0.8888888888888888,
              "#fdca26"
             ],
             [
              1,
              "#f0f921"
             ]
            ],
            "type": "contour"
           }
          ],
          "contourcarpet": [
           {
            "colorbar": {
             "outlinewidth": 0,
             "ticks": ""
            },
            "type": "contourcarpet"
           }
          ],
          "heatmap": [
           {
            "colorbar": {
             "outlinewidth": 0,
             "ticks": ""
            },
            "colorscale": [
             [
              0,
              "#0d0887"
             ],
             [
              0.1111111111111111,
              "#46039f"
             ],
             [
              0.2222222222222222,
              "#7201a8"
             ],
             [
              0.3333333333333333,
              "#9c179e"
             ],
             [
              0.4444444444444444,
              "#bd3786"
             ],
             [
              0.5555555555555556,
              "#d8576b"
             ],
             [
              0.6666666666666666,
              "#ed7953"
             ],
             [
              0.7777777777777778,
              "#fb9f3a"
             ],
             [
              0.8888888888888888,
              "#fdca26"
             ],
             [
              1,
              "#f0f921"
             ]
            ],
            "type": "heatmap"
           }
          ],
          "heatmapgl": [
           {
            "colorbar": {
             "outlinewidth": 0,
             "ticks": ""
            },
            "colorscale": [
             [
              0,
              "#0d0887"
             ],
             [
              0.1111111111111111,
              "#46039f"
             ],
             [
              0.2222222222222222,
              "#7201a8"
             ],
             [
              0.3333333333333333,
              "#9c179e"
             ],
             [
              0.4444444444444444,
              "#bd3786"
             ],
             [
              0.5555555555555556,
              "#d8576b"
             ],
             [
              0.6666666666666666,
              "#ed7953"
             ],
             [
              0.7777777777777778,
              "#fb9f3a"
             ],
             [
              0.8888888888888888,
              "#fdca26"
             ],
             [
              1,
              "#f0f921"
             ]
            ],
            "type": "heatmapgl"
           }
          ],
          "histogram": [
           {
            "marker": {
             "pattern": {
              "fillmode": "overlay",
              "size": 10,
              "solidity": 0.2
             }
            },
            "type": "histogram"
           }
          ],
          "histogram2d": [
           {
            "colorbar": {
             "outlinewidth": 0,
             "ticks": ""
            },
            "colorscale": [
             [
              0,
              "#0d0887"
             ],
             [
              0.1111111111111111,
              "#46039f"
             ],
             [
              0.2222222222222222,
              "#7201a8"
             ],
             [
              0.3333333333333333,
              "#9c179e"
             ],
             [
              0.4444444444444444,
              "#bd3786"
             ],
             [
              0.5555555555555556,
              "#d8576b"
             ],
             [
              0.6666666666666666,
              "#ed7953"
             ],
             [
              0.7777777777777778,
              "#fb9f3a"
             ],
             [
              0.8888888888888888,
              "#fdca26"
             ],
             [
              1,
              "#f0f921"
             ]
            ],
            "type": "histogram2d"
           }
          ],
          "histogram2dcontour": [
           {
            "colorbar": {
             "outlinewidth": 0,
             "ticks": ""
            },
            "colorscale": [
             [
              0,
              "#0d0887"
             ],
             [
              0.1111111111111111,
              "#46039f"
             ],
             [
              0.2222222222222222,
              "#7201a8"
             ],
             [
              0.3333333333333333,
              "#9c179e"
             ],
             [
              0.4444444444444444,
              "#bd3786"
             ],
             [
              0.5555555555555556,
              "#d8576b"
             ],
             [
              0.6666666666666666,
              "#ed7953"
             ],
             [
              0.7777777777777778,
              "#fb9f3a"
             ],
             [
              0.8888888888888888,
              "#fdca26"
             ],
             [
              1,
              "#f0f921"
             ]
            ],
            "type": "histogram2dcontour"
           }
          ],
          "mesh3d": [
           {
            "colorbar": {
             "outlinewidth": 0,
             "ticks": ""
            },
            "type": "mesh3d"
           }
          ],
          "parcoords": [
           {
            "line": {
             "colorbar": {
              "outlinewidth": 0,
              "ticks": ""
             }
            },
            "type": "parcoords"
           }
          ],
          "pie": [
           {
            "automargin": true,
            "type": "pie"
           }
          ],
          "scatter": [
           {
            "marker": {
             "colorbar": {
              "outlinewidth": 0,
              "ticks": ""
             }
            },
            "type": "scatter"
           }
          ],
          "scatter3d": [
           {
            "line": {
             "colorbar": {
              "outlinewidth": 0,
              "ticks": ""
             }
            },
            "marker": {
             "colorbar": {
              "outlinewidth": 0,
              "ticks": ""
             }
            },
            "type": "scatter3d"
           }
          ],
          "scattercarpet": [
           {
            "marker": {
             "colorbar": {
              "outlinewidth": 0,
              "ticks": ""
             }
            },
            "type": "scattercarpet"
           }
          ],
          "scattergeo": [
           {
            "marker": {
             "colorbar": {
              "outlinewidth": 0,
              "ticks": ""
             }
            },
            "type": "scattergeo"
           }
          ],
          "scattergl": [
           {
            "marker": {
             "colorbar": {
              "outlinewidth": 0,
              "ticks": ""
             }
            },
            "type": "scattergl"
           }
          ],
          "scattermapbox": [
           {
            "marker": {
             "colorbar": {
              "outlinewidth": 0,
              "ticks": ""
             }
            },
            "type": "scattermapbox"
           }
          ],
          "scatterpolar": [
           {
            "marker": {
             "colorbar": {
              "outlinewidth": 0,
              "ticks": ""
             }
            },
            "type": "scatterpolar"
           }
          ],
          "scatterpolargl": [
           {
            "marker": {
             "colorbar": {
              "outlinewidth": 0,
              "ticks": ""
             }
            },
            "type": "scatterpolargl"
           }
          ],
          "scatterternary": [
           {
            "marker": {
             "colorbar": {
              "outlinewidth": 0,
              "ticks": ""
             }
            },
            "type": "scatterternary"
           }
          ],
          "surface": [
           {
            "colorbar": {
             "outlinewidth": 0,
             "ticks": ""
            },
            "colorscale": [
             [
              0,
              "#0d0887"
             ],
             [
              0.1111111111111111,
              "#46039f"
             ],
             [
              0.2222222222222222,
              "#7201a8"
             ],
             [
              0.3333333333333333,
              "#9c179e"
             ],
             [
              0.4444444444444444,
              "#bd3786"
             ],
             [
              0.5555555555555556,
              "#d8576b"
             ],
             [
              0.6666666666666666,
              "#ed7953"
             ],
             [
              0.7777777777777778,
              "#fb9f3a"
             ],
             [
              0.8888888888888888,
              "#fdca26"
             ],
             [
              1,
              "#f0f921"
             ]
            ],
            "type": "surface"
           }
          ],
          "table": [
           {
            "cells": {
             "fill": {
              "color": "#EBF0F8"
             },
             "line": {
              "color": "white"
             }
            },
            "header": {
             "fill": {
              "color": "#C8D4E3"
             },
             "line": {
              "color": "white"
             }
            },
            "type": "table"
           }
          ]
         },
         "layout": {
          "annotationdefaults": {
           "arrowcolor": "#2a3f5f",
           "arrowhead": 0,
           "arrowwidth": 1
          },
          "autotypenumbers": "strict",
          "coloraxis": {
           "colorbar": {
            "outlinewidth": 0,
            "ticks": ""
           }
          },
          "colorscale": {
           "diverging": [
            [
             0,
             "#8e0152"
            ],
            [
             0.1,
             "#c51b7d"
            ],
            [
             0.2,
             "#de77ae"
            ],
            [
             0.3,
             "#f1b6da"
            ],
            [
             0.4,
             "#fde0ef"
            ],
            [
             0.5,
             "#f7f7f7"
            ],
            [
             0.6,
             "#e6f5d0"
            ],
            [
             0.7,
             "#b8e186"
            ],
            [
             0.8,
             "#7fbc41"
            ],
            [
             0.9,
             "#4d9221"
            ],
            [
             1,
             "#276419"
            ]
           ],
           "sequential": [
            [
             0,
             "#0d0887"
            ],
            [
             0.1111111111111111,
             "#46039f"
            ],
            [
             0.2222222222222222,
             "#7201a8"
            ],
            [
             0.3333333333333333,
             "#9c179e"
            ],
            [
             0.4444444444444444,
             "#bd3786"
            ],
            [
             0.5555555555555556,
             "#d8576b"
            ],
            [
             0.6666666666666666,
             "#ed7953"
            ],
            [
             0.7777777777777778,
             "#fb9f3a"
            ],
            [
             0.8888888888888888,
             "#fdca26"
            ],
            [
             1,
             "#f0f921"
            ]
           ],
           "sequentialminus": [
            [
             0,
             "#0d0887"
            ],
            [
             0.1111111111111111,
             "#46039f"
            ],
            [
             0.2222222222222222,
             "#7201a8"
            ],
            [
             0.3333333333333333,
             "#9c179e"
            ],
            [
             0.4444444444444444,
             "#bd3786"
            ],
            [
             0.5555555555555556,
             "#d8576b"
            ],
            [
             0.6666666666666666,
             "#ed7953"
            ],
            [
             0.7777777777777778,
             "#fb9f3a"
            ],
            [
             0.8888888888888888,
             "#fdca26"
            ],
            [
             1,
             "#f0f921"
            ]
           ]
          },
          "colorway": [
           "#636efa",
           "#EF553B",
           "#00cc96",
           "#ab63fa",
           "#FFA15A",
           "#19d3f3",
           "#FF6692",
           "#B6E880",
           "#FF97FF",
           "#FECB52"
          ],
          "font": {
           "color": "#2a3f5f"
          },
          "geo": {
           "bgcolor": "white",
           "lakecolor": "white",
           "landcolor": "#E5ECF6",
           "showlakes": true,
           "showland": true,
           "subunitcolor": "white"
          },
          "hoverlabel": {
           "align": "left"
          },
          "hovermode": "closest",
          "mapbox": {
           "style": "light"
          },
          "paper_bgcolor": "white",
          "plot_bgcolor": "#E5ECF6",
          "polar": {
           "angularaxis": {
            "gridcolor": "white",
            "linecolor": "white",
            "ticks": ""
           },
           "bgcolor": "#E5ECF6",
           "radialaxis": {
            "gridcolor": "white",
            "linecolor": "white",
            "ticks": ""
           }
          },
          "scene": {
           "xaxis": {
            "backgroundcolor": "#E5ECF6",
            "gridcolor": "white",
            "gridwidth": 2,
            "linecolor": "white",
            "showbackground": true,
            "ticks": "",
            "zerolinecolor": "white"
           },
           "yaxis": {
            "backgroundcolor": "#E5ECF6",
            "gridcolor": "white",
            "gridwidth": 2,
            "linecolor": "white",
            "showbackground": true,
            "ticks": "",
            "zerolinecolor": "white"
           },
           "zaxis": {
            "backgroundcolor": "#E5ECF6",
            "gridcolor": "white",
            "gridwidth": 2,
            "linecolor": "white",
            "showbackground": true,
            "ticks": "",
            "zerolinecolor": "white"
           }
          },
          "shapedefaults": {
           "line": {
            "color": "#2a3f5f"
           }
          },
          "ternary": {
           "aaxis": {
            "gridcolor": "white",
            "linecolor": "white",
            "ticks": ""
           },
           "baxis": {
            "gridcolor": "white",
            "linecolor": "white",
            "ticks": ""
           },
           "bgcolor": "#E5ECF6",
           "caxis": {
            "gridcolor": "white",
            "linecolor": "white",
            "ticks": ""
           }
          },
          "title": {
           "x": 0.05
          },
          "xaxis": {
           "automargin": true,
           "gridcolor": "white",
           "linecolor": "white",
           "ticks": "",
           "title": {
            "standoff": 15
           },
           "zerolinecolor": "white",
           "zerolinewidth": 2
          },
          "yaxis": {
           "automargin": true,
           "gridcolor": "white",
           "linecolor": "white",
           "ticks": "",
           "title": {
            "standoff": 15
           },
           "zerolinecolor": "white",
           "zerolinewidth": 2
          }
         }
        },
        "xaxis": {
         "anchor": "y",
         "domain": [
          0,
          1
         ],
         "title": {
          "text": "Total_cyano_cell_count"
         },
         "type": "log"
        },
        "yaxis": {
         "anchor": "x",
         "domain": [
          0,
          1
         ],
         "title": {
          "text": "Anabaena_mcyE"
         },
         "type": "log"
        }
       }
      },
      "text/html": [
       "<div>                            <div id=\"3f96000c-b57f-4eb8-909d-d9c4c05c44d3\" class=\"plotly-graph-div\" style=\"height:525px; width:100%;\"></div>            <script type=\"text/javascript\">                require([\"plotly\"], function(Plotly) {                    window.PLOTLYENV=window.PLOTLYENV || {};                                    if (document.getElementById(\"3f96000c-b57f-4eb8-909d-d9c4c05c44d3\")) {                    Plotly.newPlot(                        \"3f96000c-b57f-4eb8-909d-d9c4c05c44d3\",                        [{\"hovertemplate\":\"Total_cyano_cell_count=%{x}<br>Anabaena_mcyE=%{y}<extra></extra>\",\"legendgroup\":\"\",\"marker\":{\"color\":\"#636efa\",\"symbol\":\"circle\"},\"mode\":\"markers\",\"name\":\"\",\"orientation\":\"v\",\"showlegend\":false,\"type\":\"scatter\",\"x\":[9884.0,736.0,0.0,19914.0,8276.0,201426.0,93251.0,11457.0,141180.0,17374.0,222305.0,40108.0,81997.0,224255.0,43672.0,14667.0,19587.0,86240.0,15533.0,260.0,22599.0,2180.0,6111.0,0.0,0.0,31.0,0.0,0.0,6621.0,0.0,7036.0,46.0,6926.0,0.0,764.0,1901.0,65484.0,1848.0,32709.0,31.0,2954.0,0.0,0.0,587.0,279654.0,10166.0,457245.0,157881.0,312961.0,695697.0,451643.0,23631.0,2801.0,323110.0,123864.0,256643.0,475221.0,137433.0,112212.0,296837.0,648804.0,147586.0,377776.0,782901.0,159728.0,321598.0,973986.0,310512.0,229510.0,414673.0,54902.0,322996.0,320245.0,2220319.0,179298.0,415711.0,69543.0,853068.0,2309896.0,1086724.0,1110405.0,10882.0,256150.0,449321.0,311067.0,148820.0,311994.0,8760.0,155164.0,517417.0,0.0,40488.0,206875.0,28978.0,490080.0,1793582.0,184842.0,360581.0,153384.0,299376.0,123658.0,113498.0,99665.0,412834.0,38961.0,381.0,186772.0,274172.0],\"xaxis\":\"x\",\"y\":[372.5,7150.0,675.0,1290.0,2272.5,445.0,114.5,1712.5,1275.0,68.25,180.5,350.0,95.75,1682.5,95.0,2277.5,61.5,397.5,208.25,985.0,667.5,295.0,832.4999999999999,65.0,1310.0,605.0,300.0,213.0,905.0,1567.5,1310.0,537.5,109.5,162.75,59.25,212.5,96.5,172.5,86.5,100.25,402.50000000000006,887.5,345.0,815.0,133.0,244.0,532.5,180500.0,1447.5,13750.0,66.0,74.75,555.0,375.0,942.5,112.25,617.5,2575.0,890.0,139.0,415.00000000000006,2457.5,869.9999999999999,1072.5,787.5,4200.0,21975.0,31000.0,900.0,16275.0,445.0,847.5,54.25,126.5,62.5,170.75,1180.0,53.0,297.5,146.25,450.0,175.5,233.0,138.5,350.0,1222.5,11800.0,2700.0,7225.0,51.5,310.0,160.75,69.0,392.5,6275.0,525.0,1090.0,620.0,407.5,1015.0,70.0,193.5,105.75,89.0,163.0,56.25,151.0,70.75],\"yaxis\":\"y\"}],                        {\"annotations\":[{\"font\":{\"color\":\"black\",\"size\":20},\"showarrow\":false,\"text\":\"Pearson's r: 0.01\\nPVal: 0.9\",\"textangle\":0,\"x\":0.2,\"xanchor\":\"left\",\"xref\":\"paper\",\"y\":0.95,\"yref\":\"paper\"}],\"legend\":{\"tracegroupgap\":0},\"margin\":{\"t\":60},\"template\":{\"data\":{\"bar\":[{\"error_x\":{\"color\":\"#2a3f5f\"},\"error_y\":{\"color\":\"#2a3f5f\"},\"marker\":{\"line\":{\"color\":\"#E5ECF6\",\"width\":0.5},\"pattern\":{\"fillmode\":\"overlay\",\"size\":10,\"solidity\":0.2}},\"type\":\"bar\"}],\"barpolar\":[{\"marker\":{\"line\":{\"color\":\"#E5ECF6\",\"width\":0.5},\"pattern\":{\"fillmode\":\"overlay\",\"size\":10,\"solidity\":0.2}},\"type\":\"barpolar\"}],\"carpet\":[{\"aaxis\":{\"endlinecolor\":\"#2a3f5f\",\"gridcolor\":\"white\",\"linecolor\":\"white\",\"minorgridcolor\":\"white\",\"startlinecolor\":\"#2a3f5f\"},\"baxis\":{\"endlinecolor\":\"#2a3f5f\",\"gridcolor\":\"white\",\"linecolor\":\"white\",\"minorgridcolor\":\"white\",\"startlinecolor\":\"#2a3f5f\"},\"type\":\"carpet\"}],\"choropleth\":[{\"colorbar\":{\"outlinewidth\":0,\"ticks\":\"\"},\"type\":\"choropleth\"}],\"contour\":[{\"colorbar\":{\"outlinewidth\":0,\"ticks\":\"\"},\"colorscale\":[[0.0,\"#0d0887\"],[0.1111111111111111,\"#46039f\"],[0.2222222222222222,\"#7201a8\"],[0.3333333333333333,\"#9c179e\"],[0.4444444444444444,\"#bd3786\"],[0.5555555555555556,\"#d8576b\"],[0.6666666666666666,\"#ed7953\"],[0.7777777777777778,\"#fb9f3a\"],[0.8888888888888888,\"#fdca26\"],[1.0,\"#f0f921\"]],\"type\":\"contour\"}],\"contourcarpet\":[{\"colorbar\":{\"outlinewidth\":0,\"ticks\":\"\"},\"type\":\"contourcarpet\"}],\"heatmap\":[{\"colorbar\":{\"outlinewidth\":0,\"ticks\":\"\"},\"colorscale\":[[0.0,\"#0d0887\"],[0.1111111111111111,\"#46039f\"],[0.2222222222222222,\"#7201a8\"],[0.3333333333333333,\"#9c179e\"],[0.4444444444444444,\"#bd3786\"],[0.5555555555555556,\"#d8576b\"],[0.6666666666666666,\"#ed7953\"],[0.7777777777777778,\"#fb9f3a\"],[0.8888888888888888,\"#fdca26\"],[1.0,\"#f0f921\"]],\"type\":\"heatmap\"}],\"heatmapgl\":[{\"colorbar\":{\"outlinewidth\":0,\"ticks\":\"\"},\"colorscale\":[[0.0,\"#0d0887\"],[0.1111111111111111,\"#46039f\"],[0.2222222222222222,\"#7201a8\"],[0.3333333333333333,\"#9c179e\"],[0.4444444444444444,\"#bd3786\"],[0.5555555555555556,\"#d8576b\"],[0.6666666666666666,\"#ed7953\"],[0.7777777777777778,\"#fb9f3a\"],[0.8888888888888888,\"#fdca26\"],[1.0,\"#f0f921\"]],\"type\":\"heatmapgl\"}],\"histogram\":[{\"marker\":{\"pattern\":{\"fillmode\":\"overlay\",\"size\":10,\"solidity\":0.2}},\"type\":\"histogram\"}],\"histogram2d\":[{\"colorbar\":{\"outlinewidth\":0,\"ticks\":\"\"},\"colorscale\":[[0.0,\"#0d0887\"],[0.1111111111111111,\"#46039f\"],[0.2222222222222222,\"#7201a8\"],[0.3333333333333333,\"#9c179e\"],[0.4444444444444444,\"#bd3786\"],[0.5555555555555556,\"#d8576b\"],[0.6666666666666666,\"#ed7953\"],[0.7777777777777778,\"#fb9f3a\"],[0.8888888888888888,\"#fdca26\"],[1.0,\"#f0f921\"]],\"type\":\"histogram2d\"}],\"histogram2dcontour\":[{\"colorbar\":{\"outlinewidth\":0,\"ticks\":\"\"},\"colorscale\":[[0.0,\"#0d0887\"],[0.1111111111111111,\"#46039f\"],[0.2222222222222222,\"#7201a8\"],[0.3333333333333333,\"#9c179e\"],[0.4444444444444444,\"#bd3786\"],[0.5555555555555556,\"#d8576b\"],[0.6666666666666666,\"#ed7953\"],[0.7777777777777778,\"#fb9f3a\"],[0.8888888888888888,\"#fdca26\"],[1.0,\"#f0f921\"]],\"type\":\"histogram2dcontour\"}],\"mesh3d\":[{\"colorbar\":{\"outlinewidth\":0,\"ticks\":\"\"},\"type\":\"mesh3d\"}],\"parcoords\":[{\"line\":{\"colorbar\":{\"outlinewidth\":0,\"ticks\":\"\"}},\"type\":\"parcoords\"}],\"pie\":[{\"automargin\":true,\"type\":\"pie\"}],\"scatter\":[{\"marker\":{\"colorbar\":{\"outlinewidth\":0,\"ticks\":\"\"}},\"type\":\"scatter\"}],\"scatter3d\":[{\"line\":{\"colorbar\":{\"outlinewidth\":0,\"ticks\":\"\"}},\"marker\":{\"colorbar\":{\"outlinewidth\":0,\"ticks\":\"\"}},\"type\":\"scatter3d\"}],\"scattercarpet\":[{\"marker\":{\"colorbar\":{\"outlinewidth\":0,\"ticks\":\"\"}},\"type\":\"scattercarpet\"}],\"scattergeo\":[{\"marker\":{\"colorbar\":{\"outlinewidth\":0,\"ticks\":\"\"}},\"type\":\"scattergeo\"}],\"scattergl\":[{\"marker\":{\"colorbar\":{\"outlinewidth\":0,\"ticks\":\"\"}},\"type\":\"scattergl\"}],\"scattermapbox\":[{\"marker\":{\"colorbar\":{\"outlinewidth\":0,\"ticks\":\"\"}},\"type\":\"scattermapbox\"}],\"scatterpolar\":[{\"marker\":{\"colorbar\":{\"outlinewidth\":0,\"ticks\":\"\"}},\"type\":\"scatterpolar\"}],\"scatterpolargl\":[{\"marker\":{\"colorbar\":{\"outlinewidth\":0,\"ticks\":\"\"}},\"type\":\"scatterpolargl\"}],\"scatterternary\":[{\"marker\":{\"colorbar\":{\"outlinewidth\":0,\"ticks\":\"\"}},\"type\":\"scatterternary\"}],\"surface\":[{\"colorbar\":{\"outlinewidth\":0,\"ticks\":\"\"},\"colorscale\":[[0.0,\"#0d0887\"],[0.1111111111111111,\"#46039f\"],[0.2222222222222222,\"#7201a8\"],[0.3333333333333333,\"#9c179e\"],[0.4444444444444444,\"#bd3786\"],[0.5555555555555556,\"#d8576b\"],[0.6666666666666666,\"#ed7953\"],[0.7777777777777778,\"#fb9f3a\"],[0.8888888888888888,\"#fdca26\"],[1.0,\"#f0f921\"]],\"type\":\"surface\"}],\"table\":[{\"cells\":{\"fill\":{\"color\":\"#EBF0F8\"},\"line\":{\"color\":\"white\"}},\"header\":{\"fill\":{\"color\":\"#C8D4E3\"},\"line\":{\"color\":\"white\"}},\"type\":\"table\"}]},\"layout\":{\"annotationdefaults\":{\"arrowcolor\":\"#2a3f5f\",\"arrowhead\":0,\"arrowwidth\":1},\"autotypenumbers\":\"strict\",\"coloraxis\":{\"colorbar\":{\"outlinewidth\":0,\"ticks\":\"\"}},\"colorscale\":{\"diverging\":[[0,\"#8e0152\"],[0.1,\"#c51b7d\"],[0.2,\"#de77ae\"],[0.3,\"#f1b6da\"],[0.4,\"#fde0ef\"],[0.5,\"#f7f7f7\"],[0.6,\"#e6f5d0\"],[0.7,\"#b8e186\"],[0.8,\"#7fbc41\"],[0.9,\"#4d9221\"],[1,\"#276419\"]],\"sequential\":[[0.0,\"#0d0887\"],[0.1111111111111111,\"#46039f\"],[0.2222222222222222,\"#7201a8\"],[0.3333333333333333,\"#9c179e\"],[0.4444444444444444,\"#bd3786\"],[0.5555555555555556,\"#d8576b\"],[0.6666666666666666,\"#ed7953\"],[0.7777777777777778,\"#fb9f3a\"],[0.8888888888888888,\"#fdca26\"],[1.0,\"#f0f921\"]],\"sequentialminus\":[[0.0,\"#0d0887\"],[0.1111111111111111,\"#46039f\"],[0.2222222222222222,\"#7201a8\"],[0.3333333333333333,\"#9c179e\"],[0.4444444444444444,\"#bd3786\"],[0.5555555555555556,\"#d8576b\"],[0.6666666666666666,\"#ed7953\"],[0.7777777777777778,\"#fb9f3a\"],[0.8888888888888888,\"#fdca26\"],[1.0,\"#f0f921\"]]},\"colorway\":[\"#636efa\",\"#EF553B\",\"#00cc96\",\"#ab63fa\",\"#FFA15A\",\"#19d3f3\",\"#FF6692\",\"#B6E880\",\"#FF97FF\",\"#FECB52\"],\"font\":{\"color\":\"#2a3f5f\"},\"geo\":{\"bgcolor\":\"white\",\"lakecolor\":\"white\",\"landcolor\":\"#E5ECF6\",\"showlakes\":true,\"showland\":true,\"subunitcolor\":\"white\"},\"hoverlabel\":{\"align\":\"left\"},\"hovermode\":\"closest\",\"mapbox\":{\"style\":\"light\"},\"paper_bgcolor\":\"white\",\"plot_bgcolor\":\"#E5ECF6\",\"polar\":{\"angularaxis\":{\"gridcolor\":\"white\",\"linecolor\":\"white\",\"ticks\":\"\"},\"bgcolor\":\"#E5ECF6\",\"radialaxis\":{\"gridcolor\":\"white\",\"linecolor\":\"white\",\"ticks\":\"\"}},\"scene\":{\"xaxis\":{\"backgroundcolor\":\"#E5ECF6\",\"gridcolor\":\"white\",\"gridwidth\":2,\"linecolor\":\"white\",\"showbackground\":true,\"ticks\":\"\",\"zerolinecolor\":\"white\"},\"yaxis\":{\"backgroundcolor\":\"#E5ECF6\",\"gridcolor\":\"white\",\"gridwidth\":2,\"linecolor\":\"white\",\"showbackground\":true,\"ticks\":\"\",\"zerolinecolor\":\"white\"},\"zaxis\":{\"backgroundcolor\":\"#E5ECF6\",\"gridcolor\":\"white\",\"gridwidth\":2,\"linecolor\":\"white\",\"showbackground\":true,\"ticks\":\"\",\"zerolinecolor\":\"white\"}},\"shapedefaults\":{\"line\":{\"color\":\"#2a3f5f\"}},\"ternary\":{\"aaxis\":{\"gridcolor\":\"white\",\"linecolor\":\"white\",\"ticks\":\"\"},\"baxis\":{\"gridcolor\":\"white\",\"linecolor\":\"white\",\"ticks\":\"\"},\"bgcolor\":\"#E5ECF6\",\"caxis\":{\"gridcolor\":\"white\",\"linecolor\":\"white\",\"ticks\":\"\"}},\"title\":{\"x\":0.05},\"xaxis\":{\"automargin\":true,\"gridcolor\":\"white\",\"linecolor\":\"white\",\"ticks\":\"\",\"title\":{\"standoff\":15},\"zerolinecolor\":\"white\",\"zerolinewidth\":2},\"yaxis\":{\"automargin\":true,\"gridcolor\":\"white\",\"linecolor\":\"white\",\"ticks\":\"\",\"title\":{\"standoff\":15},\"zerolinecolor\":\"white\",\"zerolinewidth\":2}}},\"xaxis\":{\"anchor\":\"y\",\"domain\":[0.0,1.0],\"title\":{\"text\":\"Total_cyano_cell_count\"},\"type\":\"log\"},\"yaxis\":{\"anchor\":\"x\",\"domain\":[0.0,1.0],\"title\":{\"text\":\"Anabaena_mcyE\"},\"type\":\"log\"}},                        {\"responsive\": true}                    ).then(function(){\n",
       "                            \n",
       "var gd = document.getElementById('3f96000c-b57f-4eb8-909d-d9c4c05c44d3');\n",
       "var x = new MutationObserver(function (mutations, observer) {{\n",
       "        var display = window.getComputedStyle(gd).display;\n",
       "        if (!display || display === 'none') {{\n",
       "            console.log([gd, 'removed!']);\n",
       "            Plotly.purge(gd);\n",
       "            observer.disconnect();\n",
       "        }}\n",
       "}});\n",
       "\n",
       "// Listen for the removal of the full notebook cells\n",
       "var notebookContainer = gd.closest('#notebook-container');\n",
       "if (notebookContainer) {{\n",
       "    x.observe(notebookContainer, {childList: true});\n",
       "}}\n",
       "\n",
       "// Listen for the clearing of the current output cell\n",
       "var outputEl = gd.closest('.output');\n",
       "if (outputEl) {{\n",
       "    x.observe(outputEl, {childList: true});\n",
       "}}\n",
       "\n",
       "                        })                };                });            </script>        </div>"
      ]
     },
     "metadata": {},
     "output_type": "display_data"
    }
   ],
   "source": [
    "# Plot 3- Cell Count vs Anabaena_mcyE\n",
    "corr = stats.pearsonr(CellCountVsA_mcyE['Anabaena_mcyE'], CellCountVsA_mcyE['Total_cyano_cell_count'])\n",
    "fig = px.scatter(CellCountVsA_mcyE, x = 'Total_cyano_cell_count', y = 'Anabaena_mcyE',log_x=True,log_y=True)\n",
    "fig.add_annotation(dict(font=dict(color='black',size=20),\n",
    "                                        x=0.2,\n",
    "                                        y=0.95,\n",
    "                                        showarrow=False,\n",
    "                                        text= \"Pearson's r: \" + str(round(corr[0], 2)) +\"\\nPVal: \" + str(round(corr[1], 2)),\n",
    "                                        textangle=0,\n",
    "                                        xanchor='left',\n",
    "                                        xref=\"paper\",\n",
    "                                        yref=\"paper\"))\n",
    "fig.show()"
   ]
  },
  {
   "cell_type": "code",
   "execution_count": 18,
   "id": "98e521a0",
   "metadata": {},
   "outputs": [
    {
     "data": {
      "application/vnd.plotly.v1+json": {
       "config": {
        "plotlyServerURL": "https://plot.ly"
       },
       "data": [
        {
         "hovertemplate": "Total_cyano_cell_count=%{x}<br>Planktothrix_mcyE=%{y}<extra></extra>",
         "legendgroup": "",
         "marker": {
          "color": "#636efa",
          "symbol": "circle"
         },
         "mode": "markers",
         "name": "",
         "orientation": "v",
         "showlegend": false,
         "type": "scatter",
         "x": [
          0,
          328250,
          1028920,
          611320,
          320245,
          0,
          41923,
          2471,
          0,
          866,
          12355,
          6610,
          77109,
          181061,
          1166985,
          45831,
          201485
         ],
         "xaxis": "x",
         "y": [
          425,
          437.5,
          460,
          10850,
          20375,
          219,
          365,
          132.75,
          150.75,
          275,
          1932.5,
          168.25,
          650,
          4325,
          1192.5,
          470,
          192.25
         ],
         "yaxis": "y"
        }
       ],
       "layout": {
        "annotations": [
         {
          "font": {
           "color": "black",
           "size": 20
          },
          "showarrow": false,
          "text": "Pearson's r: 0.19\nPVal: 0.46",
          "textangle": 0,
          "x": 0.2,
          "xanchor": "left",
          "xref": "paper",
          "y": 0.95,
          "yref": "paper"
         }
        ],
        "legend": {
         "tracegroupgap": 0
        },
        "margin": {
         "t": 60
        },
        "template": {
         "data": {
          "bar": [
           {
            "error_x": {
             "color": "#2a3f5f"
            },
            "error_y": {
             "color": "#2a3f5f"
            },
            "marker": {
             "line": {
              "color": "#E5ECF6",
              "width": 0.5
             },
             "pattern": {
              "fillmode": "overlay",
              "size": 10,
              "solidity": 0.2
             }
            },
            "type": "bar"
           }
          ],
          "barpolar": [
           {
            "marker": {
             "line": {
              "color": "#E5ECF6",
              "width": 0.5
             },
             "pattern": {
              "fillmode": "overlay",
              "size": 10,
              "solidity": 0.2
             }
            },
            "type": "barpolar"
           }
          ],
          "carpet": [
           {
            "aaxis": {
             "endlinecolor": "#2a3f5f",
             "gridcolor": "white",
             "linecolor": "white",
             "minorgridcolor": "white",
             "startlinecolor": "#2a3f5f"
            },
            "baxis": {
             "endlinecolor": "#2a3f5f",
             "gridcolor": "white",
             "linecolor": "white",
             "minorgridcolor": "white",
             "startlinecolor": "#2a3f5f"
            },
            "type": "carpet"
           }
          ],
          "choropleth": [
           {
            "colorbar": {
             "outlinewidth": 0,
             "ticks": ""
            },
            "type": "choropleth"
           }
          ],
          "contour": [
           {
            "colorbar": {
             "outlinewidth": 0,
             "ticks": ""
            },
            "colorscale": [
             [
              0,
              "#0d0887"
             ],
             [
              0.1111111111111111,
              "#46039f"
             ],
             [
              0.2222222222222222,
              "#7201a8"
             ],
             [
              0.3333333333333333,
              "#9c179e"
             ],
             [
              0.4444444444444444,
              "#bd3786"
             ],
             [
              0.5555555555555556,
              "#d8576b"
             ],
             [
              0.6666666666666666,
              "#ed7953"
             ],
             [
              0.7777777777777778,
              "#fb9f3a"
             ],
             [
              0.8888888888888888,
              "#fdca26"
             ],
             [
              1,
              "#f0f921"
             ]
            ],
            "type": "contour"
           }
          ],
          "contourcarpet": [
           {
            "colorbar": {
             "outlinewidth": 0,
             "ticks": ""
            },
            "type": "contourcarpet"
           }
          ],
          "heatmap": [
           {
            "colorbar": {
             "outlinewidth": 0,
             "ticks": ""
            },
            "colorscale": [
             [
              0,
              "#0d0887"
             ],
             [
              0.1111111111111111,
              "#46039f"
             ],
             [
              0.2222222222222222,
              "#7201a8"
             ],
             [
              0.3333333333333333,
              "#9c179e"
             ],
             [
              0.4444444444444444,
              "#bd3786"
             ],
             [
              0.5555555555555556,
              "#d8576b"
             ],
             [
              0.6666666666666666,
              "#ed7953"
             ],
             [
              0.7777777777777778,
              "#fb9f3a"
             ],
             [
              0.8888888888888888,
              "#fdca26"
             ],
             [
              1,
              "#f0f921"
             ]
            ],
            "type": "heatmap"
           }
          ],
          "heatmapgl": [
           {
            "colorbar": {
             "outlinewidth": 0,
             "ticks": ""
            },
            "colorscale": [
             [
              0,
              "#0d0887"
             ],
             [
              0.1111111111111111,
              "#46039f"
             ],
             [
              0.2222222222222222,
              "#7201a8"
             ],
             [
              0.3333333333333333,
              "#9c179e"
             ],
             [
              0.4444444444444444,
              "#bd3786"
             ],
             [
              0.5555555555555556,
              "#d8576b"
             ],
             [
              0.6666666666666666,
              "#ed7953"
             ],
             [
              0.7777777777777778,
              "#fb9f3a"
             ],
             [
              0.8888888888888888,
              "#fdca26"
             ],
             [
              1,
              "#f0f921"
             ]
            ],
            "type": "heatmapgl"
           }
          ],
          "histogram": [
           {
            "marker": {
             "pattern": {
              "fillmode": "overlay",
              "size": 10,
              "solidity": 0.2
             }
            },
            "type": "histogram"
           }
          ],
          "histogram2d": [
           {
            "colorbar": {
             "outlinewidth": 0,
             "ticks": ""
            },
            "colorscale": [
             [
              0,
              "#0d0887"
             ],
             [
              0.1111111111111111,
              "#46039f"
             ],
             [
              0.2222222222222222,
              "#7201a8"
             ],
             [
              0.3333333333333333,
              "#9c179e"
             ],
             [
              0.4444444444444444,
              "#bd3786"
             ],
             [
              0.5555555555555556,
              "#d8576b"
             ],
             [
              0.6666666666666666,
              "#ed7953"
             ],
             [
              0.7777777777777778,
              "#fb9f3a"
             ],
             [
              0.8888888888888888,
              "#fdca26"
             ],
             [
              1,
              "#f0f921"
             ]
            ],
            "type": "histogram2d"
           }
          ],
          "histogram2dcontour": [
           {
            "colorbar": {
             "outlinewidth": 0,
             "ticks": ""
            },
            "colorscale": [
             [
              0,
              "#0d0887"
             ],
             [
              0.1111111111111111,
              "#46039f"
             ],
             [
              0.2222222222222222,
              "#7201a8"
             ],
             [
              0.3333333333333333,
              "#9c179e"
             ],
             [
              0.4444444444444444,
              "#bd3786"
             ],
             [
              0.5555555555555556,
              "#d8576b"
             ],
             [
              0.6666666666666666,
              "#ed7953"
             ],
             [
              0.7777777777777778,
              "#fb9f3a"
             ],
             [
              0.8888888888888888,
              "#fdca26"
             ],
             [
              1,
              "#f0f921"
             ]
            ],
            "type": "histogram2dcontour"
           }
          ],
          "mesh3d": [
           {
            "colorbar": {
             "outlinewidth": 0,
             "ticks": ""
            },
            "type": "mesh3d"
           }
          ],
          "parcoords": [
           {
            "line": {
             "colorbar": {
              "outlinewidth": 0,
              "ticks": ""
             }
            },
            "type": "parcoords"
           }
          ],
          "pie": [
           {
            "automargin": true,
            "type": "pie"
           }
          ],
          "scatter": [
           {
            "marker": {
             "colorbar": {
              "outlinewidth": 0,
              "ticks": ""
             }
            },
            "type": "scatter"
           }
          ],
          "scatter3d": [
           {
            "line": {
             "colorbar": {
              "outlinewidth": 0,
              "ticks": ""
             }
            },
            "marker": {
             "colorbar": {
              "outlinewidth": 0,
              "ticks": ""
             }
            },
            "type": "scatter3d"
           }
          ],
          "scattercarpet": [
           {
            "marker": {
             "colorbar": {
              "outlinewidth": 0,
              "ticks": ""
             }
            },
            "type": "scattercarpet"
           }
          ],
          "scattergeo": [
           {
            "marker": {
             "colorbar": {
              "outlinewidth": 0,
              "ticks": ""
             }
            },
            "type": "scattergeo"
           }
          ],
          "scattergl": [
           {
            "marker": {
             "colorbar": {
              "outlinewidth": 0,
              "ticks": ""
             }
            },
            "type": "scattergl"
           }
          ],
          "scattermapbox": [
           {
            "marker": {
             "colorbar": {
              "outlinewidth": 0,
              "ticks": ""
             }
            },
            "type": "scattermapbox"
           }
          ],
          "scatterpolar": [
           {
            "marker": {
             "colorbar": {
              "outlinewidth": 0,
              "ticks": ""
             }
            },
            "type": "scatterpolar"
           }
          ],
          "scatterpolargl": [
           {
            "marker": {
             "colorbar": {
              "outlinewidth": 0,
              "ticks": ""
             }
            },
            "type": "scatterpolargl"
           }
          ],
          "scatterternary": [
           {
            "marker": {
             "colorbar": {
              "outlinewidth": 0,
              "ticks": ""
             }
            },
            "type": "scatterternary"
           }
          ],
          "surface": [
           {
            "colorbar": {
             "outlinewidth": 0,
             "ticks": ""
            },
            "colorscale": [
             [
              0,
              "#0d0887"
             ],
             [
              0.1111111111111111,
              "#46039f"
             ],
             [
              0.2222222222222222,
              "#7201a8"
             ],
             [
              0.3333333333333333,
              "#9c179e"
             ],
             [
              0.4444444444444444,
              "#bd3786"
             ],
             [
              0.5555555555555556,
              "#d8576b"
             ],
             [
              0.6666666666666666,
              "#ed7953"
             ],
             [
              0.7777777777777778,
              "#fb9f3a"
             ],
             [
              0.8888888888888888,
              "#fdca26"
             ],
             [
              1,
              "#f0f921"
             ]
            ],
            "type": "surface"
           }
          ],
          "table": [
           {
            "cells": {
             "fill": {
              "color": "#EBF0F8"
             },
             "line": {
              "color": "white"
             }
            },
            "header": {
             "fill": {
              "color": "#C8D4E3"
             },
             "line": {
              "color": "white"
             }
            },
            "type": "table"
           }
          ]
         },
         "layout": {
          "annotationdefaults": {
           "arrowcolor": "#2a3f5f",
           "arrowhead": 0,
           "arrowwidth": 1
          },
          "autotypenumbers": "strict",
          "coloraxis": {
           "colorbar": {
            "outlinewidth": 0,
            "ticks": ""
           }
          },
          "colorscale": {
           "diverging": [
            [
             0,
             "#8e0152"
            ],
            [
             0.1,
             "#c51b7d"
            ],
            [
             0.2,
             "#de77ae"
            ],
            [
             0.3,
             "#f1b6da"
            ],
            [
             0.4,
             "#fde0ef"
            ],
            [
             0.5,
             "#f7f7f7"
            ],
            [
             0.6,
             "#e6f5d0"
            ],
            [
             0.7,
             "#b8e186"
            ],
            [
             0.8,
             "#7fbc41"
            ],
            [
             0.9,
             "#4d9221"
            ],
            [
             1,
             "#276419"
            ]
           ],
           "sequential": [
            [
             0,
             "#0d0887"
            ],
            [
             0.1111111111111111,
             "#46039f"
            ],
            [
             0.2222222222222222,
             "#7201a8"
            ],
            [
             0.3333333333333333,
             "#9c179e"
            ],
            [
             0.4444444444444444,
             "#bd3786"
            ],
            [
             0.5555555555555556,
             "#d8576b"
            ],
            [
             0.6666666666666666,
             "#ed7953"
            ],
            [
             0.7777777777777778,
             "#fb9f3a"
            ],
            [
             0.8888888888888888,
             "#fdca26"
            ],
            [
             1,
             "#f0f921"
            ]
           ],
           "sequentialminus": [
            [
             0,
             "#0d0887"
            ],
            [
             0.1111111111111111,
             "#46039f"
            ],
            [
             0.2222222222222222,
             "#7201a8"
            ],
            [
             0.3333333333333333,
             "#9c179e"
            ],
            [
             0.4444444444444444,
             "#bd3786"
            ],
            [
             0.5555555555555556,
             "#d8576b"
            ],
            [
             0.6666666666666666,
             "#ed7953"
            ],
            [
             0.7777777777777778,
             "#fb9f3a"
            ],
            [
             0.8888888888888888,
             "#fdca26"
            ],
            [
             1,
             "#f0f921"
            ]
           ]
          },
          "colorway": [
           "#636efa",
           "#EF553B",
           "#00cc96",
           "#ab63fa",
           "#FFA15A",
           "#19d3f3",
           "#FF6692",
           "#B6E880",
           "#FF97FF",
           "#FECB52"
          ],
          "font": {
           "color": "#2a3f5f"
          },
          "geo": {
           "bgcolor": "white",
           "lakecolor": "white",
           "landcolor": "#E5ECF6",
           "showlakes": true,
           "showland": true,
           "subunitcolor": "white"
          },
          "hoverlabel": {
           "align": "left"
          },
          "hovermode": "closest",
          "mapbox": {
           "style": "light"
          },
          "paper_bgcolor": "white",
          "plot_bgcolor": "#E5ECF6",
          "polar": {
           "angularaxis": {
            "gridcolor": "white",
            "linecolor": "white",
            "ticks": ""
           },
           "bgcolor": "#E5ECF6",
           "radialaxis": {
            "gridcolor": "white",
            "linecolor": "white",
            "ticks": ""
           }
          },
          "scene": {
           "xaxis": {
            "backgroundcolor": "#E5ECF6",
            "gridcolor": "white",
            "gridwidth": 2,
            "linecolor": "white",
            "showbackground": true,
            "ticks": "",
            "zerolinecolor": "white"
           },
           "yaxis": {
            "backgroundcolor": "#E5ECF6",
            "gridcolor": "white",
            "gridwidth": 2,
            "linecolor": "white",
            "showbackground": true,
            "ticks": "",
            "zerolinecolor": "white"
           },
           "zaxis": {
            "backgroundcolor": "#E5ECF6",
            "gridcolor": "white",
            "gridwidth": 2,
            "linecolor": "white",
            "showbackground": true,
            "ticks": "",
            "zerolinecolor": "white"
           }
          },
          "shapedefaults": {
           "line": {
            "color": "#2a3f5f"
           }
          },
          "ternary": {
           "aaxis": {
            "gridcolor": "white",
            "linecolor": "white",
            "ticks": ""
           },
           "baxis": {
            "gridcolor": "white",
            "linecolor": "white",
            "ticks": ""
           },
           "bgcolor": "#E5ECF6",
           "caxis": {
            "gridcolor": "white",
            "linecolor": "white",
            "ticks": ""
           }
          },
          "title": {
           "x": 0.05
          },
          "xaxis": {
           "automargin": true,
           "gridcolor": "white",
           "linecolor": "white",
           "ticks": "",
           "title": {
            "standoff": 15
           },
           "zerolinecolor": "white",
           "zerolinewidth": 2
          },
          "yaxis": {
           "automargin": true,
           "gridcolor": "white",
           "linecolor": "white",
           "ticks": "",
           "title": {
            "standoff": 15
           },
           "zerolinecolor": "white",
           "zerolinewidth": 2
          }
         }
        },
        "xaxis": {
         "anchor": "y",
         "domain": [
          0,
          1
         ],
         "title": {
          "text": "Total_cyano_cell_count"
         },
         "type": "log"
        },
        "yaxis": {
         "anchor": "x",
         "domain": [
          0,
          1
         ],
         "title": {
          "text": "Planktothrix_mcyE"
         },
         "type": "log"
        }
       }
      },
      "text/html": [
       "<div>                            <div id=\"af8f2502-8fb4-4bdf-8400-1e15ae6de542\" class=\"plotly-graph-div\" style=\"height:525px; width:100%;\"></div>            <script type=\"text/javascript\">                require([\"plotly\"], function(Plotly) {                    window.PLOTLYENV=window.PLOTLYENV || {};                                    if (document.getElementById(\"af8f2502-8fb4-4bdf-8400-1e15ae6de542\")) {                    Plotly.newPlot(                        \"af8f2502-8fb4-4bdf-8400-1e15ae6de542\",                        [{\"hovertemplate\":\"Total_cyano_cell_count=%{x}<br>Planktothrix_mcyE=%{y}<extra></extra>\",\"legendgroup\":\"\",\"marker\":{\"color\":\"#636efa\",\"symbol\":\"circle\"},\"mode\":\"markers\",\"name\":\"\",\"orientation\":\"v\",\"showlegend\":false,\"type\":\"scatter\",\"x\":[0.0,328250.0,1028920.0,611320.0,320245.0,0.0,41923.0,2471.0,0.0,866.0,12355.0,6610.0,77109.0,181061.0,1166985.0,45831.0,201485.0],\"xaxis\":\"x\",\"y\":[425.0,437.5,460.0,10850.0,20375.0,219.0,365.0,132.75,150.75,275.0,1932.5,168.25,650.0,4325.0,1192.5,470.0,192.25],\"yaxis\":\"y\"}],                        {\"annotations\":[{\"font\":{\"color\":\"black\",\"size\":20},\"showarrow\":false,\"text\":\"Pearson's r: 0.19\\nPVal: 0.46\",\"textangle\":0,\"x\":0.2,\"xanchor\":\"left\",\"xref\":\"paper\",\"y\":0.95,\"yref\":\"paper\"}],\"legend\":{\"tracegroupgap\":0},\"margin\":{\"t\":60},\"template\":{\"data\":{\"bar\":[{\"error_x\":{\"color\":\"#2a3f5f\"},\"error_y\":{\"color\":\"#2a3f5f\"},\"marker\":{\"line\":{\"color\":\"#E5ECF6\",\"width\":0.5},\"pattern\":{\"fillmode\":\"overlay\",\"size\":10,\"solidity\":0.2}},\"type\":\"bar\"}],\"barpolar\":[{\"marker\":{\"line\":{\"color\":\"#E5ECF6\",\"width\":0.5},\"pattern\":{\"fillmode\":\"overlay\",\"size\":10,\"solidity\":0.2}},\"type\":\"barpolar\"}],\"carpet\":[{\"aaxis\":{\"endlinecolor\":\"#2a3f5f\",\"gridcolor\":\"white\",\"linecolor\":\"white\",\"minorgridcolor\":\"white\",\"startlinecolor\":\"#2a3f5f\"},\"baxis\":{\"endlinecolor\":\"#2a3f5f\",\"gridcolor\":\"white\",\"linecolor\":\"white\",\"minorgridcolor\":\"white\",\"startlinecolor\":\"#2a3f5f\"},\"type\":\"carpet\"}],\"choropleth\":[{\"colorbar\":{\"outlinewidth\":0,\"ticks\":\"\"},\"type\":\"choropleth\"}],\"contour\":[{\"colorbar\":{\"outlinewidth\":0,\"ticks\":\"\"},\"colorscale\":[[0.0,\"#0d0887\"],[0.1111111111111111,\"#46039f\"],[0.2222222222222222,\"#7201a8\"],[0.3333333333333333,\"#9c179e\"],[0.4444444444444444,\"#bd3786\"],[0.5555555555555556,\"#d8576b\"],[0.6666666666666666,\"#ed7953\"],[0.7777777777777778,\"#fb9f3a\"],[0.8888888888888888,\"#fdca26\"],[1.0,\"#f0f921\"]],\"type\":\"contour\"}],\"contourcarpet\":[{\"colorbar\":{\"outlinewidth\":0,\"ticks\":\"\"},\"type\":\"contourcarpet\"}],\"heatmap\":[{\"colorbar\":{\"outlinewidth\":0,\"ticks\":\"\"},\"colorscale\":[[0.0,\"#0d0887\"],[0.1111111111111111,\"#46039f\"],[0.2222222222222222,\"#7201a8\"],[0.3333333333333333,\"#9c179e\"],[0.4444444444444444,\"#bd3786\"],[0.5555555555555556,\"#d8576b\"],[0.6666666666666666,\"#ed7953\"],[0.7777777777777778,\"#fb9f3a\"],[0.8888888888888888,\"#fdca26\"],[1.0,\"#f0f921\"]],\"type\":\"heatmap\"}],\"heatmapgl\":[{\"colorbar\":{\"outlinewidth\":0,\"ticks\":\"\"},\"colorscale\":[[0.0,\"#0d0887\"],[0.1111111111111111,\"#46039f\"],[0.2222222222222222,\"#7201a8\"],[0.3333333333333333,\"#9c179e\"],[0.4444444444444444,\"#bd3786\"],[0.5555555555555556,\"#d8576b\"],[0.6666666666666666,\"#ed7953\"],[0.7777777777777778,\"#fb9f3a\"],[0.8888888888888888,\"#fdca26\"],[1.0,\"#f0f921\"]],\"type\":\"heatmapgl\"}],\"histogram\":[{\"marker\":{\"pattern\":{\"fillmode\":\"overlay\",\"size\":10,\"solidity\":0.2}},\"type\":\"histogram\"}],\"histogram2d\":[{\"colorbar\":{\"outlinewidth\":0,\"ticks\":\"\"},\"colorscale\":[[0.0,\"#0d0887\"],[0.1111111111111111,\"#46039f\"],[0.2222222222222222,\"#7201a8\"],[0.3333333333333333,\"#9c179e\"],[0.4444444444444444,\"#bd3786\"],[0.5555555555555556,\"#d8576b\"],[0.6666666666666666,\"#ed7953\"],[0.7777777777777778,\"#fb9f3a\"],[0.8888888888888888,\"#fdca26\"],[1.0,\"#f0f921\"]],\"type\":\"histogram2d\"}],\"histogram2dcontour\":[{\"colorbar\":{\"outlinewidth\":0,\"ticks\":\"\"},\"colorscale\":[[0.0,\"#0d0887\"],[0.1111111111111111,\"#46039f\"],[0.2222222222222222,\"#7201a8\"],[0.3333333333333333,\"#9c179e\"],[0.4444444444444444,\"#bd3786\"],[0.5555555555555556,\"#d8576b\"],[0.6666666666666666,\"#ed7953\"],[0.7777777777777778,\"#fb9f3a\"],[0.8888888888888888,\"#fdca26\"],[1.0,\"#f0f921\"]],\"type\":\"histogram2dcontour\"}],\"mesh3d\":[{\"colorbar\":{\"outlinewidth\":0,\"ticks\":\"\"},\"type\":\"mesh3d\"}],\"parcoords\":[{\"line\":{\"colorbar\":{\"outlinewidth\":0,\"ticks\":\"\"}},\"type\":\"parcoords\"}],\"pie\":[{\"automargin\":true,\"type\":\"pie\"}],\"scatter\":[{\"marker\":{\"colorbar\":{\"outlinewidth\":0,\"ticks\":\"\"}},\"type\":\"scatter\"}],\"scatter3d\":[{\"line\":{\"colorbar\":{\"outlinewidth\":0,\"ticks\":\"\"}},\"marker\":{\"colorbar\":{\"outlinewidth\":0,\"ticks\":\"\"}},\"type\":\"scatter3d\"}],\"scattercarpet\":[{\"marker\":{\"colorbar\":{\"outlinewidth\":0,\"ticks\":\"\"}},\"type\":\"scattercarpet\"}],\"scattergeo\":[{\"marker\":{\"colorbar\":{\"outlinewidth\":0,\"ticks\":\"\"}},\"type\":\"scattergeo\"}],\"scattergl\":[{\"marker\":{\"colorbar\":{\"outlinewidth\":0,\"ticks\":\"\"}},\"type\":\"scattergl\"}],\"scattermapbox\":[{\"marker\":{\"colorbar\":{\"outlinewidth\":0,\"ticks\":\"\"}},\"type\":\"scattermapbox\"}],\"scatterpolar\":[{\"marker\":{\"colorbar\":{\"outlinewidth\":0,\"ticks\":\"\"}},\"type\":\"scatterpolar\"}],\"scatterpolargl\":[{\"marker\":{\"colorbar\":{\"outlinewidth\":0,\"ticks\":\"\"}},\"type\":\"scatterpolargl\"}],\"scatterternary\":[{\"marker\":{\"colorbar\":{\"outlinewidth\":0,\"ticks\":\"\"}},\"type\":\"scatterternary\"}],\"surface\":[{\"colorbar\":{\"outlinewidth\":0,\"ticks\":\"\"},\"colorscale\":[[0.0,\"#0d0887\"],[0.1111111111111111,\"#46039f\"],[0.2222222222222222,\"#7201a8\"],[0.3333333333333333,\"#9c179e\"],[0.4444444444444444,\"#bd3786\"],[0.5555555555555556,\"#d8576b\"],[0.6666666666666666,\"#ed7953\"],[0.7777777777777778,\"#fb9f3a\"],[0.8888888888888888,\"#fdca26\"],[1.0,\"#f0f921\"]],\"type\":\"surface\"}],\"table\":[{\"cells\":{\"fill\":{\"color\":\"#EBF0F8\"},\"line\":{\"color\":\"white\"}},\"header\":{\"fill\":{\"color\":\"#C8D4E3\"},\"line\":{\"color\":\"white\"}},\"type\":\"table\"}]},\"layout\":{\"annotationdefaults\":{\"arrowcolor\":\"#2a3f5f\",\"arrowhead\":0,\"arrowwidth\":1},\"autotypenumbers\":\"strict\",\"coloraxis\":{\"colorbar\":{\"outlinewidth\":0,\"ticks\":\"\"}},\"colorscale\":{\"diverging\":[[0,\"#8e0152\"],[0.1,\"#c51b7d\"],[0.2,\"#de77ae\"],[0.3,\"#f1b6da\"],[0.4,\"#fde0ef\"],[0.5,\"#f7f7f7\"],[0.6,\"#e6f5d0\"],[0.7,\"#b8e186\"],[0.8,\"#7fbc41\"],[0.9,\"#4d9221\"],[1,\"#276419\"]],\"sequential\":[[0.0,\"#0d0887\"],[0.1111111111111111,\"#46039f\"],[0.2222222222222222,\"#7201a8\"],[0.3333333333333333,\"#9c179e\"],[0.4444444444444444,\"#bd3786\"],[0.5555555555555556,\"#d8576b\"],[0.6666666666666666,\"#ed7953\"],[0.7777777777777778,\"#fb9f3a\"],[0.8888888888888888,\"#fdca26\"],[1.0,\"#f0f921\"]],\"sequentialminus\":[[0.0,\"#0d0887\"],[0.1111111111111111,\"#46039f\"],[0.2222222222222222,\"#7201a8\"],[0.3333333333333333,\"#9c179e\"],[0.4444444444444444,\"#bd3786\"],[0.5555555555555556,\"#d8576b\"],[0.6666666666666666,\"#ed7953\"],[0.7777777777777778,\"#fb9f3a\"],[0.8888888888888888,\"#fdca26\"],[1.0,\"#f0f921\"]]},\"colorway\":[\"#636efa\",\"#EF553B\",\"#00cc96\",\"#ab63fa\",\"#FFA15A\",\"#19d3f3\",\"#FF6692\",\"#B6E880\",\"#FF97FF\",\"#FECB52\"],\"font\":{\"color\":\"#2a3f5f\"},\"geo\":{\"bgcolor\":\"white\",\"lakecolor\":\"white\",\"landcolor\":\"#E5ECF6\",\"showlakes\":true,\"showland\":true,\"subunitcolor\":\"white\"},\"hoverlabel\":{\"align\":\"left\"},\"hovermode\":\"closest\",\"mapbox\":{\"style\":\"light\"},\"paper_bgcolor\":\"white\",\"plot_bgcolor\":\"#E5ECF6\",\"polar\":{\"angularaxis\":{\"gridcolor\":\"white\",\"linecolor\":\"white\",\"ticks\":\"\"},\"bgcolor\":\"#E5ECF6\",\"radialaxis\":{\"gridcolor\":\"white\",\"linecolor\":\"white\",\"ticks\":\"\"}},\"scene\":{\"xaxis\":{\"backgroundcolor\":\"#E5ECF6\",\"gridcolor\":\"white\",\"gridwidth\":2,\"linecolor\":\"white\",\"showbackground\":true,\"ticks\":\"\",\"zerolinecolor\":\"white\"},\"yaxis\":{\"backgroundcolor\":\"#E5ECF6\",\"gridcolor\":\"white\",\"gridwidth\":2,\"linecolor\":\"white\",\"showbackground\":true,\"ticks\":\"\",\"zerolinecolor\":\"white\"},\"zaxis\":{\"backgroundcolor\":\"#E5ECF6\",\"gridcolor\":\"white\",\"gridwidth\":2,\"linecolor\":\"white\",\"showbackground\":true,\"ticks\":\"\",\"zerolinecolor\":\"white\"}},\"shapedefaults\":{\"line\":{\"color\":\"#2a3f5f\"}},\"ternary\":{\"aaxis\":{\"gridcolor\":\"white\",\"linecolor\":\"white\",\"ticks\":\"\"},\"baxis\":{\"gridcolor\":\"white\",\"linecolor\":\"white\",\"ticks\":\"\"},\"bgcolor\":\"#E5ECF6\",\"caxis\":{\"gridcolor\":\"white\",\"linecolor\":\"white\",\"ticks\":\"\"}},\"title\":{\"x\":0.05},\"xaxis\":{\"automargin\":true,\"gridcolor\":\"white\",\"linecolor\":\"white\",\"ticks\":\"\",\"title\":{\"standoff\":15},\"zerolinecolor\":\"white\",\"zerolinewidth\":2},\"yaxis\":{\"automargin\":true,\"gridcolor\":\"white\",\"linecolor\":\"white\",\"ticks\":\"\",\"title\":{\"standoff\":15},\"zerolinecolor\":\"white\",\"zerolinewidth\":2}}},\"xaxis\":{\"anchor\":\"y\",\"domain\":[0.0,1.0],\"title\":{\"text\":\"Total_cyano_cell_count\"},\"type\":\"log\"},\"yaxis\":{\"anchor\":\"x\",\"domain\":[0.0,1.0],\"title\":{\"text\":\"Planktothrix_mcyE\"},\"type\":\"log\"}},                        {\"responsive\": true}                    ).then(function(){\n",
       "                            \n",
       "var gd = document.getElementById('af8f2502-8fb4-4bdf-8400-1e15ae6de542');\n",
       "var x = new MutationObserver(function (mutations, observer) {{\n",
       "        var display = window.getComputedStyle(gd).display;\n",
       "        if (!display || display === 'none') {{\n",
       "            console.log([gd, 'removed!']);\n",
       "            Plotly.purge(gd);\n",
       "            observer.disconnect();\n",
       "        }}\n",
       "}});\n",
       "\n",
       "// Listen for the removal of the full notebook cells\n",
       "var notebookContainer = gd.closest('#notebook-container');\n",
       "if (notebookContainer) {{\n",
       "    x.observe(notebookContainer, {childList: true});\n",
       "}}\n",
       "\n",
       "// Listen for the clearing of the current output cell\n",
       "var outputEl = gd.closest('.output');\n",
       "if (outputEl) {{\n",
       "    x.observe(outputEl, {childList: true});\n",
       "}}\n",
       "\n",
       "                        })                };                });            </script>        </div>"
      ]
     },
     "metadata": {},
     "output_type": "display_data"
    }
   ],
   "source": [
    "# Plot 3- Cell Count vs Anabaena_mcyE\n",
    "corr = stats.pearsonr(CellCountVsP_mcyE['Planktothrix_mcyE'], CellCountVsP_mcyE['Total_cyano_cell_count'])\n",
    "fig = px.scatter(CellCountVsP_mcyE, x = 'Total_cyano_cell_count', y = 'Planktothrix_mcyE',log_x=True,log_y=True)\n",
    "               \n",
    "fig.add_annotation(dict(font=dict(color='black',size=20),\n",
    "                                        x=0.2,\n",
    "                                        y=0.95,\n",
    "                                        showarrow=False,\n",
    "                                        text= \"Pearson's r: \" + str(round(corr[0], 2)) +\"\\nPVal: \" + str(round(corr[1], 2)),\n",
    "                                        textangle=0,\n",
    "                                        xanchor='left',\n",
    "                                        xref=\"paper\",\n",
    "                                        yref=\"paper\"))\n",
    "fig.show()"
   ]
  },
  {
   "cell_type": "markdown",
   "id": "65f2d519",
   "metadata": {},
   "source": [
    "#### Conclusion: \n",
    "The figures suggest that the MC-LR toxin concentration has a strong positive correlation with the microcystis_mcyE expression, but not with the other genera of cyanobacteria. This can potentially be explained by the stark differences in the prevalence the three genera in the samples from the lakes as seen in the figure below.  "
   ]
  }
 ],
 "metadata": {
  "kernelspec": {
   "display_name": "Python 3 (ipykernel)",
   "language": "python",
   "name": "python3"
  },
  "language_info": {
   "codemirror_mode": {
    "name": "ipython",
    "version": 3
   },
   "file_extension": ".py",
   "mimetype": "text/x-python",
   "name": "python",
   "nbconvert_exporter": "python",
   "pygments_lexer": "ipython3",
   "version": "3.8.11"
  }
 },
 "nbformat": 4,
 "nbformat_minor": 5
}
